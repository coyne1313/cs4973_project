{
 "cells": [
  {
   "cell_type": "code",
   "execution_count": 395,
   "metadata": {},
   "outputs": [],
   "source": [
    "import requests\n",
    "import json\n",
    "import pandas as pd\n",
    "import numpy as np\n",
    "from bs4 import BeautifulSoup\n",
    "from pyjstat import pyjstat\n",
    "import plotly.express as px"
   ]
  },
  {
   "cell_type": "markdown",
   "metadata": {},
   "source": [
    "# Data Cleaning \n",
    "I start off by just testing out the eurostat dataset, then make functions for getting specific data for countries/types of crime and predicting the crime levels"
   ]
  },
  {
   "cell_type": "code",
   "execution_count": 396,
   "metadata": {},
   "outputs": [],
   "source": [
    "def get_eurostat_data(article_title, *args):\n",
    "    '''\n",
    "    To Do:\n",
    "        - Write *args\n",
    "        - Write _url_builder() helper func.\n",
    "    '''\n",
    "    \n",
    "    article_title = article_title.upper()\n",
    "    url = f'https://ec.europa.eu/eurostat/api/dissemination/statistics/1.0/data/{article_title}?format=JSON&lang=EN'\n",
    "\n",
    "    output = pyjstat.Dataset.read(url)\n",
    "    df = output.write('dataframe')\n",
    "\n",
    "    return df"
   ]
  },
  {
   "cell_type": "code",
   "execution_count": 397,
   "metadata": {},
   "outputs": [],
   "source": [
    "df_crime = get_eurostat_data(\"crim_off_cat\")"
   ]
  },
  {
   "cell_type": "code",
   "execution_count": 398,
   "metadata": {},
   "outputs": [
    {
     "data": {
      "text/html": [
       "<div>\n",
       "<style scoped>\n",
       "    .dataframe tbody tr th:only-of-type {\n",
       "        vertical-align: middle;\n",
       "    }\n",
       "\n",
       "    .dataframe tbody tr th {\n",
       "        vertical-align: top;\n",
       "    }\n",
       "\n",
       "    .dataframe thead th {\n",
       "        text-align: right;\n",
       "    }\n",
       "</style>\n",
       "<table border=\"1\" class=\"dataframe\">\n",
       "  <thead>\n",
       "    <tr style=\"text-align: right;\">\n",
       "      <th></th>\n",
       "      <th>Time frequency</th>\n",
       "      <th>International classification of crime for statistical purposes (ICCS)</th>\n",
       "      <th>Unit of measure</th>\n",
       "      <th>Geopolitical entity (reporting)</th>\n",
       "      <th>Time</th>\n",
       "      <th>value</th>\n",
       "    </tr>\n",
       "  </thead>\n",
       "  <tbody>\n",
       "    <tr>\n",
       "      <th>0</th>\n",
       "      <td>Annual</td>\n",
       "      <td>Intentional homicide</td>\n",
       "      <td>Number</td>\n",
       "      <td>Belgium</td>\n",
       "      <td>2008</td>\n",
       "      <td>204.00</td>\n",
       "    </tr>\n",
       "    <tr>\n",
       "      <th>1</th>\n",
       "      <td>Annual</td>\n",
       "      <td>Intentional homicide</td>\n",
       "      <td>Number</td>\n",
       "      <td>Belgium</td>\n",
       "      <td>2009</td>\n",
       "      <td>189.00</td>\n",
       "    </tr>\n",
       "    <tr>\n",
       "      <th>2</th>\n",
       "      <td>Annual</td>\n",
       "      <td>Intentional homicide</td>\n",
       "      <td>Number</td>\n",
       "      <td>Belgium</td>\n",
       "      <td>2010</td>\n",
       "      <td>189.00</td>\n",
       "    </tr>\n",
       "    <tr>\n",
       "      <th>3</th>\n",
       "      <td>Annual</td>\n",
       "      <td>Intentional homicide</td>\n",
       "      <td>Number</td>\n",
       "      <td>Belgium</td>\n",
       "      <td>2011</td>\n",
       "      <td>214.00</td>\n",
       "    </tr>\n",
       "    <tr>\n",
       "      <th>4</th>\n",
       "      <td>Annual</td>\n",
       "      <td>Intentional homicide</td>\n",
       "      <td>Number</td>\n",
       "      <td>Belgium</td>\n",
       "      <td>2012</td>\n",
       "      <td>206.00</td>\n",
       "    </tr>\n",
       "    <tr>\n",
       "      <th>...</th>\n",
       "      <td>...</td>\n",
       "      <td>...</td>\n",
       "      <td>...</td>\n",
       "      <td>...</td>\n",
       "      <td>...</td>\n",
       "      <td>...</td>\n",
       "    </tr>\n",
       "    <tr>\n",
       "      <th>25825</th>\n",
       "      <td>Annual</td>\n",
       "      <td>Participation in an organized criminal group</td>\n",
       "      <td>Per hundred thousand inhabitants</td>\n",
       "      <td>Kosovo*</td>\n",
       "      <td>2018</td>\n",
       "      <td>0.11</td>\n",
       "    </tr>\n",
       "    <tr>\n",
       "      <th>25826</th>\n",
       "      <td>Annual</td>\n",
       "      <td>Participation in an organized criminal group</td>\n",
       "      <td>Per hundred thousand inhabitants</td>\n",
       "      <td>Kosovo*</td>\n",
       "      <td>2019</td>\n",
       "      <td>0.17</td>\n",
       "    </tr>\n",
       "    <tr>\n",
       "      <th>25827</th>\n",
       "      <td>Annual</td>\n",
       "      <td>Participation in an organized criminal group</td>\n",
       "      <td>Per hundred thousand inhabitants</td>\n",
       "      <td>Kosovo*</td>\n",
       "      <td>2020</td>\n",
       "      <td>0.28</td>\n",
       "    </tr>\n",
       "    <tr>\n",
       "      <th>25828</th>\n",
       "      <td>Annual</td>\n",
       "      <td>Participation in an organized criminal group</td>\n",
       "      <td>Per hundred thousand inhabitants</td>\n",
       "      <td>Kosovo*</td>\n",
       "      <td>2021</td>\n",
       "      <td>NaN</td>\n",
       "    </tr>\n",
       "    <tr>\n",
       "      <th>25829</th>\n",
       "      <td>Annual</td>\n",
       "      <td>Participation in an organized criminal group</td>\n",
       "      <td>Per hundred thousand inhabitants</td>\n",
       "      <td>Kosovo*</td>\n",
       "      <td>2022</td>\n",
       "      <td>NaN</td>\n",
       "    </tr>\n",
       "  </tbody>\n",
       "</table>\n",
       "<p>25830 rows × 6 columns</p>\n",
       "</div>"
      ],
      "text/plain": [
       "      Time frequency  \\\n",
       "0             Annual   \n",
       "1             Annual   \n",
       "2             Annual   \n",
       "3             Annual   \n",
       "4             Annual   \n",
       "...              ...   \n",
       "25825         Annual   \n",
       "25826         Annual   \n",
       "25827         Annual   \n",
       "25828         Annual   \n",
       "25829         Annual   \n",
       "\n",
       "      International classification of crime for statistical purposes (ICCS)  \\\n",
       "0                                   Intentional homicide                      \n",
       "1                                   Intentional homicide                      \n",
       "2                                   Intentional homicide                      \n",
       "3                                   Intentional homicide                      \n",
       "4                                   Intentional homicide                      \n",
       "...                                                  ...                      \n",
       "25825       Participation in an organized criminal group                      \n",
       "25826       Participation in an organized criminal group                      \n",
       "25827       Participation in an organized criminal group                      \n",
       "25828       Participation in an organized criminal group                      \n",
       "25829       Participation in an organized criminal group                      \n",
       "\n",
       "                        Unit of measure Geopolitical entity (reporting)  Time  \\\n",
       "0                                Number                         Belgium  2008   \n",
       "1                                Number                         Belgium  2009   \n",
       "2                                Number                         Belgium  2010   \n",
       "3                                Number                         Belgium  2011   \n",
       "4                                Number                         Belgium  2012   \n",
       "...                                 ...                             ...   ...   \n",
       "25825  Per hundred thousand inhabitants                         Kosovo*  2018   \n",
       "25826  Per hundred thousand inhabitants                         Kosovo*  2019   \n",
       "25827  Per hundred thousand inhabitants                         Kosovo*  2020   \n",
       "25828  Per hundred thousand inhabitants                         Kosovo*  2021   \n",
       "25829  Per hundred thousand inhabitants                         Kosovo*  2022   \n",
       "\n",
       "        value  \n",
       "0      204.00  \n",
       "1      189.00  \n",
       "2      189.00  \n",
       "3      214.00  \n",
       "4      206.00  \n",
       "...       ...  \n",
       "25825    0.11  \n",
       "25826    0.17  \n",
       "25827    0.28  \n",
       "25828     NaN  \n",
       "25829     NaN  \n",
       "\n",
       "[25830 rows x 6 columns]"
      ]
     },
     "execution_count": 398,
     "metadata": {},
     "output_type": "execute_result"
    }
   ],
   "source": [
    "df_crime.loc[:, \"Time\"] = df_crime.loc[:, \"Time\"].astype(int)\n",
    "df_crime"
   ]
  },
  {
   "cell_type": "code",
   "execution_count": 399,
   "metadata": {},
   "outputs": [
    {
     "data": {
      "text/plain": [
       "array(['Intentional homicide', 'Attempted intentional homicide',\n",
       "       'Serious assault', 'Kidnapping', 'Sexual violence', 'Rape',\n",
       "       'Sexual assault', 'Sexual exploitation', 'Child pornography',\n",
       "       'Robbery', 'Burglary', 'Burglary of private residential premises',\n",
       "       'Theft', 'Theft of a motorized vehicle or parts thereof',\n",
       "       'Unlawful acts involving controlled drugs or precursors', 'Fraud',\n",
       "       'Corruption', 'Bribery', 'Money laundering',\n",
       "       'Acts against computer systems',\n",
       "       'Participation in an organized criminal group'], dtype=object)"
      ]
     },
     "execution_count": 399,
     "metadata": {},
     "output_type": "execute_result"
    }
   ],
   "source": [
    "\n",
    "df_crime = df_crime.rename(columns={\"Geopolitical entity (reporting)\" : \"country\"})\n",
    "\n",
    "\n",
    "df_crime.loc[df_crime.country == \"Türkiye\", \"country\"] = \"Turkey\"\n",
    "df_crime[\"International classification of crime for statistical purposes (ICCS)\"].unique()\n"
   ]
  },
  {
   "cell_type": "code",
   "execution_count": 400,
   "metadata": {},
   "outputs": [
    {
     "data": {
      "text/plain": [
       "['Austria',\n",
       " 'Belgium',\n",
       " 'Bulgaria',\n",
       " 'Croatia',\n",
       " 'Cyprus',\n",
       " 'Czechia',\n",
       " 'Czech Republic',\n",
       " 'Denmark',\n",
       " 'Estonia',\n",
       " 'Finland',\n",
       " 'France',\n",
       " 'Germany',\n",
       " 'Greece',\n",
       " 'Hungary',\n",
       " 'Ireland',\n",
       " 'Italy',\n",
       " 'Latvia',\n",
       " 'Lithuania',\n",
       " 'Luxembourg',\n",
       " 'Malta',\n",
       " 'Netherlands',\n",
       " 'Poland',\n",
       " 'Portugal',\n",
       " 'Romania',\n",
       " 'Slovakia',\n",
       " 'Slovenia',\n",
       " 'Spain',\n",
       " 'Sweden']"
      ]
     },
     "execution_count": 400,
     "metadata": {},
     "output_type": "execute_result"
    }
   ],
   "source": [
    "countries = \"Austria, Belgium, Bulgaria, Croatia, Cyprus, Czechia, Czech Republic, Denmark, Estonia, Finland, France, Germany, Greece, Hungary, Ireland, Italy, Latvia, Lithuania, Luxembourg, Malta, Netherlands, Poland, Portugal, Romania, Slovakia, Slovenia, Spain, Sweden\"\n",
    "eu_countries = countries.split(\", \")\n",
    "eu_countries\n"
   ]
  },
  {
   "cell_type": "code",
   "execution_count": 401,
   "metadata": {},
   "outputs": [],
   "source": [
    "df_crime = df_crime[df_crime[\"country\"].isin(eu_countries)]\n",
    "df_homicide_be = df_crime[(df_crime.country == \"Belgium\") & (df_crime[\"Unit of measure\"] == \"Per hundred thousand inhabitants\" ) & \n",
    "                                            (df_crime[\"International classification of crime for statistical purposes (ICCS)\"] == \"Intentional homicide\")]\n",
    "\n",
    "\n",
    "\n"
   ]
  },
  {
   "cell_type": "code",
   "execution_count": 402,
   "metadata": {},
   "outputs": [],
   "source": [
    "#get large dataset, clean it\n",
    "df = get_eurostat_data(\"crim_off_cat\")\n",
    "df[\"Time\"] = df[\"Time\"].astype(int)\n",
    "\n",
    "df = df.rename(columns={\"Time\" : \"Year\"})\n",
    "\n",
    "\n",
    "#get EU countries\n",
    "countries = \"Austria, Belgium, Bulgaria, Croatia, Cyprus, Czechia, Denmark, Estonia, Finland, France, Germany, Greece, Hungary, Ireland, Italy, Latvia, Lithuania, Luxembourg, Malta, Netherlands, Poland, Portugal, Romania, Slovakia, Slovenia, Spain, Sweden\"\n",
    "eu_countries = countries.split(\", \")\n",
    "\n",
    "#rename to country\n",
    "df = df.rename(columns={\"Geopolitical entity (reporting)\" : \"country\", \n",
    "                        \"value\" : \"Amount (Per 100k)\"})\n",
    "\n",
    "#change turkeys name\n",
    "df.loc[df.country == \"Türkiye\", \"country\"] = \"Turkey\"\n",
    "\n",
    "#include only EU countries\n",
    "df = df[df[\"country\"].isin(eu_countries)]\n",
    "\n",
    "\n",
    "def get_crime_data(country, *args):\n",
    "     if len(args) > 0:\n",
    "          return df[(df.country == country) & (df[\"Unit of measure\"] == \"Per hundred thousand inhabitants\" ) & \n",
    "                                            (df[\"International classification of crime for statistical purposes (ICCS)\"] == args[0])]\n",
    "     return df[(df.country == country) & (df[\"Unit of measure\"] == \"Per hundred thousand inhabitants\" )]\n",
    "\n",
    "    \n",
    "    "
   ]
  },
  {
   "cell_type": "code",
   "execution_count": 403,
   "metadata": {},
   "outputs": [],
   "source": [
    "df[\"International classification of crime for statistical purposes (ICCS)\"].unique()\n",
    "\n",
    "violent = ['Intentional homicide', 'Attempted intentional homicide',\n",
    "       'Serious assault', 'Kidnapping']\n",
    "\n",
    "sexual = ['Sexual violence', 'Rape',\n",
    "       'Sexual assault', 'Sexual exploitation', 'Child pornography']\n",
    "\n",
    "stealing = ['Robbery', 'Burglary', 'Burglary of private residential premises',\n",
    "       'Theft', 'Theft of a motorized vehicle or parts thereof']\n",
    "\n",
    "drugs = ['Unlawful acts involving controlled drugs or precursors']\n",
    "\n",
    "white_collar = ['Fraud',\n",
    "       'Corruption', 'Bribery', 'Money laundering',\n",
    "       'Acts against computer systems',\n",
    "       'Participation in an organized criminal group']\n",
    "\n",
    "crime_categories = [violent, sexual, stealing, drugs, white_collar]\n",
    "\n",
    "df_crime = get_eurostat_data(\"crim_off_cat\")\n",
    "\n",
    "\n",
    "\n"
   ]
  },
  {
   "cell_type": "code",
   "execution_count": 404,
   "metadata": {},
   "outputs": [
    {
     "data": {
      "text/html": [
       "<div>\n",
       "<style scoped>\n",
       "    .dataframe tbody tr th:only-of-type {\n",
       "        vertical-align: middle;\n",
       "    }\n",
       "\n",
       "    .dataframe tbody tr th {\n",
       "        vertical-align: top;\n",
       "    }\n",
       "\n",
       "    .dataframe thead th {\n",
       "        text-align: right;\n",
       "    }\n",
       "</style>\n",
       "<table border=\"1\" class=\"dataframe\">\n",
       "  <thead>\n",
       "    <tr style=\"text-align: right;\">\n",
       "      <th></th>\n",
       "      <th>country</th>\n",
       "      <th>violent</th>\n",
       "      <th>sexual</th>\n",
       "      <th>stealing</th>\n",
       "      <th>drugs</th>\n",
       "      <th>white_collar</th>\n",
       "    </tr>\n",
       "  </thead>\n",
       "  <tbody>\n",
       "    <tr>\n",
       "      <th>0</th>\n",
       "      <td>Austria</td>\n",
       "      <td>50.47</td>\n",
       "      <td>131.76</td>\n",
       "      <td>1764.21</td>\n",
       "      <td>392.39</td>\n",
       "      <td>1074.51</td>\n",
       "    </tr>\n",
       "    <tr>\n",
       "      <th>1</th>\n",
       "      <td>Belgium</td>\n",
       "      <td>572.04</td>\n",
       "      <td>202.26</td>\n",
       "      <td>2664.35</td>\n",
       "      <td>484.04</td>\n",
       "      <td>1141.27</td>\n",
       "    </tr>\n",
       "    <tr>\n",
       "      <th>2</th>\n",
       "      <td>Bulgaria</td>\n",
       "      <td>48.77</td>\n",
       "      <td>17.53</td>\n",
       "      <td>575.33</td>\n",
       "      <td>78.32</td>\n",
       "      <td>45.17</td>\n",
       "    </tr>\n",
       "    <tr>\n",
       "      <th>3</th>\n",
       "      <td>Croatia</td>\n",
       "      <td>23.74</td>\n",
       "      <td>52.32</td>\n",
       "      <td>592.68</td>\n",
       "      <td>237.81</td>\n",
       "      <td>172.74</td>\n",
       "    </tr>\n",
       "    <tr>\n",
       "      <th>4</th>\n",
       "      <td>Cyprus</td>\n",
       "      <td>22.87</td>\n",
       "      <td>31.72</td>\n",
       "      <td>203.05</td>\n",
       "      <td>113.30</td>\n",
       "      <td>70.62</td>\n",
       "    </tr>\n",
       "    <tr>\n",
       "      <th>5</th>\n",
       "      <td>Czechia</td>\n",
       "      <td>41.03</td>\n",
       "      <td>43.48</td>\n",
       "      <td>754.10</td>\n",
       "      <td>39.94</td>\n",
       "      <td>203.97</td>\n",
       "    </tr>\n",
       "    <tr>\n",
       "      <th>6</th>\n",
       "      <td>Denmark</td>\n",
       "      <td>40.12</td>\n",
       "      <td>271.67</td>\n",
       "      <td>3468.77</td>\n",
       "      <td>532.38</td>\n",
       "      <td>1133.53</td>\n",
       "    </tr>\n",
       "    <tr>\n",
       "      <th>7</th>\n",
       "      <td>Estonia</td>\n",
       "      <td>6.39</td>\n",
       "      <td>49.48</td>\n",
       "      <td>656.56</td>\n",
       "      <td>235.02</td>\n",
       "      <td>235.62</td>\n",
       "    </tr>\n",
       "    <tr>\n",
       "      <th>8</th>\n",
       "      <td>Finland</td>\n",
       "      <td>38.94</td>\n",
       "      <td>201.32</td>\n",
       "      <td>2560.43</td>\n",
       "      <td>454.31</td>\n",
       "      <td>1096.18</td>\n",
       "    </tr>\n",
       "    <tr>\n",
       "      <th>9</th>\n",
       "      <td>France</td>\n",
       "      <td>583.80</td>\n",
       "      <td>270.45</td>\n",
       "      <td>2500.81</td>\n",
       "      <td>488.82</td>\n",
       "      <td>417.65</td>\n",
       "    </tr>\n",
       "    <tr>\n",
       "      <th>10</th>\n",
       "      <td>Germany</td>\n",
       "      <td>182.49</td>\n",
       "      <td>176.24</td>\n",
       "      <td>1692.27</td>\n",
       "      <td>409.28</td>\n",
       "      <td>1022.49</td>\n",
       "    </tr>\n",
       "    <tr>\n",
       "      <th>11</th>\n",
       "      <td>Greece</td>\n",
       "      <td>16.04</td>\n",
       "      <td>8.31</td>\n",
       "      <td>1079.88</td>\n",
       "      <td>114.96</td>\n",
       "      <td>117.91</td>\n",
       "    </tr>\n",
       "    <tr>\n",
       "      <th>12</th>\n",
       "      <td>Hungary</td>\n",
       "      <td>1.97</td>\n",
       "      <td>16.89</td>\n",
       "      <td>507.26</td>\n",
       "      <td>76.56</td>\n",
       "      <td>301.35</td>\n",
       "    </tr>\n",
       "    <tr>\n",
       "      <th>13</th>\n",
       "      <td>Ireland</td>\n",
       "      <td>123.31</td>\n",
       "      <td>132.91</td>\n",
       "      <td>1521.37</td>\n",
       "      <td>329.33</td>\n",
       "      <td>215.52</td>\n",
       "    </tr>\n",
       "    <tr>\n",
       "      <th>14</th>\n",
       "      <td>Italy</td>\n",
       "      <td>3.97</td>\n",
       "      <td>15.35</td>\n",
       "      <td>1915.46</td>\n",
       "      <td>49.39</td>\n",
       "      <td>760.54</td>\n",
       "    </tr>\n",
       "    <tr>\n",
       "      <th>15</th>\n",
       "      <td>Latvia</td>\n",
       "      <td>34.60</td>\n",
       "      <td>54.91</td>\n",
       "      <td>727.33</td>\n",
       "      <td>67.49</td>\n",
       "      <td>169.06</td>\n",
       "    </tr>\n",
       "    <tr>\n",
       "      <th>16</th>\n",
       "      <td>Lithuania</td>\n",
       "      <td>7.84</td>\n",
       "      <td>25.34</td>\n",
       "      <td>427.55</td>\n",
       "      <td>109.76</td>\n",
       "      <td>206.37</td>\n",
       "    </tr>\n",
       "    <tr>\n",
       "      <th>17</th>\n",
       "      <td>Luxembourg</td>\n",
       "      <td>131.23</td>\n",
       "      <td>82.12</td>\n",
       "      <td>3626.60</td>\n",
       "      <td>555.63</td>\n",
       "      <td>737.38</td>\n",
       "    </tr>\n",
       "    <tr>\n",
       "      <th>18</th>\n",
       "      <td>Malta</td>\n",
       "      <td>44.73</td>\n",
       "      <td>57.97</td>\n",
       "      <td>1019.64</td>\n",
       "      <td>40.31</td>\n",
       "      <td>420.16</td>\n",
       "    </tr>\n",
       "    <tr>\n",
       "      <th>19</th>\n",
       "      <td>Netherlands</td>\n",
       "      <td>28.69</td>\n",
       "      <td>69.21</td>\n",
       "      <td>1858.06</td>\n",
       "      <td>66.54</td>\n",
       "      <td>39.51</td>\n",
       "    </tr>\n",
       "    <tr>\n",
       "      <th>20</th>\n",
       "      <td>Poland</td>\n",
       "      <td>14.95</td>\n",
       "      <td>25.92</td>\n",
       "      <td>544.72</td>\n",
       "      <td>186.18</td>\n",
       "      <td>511.01</td>\n",
       "    </tr>\n",
       "    <tr>\n",
       "      <th>21</th>\n",
       "      <td>Portugal</td>\n",
       "      <td>10.29</td>\n",
       "      <td>62.37</td>\n",
       "      <td>1125.25</td>\n",
       "      <td>62.39</td>\n",
       "      <td>455.69</td>\n",
       "    </tr>\n",
       "    <tr>\n",
       "      <th>22</th>\n",
       "      <td>Romania</td>\n",
       "      <td>5.80</td>\n",
       "      <td>34.96</td>\n",
       "      <td>566.73</td>\n",
       "      <td>48.54</td>\n",
       "      <td>103.08</td>\n",
       "    </tr>\n",
       "    <tr>\n",
       "      <th>23</th>\n",
       "      <td>Slovakia</td>\n",
       "      <td>25.48</td>\n",
       "      <td>15.11</td>\n",
       "      <td>352.28</td>\n",
       "      <td>28.34</td>\n",
       "      <td>46.10</td>\n",
       "    </tr>\n",
       "    <tr>\n",
       "      <th>24</th>\n",
       "      <td>Slovenia</td>\n",
       "      <td>7.36</td>\n",
       "      <td>36.41</td>\n",
       "      <td>1387.97</td>\n",
       "      <td>65.59</td>\n",
       "      <td>226.98</td>\n",
       "    </tr>\n",
       "    <tr>\n",
       "      <th>25</th>\n",
       "      <td>Spain</td>\n",
       "      <td>59.18</td>\n",
       "      <td>75.03</td>\n",
       "      <td>1063.29</td>\n",
       "      <td>40.18</td>\n",
       "      <td>947.58</td>\n",
       "    </tr>\n",
       "    <tr>\n",
       "      <th>26</th>\n",
       "      <td>Sweden</td>\n",
       "      <td>55.23</td>\n",
       "      <td>443.83</td>\n",
       "      <td>4075.44</td>\n",
       "      <td>1108.60</td>\n",
       "      <td>2799.87</td>\n",
       "    </tr>\n",
       "  </tbody>\n",
       "</table>\n",
       "</div>"
      ],
      "text/plain": [
       "        country  violent  sexual  stealing    drugs  white_collar\n",
       "0       Austria    50.47  131.76   1764.21   392.39       1074.51\n",
       "1       Belgium   572.04  202.26   2664.35   484.04       1141.27\n",
       "2      Bulgaria    48.77   17.53    575.33    78.32         45.17\n",
       "3       Croatia    23.74   52.32    592.68   237.81        172.74\n",
       "4        Cyprus    22.87   31.72    203.05   113.30         70.62\n",
       "5       Czechia    41.03   43.48    754.10    39.94        203.97\n",
       "6       Denmark    40.12  271.67   3468.77   532.38       1133.53\n",
       "7       Estonia     6.39   49.48    656.56   235.02        235.62\n",
       "8       Finland    38.94  201.32   2560.43   454.31       1096.18\n",
       "9        France   583.80  270.45   2500.81   488.82        417.65\n",
       "10      Germany   182.49  176.24   1692.27   409.28       1022.49\n",
       "11       Greece    16.04    8.31   1079.88   114.96        117.91\n",
       "12      Hungary     1.97   16.89    507.26    76.56        301.35\n",
       "13      Ireland   123.31  132.91   1521.37   329.33        215.52\n",
       "14        Italy     3.97   15.35   1915.46    49.39        760.54\n",
       "15       Latvia    34.60   54.91    727.33    67.49        169.06\n",
       "16    Lithuania     7.84   25.34    427.55   109.76        206.37\n",
       "17   Luxembourg   131.23   82.12   3626.60   555.63        737.38\n",
       "18        Malta    44.73   57.97   1019.64    40.31        420.16\n",
       "19  Netherlands    28.69   69.21   1858.06    66.54         39.51\n",
       "20       Poland    14.95   25.92    544.72   186.18        511.01\n",
       "21     Portugal    10.29   62.37   1125.25    62.39        455.69\n",
       "22      Romania     5.80   34.96    566.73    48.54        103.08\n",
       "23     Slovakia    25.48   15.11    352.28    28.34         46.10\n",
       "24     Slovenia     7.36   36.41   1387.97    65.59        226.98\n",
       "25        Spain    59.18   75.03   1063.29    40.18        947.58\n",
       "26       Sweden    55.23  443.83   4075.44  1108.60       2799.87"
      ]
     },
     "execution_count": 404,
     "metadata": {},
     "output_type": "execute_result"
    }
   ],
   "source": [
    "crime_dict = {\"country\" : [], \"violent\" : [], \"sexual\" : [], \"stealing\" : [], \"drugs\" : [], \"white_collar\" : []}\n",
    "#test = []\n",
    "\n",
    "\n",
    "#so inefficient, but works (could optimize but already had get_crime_data method written)\n",
    "for country in eu_countries:\n",
    "\n",
    "    crime_dict[\"country\"].append(country)\n",
    "    i = 0\n",
    "    for category in crime_categories:\n",
    "       \n",
    "       sum = 0;\n",
    "       crime_bool = (df_crime[\"International classification of crime for statistical purposes (ICCS)\"] == category[0])\n",
    "       for crime in category[1:]:\n",
    "            crime_bool = (crime_bool) | (df_crime[\"International classification of crime for statistical purposes (ICCS)\"] == crime)\n",
    "        \n",
    "        \n",
    "       crime_bool = (crime_bool) & (df.country == country) & (df[\"Unit of measure\"] == \"Per hundred thousand inhabitants\" ) & (df_crime[\"Time\"] == \"2022\")\n",
    "       \n",
    "       df_category_crime = df_crime[crime_bool]\n",
    "\n",
    "       #if df_category_crime.shape != df_category_crime.dropna().shape :\n",
    "           #test.append(country)\n",
    "           #print(category[0])\n",
    "           \n",
    "       crime_dict[list(crime_dict.keys())[i + 1]].append(df_category_crime[\"value\"].sum())\n",
    "       i += 1\n",
    "\n",
    "pd.DataFrame(crime_dict)"
   ]
  },
  {
   "cell_type": "markdown",
   "metadata": {},
   "source": [
    "Now, I'm showing an individual data set's graph"
   ]
  },
  {
   "cell_type": "code",
   "execution_count": 405,
   "metadata": {},
   "outputs": [
    {
     "name": "stdout",
     "output_type": "stream",
     "text": [
      "    Time frequency  \\\n",
      "900         Annual   \n",
      "901         Annual   \n",
      "902         Annual   \n",
      "903         Annual   \n",
      "904         Annual   \n",
      "905         Annual   \n",
      "906         Annual   \n",
      "907         Annual   \n",
      "908         Annual   \n",
      "909         Annual   \n",
      "910         Annual   \n",
      "911         Annual   \n",
      "912         Annual   \n",
      "913         Annual   \n",
      "914         Annual   \n",
      "\n",
      "    International classification of crime for statistical purposes (ICCS)  \\\n",
      "900                               Intentional homicide                      \n",
      "901                               Intentional homicide                      \n",
      "902                               Intentional homicide                      \n",
      "903                               Intentional homicide                      \n",
      "904                               Intentional homicide                      \n",
      "905                               Intentional homicide                      \n",
      "906                               Intentional homicide                      \n",
      "907                               Intentional homicide                      \n",
      "908                               Intentional homicide                      \n",
      "909                               Intentional homicide                      \n",
      "910                               Intentional homicide                      \n",
      "911                               Intentional homicide                      \n",
      "912                               Intentional homicide                      \n",
      "913                               Intentional homicide                      \n",
      "914                               Intentional homicide                      \n",
      "\n",
      "                      Unit of measure  country  Year  Amount (Per 100k)  \n",
      "900  Per hundred thousand inhabitants  Austria  2008               0.70  \n",
      "901  Per hundred thousand inhabitants  Austria  2009               0.61  \n",
      "902  Per hundred thousand inhabitants  Austria  2010               0.73  \n",
      "903  Per hundred thousand inhabitants  Austria  2011               0.96  \n",
      "904  Per hundred thousand inhabitants  Austria  2012               1.05  \n",
      "905  Per hundred thousand inhabitants  Austria  2013               0.75  \n",
      "906  Per hundred thousand inhabitants  Austria  2014               0.51  \n",
      "907  Per hundred thousand inhabitants  Austria  2015               0.49  \n",
      "908  Per hundred thousand inhabitants  Austria  2016               0.56  \n",
      "909  Per hundred thousand inhabitants  Austria  2017               0.70  \n",
      "910  Per hundred thousand inhabitants  Austria  2018               0.83  \n",
      "911  Per hundred thousand inhabitants  Austria  2019               0.84  \n",
      "912  Per hundred thousand inhabitants  Austria  2020               0.61  \n",
      "913  Per hundred thousand inhabitants  Austria  2021               0.66  \n",
      "914  Per hundred thousand inhabitants  Austria  2022               0.72  \n"
     ]
    },
    {
     "data": {
      "application/vnd.plotly.v1+json": {
       "config": {
        "plotlyServerURL": "https://plot.ly"
       },
       "data": [
        {
         "hovertemplate": "Year=%{x}<br>Amount (Per 100k)=%{y}<extra></extra>",
         "legendgroup": "",
         "marker": {
          "color": "#636efa",
          "symbol": "circle"
         },
         "mode": "markers",
         "name": "",
         "orientation": "v",
         "showlegend": false,
         "type": "scatter",
         "x": [
          2008,
          2009,
          2010,
          2011,
          2012,
          2013,
          2014,
          2015,
          2016,
          2017,
          2018,
          2019,
          2020,
          2021,
          2022
         ],
         "xaxis": "x",
         "y": [
          0.7,
          0.61,
          0.73,
          0.96,
          1.05,
          0.75,
          0.51,
          0.49,
          0.56,
          0.7,
          0.83,
          0.84,
          0.61,
          0.66,
          0.72
         ],
         "yaxis": "y"
        }
       ],
       "layout": {
        "legend": {
         "tracegroupgap": 0
        },
        "margin": {
         "t": 60
        },
        "template": {
         "data": {
          "bar": [
           {
            "error_x": {
             "color": "#2a3f5f"
            },
            "error_y": {
             "color": "#2a3f5f"
            },
            "marker": {
             "line": {
              "color": "#E5ECF6",
              "width": 0.5
             },
             "pattern": {
              "fillmode": "overlay",
              "size": 10,
              "solidity": 0.2
             }
            },
            "type": "bar"
           }
          ],
          "barpolar": [
           {
            "marker": {
             "line": {
              "color": "#E5ECF6",
              "width": 0.5
             },
             "pattern": {
              "fillmode": "overlay",
              "size": 10,
              "solidity": 0.2
             }
            },
            "type": "barpolar"
           }
          ],
          "carpet": [
           {
            "aaxis": {
             "endlinecolor": "#2a3f5f",
             "gridcolor": "white",
             "linecolor": "white",
             "minorgridcolor": "white",
             "startlinecolor": "#2a3f5f"
            },
            "baxis": {
             "endlinecolor": "#2a3f5f",
             "gridcolor": "white",
             "linecolor": "white",
             "minorgridcolor": "white",
             "startlinecolor": "#2a3f5f"
            },
            "type": "carpet"
           }
          ],
          "choropleth": [
           {
            "colorbar": {
             "outlinewidth": 0,
             "ticks": ""
            },
            "type": "choropleth"
           }
          ],
          "contour": [
           {
            "colorbar": {
             "outlinewidth": 0,
             "ticks": ""
            },
            "colorscale": [
             [
              0,
              "#0d0887"
             ],
             [
              0.1111111111111111,
              "#46039f"
             ],
             [
              0.2222222222222222,
              "#7201a8"
             ],
             [
              0.3333333333333333,
              "#9c179e"
             ],
             [
              0.4444444444444444,
              "#bd3786"
             ],
             [
              0.5555555555555556,
              "#d8576b"
             ],
             [
              0.6666666666666666,
              "#ed7953"
             ],
             [
              0.7777777777777778,
              "#fb9f3a"
             ],
             [
              0.8888888888888888,
              "#fdca26"
             ],
             [
              1,
              "#f0f921"
             ]
            ],
            "type": "contour"
           }
          ],
          "contourcarpet": [
           {
            "colorbar": {
             "outlinewidth": 0,
             "ticks": ""
            },
            "type": "contourcarpet"
           }
          ],
          "heatmap": [
           {
            "colorbar": {
             "outlinewidth": 0,
             "ticks": ""
            },
            "colorscale": [
             [
              0,
              "#0d0887"
             ],
             [
              0.1111111111111111,
              "#46039f"
             ],
             [
              0.2222222222222222,
              "#7201a8"
             ],
             [
              0.3333333333333333,
              "#9c179e"
             ],
             [
              0.4444444444444444,
              "#bd3786"
             ],
             [
              0.5555555555555556,
              "#d8576b"
             ],
             [
              0.6666666666666666,
              "#ed7953"
             ],
             [
              0.7777777777777778,
              "#fb9f3a"
             ],
             [
              0.8888888888888888,
              "#fdca26"
             ],
             [
              1,
              "#f0f921"
             ]
            ],
            "type": "heatmap"
           }
          ],
          "heatmapgl": [
           {
            "colorbar": {
             "outlinewidth": 0,
             "ticks": ""
            },
            "colorscale": [
             [
              0,
              "#0d0887"
             ],
             [
              0.1111111111111111,
              "#46039f"
             ],
             [
              0.2222222222222222,
              "#7201a8"
             ],
             [
              0.3333333333333333,
              "#9c179e"
             ],
             [
              0.4444444444444444,
              "#bd3786"
             ],
             [
              0.5555555555555556,
              "#d8576b"
             ],
             [
              0.6666666666666666,
              "#ed7953"
             ],
             [
              0.7777777777777778,
              "#fb9f3a"
             ],
             [
              0.8888888888888888,
              "#fdca26"
             ],
             [
              1,
              "#f0f921"
             ]
            ],
            "type": "heatmapgl"
           }
          ],
          "histogram": [
           {
            "marker": {
             "pattern": {
              "fillmode": "overlay",
              "size": 10,
              "solidity": 0.2
             }
            },
            "type": "histogram"
           }
          ],
          "histogram2d": [
           {
            "colorbar": {
             "outlinewidth": 0,
             "ticks": ""
            },
            "colorscale": [
             [
              0,
              "#0d0887"
             ],
             [
              0.1111111111111111,
              "#46039f"
             ],
             [
              0.2222222222222222,
              "#7201a8"
             ],
             [
              0.3333333333333333,
              "#9c179e"
             ],
             [
              0.4444444444444444,
              "#bd3786"
             ],
             [
              0.5555555555555556,
              "#d8576b"
             ],
             [
              0.6666666666666666,
              "#ed7953"
             ],
             [
              0.7777777777777778,
              "#fb9f3a"
             ],
             [
              0.8888888888888888,
              "#fdca26"
             ],
             [
              1,
              "#f0f921"
             ]
            ],
            "type": "histogram2d"
           }
          ],
          "histogram2dcontour": [
           {
            "colorbar": {
             "outlinewidth": 0,
             "ticks": ""
            },
            "colorscale": [
             [
              0,
              "#0d0887"
             ],
             [
              0.1111111111111111,
              "#46039f"
             ],
             [
              0.2222222222222222,
              "#7201a8"
             ],
             [
              0.3333333333333333,
              "#9c179e"
             ],
             [
              0.4444444444444444,
              "#bd3786"
             ],
             [
              0.5555555555555556,
              "#d8576b"
             ],
             [
              0.6666666666666666,
              "#ed7953"
             ],
             [
              0.7777777777777778,
              "#fb9f3a"
             ],
             [
              0.8888888888888888,
              "#fdca26"
             ],
             [
              1,
              "#f0f921"
             ]
            ],
            "type": "histogram2dcontour"
           }
          ],
          "mesh3d": [
           {
            "colorbar": {
             "outlinewidth": 0,
             "ticks": ""
            },
            "type": "mesh3d"
           }
          ],
          "parcoords": [
           {
            "line": {
             "colorbar": {
              "outlinewidth": 0,
              "ticks": ""
             }
            },
            "type": "parcoords"
           }
          ],
          "pie": [
           {
            "automargin": true,
            "type": "pie"
           }
          ],
          "scatter": [
           {
            "fillpattern": {
             "fillmode": "overlay",
             "size": 10,
             "solidity": 0.2
            },
            "type": "scatter"
           }
          ],
          "scatter3d": [
           {
            "line": {
             "colorbar": {
              "outlinewidth": 0,
              "ticks": ""
             }
            },
            "marker": {
             "colorbar": {
              "outlinewidth": 0,
              "ticks": ""
             }
            },
            "type": "scatter3d"
           }
          ],
          "scattercarpet": [
           {
            "marker": {
             "colorbar": {
              "outlinewidth": 0,
              "ticks": ""
             }
            },
            "type": "scattercarpet"
           }
          ],
          "scattergeo": [
           {
            "marker": {
             "colorbar": {
              "outlinewidth": 0,
              "ticks": ""
             }
            },
            "type": "scattergeo"
           }
          ],
          "scattergl": [
           {
            "marker": {
             "colorbar": {
              "outlinewidth": 0,
              "ticks": ""
             }
            },
            "type": "scattergl"
           }
          ],
          "scattermapbox": [
           {
            "marker": {
             "colorbar": {
              "outlinewidth": 0,
              "ticks": ""
             }
            },
            "type": "scattermapbox"
           }
          ],
          "scatterpolar": [
           {
            "marker": {
             "colorbar": {
              "outlinewidth": 0,
              "ticks": ""
             }
            },
            "type": "scatterpolar"
           }
          ],
          "scatterpolargl": [
           {
            "marker": {
             "colorbar": {
              "outlinewidth": 0,
              "ticks": ""
             }
            },
            "type": "scatterpolargl"
           }
          ],
          "scatterternary": [
           {
            "marker": {
             "colorbar": {
              "outlinewidth": 0,
              "ticks": ""
             }
            },
            "type": "scatterternary"
           }
          ],
          "surface": [
           {
            "colorbar": {
             "outlinewidth": 0,
             "ticks": ""
            },
            "colorscale": [
             [
              0,
              "#0d0887"
             ],
             [
              0.1111111111111111,
              "#46039f"
             ],
             [
              0.2222222222222222,
              "#7201a8"
             ],
             [
              0.3333333333333333,
              "#9c179e"
             ],
             [
              0.4444444444444444,
              "#bd3786"
             ],
             [
              0.5555555555555556,
              "#d8576b"
             ],
             [
              0.6666666666666666,
              "#ed7953"
             ],
             [
              0.7777777777777778,
              "#fb9f3a"
             ],
             [
              0.8888888888888888,
              "#fdca26"
             ],
             [
              1,
              "#f0f921"
             ]
            ],
            "type": "surface"
           }
          ],
          "table": [
           {
            "cells": {
             "fill": {
              "color": "#EBF0F8"
             },
             "line": {
              "color": "white"
             }
            },
            "header": {
             "fill": {
              "color": "#C8D4E3"
             },
             "line": {
              "color": "white"
             }
            },
            "type": "table"
           }
          ]
         },
         "layout": {
          "annotationdefaults": {
           "arrowcolor": "#2a3f5f",
           "arrowhead": 0,
           "arrowwidth": 1
          },
          "autotypenumbers": "strict",
          "coloraxis": {
           "colorbar": {
            "outlinewidth": 0,
            "ticks": ""
           }
          },
          "colorscale": {
           "diverging": [
            [
             0,
             "#8e0152"
            ],
            [
             0.1,
             "#c51b7d"
            ],
            [
             0.2,
             "#de77ae"
            ],
            [
             0.3,
             "#f1b6da"
            ],
            [
             0.4,
             "#fde0ef"
            ],
            [
             0.5,
             "#f7f7f7"
            ],
            [
             0.6,
             "#e6f5d0"
            ],
            [
             0.7,
             "#b8e186"
            ],
            [
             0.8,
             "#7fbc41"
            ],
            [
             0.9,
             "#4d9221"
            ],
            [
             1,
             "#276419"
            ]
           ],
           "sequential": [
            [
             0,
             "#0d0887"
            ],
            [
             0.1111111111111111,
             "#46039f"
            ],
            [
             0.2222222222222222,
             "#7201a8"
            ],
            [
             0.3333333333333333,
             "#9c179e"
            ],
            [
             0.4444444444444444,
             "#bd3786"
            ],
            [
             0.5555555555555556,
             "#d8576b"
            ],
            [
             0.6666666666666666,
             "#ed7953"
            ],
            [
             0.7777777777777778,
             "#fb9f3a"
            ],
            [
             0.8888888888888888,
             "#fdca26"
            ],
            [
             1,
             "#f0f921"
            ]
           ],
           "sequentialminus": [
            [
             0,
             "#0d0887"
            ],
            [
             0.1111111111111111,
             "#46039f"
            ],
            [
             0.2222222222222222,
             "#7201a8"
            ],
            [
             0.3333333333333333,
             "#9c179e"
            ],
            [
             0.4444444444444444,
             "#bd3786"
            ],
            [
             0.5555555555555556,
             "#d8576b"
            ],
            [
             0.6666666666666666,
             "#ed7953"
            ],
            [
             0.7777777777777778,
             "#fb9f3a"
            ],
            [
             0.8888888888888888,
             "#fdca26"
            ],
            [
             1,
             "#f0f921"
            ]
           ]
          },
          "colorway": [
           "#636efa",
           "#EF553B",
           "#00cc96",
           "#ab63fa",
           "#FFA15A",
           "#19d3f3",
           "#FF6692",
           "#B6E880",
           "#FF97FF",
           "#FECB52"
          ],
          "font": {
           "color": "#2a3f5f"
          },
          "geo": {
           "bgcolor": "white",
           "lakecolor": "white",
           "landcolor": "#E5ECF6",
           "showlakes": true,
           "showland": true,
           "subunitcolor": "white"
          },
          "hoverlabel": {
           "align": "left"
          },
          "hovermode": "closest",
          "mapbox": {
           "style": "light"
          },
          "paper_bgcolor": "white",
          "plot_bgcolor": "#E5ECF6",
          "polar": {
           "angularaxis": {
            "gridcolor": "white",
            "linecolor": "white",
            "ticks": ""
           },
           "bgcolor": "#E5ECF6",
           "radialaxis": {
            "gridcolor": "white",
            "linecolor": "white",
            "ticks": ""
           }
          },
          "scene": {
           "xaxis": {
            "backgroundcolor": "#E5ECF6",
            "gridcolor": "white",
            "gridwidth": 2,
            "linecolor": "white",
            "showbackground": true,
            "ticks": "",
            "zerolinecolor": "white"
           },
           "yaxis": {
            "backgroundcolor": "#E5ECF6",
            "gridcolor": "white",
            "gridwidth": 2,
            "linecolor": "white",
            "showbackground": true,
            "ticks": "",
            "zerolinecolor": "white"
           },
           "zaxis": {
            "backgroundcolor": "#E5ECF6",
            "gridcolor": "white",
            "gridwidth": 2,
            "linecolor": "white",
            "showbackground": true,
            "ticks": "",
            "zerolinecolor": "white"
           }
          },
          "shapedefaults": {
           "line": {
            "color": "#2a3f5f"
           }
          },
          "ternary": {
           "aaxis": {
            "gridcolor": "white",
            "linecolor": "white",
            "ticks": ""
           },
           "baxis": {
            "gridcolor": "white",
            "linecolor": "white",
            "ticks": ""
           },
           "bgcolor": "#E5ECF6",
           "caxis": {
            "gridcolor": "white",
            "linecolor": "white",
            "ticks": ""
           }
          },
          "title": {
           "x": 0.05
          },
          "xaxis": {
           "automargin": true,
           "gridcolor": "white",
           "linecolor": "white",
           "ticks": "",
           "title": {
            "standoff": 15
           },
           "zerolinecolor": "white",
           "zerolinewidth": 2
          },
          "yaxis": {
           "automargin": true,
           "gridcolor": "white",
           "linecolor": "white",
           "ticks": "",
           "title": {
            "standoff": 15
           },
           "zerolinecolor": "white",
           "zerolinewidth": 2
          }
         }
        },
        "xaxis": {
         "anchor": "y",
         "domain": [
          0,
          1
         ],
         "title": {
          "text": "Year"
         }
        },
        "yaxis": {
         "anchor": "x",
         "domain": [
          0,
          1
         ],
         "title": {
          "text": "Amount (Per 100k)"
         }
        }
       }
      }
     },
     "metadata": {},
     "output_type": "display_data"
    }
   ],
   "source": [
    "crime_data = get_crime_data(\"Austria\", 'Intentional homicide')\n",
    "print(crime_data)\n",
    "px.scatter(data_frame=crime_data, x=\"Year\", y=\"Amount (Per 100k)\")\n"
   ]
  },
  {
   "cell_type": "markdown",
   "metadata": {},
   "source": [
    "Now, I'm going to add up all the crime per country, per year. Because each crime is in the per 100k units, i can simply add them up to get the total amount of crimes per 100k for a given country for a given year"
   ]
  },
  {
   "cell_type": "code",
   "execution_count": 406,
   "metadata": {},
   "outputs": [
    {
     "name": "stdout",
     "output_type": "stream",
     "text": [
      "     country  year   amount\n",
      "0    Austria  2008  3896.74\n",
      "1    Austria  2009  3906.74\n",
      "2    Austria  2010  3308.21\n",
      "3    Austria  2011  3197.13\n",
      "4    Austria  2012  3212.19\n",
      "..       ...   ...      ...\n",
      "400   Sweden  2018  9620.21\n",
      "401   Sweden  2019  9423.61\n",
      "402   Sweden  2020  9299.21\n",
      "403   Sweden  2021  8730.09\n",
      "404   Sweden  2022  8482.97\n",
      "\n",
      "[405 rows x 3 columns]\n",
      "            year    amount\n",
      "year    1.000000 -0.109631\n",
      "amount -0.109631  1.000000\n"
     ]
    }
   ],
   "source": [
    "\n",
    "df_crime_100k = df_crime[ df_crime[\"Unit of measure\"] == \"Per hundred thousand inhabitants\" ]\n",
    "df_crime_100k_nona = df_crime_100k.dropna()\n",
    "\n",
    "\n",
    "country_lst = []\n",
    "year_lst = []\n",
    "amount = []\n",
    "for country in eu_countries:\n",
    "    df_country = get_crime_data(country)\n",
    "    min = df_country[\"Year\"].min()\n",
    "    max = df_country[\"Year\"].max()\n",
    "\n",
    "    df_crime_country = pd.DataFrame()\n",
    "    \n",
    "    for year in range(min, max + 1):\n",
    "        df_country_year = df_country[df_country[\"Year\"] == year]\n",
    "        sum = df_country_year[\"Amount (Per 100k)\"].sum()\n",
    "        country_lst.append(country)\n",
    "        year_lst.append(year)\n",
    "        amount.append(sum)\n",
    "    \n",
    "\n",
    "df_total_crime = pd.DataFrame({\"country\" : country_lst, \"year\" : year_lst, \"amount\" : amount})\n",
    "df_total_crime.loc[df_total_crime.country == \"Czechia\", \"country\"] = \"Czech Republic\"\n",
    "\n",
    "print(df_total_crime)\n",
    "\n",
    "\n",
    "print(df_total_crime.corr()) \n",
    "px.scatter(df_total_crime, x=\"year\", y=\"amount\", color=\"country\")\n",
    "\n",
    "df_total_crime.to_csv(\"../Phase 3/Data/crime_training.csv\", index=False)\n",
    "df_total_crime = pd.read_csv(\"../Phase 3/Data/crime_training.csv\")"
   ]
  },
  {
   "cell_type": "markdown",
   "metadata": {},
   "source": [
    "# Time to Scale it!!"
   ]
  },
  {
   "cell_type": "code",
   "execution_count": 407,
   "metadata": {},
   "outputs": [
    {
     "name": "stdout",
     "output_type": "stream",
     "text": [
      "2631.533481481479\n",
      "1944.3487156161827\n"
     ]
    }
   ],
   "source": [
    "\n",
    "mean = df_total_crime.describe()[\"amount\"][\"mean\"]\n",
    "\n",
    "std = df_total_crime.describe()[\"amount\"][\"std\"]\n",
    "\n",
    "\n",
    "\n",
    "\n",
    "df_total_crime_scaled = pd.DataFrame()\n",
    "\n",
    "df_total_crime_scaled[\"country\"] = df_total_crime[\"country\"]\n",
    "df_total_crime_scaled[\"year\"] = df_total_crime[\"year\"]\n",
    "\n",
    "\n",
    "\n",
    "df_total_crime_scaled[\"amount\"] = (df_total_crime[\"amount\"] - df_total_crime[\"amount\"].mean()) / df_total_crime[\"amount\"].std()\n",
    "\n",
    "df_total_crime_scaled.loc[df_total_crime_scaled.country == \"Czechia\", \"country\"] = \"Czech Republic\"\n",
    "\n",
    "\n",
    "\n",
    "px.scatter(df_total_crime_scaled, x=\"year\", y=\"amount\", color=\"country\")\n",
    "print(mean)\n",
    "print(std)"
   ]
  },
  {
   "cell_type": "code",
   "execution_count": 415,
   "metadata": {},
   "outputs": [
    {
     "data": {
      "text/plain": [
       "array([[2.00800000e+03, 6.50709674e-01, 1.00000000e+00, ...,\n",
       "        0.00000000e+00, 0.00000000e+00, 0.00000000e+00],\n",
       "       [2.00900000e+03, 6.55852784e-01, 1.00000000e+00, ...,\n",
       "        0.00000000e+00, 0.00000000e+00, 0.00000000e+00],\n",
       "       [2.01000000e+03, 3.48022200e-01, 1.00000000e+00, ...,\n",
       "        0.00000000e+00, 0.00000000e+00, 0.00000000e+00],\n",
       "       ...,\n",
       "       [2.02000000e+03, 3.42925961e+00, 0.00000000e+00, ...,\n",
       "        0.00000000e+00, 0.00000000e+00, 1.00000000e+00],\n",
       "       [2.02100000e+03, 3.13655491e+00, 0.00000000e+00, ...,\n",
       "        0.00000000e+00, 0.00000000e+00, 1.00000000e+00],\n",
       "       [2.02200000e+03, 3.00945837e+00, 0.00000000e+00, ...,\n",
       "        0.00000000e+00, 0.00000000e+00, 1.00000000e+00]])"
      ]
     },
     "execution_count": 415,
     "metadata": {},
     "output_type": "execute_result"
    }
   ],
   "source": [
    "\n",
    "\n",
    "df_total_crime_dummies = df_total_crime_scaled.join(pd.get_dummies(df_total_crime_scaled[\"country\"]))\n",
    "crime_arr = np.array(df_total_crime_dummies.drop(columns=[\"country\"]))\n",
    "crime_arr\n",
    "\n",
    "\n"
   ]
  },
  {
   "cell_type": "code",
   "execution_count": 409,
   "metadata": {},
   "outputs": [],
   "source": [
    "def add_bias_column(X):\n",
    "    \"\"\"\n",
    "    Args:\n",
    "        X (array): can be either 1-d or 2-d\n",
    "    \n",
    "    Returns:\n",
    "        Xnew (array): the same array, but 2-d with a column of 1's in the first spot\n",
    "    \"\"\"\n",
    "    \n",
    "    # If the array is 1-d\n",
    "    if len(X.shape) == 1:\n",
    "        Xnew = np.column_stack([np.ones(X.shape[0]), X])\n",
    "    \n",
    "    # If the array is 2-d\n",
    "    elif len(X.shape) == 2:\n",
    "        bias_col = np.ones((X.shape[0], 1))\n",
    "        Xnew = np.hstack([bias_col, X])\n",
    "        \n",
    "    else:\n",
    "        raise ValueError(\"Input array must be either 1-d or 2-d\")\n",
    "\n",
    "    return Xnew\n",
    "\n",
    "def line_of_best_fit(X, y):\n",
    "    X = add_bias_column(X)\n",
    "    return np.matmul(np.linalg.inv(np.matmul(X.T, X)), np.matmul(X.T, y))\n",
    "\n"
   ]
  },
  {
   "cell_type": "code",
   "execution_count": 417,
   "metadata": {},
   "outputs": [],
   "source": [
    "X_left = crime_arr[:, 0:1]\n",
    "X_right = crime_arr[:, 2:]\n",
    "\n",
    "X = np.hstack((X_left, X_right))\n",
    "\n",
    "y = crime_arr[:, 1:2]\n",
    "\n",
    "\n",
    "\n",
    "\n",
    "#regression line for all crime data\n",
    "regression = line_of_best_fit(X, y)\n",
    "\n",
    "line_dict = {\"intercept\" : regression[0], \"year\" : regression[1]}\n",
    "for index in range(len(eu_countries)):\n",
    "    line_dict[eu_countries[index]] = regression[index + 2][0]\n",
    "line_dict[\"mean\"] = mean\n",
    "line_dict[\"std\"] = std\n",
    "\n",
    "\n",
    "#test add\n",
    "np.dot(add_bias_column(X)[0, :], regression)\n",
    "pd.DataFrame(line_dict).to_csv(\"../Phase 3/Data/crime_inference.csv\")\n",
    "\n"
   ]
  },
  {
   "cell_type": "code",
   "execution_count": 411,
   "metadata": {},
   "outputs": [
    {
     "data": {
      "text/plain": [
       "794.1223532142872"
      ]
     },
     "execution_count": 411,
     "metadata": {},
     "output_type": "execute_result"
    }
   ],
   "source": [
    "def lin_reg_crime (country, year):\n",
    "    \"\"\"\n",
    "    following linear regression model, predicts the total amount of crimes per 100k people\n",
    "\n",
    "    Args:\n",
    "       - country (int) - which country wanted for prediction\n",
    "       - year (int) - which year we wanted for prediction\n",
    "\n",
    "    Returns:\n",
    "       - answer (int) - predicted value for crimes per 100k people\n",
    "    \n",
    "    \"\"\"\n",
    "    countries = df_total_crime_dummies.keys().to_list()[3:]\n",
    "\n",
    "    encoding = [0] * len(countries)\n",
    "\n",
    "    encoding[countries.index(country)] = 1\n",
    "\n",
    "    encoding.insert(0, year)\n",
    "    encoding.insert(0, 1)\n",
    "\n",
    "    scaled_answer = np.matmul(encoding, regression)[0]\n",
    "\n",
    "\n",
    "\n",
    "\n",
    "    answer = scaled_answer * df_total_crime[\"amount\"].std() + df_total_crime[\"amount\"].mean()\n",
    "\n",
    "    return answer\n",
    "\n",
    "\n",
    "\n",
    "lin_reg_crime(\"Romania\", 2025) "
   ]
  },
  {
   "cell_type": "markdown",
   "metadata": {},
   "source": [
    "# Leisure Activities"
   ]
  },
  {
   "cell_type": "code",
   "execution_count": 412,
   "metadata": {},
   "outputs": [
    {
     "data": {
      "text/plain": [
       "array(['From 16 to 24 years', 'From 16 to 29 years',\n",
       "       'From 16 to 44 years', 'From 16 to 64 years', '16 years or over',\n",
       "       'From 20 to 64 years', 'From 25 to 29 years',\n",
       "       'From 25 to 34 years', 'From 25 to 64 years',\n",
       "       'From 30 to 54 years', 'From 35 to 44 years',\n",
       "       'From 35 to 49 years', 'From 45 to 54 years',\n",
       "       'From 45 to 64 years', 'From 50 to 64 years',\n",
       "       'From 55 to 64 years', 'From 65 to 74 years', '65 years or over',\n",
       "       'From 75 to 84 years', '75 years or over'], dtype=object)"
      ]
     },
     "execution_count": 412,
     "metadata": {},
     "output_type": "execute_result"
    }
   ],
   "source": [
    "df_leisure = get_eurostat_data(\"ilc_scp01\")\n",
    "df_leisure[\"Age class\"].unique()"
   ]
  },
  {
   "cell_type": "code",
   "execution_count": 413,
   "metadata": {},
   "outputs": [
    {
     "data": {
      "text/html": [
       "<div>\n",
       "<style scoped>\n",
       "    .dataframe tbody tr th:only-of-type {\n",
       "        vertical-align: middle;\n",
       "    }\n",
       "\n",
       "    .dataframe tbody tr th {\n",
       "        vertical-align: top;\n",
       "    }\n",
       "\n",
       "    .dataframe thead th {\n",
       "        text-align: right;\n",
       "    }\n",
       "</style>\n",
       "<table border=\"1\" class=\"dataframe\">\n",
       "  <thead>\n",
       "    <tr style=\"text-align: right;\">\n",
       "      <th></th>\n",
       "      <th>Time frequency</th>\n",
       "      <th>Frequency</th>\n",
       "      <th>International Standard Classification of Education (ISCED 2011)</th>\n",
       "      <th>Age class</th>\n",
       "      <th>Sex</th>\n",
       "      <th>Unit of measure</th>\n",
       "      <th>Geopolitical entity (reporting)</th>\n",
       "      <th>Time</th>\n",
       "      <th>value</th>\n",
       "    </tr>\n",
       "  </thead>\n",
       "  <tbody>\n",
       "    <tr>\n",
       "      <th>27221</th>\n",
       "      <td>Annual</td>\n",
       "      <td>At least once</td>\n",
       "      <td>All ISCED 2011 levels</td>\n",
       "      <td>16 years or over</td>\n",
       "      <td>Total</td>\n",
       "      <td>Percentage</td>\n",
       "      <td>Belgium</td>\n",
       "      <td>2022</td>\n",
       "      <td>64.3</td>\n",
       "    </tr>\n",
       "    <tr>\n",
       "      <th>27224</th>\n",
       "      <td>Annual</td>\n",
       "      <td>At least once</td>\n",
       "      <td>All ISCED 2011 levels</td>\n",
       "      <td>16 years or over</td>\n",
       "      <td>Total</td>\n",
       "      <td>Percentage</td>\n",
       "      <td>Bulgaria</td>\n",
       "      <td>2022</td>\n",
       "      <td>21.3</td>\n",
       "    </tr>\n",
       "    <tr>\n",
       "      <th>27227</th>\n",
       "      <td>Annual</td>\n",
       "      <td>At least once</td>\n",
       "      <td>All ISCED 2011 levels</td>\n",
       "      <td>16 years or over</td>\n",
       "      <td>Total</td>\n",
       "      <td>Percentage</td>\n",
       "      <td>Czechia</td>\n",
       "      <td>2022</td>\n",
       "      <td>62.6</td>\n",
       "    </tr>\n",
       "    <tr>\n",
       "      <th>27230</th>\n",
       "      <td>Annual</td>\n",
       "      <td>At least once</td>\n",
       "      <td>All ISCED 2011 levels</td>\n",
       "      <td>16 years or over</td>\n",
       "      <td>Total</td>\n",
       "      <td>Percentage</td>\n",
       "      <td>Denmark</td>\n",
       "      <td>2022</td>\n",
       "      <td>80.7</td>\n",
       "    </tr>\n",
       "    <tr>\n",
       "      <th>27233</th>\n",
       "      <td>Annual</td>\n",
       "      <td>At least once</td>\n",
       "      <td>All ISCED 2011 levels</td>\n",
       "      <td>16 years or over</td>\n",
       "      <td>Total</td>\n",
       "      <td>Percentage</td>\n",
       "      <td>Germany</td>\n",
       "      <td>2022</td>\n",
       "      <td>NaN</td>\n",
       "    </tr>\n",
       "    <tr>\n",
       "      <th>27236</th>\n",
       "      <td>Annual</td>\n",
       "      <td>At least once</td>\n",
       "      <td>All ISCED 2011 levels</td>\n",
       "      <td>16 years or over</td>\n",
       "      <td>Total</td>\n",
       "      <td>Percentage</td>\n",
       "      <td>Estonia</td>\n",
       "      <td>2022</td>\n",
       "      <td>63.3</td>\n",
       "    </tr>\n",
       "    <tr>\n",
       "      <th>27239</th>\n",
       "      <td>Annual</td>\n",
       "      <td>At least once</td>\n",
       "      <td>All ISCED 2011 levels</td>\n",
       "      <td>16 years or over</td>\n",
       "      <td>Total</td>\n",
       "      <td>Percentage</td>\n",
       "      <td>Ireland</td>\n",
       "      <td>2022</td>\n",
       "      <td>70.2</td>\n",
       "    </tr>\n",
       "    <tr>\n",
       "      <th>27242</th>\n",
       "      <td>Annual</td>\n",
       "      <td>At least once</td>\n",
       "      <td>All ISCED 2011 levels</td>\n",
       "      <td>16 years or over</td>\n",
       "      <td>Total</td>\n",
       "      <td>Percentage</td>\n",
       "      <td>Greece</td>\n",
       "      <td>2022</td>\n",
       "      <td>40.0</td>\n",
       "    </tr>\n",
       "    <tr>\n",
       "      <th>27245</th>\n",
       "      <td>Annual</td>\n",
       "      <td>At least once</td>\n",
       "      <td>All ISCED 2011 levels</td>\n",
       "      <td>16 years or over</td>\n",
       "      <td>Total</td>\n",
       "      <td>Percentage</td>\n",
       "      <td>Spain</td>\n",
       "      <td>2022</td>\n",
       "      <td>63.3</td>\n",
       "    </tr>\n",
       "    <tr>\n",
       "      <th>27248</th>\n",
       "      <td>Annual</td>\n",
       "      <td>At least once</td>\n",
       "      <td>All ISCED 2011 levels</td>\n",
       "      <td>16 years or over</td>\n",
       "      <td>Total</td>\n",
       "      <td>Percentage</td>\n",
       "      <td>France</td>\n",
       "      <td>2022</td>\n",
       "      <td>59.1</td>\n",
       "    </tr>\n",
       "    <tr>\n",
       "      <th>27251</th>\n",
       "      <td>Annual</td>\n",
       "      <td>At least once</td>\n",
       "      <td>All ISCED 2011 levels</td>\n",
       "      <td>16 years or over</td>\n",
       "      <td>Total</td>\n",
       "      <td>Percentage</td>\n",
       "      <td>Croatia</td>\n",
       "      <td>2022</td>\n",
       "      <td>40.0</td>\n",
       "    </tr>\n",
       "    <tr>\n",
       "      <th>27254</th>\n",
       "      <td>Annual</td>\n",
       "      <td>At least once</td>\n",
       "      <td>All ISCED 2011 levels</td>\n",
       "      <td>16 years or over</td>\n",
       "      <td>Total</td>\n",
       "      <td>Percentage</td>\n",
       "      <td>Italy</td>\n",
       "      <td>2022</td>\n",
       "      <td>39.5</td>\n",
       "    </tr>\n",
       "    <tr>\n",
       "      <th>27257</th>\n",
       "      <td>Annual</td>\n",
       "      <td>At least once</td>\n",
       "      <td>All ISCED 2011 levels</td>\n",
       "      <td>16 years or over</td>\n",
       "      <td>Total</td>\n",
       "      <td>Percentage</td>\n",
       "      <td>Cyprus</td>\n",
       "      <td>2022</td>\n",
       "      <td>43.6</td>\n",
       "    </tr>\n",
       "    <tr>\n",
       "      <th>27260</th>\n",
       "      <td>Annual</td>\n",
       "      <td>At least once</td>\n",
       "      <td>All ISCED 2011 levels</td>\n",
       "      <td>16 years or over</td>\n",
       "      <td>Total</td>\n",
       "      <td>Percentage</td>\n",
       "      <td>Latvia</td>\n",
       "      <td>2022</td>\n",
       "      <td>41.9</td>\n",
       "    </tr>\n",
       "    <tr>\n",
       "      <th>27263</th>\n",
       "      <td>Annual</td>\n",
       "      <td>At least once</td>\n",
       "      <td>All ISCED 2011 levels</td>\n",
       "      <td>16 years or over</td>\n",
       "      <td>Total</td>\n",
       "      <td>Percentage</td>\n",
       "      <td>Lithuania</td>\n",
       "      <td>2022</td>\n",
       "      <td>48.9</td>\n",
       "    </tr>\n",
       "    <tr>\n",
       "      <th>27266</th>\n",
       "      <td>Annual</td>\n",
       "      <td>At least once</td>\n",
       "      <td>All ISCED 2011 levels</td>\n",
       "      <td>16 years or over</td>\n",
       "      <td>Total</td>\n",
       "      <td>Percentage</td>\n",
       "      <td>Luxembourg</td>\n",
       "      <td>2022</td>\n",
       "      <td>81.9</td>\n",
       "    </tr>\n",
       "    <tr>\n",
       "      <th>27269</th>\n",
       "      <td>Annual</td>\n",
       "      <td>At least once</td>\n",
       "      <td>All ISCED 2011 levels</td>\n",
       "      <td>16 years or over</td>\n",
       "      <td>Total</td>\n",
       "      <td>Percentage</td>\n",
       "      <td>Hungary</td>\n",
       "      <td>2022</td>\n",
       "      <td>42.6</td>\n",
       "    </tr>\n",
       "    <tr>\n",
       "      <th>27272</th>\n",
       "      <td>Annual</td>\n",
       "      <td>At least once</td>\n",
       "      <td>All ISCED 2011 levels</td>\n",
       "      <td>16 years or over</td>\n",
       "      <td>Total</td>\n",
       "      <td>Percentage</td>\n",
       "      <td>Malta</td>\n",
       "      <td>2022</td>\n",
       "      <td>41.4</td>\n",
       "    </tr>\n",
       "    <tr>\n",
       "      <th>27275</th>\n",
       "      <td>Annual</td>\n",
       "      <td>At least once</td>\n",
       "      <td>All ISCED 2011 levels</td>\n",
       "      <td>16 years or over</td>\n",
       "      <td>Total</td>\n",
       "      <td>Percentage</td>\n",
       "      <td>Netherlands</td>\n",
       "      <td>2022</td>\n",
       "      <td>76.1</td>\n",
       "    </tr>\n",
       "    <tr>\n",
       "      <th>27278</th>\n",
       "      <td>Annual</td>\n",
       "      <td>At least once</td>\n",
       "      <td>All ISCED 2011 levels</td>\n",
       "      <td>16 years or over</td>\n",
       "      <td>Total</td>\n",
       "      <td>Percentage</td>\n",
       "      <td>Austria</td>\n",
       "      <td>2022</td>\n",
       "      <td>60.7</td>\n",
       "    </tr>\n",
       "    <tr>\n",
       "      <th>27281</th>\n",
       "      <td>Annual</td>\n",
       "      <td>At least once</td>\n",
       "      <td>All ISCED 2011 levels</td>\n",
       "      <td>16 years or over</td>\n",
       "      <td>Total</td>\n",
       "      <td>Percentage</td>\n",
       "      <td>Poland</td>\n",
       "      <td>2022</td>\n",
       "      <td>53.7</td>\n",
       "    </tr>\n",
       "    <tr>\n",
       "      <th>27284</th>\n",
       "      <td>Annual</td>\n",
       "      <td>At least once</td>\n",
       "      <td>All ISCED 2011 levels</td>\n",
       "      <td>16 years or over</td>\n",
       "      <td>Total</td>\n",
       "      <td>Percentage</td>\n",
       "      <td>Portugal</td>\n",
       "      <td>2022</td>\n",
       "      <td>56.2</td>\n",
       "    </tr>\n",
       "    <tr>\n",
       "      <th>27287</th>\n",
       "      <td>Annual</td>\n",
       "      <td>At least once</td>\n",
       "      <td>All ISCED 2011 levels</td>\n",
       "      <td>16 years or over</td>\n",
       "      <td>Total</td>\n",
       "      <td>Percentage</td>\n",
       "      <td>Romania</td>\n",
       "      <td>2022</td>\n",
       "      <td>24.3</td>\n",
       "    </tr>\n",
       "    <tr>\n",
       "      <th>27290</th>\n",
       "      <td>Annual</td>\n",
       "      <td>At least once</td>\n",
       "      <td>All ISCED 2011 levels</td>\n",
       "      <td>16 years or over</td>\n",
       "      <td>Total</td>\n",
       "      <td>Percentage</td>\n",
       "      <td>Slovenia</td>\n",
       "      <td>2022</td>\n",
       "      <td>60.9</td>\n",
       "    </tr>\n",
       "    <tr>\n",
       "      <th>27293</th>\n",
       "      <td>Annual</td>\n",
       "      <td>At least once</td>\n",
       "      <td>All ISCED 2011 levels</td>\n",
       "      <td>16 years or over</td>\n",
       "      <td>Total</td>\n",
       "      <td>Percentage</td>\n",
       "      <td>Slovakia</td>\n",
       "      <td>2022</td>\n",
       "      <td>43.4</td>\n",
       "    </tr>\n",
       "    <tr>\n",
       "      <th>27296</th>\n",
       "      <td>Annual</td>\n",
       "      <td>At least once</td>\n",
       "      <td>All ISCED 2011 levels</td>\n",
       "      <td>16 years or over</td>\n",
       "      <td>Total</td>\n",
       "      <td>Percentage</td>\n",
       "      <td>Finland</td>\n",
       "      <td>2022</td>\n",
       "      <td>71.5</td>\n",
       "    </tr>\n",
       "    <tr>\n",
       "      <th>27299</th>\n",
       "      <td>Annual</td>\n",
       "      <td>At least once</td>\n",
       "      <td>All ISCED 2011 levels</td>\n",
       "      <td>16 years or over</td>\n",
       "      <td>Total</td>\n",
       "      <td>Percentage</td>\n",
       "      <td>Sweden</td>\n",
       "      <td>2022</td>\n",
       "      <td>69.6</td>\n",
       "    </tr>\n",
       "  </tbody>\n",
       "</table>\n",
       "</div>"
      ],
      "text/plain": [
       "      Time frequency      Frequency  \\\n",
       "27221         Annual  At least once   \n",
       "27224         Annual  At least once   \n",
       "27227         Annual  At least once   \n",
       "27230         Annual  At least once   \n",
       "27233         Annual  At least once   \n",
       "27236         Annual  At least once   \n",
       "27239         Annual  At least once   \n",
       "27242         Annual  At least once   \n",
       "27245         Annual  At least once   \n",
       "27248         Annual  At least once   \n",
       "27251         Annual  At least once   \n",
       "27254         Annual  At least once   \n",
       "27257         Annual  At least once   \n",
       "27260         Annual  At least once   \n",
       "27263         Annual  At least once   \n",
       "27266         Annual  At least once   \n",
       "27269         Annual  At least once   \n",
       "27272         Annual  At least once   \n",
       "27275         Annual  At least once   \n",
       "27278         Annual  At least once   \n",
       "27281         Annual  At least once   \n",
       "27284         Annual  At least once   \n",
       "27287         Annual  At least once   \n",
       "27290         Annual  At least once   \n",
       "27293         Annual  At least once   \n",
       "27296         Annual  At least once   \n",
       "27299         Annual  At least once   \n",
       "\n",
       "      International Standard Classification of Education (ISCED 2011)  \\\n",
       "27221                              All ISCED 2011 levels                \n",
       "27224                              All ISCED 2011 levels                \n",
       "27227                              All ISCED 2011 levels                \n",
       "27230                              All ISCED 2011 levels                \n",
       "27233                              All ISCED 2011 levels                \n",
       "27236                              All ISCED 2011 levels                \n",
       "27239                              All ISCED 2011 levels                \n",
       "27242                              All ISCED 2011 levels                \n",
       "27245                              All ISCED 2011 levels                \n",
       "27248                              All ISCED 2011 levels                \n",
       "27251                              All ISCED 2011 levels                \n",
       "27254                              All ISCED 2011 levels                \n",
       "27257                              All ISCED 2011 levels                \n",
       "27260                              All ISCED 2011 levels                \n",
       "27263                              All ISCED 2011 levels                \n",
       "27266                              All ISCED 2011 levels                \n",
       "27269                              All ISCED 2011 levels                \n",
       "27272                              All ISCED 2011 levels                \n",
       "27275                              All ISCED 2011 levels                \n",
       "27278                              All ISCED 2011 levels                \n",
       "27281                              All ISCED 2011 levels                \n",
       "27284                              All ISCED 2011 levels                \n",
       "27287                              All ISCED 2011 levels                \n",
       "27290                              All ISCED 2011 levels                \n",
       "27293                              All ISCED 2011 levels                \n",
       "27296                              All ISCED 2011 levels                \n",
       "27299                              All ISCED 2011 levels                \n",
       "\n",
       "              Age class    Sex Unit of measure  \\\n",
       "27221  16 years or over  Total      Percentage   \n",
       "27224  16 years or over  Total      Percentage   \n",
       "27227  16 years or over  Total      Percentage   \n",
       "27230  16 years or over  Total      Percentage   \n",
       "27233  16 years or over  Total      Percentage   \n",
       "27236  16 years or over  Total      Percentage   \n",
       "27239  16 years or over  Total      Percentage   \n",
       "27242  16 years or over  Total      Percentage   \n",
       "27245  16 years or over  Total      Percentage   \n",
       "27248  16 years or over  Total      Percentage   \n",
       "27251  16 years or over  Total      Percentage   \n",
       "27254  16 years or over  Total      Percentage   \n",
       "27257  16 years or over  Total      Percentage   \n",
       "27260  16 years or over  Total      Percentage   \n",
       "27263  16 years or over  Total      Percentage   \n",
       "27266  16 years or over  Total      Percentage   \n",
       "27269  16 years or over  Total      Percentage   \n",
       "27272  16 years or over  Total      Percentage   \n",
       "27275  16 years or over  Total      Percentage   \n",
       "27278  16 years or over  Total      Percentage   \n",
       "27281  16 years or over  Total      Percentage   \n",
       "27284  16 years or over  Total      Percentage   \n",
       "27287  16 years or over  Total      Percentage   \n",
       "27290  16 years or over  Total      Percentage   \n",
       "27293  16 years or over  Total      Percentage   \n",
       "27296  16 years or over  Total      Percentage   \n",
       "27299  16 years or over  Total      Percentage   \n",
       "\n",
       "      Geopolitical entity (reporting)  Time  value  \n",
       "27221                         Belgium  2022   64.3  \n",
       "27224                        Bulgaria  2022   21.3  \n",
       "27227                         Czechia  2022   62.6  \n",
       "27230                         Denmark  2022   80.7  \n",
       "27233                         Germany  2022    NaN  \n",
       "27236                         Estonia  2022   63.3  \n",
       "27239                         Ireland  2022   70.2  \n",
       "27242                          Greece  2022   40.0  \n",
       "27245                           Spain  2022   63.3  \n",
       "27248                          France  2022   59.1  \n",
       "27251                         Croatia  2022   40.0  \n",
       "27254                           Italy  2022   39.5  \n",
       "27257                          Cyprus  2022   43.6  \n",
       "27260                          Latvia  2022   41.9  \n",
       "27263                       Lithuania  2022   48.9  \n",
       "27266                      Luxembourg  2022   81.9  \n",
       "27269                         Hungary  2022   42.6  \n",
       "27272                           Malta  2022   41.4  \n",
       "27275                     Netherlands  2022   76.1  \n",
       "27278                         Austria  2022   60.7  \n",
       "27281                          Poland  2022   53.7  \n",
       "27284                        Portugal  2022   56.2  \n",
       "27287                         Romania  2022   24.3  \n",
       "27290                        Slovenia  2022   60.9  \n",
       "27293                        Slovakia  2022   43.4  \n",
       "27296                         Finland  2022   71.5  \n",
       "27299                          Sweden  2022   69.6  "
      ]
     },
     "execution_count": 413,
     "metadata": {},
     "output_type": "execute_result"
    }
   ],
   "source": [
    "df_leisure[(df_leisure[\"Age class\"] == \"16 years or over\") & (df_leisure[\"Sex\"] == \"Total\") & (df_leisure[\"Frequency\"] == \"At least once\") \n",
    "           & (df_leisure[\"Time\"] == \"2022\") & (df_leisure[\"Geopolitical entity (reporting)\"].isin(eu_countries)) & (df_leisure[\"International Standard Classification of Education (ISCED 2011)\"] == \"All ISCED 2011 levels\")]\n"
   ]
  },
  {
   "cell_type": "code",
   "execution_count": 414,
   "metadata": {},
   "outputs": [
    {
     "data": {
      "text/html": [
       "<div>\n",
       "<style scoped>\n",
       "    .dataframe tbody tr th:only-of-type {\n",
       "        vertical-align: middle;\n",
       "    }\n",
       "\n",
       "    .dataframe tbody tr th {\n",
       "        vertical-align: top;\n",
       "    }\n",
       "\n",
       "    .dataframe thead th {\n",
       "        text-align: right;\n",
       "    }\n",
       "</style>\n",
       "<table border=\"1\" class=\"dataframe\">\n",
       "  <thead>\n",
       "    <tr style=\"text-align: right;\">\n",
       "      <th></th>\n",
       "      <th>country</th>\n",
       "      <th>leisure_16_24</th>\n",
       "      <th>leisure_25_34</th>\n",
       "      <th>leisure_35_44</th>\n",
       "      <th>leisure_45_54</th>\n",
       "      <th>leisure_55_64</th>\n",
       "      <th>leisure_65_74</th>\n",
       "      <th>leisure_75_older</th>\n",
       "    </tr>\n",
       "  </thead>\n",
       "  <tbody>\n",
       "    <tr>\n",
       "      <th>0</th>\n",
       "      <td>Belgium</td>\n",
       "      <td>82.0</td>\n",
       "      <td>74.5</td>\n",
       "      <td>74.2</td>\n",
       "      <td>63.7</td>\n",
       "      <td>59.6</td>\n",
       "      <td>55.1</td>\n",
       "      <td>36.2</td>\n",
       "    </tr>\n",
       "    <tr>\n",
       "      <th>1</th>\n",
       "      <td>Bulgaria</td>\n",
       "      <td>42.6</td>\n",
       "      <td>31.0</td>\n",
       "      <td>28.4</td>\n",
       "      <td>21.7</td>\n",
       "      <td>15.0</td>\n",
       "      <td>10.0</td>\n",
       "      <td>4.5</td>\n",
       "    </tr>\n",
       "    <tr>\n",
       "      <th>2</th>\n",
       "      <td>Czech Republic</td>\n",
       "      <td>85.9</td>\n",
       "      <td>73.0</td>\n",
       "      <td>71.9</td>\n",
       "      <td>66.9</td>\n",
       "      <td>60.2</td>\n",
       "      <td>48.8</td>\n",
       "      <td>29.4</td>\n",
       "    </tr>\n",
       "    <tr>\n",
       "      <th>3</th>\n",
       "      <td>Denmark</td>\n",
       "      <td>91.5</td>\n",
       "      <td>86.6</td>\n",
       "      <td>82.9</td>\n",
       "      <td>84.1</td>\n",
       "      <td>77.4</td>\n",
       "      <td>74.3</td>\n",
       "      <td>64.8</td>\n",
       "    </tr>\n",
       "    <tr>\n",
       "      <th>4</th>\n",
       "      <td>Germany</td>\n",
       "      <td>NaN</td>\n",
       "      <td>NaN</td>\n",
       "      <td>NaN</td>\n",
       "      <td>NaN</td>\n",
       "      <td>NaN</td>\n",
       "      <td>NaN</td>\n",
       "      <td>NaN</td>\n",
       "    </tr>\n",
       "    <tr>\n",
       "      <th>5</th>\n",
       "      <td>Estonia</td>\n",
       "      <td>86.9</td>\n",
       "      <td>79.5</td>\n",
       "      <td>75.4</td>\n",
       "      <td>70.1</td>\n",
       "      <td>56.8</td>\n",
       "      <td>45.9</td>\n",
       "      <td>26.2</td>\n",
       "    </tr>\n",
       "    <tr>\n",
       "      <th>6</th>\n",
       "      <td>Ireland</td>\n",
       "      <td>85.9</td>\n",
       "      <td>81.4</td>\n",
       "      <td>79.5</td>\n",
       "      <td>71.7</td>\n",
       "      <td>66.9</td>\n",
       "      <td>49.3</td>\n",
       "      <td>33.4</td>\n",
       "    </tr>\n",
       "    <tr>\n",
       "      <th>7</th>\n",
       "      <td>Greece</td>\n",
       "      <td>69.6</td>\n",
       "      <td>61.7</td>\n",
       "      <td>47.7</td>\n",
       "      <td>43.8</td>\n",
       "      <td>36.0</td>\n",
       "      <td>22.3</td>\n",
       "      <td>10.3</td>\n",
       "    </tr>\n",
       "    <tr>\n",
       "      <th>8</th>\n",
       "      <td>Spain</td>\n",
       "      <td>86.3</td>\n",
       "      <td>79.1</td>\n",
       "      <td>69.8</td>\n",
       "      <td>66.5</td>\n",
       "      <td>59.8</td>\n",
       "      <td>50.6</td>\n",
       "      <td>29.0</td>\n",
       "    </tr>\n",
       "    <tr>\n",
       "      <th>9</th>\n",
       "      <td>France</td>\n",
       "      <td>83.0</td>\n",
       "      <td>71.1</td>\n",
       "      <td>69.3</td>\n",
       "      <td>62.8</td>\n",
       "      <td>53.7</td>\n",
       "      <td>47.2</td>\n",
       "      <td>27.7</td>\n",
       "    </tr>\n",
       "    <tr>\n",
       "      <th>10</th>\n",
       "      <td>Croatia</td>\n",
       "      <td>78.5</td>\n",
       "      <td>63.8</td>\n",
       "      <td>50.3</td>\n",
       "      <td>41.1</td>\n",
       "      <td>27.9</td>\n",
       "      <td>20.3</td>\n",
       "      <td>7.8</td>\n",
       "    </tr>\n",
       "    <tr>\n",
       "      <th>11</th>\n",
       "      <td>Italy</td>\n",
       "      <td>70.9</td>\n",
       "      <td>58.8</td>\n",
       "      <td>46.4</td>\n",
       "      <td>45.4</td>\n",
       "      <td>34.1</td>\n",
       "      <td>24.2</td>\n",
       "      <td>9.6</td>\n",
       "    </tr>\n",
       "    <tr>\n",
       "      <th>12</th>\n",
       "      <td>Cyprus</td>\n",
       "      <td>68.4</td>\n",
       "      <td>56.6</td>\n",
       "      <td>50.3</td>\n",
       "      <td>44.0</td>\n",
       "      <td>31.1</td>\n",
       "      <td>22.2</td>\n",
       "      <td>8.8</td>\n",
       "    </tr>\n",
       "    <tr>\n",
       "      <th>13</th>\n",
       "      <td>Latvia</td>\n",
       "      <td>63.6</td>\n",
       "      <td>59.8</td>\n",
       "      <td>52.4</td>\n",
       "      <td>45.6</td>\n",
       "      <td>36.3</td>\n",
       "      <td>26.7</td>\n",
       "      <td>13.7</td>\n",
       "    </tr>\n",
       "    <tr>\n",
       "      <th>14</th>\n",
       "      <td>Lithuania</td>\n",
       "      <td>73.9</td>\n",
       "      <td>68.3</td>\n",
       "      <td>63.2</td>\n",
       "      <td>48.9</td>\n",
       "      <td>41.5</td>\n",
       "      <td>33.3</td>\n",
       "      <td>13.1</td>\n",
       "    </tr>\n",
       "    <tr>\n",
       "      <th>15</th>\n",
       "      <td>Luxembourg</td>\n",
       "      <td>93.8</td>\n",
       "      <td>88.8</td>\n",
       "      <td>82.7</td>\n",
       "      <td>80.4</td>\n",
       "      <td>76.3</td>\n",
       "      <td>79.5</td>\n",
       "      <td>62.8</td>\n",
       "    </tr>\n",
       "    <tr>\n",
       "      <th>16</th>\n",
       "      <td>Hungary</td>\n",
       "      <td>72.6</td>\n",
       "      <td>52.0</td>\n",
       "      <td>47.8</td>\n",
       "      <td>46.2</td>\n",
       "      <td>35.3</td>\n",
       "      <td>26.0</td>\n",
       "      <td>14.9</td>\n",
       "    </tr>\n",
       "    <tr>\n",
       "      <th>17</th>\n",
       "      <td>Malta</td>\n",
       "      <td>67.3</td>\n",
       "      <td>58.0</td>\n",
       "      <td>50.2</td>\n",
       "      <td>43.7</td>\n",
       "      <td>27.7</td>\n",
       "      <td>19.2</td>\n",
       "      <td>8.6</td>\n",
       "    </tr>\n",
       "    <tr>\n",
       "      <th>18</th>\n",
       "      <td>Netherlands</td>\n",
       "      <td>90.9</td>\n",
       "      <td>86.9</td>\n",
       "      <td>82.1</td>\n",
       "      <td>77.0</td>\n",
       "      <td>71.4</td>\n",
       "      <td>65.3</td>\n",
       "      <td>52.7</td>\n",
       "    </tr>\n",
       "    <tr>\n",
       "      <th>19</th>\n",
       "      <td>Austria</td>\n",
       "      <td>82.8</td>\n",
       "      <td>75.6</td>\n",
       "      <td>68.9</td>\n",
       "      <td>58.5</td>\n",
       "      <td>54.4</td>\n",
       "      <td>48.5</td>\n",
       "      <td>30.6</td>\n",
       "    </tr>\n",
       "    <tr>\n",
       "      <th>20</th>\n",
       "      <td>Poland</td>\n",
       "      <td>85.6</td>\n",
       "      <td>73.3</td>\n",
       "      <td>68.5</td>\n",
       "      <td>55.9</td>\n",
       "      <td>43.6</td>\n",
       "      <td>31.7</td>\n",
       "      <td>18.2</td>\n",
       "    </tr>\n",
       "    <tr>\n",
       "      <th>21</th>\n",
       "      <td>Portugal</td>\n",
       "      <td>86.9</td>\n",
       "      <td>76.8</td>\n",
       "      <td>72.0</td>\n",
       "      <td>61.6</td>\n",
       "      <td>48.2</td>\n",
       "      <td>38.7</td>\n",
       "      <td>20.1</td>\n",
       "    </tr>\n",
       "    <tr>\n",
       "      <th>22</th>\n",
       "      <td>Romania</td>\n",
       "      <td>45.1</td>\n",
       "      <td>38.7</td>\n",
       "      <td>33.3</td>\n",
       "      <td>23.0</td>\n",
       "      <td>13.1</td>\n",
       "      <td>8.7</td>\n",
       "      <td>4.2</td>\n",
       "    </tr>\n",
       "    <tr>\n",
       "      <th>23</th>\n",
       "      <td>Slovenia</td>\n",
       "      <td>76.3</td>\n",
       "      <td>73.9</td>\n",
       "      <td>75.7</td>\n",
       "      <td>63.0</td>\n",
       "      <td>52.0</td>\n",
       "      <td>47.6</td>\n",
       "      <td>29.2</td>\n",
       "    </tr>\n",
       "    <tr>\n",
       "      <th>24</th>\n",
       "      <td>Slovakia</td>\n",
       "      <td>73.8</td>\n",
       "      <td>60.1</td>\n",
       "      <td>52.3</td>\n",
       "      <td>41.8</td>\n",
       "      <td>33.6</td>\n",
       "      <td>21.8</td>\n",
       "      <td>6.7</td>\n",
       "    </tr>\n",
       "    <tr>\n",
       "      <th>25</th>\n",
       "      <td>Finland</td>\n",
       "      <td>82.3</td>\n",
       "      <td>82.5</td>\n",
       "      <td>82.8</td>\n",
       "      <td>81.9</td>\n",
       "      <td>69.6</td>\n",
       "      <td>58.7</td>\n",
       "      <td>42.5</td>\n",
       "    </tr>\n",
       "    <tr>\n",
       "      <th>26</th>\n",
       "      <td>Sweden</td>\n",
       "      <td>85.0</td>\n",
       "      <td>75.7</td>\n",
       "      <td>76.4</td>\n",
       "      <td>74.5</td>\n",
       "      <td>63.7</td>\n",
       "      <td>62.0</td>\n",
       "      <td>47.3</td>\n",
       "    </tr>\n",
       "  </tbody>\n",
       "</table>\n",
       "</div>"
      ],
      "text/plain": [
       "           country  leisure_16_24  leisure_25_34  leisure_35_44  \\\n",
       "0          Belgium           82.0           74.5           74.2   \n",
       "1         Bulgaria           42.6           31.0           28.4   \n",
       "2   Czech Republic           85.9           73.0           71.9   \n",
       "3          Denmark           91.5           86.6           82.9   \n",
       "4          Germany            NaN            NaN            NaN   \n",
       "5          Estonia           86.9           79.5           75.4   \n",
       "6          Ireland           85.9           81.4           79.5   \n",
       "7           Greece           69.6           61.7           47.7   \n",
       "8            Spain           86.3           79.1           69.8   \n",
       "9           France           83.0           71.1           69.3   \n",
       "10         Croatia           78.5           63.8           50.3   \n",
       "11           Italy           70.9           58.8           46.4   \n",
       "12          Cyprus           68.4           56.6           50.3   \n",
       "13          Latvia           63.6           59.8           52.4   \n",
       "14       Lithuania           73.9           68.3           63.2   \n",
       "15      Luxembourg           93.8           88.8           82.7   \n",
       "16         Hungary           72.6           52.0           47.8   \n",
       "17           Malta           67.3           58.0           50.2   \n",
       "18     Netherlands           90.9           86.9           82.1   \n",
       "19         Austria           82.8           75.6           68.9   \n",
       "20          Poland           85.6           73.3           68.5   \n",
       "21        Portugal           86.9           76.8           72.0   \n",
       "22         Romania           45.1           38.7           33.3   \n",
       "23        Slovenia           76.3           73.9           75.7   \n",
       "24        Slovakia           73.8           60.1           52.3   \n",
       "25         Finland           82.3           82.5           82.8   \n",
       "26          Sweden           85.0           75.7           76.4   \n",
       "\n",
       "    leisure_45_54  leisure_55_64  leisure_65_74  leisure_75_older  \n",
       "0            63.7           59.6           55.1              36.2  \n",
       "1            21.7           15.0           10.0               4.5  \n",
       "2            66.9           60.2           48.8              29.4  \n",
       "3            84.1           77.4           74.3              64.8  \n",
       "4             NaN            NaN            NaN               NaN  \n",
       "5            70.1           56.8           45.9              26.2  \n",
       "6            71.7           66.9           49.3              33.4  \n",
       "7            43.8           36.0           22.3              10.3  \n",
       "8            66.5           59.8           50.6              29.0  \n",
       "9            62.8           53.7           47.2              27.7  \n",
       "10           41.1           27.9           20.3               7.8  \n",
       "11           45.4           34.1           24.2               9.6  \n",
       "12           44.0           31.1           22.2               8.8  \n",
       "13           45.6           36.3           26.7              13.7  \n",
       "14           48.9           41.5           33.3              13.1  \n",
       "15           80.4           76.3           79.5              62.8  \n",
       "16           46.2           35.3           26.0              14.9  \n",
       "17           43.7           27.7           19.2               8.6  \n",
       "18           77.0           71.4           65.3              52.7  \n",
       "19           58.5           54.4           48.5              30.6  \n",
       "20           55.9           43.6           31.7              18.2  \n",
       "21           61.6           48.2           38.7              20.1  \n",
       "22           23.0           13.1            8.7               4.2  \n",
       "23           63.0           52.0           47.6              29.2  \n",
       "24           41.8           33.6           21.8               6.7  \n",
       "25           81.9           69.6           58.7              42.5  \n",
       "26           74.5           63.7           62.0              47.3  "
      ]
     },
     "execution_count": 414,
     "metadata": {},
     "output_type": "execute_result"
    }
   ],
   "source": [
    "age_classes = [(16, 24), (25, 34), (35, 44), (45, 54), (55, 64), (65, 74), 75]\n",
    "df_leisure_subset = df_leisure[(df_leisure[\"Sex\"] == \"Total\") & (df_leisure[\"Frequency\"] == \"At least once\") \n",
    "           & (df_leisure[\"Time\"] == \"2022\") & (df_leisure[\"Geopolitical entity (reporting)\"].isin(eu_countries)) & (df_leisure[\"International Standard Classification of Education (ISCED 2011)\"] == \"All ISCED 2011 levels\")]\n",
    "\n",
    "leisure_by_age = pd.DataFrame()\n",
    "leisure_dict = {\"country\" : df_leisure_subset[\"Geopolitical entity (reporting)\"].unique().tolist()}\n",
    "\n",
    "for ages in age_classes:\n",
    "    if type(ages) is int:\n",
    "        temp = df_leisure_subset[df_leisure_subset[\"Age class\"] == f'{ages} years or over'][\"value\"].tolist()\n",
    "        leisure_dict[f'leisure_{ages}_older'] = temp\n",
    "    else:\n",
    "        temp = df_leisure_subset[df_leisure_subset[\"Age class\"] == f'From {ages[0]} to {ages[1]} years'][\"value\"].tolist()\n",
    "        leisure_dict[f'leisure_{ages[0]}_{ages[1]}'] = temp\n",
    "    \n",
    "\n",
    "    \n",
    "    \n",
    "    \n",
    "\n",
    "leisure_df = pd.DataFrame(leisure_dict)\n",
    "leisure_df.loc[leisure_df.country == \"Czechia\", \"country\"] = \"Czech Republic\"\n",
    "leisure_df\n",
    "\n",
    "\n",
    "    \n",
    "\n",
    "    \n",
    "    "
   ]
  },
  {
   "cell_type": "markdown",
   "metadata": {},
   "source": [
    "Ages classes: 16-24, 25-34, 35-44, 45-54, 55-64, 65-74, 75+"
   ]
  },
  {
   "cell_type": "markdown",
   "metadata": {},
   "source": [
    "Units: percentage"
   ]
  }
 ],
 "metadata": {
  "kernelspec": {
   "display_name": "base",
   "language": "python",
   "name": "python3"
  },
  "language_info": {
   "codemirror_mode": {
    "name": "ipython",
    "version": 3
   },
   "file_extension": ".py",
   "mimetype": "text/x-python",
   "name": "python",
   "nbconvert_exporter": "python",
   "pygments_lexer": "ipython3",
   "version": "3.8.5"
  }
 },
 "nbformat": 4,
 "nbformat_minor": 2
}
