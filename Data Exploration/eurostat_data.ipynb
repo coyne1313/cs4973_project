{
 "cells": [
  {
   "cell_type": "code",
   "execution_count": 1,
   "metadata": {},
   "outputs": [],
   "source": [
    "import requests\n",
    "import json\n",
    "import pandas as pd\n",
    "import numpy as np\n",
    "from bs4 import BeautifulSoup\n",
    "from pyjstat import pyjstat\n",
    "import plotly.express as px"
   ]
  },
  {
   "cell_type": "markdown",
   "metadata": {},
   "source": [
    "# Data Cleaning \n",
    "I start off by just testing out the eurostat dataset, then make functions for getting specific data for countries/types of crime and predicting the crime levels"
   ]
  },
  {
   "cell_type": "code",
   "execution_count": 2,
   "metadata": {},
   "outputs": [],
   "source": [
    "def get_eurostat_data(article_title, *args):\n",
    "    '''\n",
    "    To Do:\n",
    "        - Write *args\n",
    "        - Write _url_builder() helper func.\n",
    "    '''\n",
    "    \n",
    "    article_title = article_title.upper()\n",
    "    url = f'https://ec.europa.eu/eurostat/api/dissemination/statistics/1.0/data/{article_title}?format=JSON&lang=EN'\n",
    "\n",
    "    output = pyjstat.Dataset.read(url)\n",
    "    df = output.write('dataframe')\n",
    "\n",
    "    return df"
   ]
  },
  {
   "cell_type": "code",
   "execution_count": 3,
   "metadata": {},
   "outputs": [],
   "source": [
    "# importing df_crime\n",
    "df_crime = get_eurostat_data(\"crim_off_cat\")"
   ]
  },
  {
   "cell_type": "code",
   "execution_count": 4,
   "metadata": {},
   "outputs": [
    {
     "data": {
      "text/html": [
       "<div>\n",
       "<style scoped>\n",
       "    .dataframe tbody tr th:only-of-type {\n",
       "        vertical-align: middle;\n",
       "    }\n",
       "\n",
       "    .dataframe tbody tr th {\n",
       "        vertical-align: top;\n",
       "    }\n",
       "\n",
       "    .dataframe thead th {\n",
       "        text-align: right;\n",
       "    }\n",
       "</style>\n",
       "<table border=\"1\" class=\"dataframe\">\n",
       "  <thead>\n",
       "    <tr style=\"text-align: right;\">\n",
       "      <th></th>\n",
       "      <th>Time frequency</th>\n",
       "      <th>International classification of crime for statistical purposes (ICCS)</th>\n",
       "      <th>Unit of measure</th>\n",
       "      <th>Geopolitical entity (reporting)</th>\n",
       "      <th>Time</th>\n",
       "      <th>value</th>\n",
       "    </tr>\n",
       "  </thead>\n",
       "  <tbody>\n",
       "    <tr>\n",
       "      <th>0</th>\n",
       "      <td>Annual</td>\n",
       "      <td>Intentional homicide</td>\n",
       "      <td>Number</td>\n",
       "      <td>Belgium</td>\n",
       "      <td>2008</td>\n",
       "      <td>204.00</td>\n",
       "    </tr>\n",
       "    <tr>\n",
       "      <th>1</th>\n",
       "      <td>Annual</td>\n",
       "      <td>Intentional homicide</td>\n",
       "      <td>Number</td>\n",
       "      <td>Belgium</td>\n",
       "      <td>2009</td>\n",
       "      <td>189.00</td>\n",
       "    </tr>\n",
       "    <tr>\n",
       "      <th>2</th>\n",
       "      <td>Annual</td>\n",
       "      <td>Intentional homicide</td>\n",
       "      <td>Number</td>\n",
       "      <td>Belgium</td>\n",
       "      <td>2010</td>\n",
       "      <td>189.00</td>\n",
       "    </tr>\n",
       "    <tr>\n",
       "      <th>3</th>\n",
       "      <td>Annual</td>\n",
       "      <td>Intentional homicide</td>\n",
       "      <td>Number</td>\n",
       "      <td>Belgium</td>\n",
       "      <td>2011</td>\n",
       "      <td>214.00</td>\n",
       "    </tr>\n",
       "    <tr>\n",
       "      <th>4</th>\n",
       "      <td>Annual</td>\n",
       "      <td>Intentional homicide</td>\n",
       "      <td>Number</td>\n",
       "      <td>Belgium</td>\n",
       "      <td>2012</td>\n",
       "      <td>206.00</td>\n",
       "    </tr>\n",
       "    <tr>\n",
       "      <th>...</th>\n",
       "      <td>...</td>\n",
       "      <td>...</td>\n",
       "      <td>...</td>\n",
       "      <td>...</td>\n",
       "      <td>...</td>\n",
       "      <td>...</td>\n",
       "    </tr>\n",
       "    <tr>\n",
       "      <th>25825</th>\n",
       "      <td>Annual</td>\n",
       "      <td>Participation in an organized criminal group</td>\n",
       "      <td>Per hundred thousand inhabitants</td>\n",
       "      <td>Kosovo*</td>\n",
       "      <td>2018</td>\n",
       "      <td>0.11</td>\n",
       "    </tr>\n",
       "    <tr>\n",
       "      <th>25826</th>\n",
       "      <td>Annual</td>\n",
       "      <td>Participation in an organized criminal group</td>\n",
       "      <td>Per hundred thousand inhabitants</td>\n",
       "      <td>Kosovo*</td>\n",
       "      <td>2019</td>\n",
       "      <td>0.17</td>\n",
       "    </tr>\n",
       "    <tr>\n",
       "      <th>25827</th>\n",
       "      <td>Annual</td>\n",
       "      <td>Participation in an organized criminal group</td>\n",
       "      <td>Per hundred thousand inhabitants</td>\n",
       "      <td>Kosovo*</td>\n",
       "      <td>2020</td>\n",
       "      <td>0.28</td>\n",
       "    </tr>\n",
       "    <tr>\n",
       "      <th>25828</th>\n",
       "      <td>Annual</td>\n",
       "      <td>Participation in an organized criminal group</td>\n",
       "      <td>Per hundred thousand inhabitants</td>\n",
       "      <td>Kosovo*</td>\n",
       "      <td>2021</td>\n",
       "      <td>NaN</td>\n",
       "    </tr>\n",
       "    <tr>\n",
       "      <th>25829</th>\n",
       "      <td>Annual</td>\n",
       "      <td>Participation in an organized criminal group</td>\n",
       "      <td>Per hundred thousand inhabitants</td>\n",
       "      <td>Kosovo*</td>\n",
       "      <td>2022</td>\n",
       "      <td>NaN</td>\n",
       "    </tr>\n",
       "  </tbody>\n",
       "</table>\n",
       "<p>25830 rows × 6 columns</p>\n",
       "</div>"
      ],
      "text/plain": [
       "      Time frequency  \\\n",
       "0             Annual   \n",
       "1             Annual   \n",
       "2             Annual   \n",
       "3             Annual   \n",
       "4             Annual   \n",
       "...              ...   \n",
       "25825         Annual   \n",
       "25826         Annual   \n",
       "25827         Annual   \n",
       "25828         Annual   \n",
       "25829         Annual   \n",
       "\n",
       "      International classification of crime for statistical purposes (ICCS)  \\\n",
       "0                                   Intentional homicide                      \n",
       "1                                   Intentional homicide                      \n",
       "2                                   Intentional homicide                      \n",
       "3                                   Intentional homicide                      \n",
       "4                                   Intentional homicide                      \n",
       "...                                                  ...                      \n",
       "25825       Participation in an organized criminal group                      \n",
       "25826       Participation in an organized criminal group                      \n",
       "25827       Participation in an organized criminal group                      \n",
       "25828       Participation in an organized criminal group                      \n",
       "25829       Participation in an organized criminal group                      \n",
       "\n",
       "                        Unit of measure Geopolitical entity (reporting)  Time  \\\n",
       "0                                Number                         Belgium  2008   \n",
       "1                                Number                         Belgium  2009   \n",
       "2                                Number                         Belgium  2010   \n",
       "3                                Number                         Belgium  2011   \n",
       "4                                Number                         Belgium  2012   \n",
       "...                                 ...                             ...   ...   \n",
       "25825  Per hundred thousand inhabitants                         Kosovo*  2018   \n",
       "25826  Per hundred thousand inhabitants                         Kosovo*  2019   \n",
       "25827  Per hundred thousand inhabitants                         Kosovo*  2020   \n",
       "25828  Per hundred thousand inhabitants                         Kosovo*  2021   \n",
       "25829  Per hundred thousand inhabitants                         Kosovo*  2022   \n",
       "\n",
       "        value  \n",
       "0      204.00  \n",
       "1      189.00  \n",
       "2      189.00  \n",
       "3      214.00  \n",
       "4      206.00  \n",
       "...       ...  \n",
       "25825    0.11  \n",
       "25826    0.17  \n",
       "25827    0.28  \n",
       "25828     NaN  \n",
       "25829     NaN  \n",
       "\n",
       "[25830 rows x 6 columns]"
      ]
     },
     "execution_count": 4,
     "metadata": {},
     "output_type": "execute_result"
    }
   ],
   "source": [
    "df_crime.loc[:, \"Time\"] = df_crime.loc[:, \"Time\"].astype(int)\n",
    "df_crime"
   ]
  },
  {
   "cell_type": "code",
   "execution_count": 5,
   "metadata": {},
   "outputs": [
    {
     "data": {
      "text/plain": [
       "array(['Intentional homicide', 'Attempted intentional homicide',\n",
       "       'Serious assault', 'Kidnapping', 'Sexual violence', 'Rape',\n",
       "       'Sexual assault', 'Sexual exploitation', 'Child pornography',\n",
       "       'Robbery', 'Burglary', 'Burglary of private residential premises',\n",
       "       'Theft', 'Theft of a motorized vehicle or parts thereof',\n",
       "       'Unlawful acts involving controlled drugs or precursors', 'Fraud',\n",
       "       'Corruption', 'Bribery', 'Money laundering',\n",
       "       'Acts against computer systems',\n",
       "       'Participation in an organized criminal group'], dtype=object)"
      ]
     },
     "execution_count": 5,
     "metadata": {},
     "output_type": "execute_result"
    }
   ],
   "source": [
    "# remapping long country name to 'country'\n",
    "df_crime = df_crime.rename(columns={\"Geopolitical entity (reporting)\" : \"country\"})\n",
    "\n",
    "# remapping European Turkey to Turkey\n",
    "df_crime.loc[df_crime.country == \"Türkiye\", \"country\"] = \"Turkey\"\n",
    "df_crime[\"International classification of crime for statistical purposes (ICCS)\"].unique()\n"
   ]
  },
  {
   "cell_type": "code",
   "execution_count": 6,
   "metadata": {},
   "outputs": [
    {
     "data": {
      "text/plain": [
       "['Austria',\n",
       " 'Belgium',\n",
       " 'Bulgaria',\n",
       " 'Croatia',\n",
       " 'Cyprus',\n",
       " 'Czechia',\n",
       " 'Czech Republic',\n",
       " 'Denmark',\n",
       " 'Estonia',\n",
       " 'Finland',\n",
       " 'France',\n",
       " 'Germany',\n",
       " 'Greece',\n",
       " 'Hungary',\n",
       " 'Ireland',\n",
       " 'Italy',\n",
       " 'Latvia',\n",
       " 'Lithuania',\n",
       " 'Luxembourg',\n",
       " 'Malta',\n",
       " 'Netherlands',\n",
       " 'Poland',\n",
       " 'Portugal',\n",
       " 'Romania',\n",
       " 'Slovakia',\n",
       " 'Slovenia',\n",
       " 'Spain',\n",
       " 'Sweden']"
      ]
     },
     "execution_count": 6,
     "metadata": {},
     "output_type": "execute_result"
    }
   ],
   "source": [
    "countries = \"Austria, Belgium, Bulgaria, Croatia, Cyprus, Czechia, Czech Republic, Denmark, Estonia, Finland, France, Germany, Greece, Hungary, Ireland, Italy, Latvia, Lithuania, Luxembourg, Malta, Netherlands, Poland, Portugal, Romania, Slovakia, Slovenia, Spain, Sweden\"\n",
    "eu_countries = countries.split(\", \")\n",
    "eu_countries\n"
   ]
  },
  {
   "cell_type": "code",
   "execution_count": 7,
   "metadata": {},
   "outputs": [],
   "source": [
    "# only including eu nations in df\n",
    "df_crime = df_crime[df_crime[\"country\"].isin(eu_countries)]\n",
    "df_homicide_be = df_crime[(df_crime.country == \"Belgium\") & (df_crime[\"Unit of measure\"] == \"Per hundred thousand inhabitants\" ) & \n",
    "                                            (df_crime[\"International classification of crime for statistical purposes (ICCS)\"] == \"Intentional homicide\")]\n",
    "\n",
    "\n",
    "\n"
   ]
  },
  {
   "cell_type": "code",
   "execution_count": 8,
   "metadata": {},
   "outputs": [],
   "source": [
    "#get large dataset, clean it\n",
    "df = get_eurostat_data(\"crim_off_cat\")\n",
    "df[\"Time\"] = df[\"Time\"].astype(int)\n",
    "\n",
    "df = df.rename(columns={\"Time\" : \"Year\"})\n",
    "\n",
    "\n",
    "#get EU countries\n",
    "countries = \"Austria, Belgium, Bulgaria, Croatia, Cyprus, Czechia, Denmark, Estonia, Finland, France, Germany, Greece, Hungary, Ireland, Italy, Latvia, Lithuania, Luxembourg, Malta, Netherlands, Poland, Portugal, Romania, Slovakia, Slovenia, Spain, Sweden\"\n",
    "eu_countries = countries.split(\", \")\n",
    "\n",
    "#rename to country\n",
    "df = df.rename(columns={\"Geopolitical entity (reporting)\" : \"country\", \n",
    "                        \"value\" : \"Amount (Per 100k)\"})\n",
    "\n",
    "#change turkeys name\n",
    "df.loc[df.country == \"Türkiye\", \"country\"] = \"Turkey\"\n",
    "\n",
    "#include only EU countries\n",
    "df = df[df[\"country\"].isin(eu_countries)]\n",
    "\n",
    "\n",
    "def get_crime_data(country, *args):\n",
    "     if len(args) > 0:\n",
    "          return df[(df.country == country) & (df[\"Unit of measure\"] == \"Per hundred thousand inhabitants\" ) & \n",
    "                                            (df[\"International classification of crime for statistical purposes (ICCS)\"] == args[0])]\n",
    "     return df[(df.country == country) & (df[\"Unit of measure\"] == \"Per hundred thousand inhabitants\" )]\n",
    "\n",
    "    \n",
    "    "
   ]
  },
  {
   "cell_type": "code",
   "execution_count": 9,
   "metadata": {},
   "outputs": [],
   "source": [
    "df[\"International classification of crime for statistical purposes (ICCS)\"].unique()\n",
    "\n",
    "# Creating crime catergories\n",
    "violent = ['Intentional homicide', 'Attempted intentional homicide',\n",
    "       'Serious assault', 'Kidnapping']\n",
    "\n",
    "sexual = ['Sexual violence', 'Rape',\n",
    "       'Sexual assault', 'Sexual exploitation', 'Child pornography']\n",
    "\n",
    "stealing = ['Robbery', 'Burglary', 'Burglary of private residential premises',\n",
    "       'Theft', 'Theft of a motorized vehicle or parts thereof']\n",
    "\n",
    "drugs = ['Unlawful acts involving controlled drugs or precursors']\n",
    "\n",
    "white_collar = ['Fraud',\n",
    "       'Corruption', 'Bribery', 'Money laundering',\n",
    "       'Acts against computer systems',\n",
    "       'Participation in an organized criminal group']\n",
    "\n",
    "crime_categories = [violent, sexual, stealing, drugs, white_collar]\n",
    "\n",
    "df_crime = get_eurostat_data(\"crim_off_cat\")\n",
    "\n",
    "\n",
    "\n"
   ]
  },
  {
   "cell_type": "code",
   "execution_count": 10,
   "metadata": {},
   "outputs": [
    {
     "data": {
      "text/html": [
       "<div>\n",
       "<style scoped>\n",
       "    .dataframe tbody tr th:only-of-type {\n",
       "        vertical-align: middle;\n",
       "    }\n",
       "\n",
       "    .dataframe tbody tr th {\n",
       "        vertical-align: top;\n",
       "    }\n",
       "\n",
       "    .dataframe thead th {\n",
       "        text-align: right;\n",
       "    }\n",
       "</style>\n",
       "<table border=\"1\" class=\"dataframe\">\n",
       "  <thead>\n",
       "    <tr style=\"text-align: right;\">\n",
       "      <th></th>\n",
       "      <th>country</th>\n",
       "      <th>violent</th>\n",
       "      <th>sexual</th>\n",
       "      <th>stealing</th>\n",
       "      <th>drugs</th>\n",
       "      <th>white_collar</th>\n",
       "    </tr>\n",
       "  </thead>\n",
       "  <tbody>\n",
       "    <tr>\n",
       "      <th>0</th>\n",
       "      <td>Austria</td>\n",
       "      <td>50.47</td>\n",
       "      <td>131.76</td>\n",
       "      <td>1764.21</td>\n",
       "      <td>392.39</td>\n",
       "      <td>1074.51</td>\n",
       "    </tr>\n",
       "    <tr>\n",
       "      <th>1</th>\n",
       "      <td>Belgium</td>\n",
       "      <td>572.04</td>\n",
       "      <td>202.26</td>\n",
       "      <td>2664.35</td>\n",
       "      <td>484.04</td>\n",
       "      <td>1141.27</td>\n",
       "    </tr>\n",
       "    <tr>\n",
       "      <th>2</th>\n",
       "      <td>Bulgaria</td>\n",
       "      <td>48.77</td>\n",
       "      <td>17.53</td>\n",
       "      <td>575.33</td>\n",
       "      <td>78.32</td>\n",
       "      <td>45.17</td>\n",
       "    </tr>\n",
       "    <tr>\n",
       "      <th>3</th>\n",
       "      <td>Croatia</td>\n",
       "      <td>23.74</td>\n",
       "      <td>52.32</td>\n",
       "      <td>592.68</td>\n",
       "      <td>237.81</td>\n",
       "      <td>172.74</td>\n",
       "    </tr>\n",
       "    <tr>\n",
       "      <th>4</th>\n",
       "      <td>Cyprus</td>\n",
       "      <td>22.87</td>\n",
       "      <td>31.72</td>\n",
       "      <td>203.05</td>\n",
       "      <td>113.30</td>\n",
       "      <td>70.62</td>\n",
       "    </tr>\n",
       "    <tr>\n",
       "      <th>5</th>\n",
       "      <td>Czechia</td>\n",
       "      <td>41.03</td>\n",
       "      <td>43.48</td>\n",
       "      <td>754.10</td>\n",
       "      <td>39.94</td>\n",
       "      <td>203.97</td>\n",
       "    </tr>\n",
       "    <tr>\n",
       "      <th>6</th>\n",
       "      <td>Denmark</td>\n",
       "      <td>40.12</td>\n",
       "      <td>271.67</td>\n",
       "      <td>3468.77</td>\n",
       "      <td>532.38</td>\n",
       "      <td>1133.53</td>\n",
       "    </tr>\n",
       "    <tr>\n",
       "      <th>7</th>\n",
       "      <td>Estonia</td>\n",
       "      <td>6.39</td>\n",
       "      <td>49.48</td>\n",
       "      <td>656.56</td>\n",
       "      <td>235.02</td>\n",
       "      <td>235.62</td>\n",
       "    </tr>\n",
       "    <tr>\n",
       "      <th>8</th>\n",
       "      <td>Finland</td>\n",
       "      <td>38.94</td>\n",
       "      <td>201.32</td>\n",
       "      <td>2560.43</td>\n",
       "      <td>454.31</td>\n",
       "      <td>1096.18</td>\n",
       "    </tr>\n",
       "    <tr>\n",
       "      <th>9</th>\n",
       "      <td>France</td>\n",
       "      <td>583.80</td>\n",
       "      <td>270.45</td>\n",
       "      <td>2500.81</td>\n",
       "      <td>488.82</td>\n",
       "      <td>417.65</td>\n",
       "    </tr>\n",
       "    <tr>\n",
       "      <th>10</th>\n",
       "      <td>Germany</td>\n",
       "      <td>182.49</td>\n",
       "      <td>176.24</td>\n",
       "      <td>1692.27</td>\n",
       "      <td>409.28</td>\n",
       "      <td>1022.49</td>\n",
       "    </tr>\n",
       "    <tr>\n",
       "      <th>11</th>\n",
       "      <td>Greece</td>\n",
       "      <td>16.04</td>\n",
       "      <td>8.31</td>\n",
       "      <td>1079.88</td>\n",
       "      <td>114.96</td>\n",
       "      <td>117.91</td>\n",
       "    </tr>\n",
       "    <tr>\n",
       "      <th>12</th>\n",
       "      <td>Hungary</td>\n",
       "      <td>1.97</td>\n",
       "      <td>16.89</td>\n",
       "      <td>507.26</td>\n",
       "      <td>76.56</td>\n",
       "      <td>301.35</td>\n",
       "    </tr>\n",
       "    <tr>\n",
       "      <th>13</th>\n",
       "      <td>Ireland</td>\n",
       "      <td>123.31</td>\n",
       "      <td>132.91</td>\n",
       "      <td>1521.37</td>\n",
       "      <td>329.33</td>\n",
       "      <td>215.52</td>\n",
       "    </tr>\n",
       "    <tr>\n",
       "      <th>14</th>\n",
       "      <td>Italy</td>\n",
       "      <td>3.97</td>\n",
       "      <td>15.35</td>\n",
       "      <td>1915.46</td>\n",
       "      <td>49.39</td>\n",
       "      <td>760.54</td>\n",
       "    </tr>\n",
       "    <tr>\n",
       "      <th>15</th>\n",
       "      <td>Latvia</td>\n",
       "      <td>34.60</td>\n",
       "      <td>54.91</td>\n",
       "      <td>727.33</td>\n",
       "      <td>67.49</td>\n",
       "      <td>169.06</td>\n",
       "    </tr>\n",
       "    <tr>\n",
       "      <th>16</th>\n",
       "      <td>Lithuania</td>\n",
       "      <td>7.84</td>\n",
       "      <td>25.34</td>\n",
       "      <td>427.55</td>\n",
       "      <td>109.76</td>\n",
       "      <td>206.37</td>\n",
       "    </tr>\n",
       "    <tr>\n",
       "      <th>17</th>\n",
       "      <td>Luxembourg</td>\n",
       "      <td>131.23</td>\n",
       "      <td>82.12</td>\n",
       "      <td>3626.60</td>\n",
       "      <td>555.63</td>\n",
       "      <td>737.38</td>\n",
       "    </tr>\n",
       "    <tr>\n",
       "      <th>18</th>\n",
       "      <td>Malta</td>\n",
       "      <td>44.73</td>\n",
       "      <td>57.97</td>\n",
       "      <td>1019.64</td>\n",
       "      <td>40.31</td>\n",
       "      <td>420.16</td>\n",
       "    </tr>\n",
       "    <tr>\n",
       "      <th>19</th>\n",
       "      <td>Netherlands</td>\n",
       "      <td>28.69</td>\n",
       "      <td>69.21</td>\n",
       "      <td>1858.06</td>\n",
       "      <td>66.54</td>\n",
       "      <td>39.51</td>\n",
       "    </tr>\n",
       "    <tr>\n",
       "      <th>20</th>\n",
       "      <td>Poland</td>\n",
       "      <td>14.95</td>\n",
       "      <td>25.92</td>\n",
       "      <td>544.72</td>\n",
       "      <td>186.18</td>\n",
       "      <td>511.01</td>\n",
       "    </tr>\n",
       "    <tr>\n",
       "      <th>21</th>\n",
       "      <td>Portugal</td>\n",
       "      <td>10.29</td>\n",
       "      <td>62.37</td>\n",
       "      <td>1125.25</td>\n",
       "      <td>62.39</td>\n",
       "      <td>455.69</td>\n",
       "    </tr>\n",
       "    <tr>\n",
       "      <th>22</th>\n",
       "      <td>Romania</td>\n",
       "      <td>5.80</td>\n",
       "      <td>34.96</td>\n",
       "      <td>566.73</td>\n",
       "      <td>48.54</td>\n",
       "      <td>103.08</td>\n",
       "    </tr>\n",
       "    <tr>\n",
       "      <th>23</th>\n",
       "      <td>Slovakia</td>\n",
       "      <td>25.48</td>\n",
       "      <td>15.11</td>\n",
       "      <td>352.28</td>\n",
       "      <td>28.34</td>\n",
       "      <td>46.10</td>\n",
       "    </tr>\n",
       "    <tr>\n",
       "      <th>24</th>\n",
       "      <td>Slovenia</td>\n",
       "      <td>7.36</td>\n",
       "      <td>36.41</td>\n",
       "      <td>1387.97</td>\n",
       "      <td>65.59</td>\n",
       "      <td>226.98</td>\n",
       "    </tr>\n",
       "    <tr>\n",
       "      <th>25</th>\n",
       "      <td>Spain</td>\n",
       "      <td>59.18</td>\n",
       "      <td>75.03</td>\n",
       "      <td>1063.29</td>\n",
       "      <td>40.18</td>\n",
       "      <td>947.58</td>\n",
       "    </tr>\n",
       "    <tr>\n",
       "      <th>26</th>\n",
       "      <td>Sweden</td>\n",
       "      <td>55.23</td>\n",
       "      <td>443.83</td>\n",
       "      <td>4075.44</td>\n",
       "      <td>1108.60</td>\n",
       "      <td>2799.87</td>\n",
       "    </tr>\n",
       "  </tbody>\n",
       "</table>\n",
       "</div>"
      ],
      "text/plain": [
       "        country  violent  sexual  stealing    drugs  white_collar\n",
       "0       Austria    50.47  131.76   1764.21   392.39       1074.51\n",
       "1       Belgium   572.04  202.26   2664.35   484.04       1141.27\n",
       "2      Bulgaria    48.77   17.53    575.33    78.32         45.17\n",
       "3       Croatia    23.74   52.32    592.68   237.81        172.74\n",
       "4        Cyprus    22.87   31.72    203.05   113.30         70.62\n",
       "5       Czechia    41.03   43.48    754.10    39.94        203.97\n",
       "6       Denmark    40.12  271.67   3468.77   532.38       1133.53\n",
       "7       Estonia     6.39   49.48    656.56   235.02        235.62\n",
       "8       Finland    38.94  201.32   2560.43   454.31       1096.18\n",
       "9        France   583.80  270.45   2500.81   488.82        417.65\n",
       "10      Germany   182.49  176.24   1692.27   409.28       1022.49\n",
       "11       Greece    16.04    8.31   1079.88   114.96        117.91\n",
       "12      Hungary     1.97   16.89    507.26    76.56        301.35\n",
       "13      Ireland   123.31  132.91   1521.37   329.33        215.52\n",
       "14        Italy     3.97   15.35   1915.46    49.39        760.54\n",
       "15       Latvia    34.60   54.91    727.33    67.49        169.06\n",
       "16    Lithuania     7.84   25.34    427.55   109.76        206.37\n",
       "17   Luxembourg   131.23   82.12   3626.60   555.63        737.38\n",
       "18        Malta    44.73   57.97   1019.64    40.31        420.16\n",
       "19  Netherlands    28.69   69.21   1858.06    66.54         39.51\n",
       "20       Poland    14.95   25.92    544.72   186.18        511.01\n",
       "21     Portugal    10.29   62.37   1125.25    62.39        455.69\n",
       "22      Romania     5.80   34.96    566.73    48.54        103.08\n",
       "23     Slovakia    25.48   15.11    352.28    28.34         46.10\n",
       "24     Slovenia     7.36   36.41   1387.97    65.59        226.98\n",
       "25        Spain    59.18   75.03   1063.29    40.18        947.58\n",
       "26       Sweden    55.23  443.83   4075.44  1108.60       2799.87"
      ]
     },
     "execution_count": 10,
     "metadata": {},
     "output_type": "execute_result"
    }
   ],
   "source": [
    "crime_dict = {\"country\" : [], \"violent\" : [], \"sexual\" : [], \"stealing\" : [], \"drugs\" : [], \"white_collar\" : []}\n",
    "\n",
    "#so inefficient, but works (could optimize but already had get_crime_data method written)\n",
    "for country in eu_countries:\n",
    "\n",
    "    crime_dict[\"country\"].append(country)\n",
    "    i = 0\n",
    "    for category in crime_categories:\n",
    "       \n",
    "       sum = 0;\n",
    "       crime_bool = (df_crime[\"International classification of crime for statistical purposes (ICCS)\"] == category[0])\n",
    "       for crime in category[1:]:\n",
    "            crime_bool = (crime_bool) | (df_crime[\"International classification of crime for statistical purposes (ICCS)\"] == crime)\n",
    "        \n",
    "        \n",
    "       crime_bool = (crime_bool) & (df.country == country) & (df[\"Unit of measure\"] == \"Per hundred thousand inhabitants\" ) & (df_crime[\"Time\"] == \"2022\")\n",
    "       \n",
    "       df_category_crime = df_crime[crime_bool]\n",
    "\n",
    "           \n",
    "       crime_dict[list(crime_dict.keys())[i + 1]].append(df_category_crime[\"value\"].sum())\n",
    "       i += 1\n",
    "\n",
    "pd.DataFrame(crime_dict)"
   ]
  },
  {
   "cell_type": "markdown",
   "metadata": {},
   "source": [
    "Now, I'm showing an individual data set's graph"
   ]
  },
  {
   "cell_type": "code",
   "execution_count": 11,
   "metadata": {},
   "outputs": [
    {
     "name": "stdout",
     "output_type": "stream",
     "text": [
      "    Time frequency  \\\n",
      "900         Annual   \n",
      "901         Annual   \n",
      "902         Annual   \n",
      "903         Annual   \n",
      "904         Annual   \n",
      "905         Annual   \n",
      "906         Annual   \n",
      "907         Annual   \n",
      "908         Annual   \n",
      "909         Annual   \n",
      "910         Annual   \n",
      "911         Annual   \n",
      "912         Annual   \n",
      "913         Annual   \n",
      "914         Annual   \n",
      "\n",
      "    International classification of crime for statistical purposes (ICCS)  \\\n",
      "900                               Intentional homicide                      \n",
      "901                               Intentional homicide                      \n",
      "902                               Intentional homicide                      \n",
      "903                               Intentional homicide                      \n",
      "904                               Intentional homicide                      \n",
      "905                               Intentional homicide                      \n",
      "906                               Intentional homicide                      \n",
      "907                               Intentional homicide                      \n",
      "908                               Intentional homicide                      \n",
      "909                               Intentional homicide                      \n",
      "910                               Intentional homicide                      \n",
      "911                               Intentional homicide                      \n",
      "912                               Intentional homicide                      \n",
      "913                               Intentional homicide                      \n",
      "914                               Intentional homicide                      \n",
      "\n",
      "                      Unit of measure  country  Year  Amount (Per 100k)  \n",
      "900  Per hundred thousand inhabitants  Austria  2008               0.70  \n",
      "901  Per hundred thousand inhabitants  Austria  2009               0.61  \n",
      "902  Per hundred thousand inhabitants  Austria  2010               0.73  \n",
      "903  Per hundred thousand inhabitants  Austria  2011               0.96  \n",
      "904  Per hundred thousand inhabitants  Austria  2012               1.05  \n",
      "905  Per hundred thousand inhabitants  Austria  2013               0.75  \n",
      "906  Per hundred thousand inhabitants  Austria  2014               0.51  \n",
      "907  Per hundred thousand inhabitants  Austria  2015               0.49  \n",
      "908  Per hundred thousand inhabitants  Austria  2016               0.56  \n",
      "909  Per hundred thousand inhabitants  Austria  2017               0.70  \n",
      "910  Per hundred thousand inhabitants  Austria  2018               0.83  \n",
      "911  Per hundred thousand inhabitants  Austria  2019               0.84  \n",
      "912  Per hundred thousand inhabitants  Austria  2020               0.61  \n",
      "913  Per hundred thousand inhabitants  Austria  2021               0.66  \n",
      "914  Per hundred thousand inhabitants  Austria  2022               0.72  \n"
     ]
    },
    {
     "data": {
      "application/vnd.plotly.v1+json": {
       "config": {
        "plotlyServerURL": "https://plot.ly"
       },
       "data": [
        {
         "hovertemplate": "Year=%{x}<br>Amount (Per 100k)=%{y}<extra></extra>",
         "legendgroup": "",
         "marker": {
          "color": "#636efa",
          "symbol": "circle"
         },
         "mode": "markers",
         "name": "",
         "orientation": "v",
         "showlegend": false,
         "type": "scatter",
         "x": [
          2008,
          2009,
          2010,
          2011,
          2012,
          2013,
          2014,
          2015,
          2016,
          2017,
          2018,
          2019,
          2020,
          2021,
          2022
         ],
         "xaxis": "x",
         "y": [
          0.7,
          0.61,
          0.73,
          0.96,
          1.05,
          0.75,
          0.51,
          0.49,
          0.56,
          0.7,
          0.83,
          0.84,
          0.61,
          0.66,
          0.72
         ],
         "yaxis": "y"
        }
       ],
       "layout": {
        "legend": {
         "tracegroupgap": 0
        },
        "margin": {
         "t": 60
        },
        "template": {
         "data": {
          "bar": [
           {
            "error_x": {
             "color": "#2a3f5f"
            },
            "error_y": {
             "color": "#2a3f5f"
            },
            "marker": {
             "line": {
              "color": "#E5ECF6",
              "width": 0.5
             },
             "pattern": {
              "fillmode": "overlay",
              "size": 10,
              "solidity": 0.2
             }
            },
            "type": "bar"
           }
          ],
          "barpolar": [
           {
            "marker": {
             "line": {
              "color": "#E5ECF6",
              "width": 0.5
             },
             "pattern": {
              "fillmode": "overlay",
              "size": 10,
              "solidity": 0.2
             }
            },
            "type": "barpolar"
           }
          ],
          "carpet": [
           {
            "aaxis": {
             "endlinecolor": "#2a3f5f",
             "gridcolor": "white",
             "linecolor": "white",
             "minorgridcolor": "white",
             "startlinecolor": "#2a3f5f"
            },
            "baxis": {
             "endlinecolor": "#2a3f5f",
             "gridcolor": "white",
             "linecolor": "white",
             "minorgridcolor": "white",
             "startlinecolor": "#2a3f5f"
            },
            "type": "carpet"
           }
          ],
          "choropleth": [
           {
            "colorbar": {
             "outlinewidth": 0,
             "ticks": ""
            },
            "type": "choropleth"
           }
          ],
          "contour": [
           {
            "colorbar": {
             "outlinewidth": 0,
             "ticks": ""
            },
            "colorscale": [
             [
              0,
              "#0d0887"
             ],
             [
              0.1111111111111111,
              "#46039f"
             ],
             [
              0.2222222222222222,
              "#7201a8"
             ],
             [
              0.3333333333333333,
              "#9c179e"
             ],
             [
              0.4444444444444444,
              "#bd3786"
             ],
             [
              0.5555555555555556,
              "#d8576b"
             ],
             [
              0.6666666666666666,
              "#ed7953"
             ],
             [
              0.7777777777777778,
              "#fb9f3a"
             ],
             [
              0.8888888888888888,
              "#fdca26"
             ],
             [
              1,
              "#f0f921"
             ]
            ],
            "type": "contour"
           }
          ],
          "contourcarpet": [
           {
            "colorbar": {
             "outlinewidth": 0,
             "ticks": ""
            },
            "type": "contourcarpet"
           }
          ],
          "heatmap": [
           {
            "colorbar": {
             "outlinewidth": 0,
             "ticks": ""
            },
            "colorscale": [
             [
              0,
              "#0d0887"
             ],
             [
              0.1111111111111111,
              "#46039f"
             ],
             [
              0.2222222222222222,
              "#7201a8"
             ],
             [
              0.3333333333333333,
              "#9c179e"
             ],
             [
              0.4444444444444444,
              "#bd3786"
             ],
             [
              0.5555555555555556,
              "#d8576b"
             ],
             [
              0.6666666666666666,
              "#ed7953"
             ],
             [
              0.7777777777777778,
              "#fb9f3a"
             ],
             [
              0.8888888888888888,
              "#fdca26"
             ],
             [
              1,
              "#f0f921"
             ]
            ],
            "type": "heatmap"
           }
          ],
          "heatmapgl": [
           {
            "colorbar": {
             "outlinewidth": 0,
             "ticks": ""
            },
            "colorscale": [
             [
              0,
              "#0d0887"
             ],
             [
              0.1111111111111111,
              "#46039f"
             ],
             [
              0.2222222222222222,
              "#7201a8"
             ],
             [
              0.3333333333333333,
              "#9c179e"
             ],
             [
              0.4444444444444444,
              "#bd3786"
             ],
             [
              0.5555555555555556,
              "#d8576b"
             ],
             [
              0.6666666666666666,
              "#ed7953"
             ],
             [
              0.7777777777777778,
              "#fb9f3a"
             ],
             [
              0.8888888888888888,
              "#fdca26"
             ],
             [
              1,
              "#f0f921"
             ]
            ],
            "type": "heatmapgl"
           }
          ],
          "histogram": [
           {
            "marker": {
             "pattern": {
              "fillmode": "overlay",
              "size": 10,
              "solidity": 0.2
             }
            },
            "type": "histogram"
           }
          ],
          "histogram2d": [
           {
            "colorbar": {
             "outlinewidth": 0,
             "ticks": ""
            },
            "colorscale": [
             [
              0,
              "#0d0887"
             ],
             [
              0.1111111111111111,
              "#46039f"
             ],
             [
              0.2222222222222222,
              "#7201a8"
             ],
             [
              0.3333333333333333,
              "#9c179e"
             ],
             [
              0.4444444444444444,
              "#bd3786"
             ],
             [
              0.5555555555555556,
              "#d8576b"
             ],
             [
              0.6666666666666666,
              "#ed7953"
             ],
             [
              0.7777777777777778,
              "#fb9f3a"
             ],
             [
              0.8888888888888888,
              "#fdca26"
             ],
             [
              1,
              "#f0f921"
             ]
            ],
            "type": "histogram2d"
           }
          ],
          "histogram2dcontour": [
           {
            "colorbar": {
             "outlinewidth": 0,
             "ticks": ""
            },
            "colorscale": [
             [
              0,
              "#0d0887"
             ],
             [
              0.1111111111111111,
              "#46039f"
             ],
             [
              0.2222222222222222,
              "#7201a8"
             ],
             [
              0.3333333333333333,
              "#9c179e"
             ],
             [
              0.4444444444444444,
              "#bd3786"
             ],
             [
              0.5555555555555556,
              "#d8576b"
             ],
             [
              0.6666666666666666,
              "#ed7953"
             ],
             [
              0.7777777777777778,
              "#fb9f3a"
             ],
             [
              0.8888888888888888,
              "#fdca26"
             ],
             [
              1,
              "#f0f921"
             ]
            ],
            "type": "histogram2dcontour"
           }
          ],
          "mesh3d": [
           {
            "colorbar": {
             "outlinewidth": 0,
             "ticks": ""
            },
            "type": "mesh3d"
           }
          ],
          "parcoords": [
           {
            "line": {
             "colorbar": {
              "outlinewidth": 0,
              "ticks": ""
             }
            },
            "type": "parcoords"
           }
          ],
          "pie": [
           {
            "automargin": true,
            "type": "pie"
           }
          ],
          "scatter": [
           {
            "fillpattern": {
             "fillmode": "overlay",
             "size": 10,
             "solidity": 0.2
            },
            "type": "scatter"
           }
          ],
          "scatter3d": [
           {
            "line": {
             "colorbar": {
              "outlinewidth": 0,
              "ticks": ""
             }
            },
            "marker": {
             "colorbar": {
              "outlinewidth": 0,
              "ticks": ""
             }
            },
            "type": "scatter3d"
           }
          ],
          "scattercarpet": [
           {
            "marker": {
             "colorbar": {
              "outlinewidth": 0,
              "ticks": ""
             }
            },
            "type": "scattercarpet"
           }
          ],
          "scattergeo": [
           {
            "marker": {
             "colorbar": {
              "outlinewidth": 0,
              "ticks": ""
             }
            },
            "type": "scattergeo"
           }
          ],
          "scattergl": [
           {
            "marker": {
             "colorbar": {
              "outlinewidth": 0,
              "ticks": ""
             }
            },
            "type": "scattergl"
           }
          ],
          "scattermapbox": [
           {
            "marker": {
             "colorbar": {
              "outlinewidth": 0,
              "ticks": ""
             }
            },
            "type": "scattermapbox"
           }
          ],
          "scatterpolar": [
           {
            "marker": {
             "colorbar": {
              "outlinewidth": 0,
              "ticks": ""
             }
            },
            "type": "scatterpolar"
           }
          ],
          "scatterpolargl": [
           {
            "marker": {
             "colorbar": {
              "outlinewidth": 0,
              "ticks": ""
             }
            },
            "type": "scatterpolargl"
           }
          ],
          "scatterternary": [
           {
            "marker": {
             "colorbar": {
              "outlinewidth": 0,
              "ticks": ""
             }
            },
            "type": "scatterternary"
           }
          ],
          "surface": [
           {
            "colorbar": {
             "outlinewidth": 0,
             "ticks": ""
            },
            "colorscale": [
             [
              0,
              "#0d0887"
             ],
             [
              0.1111111111111111,
              "#46039f"
             ],
             [
              0.2222222222222222,
              "#7201a8"
             ],
             [
              0.3333333333333333,
              "#9c179e"
             ],
             [
              0.4444444444444444,
              "#bd3786"
             ],
             [
              0.5555555555555556,
              "#d8576b"
             ],
             [
              0.6666666666666666,
              "#ed7953"
             ],
             [
              0.7777777777777778,
              "#fb9f3a"
             ],
             [
              0.8888888888888888,
              "#fdca26"
             ],
             [
              1,
              "#f0f921"
             ]
            ],
            "type": "surface"
           }
          ],
          "table": [
           {
            "cells": {
             "fill": {
              "color": "#EBF0F8"
             },
             "line": {
              "color": "white"
             }
            },
            "header": {
             "fill": {
              "color": "#C8D4E3"
             },
             "line": {
              "color": "white"
             }
            },
            "type": "table"
           }
          ]
         },
         "layout": {
          "annotationdefaults": {
           "arrowcolor": "#2a3f5f",
           "arrowhead": 0,
           "arrowwidth": 1
          },
          "autotypenumbers": "strict",
          "coloraxis": {
           "colorbar": {
            "outlinewidth": 0,
            "ticks": ""
           }
          },
          "colorscale": {
           "diverging": [
            [
             0,
             "#8e0152"
            ],
            [
             0.1,
             "#c51b7d"
            ],
            [
             0.2,
             "#de77ae"
            ],
            [
             0.3,
             "#f1b6da"
            ],
            [
             0.4,
             "#fde0ef"
            ],
            [
             0.5,
             "#f7f7f7"
            ],
            [
             0.6,
             "#e6f5d0"
            ],
            [
             0.7,
             "#b8e186"
            ],
            [
             0.8,
             "#7fbc41"
            ],
            [
             0.9,
             "#4d9221"
            ],
            [
             1,
             "#276419"
            ]
           ],
           "sequential": [
            [
             0,
             "#0d0887"
            ],
            [
             0.1111111111111111,
             "#46039f"
            ],
            [
             0.2222222222222222,
             "#7201a8"
            ],
            [
             0.3333333333333333,
             "#9c179e"
            ],
            [
             0.4444444444444444,
             "#bd3786"
            ],
            [
             0.5555555555555556,
             "#d8576b"
            ],
            [
             0.6666666666666666,
             "#ed7953"
            ],
            [
             0.7777777777777778,
             "#fb9f3a"
            ],
            [
             0.8888888888888888,
             "#fdca26"
            ],
            [
             1,
             "#f0f921"
            ]
           ],
           "sequentialminus": [
            [
             0,
             "#0d0887"
            ],
            [
             0.1111111111111111,
             "#46039f"
            ],
            [
             0.2222222222222222,
             "#7201a8"
            ],
            [
             0.3333333333333333,
             "#9c179e"
            ],
            [
             0.4444444444444444,
             "#bd3786"
            ],
            [
             0.5555555555555556,
             "#d8576b"
            ],
            [
             0.6666666666666666,
             "#ed7953"
            ],
            [
             0.7777777777777778,
             "#fb9f3a"
            ],
            [
             0.8888888888888888,
             "#fdca26"
            ],
            [
             1,
             "#f0f921"
            ]
           ]
          },
          "colorway": [
           "#636efa",
           "#EF553B",
           "#00cc96",
           "#ab63fa",
           "#FFA15A",
           "#19d3f3",
           "#FF6692",
           "#B6E880",
           "#FF97FF",
           "#FECB52"
          ],
          "font": {
           "color": "#2a3f5f"
          },
          "geo": {
           "bgcolor": "white",
           "lakecolor": "white",
           "landcolor": "#E5ECF6",
           "showlakes": true,
           "showland": true,
           "subunitcolor": "white"
          },
          "hoverlabel": {
           "align": "left"
          },
          "hovermode": "closest",
          "mapbox": {
           "style": "light"
          },
          "paper_bgcolor": "white",
          "plot_bgcolor": "#E5ECF6",
          "polar": {
           "angularaxis": {
            "gridcolor": "white",
            "linecolor": "white",
            "ticks": ""
           },
           "bgcolor": "#E5ECF6",
           "radialaxis": {
            "gridcolor": "white",
            "linecolor": "white",
            "ticks": ""
           }
          },
          "scene": {
           "xaxis": {
            "backgroundcolor": "#E5ECF6",
            "gridcolor": "white",
            "gridwidth": 2,
            "linecolor": "white",
            "showbackground": true,
            "ticks": "",
            "zerolinecolor": "white"
           },
           "yaxis": {
            "backgroundcolor": "#E5ECF6",
            "gridcolor": "white",
            "gridwidth": 2,
            "linecolor": "white",
            "showbackground": true,
            "ticks": "",
            "zerolinecolor": "white"
           },
           "zaxis": {
            "backgroundcolor": "#E5ECF6",
            "gridcolor": "white",
            "gridwidth": 2,
            "linecolor": "white",
            "showbackground": true,
            "ticks": "",
            "zerolinecolor": "white"
           }
          },
          "shapedefaults": {
           "line": {
            "color": "#2a3f5f"
           }
          },
          "ternary": {
           "aaxis": {
            "gridcolor": "white",
            "linecolor": "white",
            "ticks": ""
           },
           "baxis": {
            "gridcolor": "white",
            "linecolor": "white",
            "ticks": ""
           },
           "bgcolor": "#E5ECF6",
           "caxis": {
            "gridcolor": "white",
            "linecolor": "white",
            "ticks": ""
           }
          },
          "title": {
           "x": 0.05
          },
          "xaxis": {
           "automargin": true,
           "gridcolor": "white",
           "linecolor": "white",
           "ticks": "",
           "title": {
            "standoff": 15
           },
           "zerolinecolor": "white",
           "zerolinewidth": 2
          },
          "yaxis": {
           "automargin": true,
           "gridcolor": "white",
           "linecolor": "white",
           "ticks": "",
           "title": {
            "standoff": 15
           },
           "zerolinecolor": "white",
           "zerolinewidth": 2
          }
         }
        },
        "xaxis": {
         "anchor": "y",
         "domain": [
          0,
          1
         ],
         "title": {
          "text": "Year"
         }
        },
        "yaxis": {
         "anchor": "x",
         "domain": [
          0,
          1
         ],
         "title": {
          "text": "Amount (Per 100k)"
         }
        }
       }
      }
     },
     "metadata": {},
     "output_type": "display_data"
    }
   ],
   "source": [
    "# plotting intentional homicide in Austria over time\n",
    "crime_data = get_crime_data(\"Austria\", 'Intentional homicide')\n",
    "print(crime_data)\n",
    "px.scatter(data_frame=crime_data, x=\"Year\", y=\"Amount (Per 100k)\")\n"
   ]
  },
  {
   "cell_type": "markdown",
   "metadata": {},
   "source": [
    "Now, I'm going to add up all the crime per country, per year. Because each crime is in the per 100k units, i can simply add them up to get the total amount of crimes per 100k for a given country for a given year"
   ]
  },
  {
   "cell_type": "code",
   "execution_count": 12,
   "metadata": {},
   "outputs": [
    {
     "name": "stdout",
     "output_type": "stream",
     "text": [
      "     country  year   amount\n",
      "0    Austria  2008  3896.74\n",
      "1    Austria  2009  3906.74\n",
      "2    Austria  2010  3308.21\n",
      "3    Austria  2011  3197.13\n",
      "4    Austria  2012  3212.19\n",
      "..       ...   ...      ...\n",
      "400   Sweden  2018  9620.21\n",
      "401   Sweden  2019  9423.61\n",
      "402   Sweden  2020  9299.21\n",
      "403   Sweden  2021  8730.09\n",
      "404   Sweden  2022  8482.97\n",
      "\n",
      "[405 rows x 3 columns]\n"
     ]
    }
   ],
   "source": [
    "\n",
    "df_crime_100k = df_crime[ df_crime[\"Unit of measure\"] == \"Per hundred thousand inhabitants\" ]\n",
    "df_crime_100k_nona = df_crime_100k.dropna()\n",
    "\n",
    "\n",
    "country_lst = []\n",
    "year_lst = []\n",
    "amount = []\n",
    "for country in eu_countries:\n",
    "    df_country = get_crime_data(country)\n",
    "    min = df_country[\"Year\"].min()\n",
    "    max = df_country[\"Year\"].max()\n",
    "\n",
    "    df_crime_country = pd.DataFrame()\n",
    "    \n",
    "    for year in range(min, max + 1):\n",
    "        df_country_year = df_country[df_country[\"Year\"] == year]\n",
    "        sum = df_country_year[\"Amount (Per 100k)\"].sum()\n",
    "        country_lst.append(country)\n",
    "        year_lst.append(year)\n",
    "        amount.append(sum)\n",
    "    \n",
    "\n",
    "df_total_crime = pd.DataFrame({\"country\" : country_lst, \"year\" : year_lst, \"amount\" : amount})\n",
    "df_total_crime.loc[df_total_crime.country == \"Czechia\", \"country\"] = \"Czech Republic\"\n",
    "\n",
    "print(df_total_crime)\n",
    "\n",
    "\n",
    "#print(df_total_crime.corr() )\n",
    "px.scatter(df_total_crime, x=\"year\", y=\"amount\", color=\"country\")\n",
    "\n",
    "df_total_crime.to_csv(\"../Phase 3/Data/crime_training.csv\", index=False)"
   ]
  },
  {
   "cell_type": "markdown",
   "metadata": {},
   "source": [
    "# Time to Scale it!!"
   ]
  },
  {
   "cell_type": "code",
   "execution_count": 13,
   "metadata": {},
   "outputs": [
    {
     "data": {
      "application/vnd.plotly.v1+json": {
       "config": {
        "plotlyServerURL": "https://plot.ly"
       },
       "data": [
        {
         "hovertemplate": "country=Austria<br>year=%{x}<br>amount=%{y}<extra></extra>",
         "legendgroup": "Austria",
         "marker": {
          "color": "#636efa",
          "symbol": "circle"
         },
         "mode": "markers",
         "name": "Austria",
         "orientation": "v",
         "showlegend": true,
         "type": "scatter",
         "x": [
          2008,
          2009,
          2010,
          2011,
          2012,
          2013,
          2014,
          2015,
          2016,
          2017,
          2018,
          2019,
          2020,
          2021,
          2022
         ],
         "xaxis": "x",
         "y": [
          0.6507096738136108,
          0.6558527841619166,
          0.34802220048479,
          0.29089253073581306,
          0.29863805492036083,
          0.5477394615301873,
          0.48450491979777177,
          0.3939193172330678,
          0.7099788774674827,
          0.5160733311156707,
          0.3633538124330885,
          0.4213166660584911,
          0.21578254720916024,
          0.09220389176007691,
          0.4020917195765253
         ],
         "yaxis": "y"
        },
        {
         "hovertemplate": "country=Belgium<br>year=%{x}<br>amount=%{y}<extra></extra>",
         "legendgroup": "Belgium",
         "marker": {
          "color": "#EF553B",
          "symbol": "circle"
         },
         "mode": "markers",
         "name": "Belgium",
         "orientation": "v",
         "showlegend": true,
         "type": "scatter",
         "x": [
          2008,
          2009,
          2010,
          2011,
          2012,
          2013,
          2014,
          2015,
          2016,
          2017,
          2018,
          2019,
          2020,
          2021,
          2022
         ],
         "xaxis": "x",
         "y": [
          1.3655094362417992,
          1.408948146243587,
          1.2251796703882856,
          1.3313077524255679,
          1.2711539337917872,
          1.135252385948164,
          1.2077908143006642,
          1.278616586907179,
          1.4152021684271272,
          1.3541277330409995,
          1.3576250480778473,
          1.4374049758007605,
          0.9647634210121872,
          1.024248635300687,
          1.2510237998885196
         ],
         "yaxis": "y"
        },
        {
         "hovertemplate": "country=Bulgaria<br>year=%{x}<br>amount=%{y}<extra></extra>",
         "legendgroup": "Bulgaria",
         "marker": {
          "color": "#00cc96",
          "symbol": "circle"
         },
         "mode": "markers",
         "name": "Bulgaria",
         "orientation": "v",
         "showlegend": true,
         "type": "scatter",
         "x": [
          2008,
          2009,
          2010,
          2011,
          2012,
          2013,
          2014,
          2015,
          2016,
          2017,
          2018,
          2019,
          2020,
          2021,
          2022
         ],
         "xaxis": "x",
         "y": [
          -0.7743536277155608,
          -0.7160667581382152,
          -0.6674386497949871,
          -0.7437058331500088,
          -0.7868462427515948,
          -0.7715917774585208,
          -0.81970043165657,
          -0.8627945532650214,
          -0.9216625943117257,
          -0.871542983967489,
          -0.8580474624135355,
          -0.9087791028892204,
          -0.9738857367884192,
          -1.0098515074541192,
          -0.9599170490824217
         ],
         "yaxis": "y"
        },
        {
         "hovertemplate": "country=Croatia<br>year=%{x}<br>amount=%{y}<extra></extra>",
         "legendgroup": "Croatia",
         "marker": {
          "color": "#ab63fa",
          "symbol": "circle"
         },
         "mode": "markers",
         "name": "Croatia",
         "orientation": "v",
         "showlegend": true,
         "type": "scatter",
         "x": [
          2008,
          2009,
          2010,
          2011,
          2012,
          2013,
          2014,
          2015,
          2016,
          2017,
          2018,
          2019,
          2020,
          2021,
          2022
         ],
         "xaxis": "x",
         "y": [
          -0.7654251881509027,
          -0.7961038413785446,
          -0.7734021523011244,
          -0.7293668414989332,
          -0.7050913606549314,
          -0.8013601001545128,
          -0.8808571568082703,
          -0.8605264416014188,
          -0.7063925675730525,
          -0.7275616097666778,
          -0.7513793537896805,
          -0.7148118392132286,
          -0.8354434924327331,
          -0.8360812381159229,
          -0.7983359512697094
         ],
         "yaxis": "y"
        },
        {
         "hovertemplate": "country=Cyprus<br>year=%{x}<br>amount=%{y}<extra></extra>",
         "legendgroup": "Cyprus",
         "marker": {
          "color": "#FFA15A",
          "symbol": "circle"
         },
         "mode": "markers",
         "name": "Cyprus",
         "orientation": "v",
         "showlegend": true,
         "type": "scatter",
         "x": [
          2008,
          2009,
          2010,
          2011,
          2012,
          2013,
          2014,
          2015,
          2016,
          2017,
          2018,
          2019,
          2020,
          2021,
          2022
         ],
         "xaxis": "x",
         "y": [
          -0.7698431199400969,
          -0.8158379557849926,
          -0.8517677246782545,
          -0.7270730142835888,
          -0.7699716976988046,
          -0.8527654880858258,
          -0.9007455645251673,
          -0.9611051075728803,
          -0.9764470057418754,
          -0.9853754453065336,
          -1.1174505190510176,
          -1.1363565926913886,
          -1.162411589715904,
          -1.1493069445484216,
          -1.126327527512193
         ],
         "yaxis": "y"
        },
        {
         "hovertemplate": "country=Czech Republic<br>year=%{x}<br>amount=%{y}<extra></extra>",
         "legendgroup": "Czech Republic",
         "marker": {
          "color": "#19d3f3",
          "symbol": "circle"
         },
         "mode": "markers",
         "name": "Czech Republic",
         "orientation": "v",
         "showlegend": true,
         "type": "scatter",
         "x": [
          2008,
          2009,
          2010,
          2011,
          2012,
          2013,
          2014,
          2015,
          2016,
          2017,
          2018,
          2019,
          2020,
          2021,
          2022
         ],
         "xaxis": "x",
         "y": [
          -0.0889570271486345,
          0.04465069347964444,
          -0.03984032332231765,
          -0.0712081533366325,
          -0.14899255424440408,
          -0.011105765806334905,
          -0.2572138821934475,
          -0.4969856866314477,
          -0.6387246647203977,
          -0.6977315697465063,
          -0.758075683463174,
          -0.7532205872943737,
          -0.8571114163301439,
          -0.8871574669849445,
          -0.7966747266272066
         ],
         "yaxis": "y"
        },
        {
         "hovertemplate": "country=Denmark<br>year=%{x}<br>amount=%{y}<extra></extra>",
         "legendgroup": "Denmark",
         "marker": {
          "color": "#FF6692",
          "symbol": "circle"
         },
         "mode": "markers",
         "name": "Denmark",
         "orientation": "v",
         "showlegend": true,
         "type": "scatter",
         "x": [
          2008,
          2009,
          2010,
          2011,
          2012,
          2013,
          2014,
          2015,
          2016,
          2017,
          2018,
          2019,
          2020,
          2021,
          2022
         ],
         "xaxis": "x",
         "y": [
          3.159832631448258,
          3.3566131764847724,
          3.1246486135555003,
          3.0838997502658767,
          2.823920665269384,
          2.6858230093070343,
          2.3842978789169305,
          2.0043351726048195,
          2.356494224373991,
          2.2531588512558383,
          1.9857736873577847,
          1.8067317299125754,
          1.4454848021579494,
          1.1191081625648331,
          1.4477529138215526
         ],
         "yaxis": "y"
        },
        {
         "hovertemplate": "country=Estonia<br>year=%{x}<br>amount=%{y}<extra></extra>",
         "legendgroup": "Estonia",
         "marker": {
          "color": "#B6E880",
          "symbol": "circle"
         },
         "mode": "markers",
         "name": "Estonia",
         "orientation": "v",
         "showlegend": true,
         "type": "scatter",
         "x": [
          2008,
          2009,
          2010,
          2011,
          2012,
          2013,
          2014,
          2015,
          2016,
          2017,
          2018,
          2019,
          2020,
          2021,
          2022
         ],
         "xaxis": "x",
         "y": [
          0.07693914024630619,
          -0.026123648023386736,
          -0.06356034824870235,
          -0.24594532742031028,
          -0.2778686133522421,
          -0.3833743790373802,
          -0.4407920629658625,
          -0.5878335878239154,
          -0.600526784163533,
          -0.6560569465941872,
          -0.721657319086823,
          -0.7700231288022877,
          -0.7916961958100468,
          -0.7286210904984289,
          -0.7449607520749951
         ],
         "yaxis": "y"
        },
        {
         "hovertemplate": "country=Finland<br>year=%{x}<br>amount=%{y}<extra></extra>",
         "legendgroup": "Finland",
         "marker": {
          "color": "#FF97FF",
          "symbol": "circle"
         },
         "mode": "markers",
         "name": "Finland",
         "orientation": "v",
         "showlegend": true,
         "type": "scatter",
         "x": [
          2008,
          2009,
          2010,
          2011,
          2012,
          2013,
          2014,
          2015,
          2016,
          2017,
          2018,
          2019,
          2020,
          2021,
          2022
         ],
         "xaxis": "x",
         "y": [
          0.6768521037140476,
          0.6992966372740524,
          0.6557344926239054,
          0.7054889421334122,
          0.5142783856041122,
          0.47058766319525724,
          0.47148770750621066,
          0.4219492686313325,
          0.8246599520139974,
          0.6815014754689157,
          0.6814140425929942,
          0.8010222168531855,
          1.0514608321535721,
          0.8524996083293754,
          0.8844331804820036
         ],
         "yaxis": "y"
        },
        {
         "hovertemplate": "country=France<br>year=%{x}<br>amount=%{y}<extra></extra>",
         "legendgroup": "France",
         "marker": {
          "color": "#FECB52",
          "symbol": "circle"
         },
         "mode": "markers",
         "name": "France",
         "orientation": "v",
         "showlegend": true,
         "type": "scatter",
         "x": [
          2008,
          2009,
          2010,
          2011,
          2012,
          2013,
          2014,
          2015,
          2016,
          2017,
          2018,
          2019,
          2020,
          2021,
          2022
         ],
         "xaxis": "x",
         "y": [
          0.2544535939180687,
          0.6290520361368966,
          0.4713025555336716,
          0.4880485228277544,
          0.5172305309440394,
          0.7035757050838425,
          0.7052163572849517,
          0.6605741594616608,
          1.0768626541638524,
          0.7344343671736752,
          0.7327782856415211,
          0.777981082492778,
          0.49489400270134914,
          0.6479632528876158,
          0.8383251962094458
         ],
         "yaxis": "y"
        },
        {
         "hovertemplate": "country=Germany<br>year=%{x}<br>amount=%{y}<extra></extra>",
         "legendgroup": "Germany",
         "marker": {
          "color": "#636efa",
          "symbol": "circle"
         },
         "mode": "markers",
         "name": "Germany",
         "orientation": "v",
         "showlegend": true,
         "type": "scatter",
         "x": [
          2008,
          2009,
          2010,
          2011,
          2012,
          2013,
          2014,
          2015,
          2016,
          2017,
          2018,
          2019,
          2020,
          2021,
          2022
         ],
         "xaxis": "x",
         "y": [
          0.8776905628153757,
          0.1750079683677945,
          0.10345701720216907,
          0.18793774778343433,
          0.18819490330084962,
          0.20633979660967136,
          0.24099407413655355,
          0.27238247659226184,
          0.7999113050179516,
          0.6613919140070413,
          0.5454353480941466,
          0.49436940544582153,
          0.40898348744325486,
          0.31620691987017263,
          0.43780033472480995
         ],
         "yaxis": "y"
        },
        {
         "hovertemplate": "country=Greece<br>year=%{x}<br>amount=%{y}<extra></extra>",
         "legendgroup": "Greece",
         "marker": {
          "color": "#EF553B",
          "symbol": "circle"
         },
         "mode": "markers",
         "name": "Greece",
         "orientation": "v",
         "showlegend": true,
         "type": "scatter",
         "x": [
          2008,
          2009,
          2010,
          2011,
          2012,
          2013,
          2014,
          2015,
          2016,
          2017,
          2018,
          2019,
          2020,
          2021,
          2022
         ],
         "xaxis": "x",
         "y": [
          -0.6569929926775786,
          -0.5854266121809084,
          -0.46936718406104744,
          -0.20959896658883562,
          -0.4327688108225059,
          -0.5329771728488892,
          -0.6029286166961918,
          -0.5505614671297456,
          -0.5182215892596009,
          -0.4795196838886025,
          -0.6018331341920027,
          -0.5758809993744535,
          -0.7773314886072298,
          -0.7731192812319678,
          -0.6657414233800464
         ],
         "yaxis": "y"
        },
        {
         "hovertemplate": "country=Hungary<br>year=%{x}<br>amount=%{y}<extra></extra>",
         "legendgroup": "Hungary",
         "marker": {
          "color": "#00cc96",
          "symbol": "circle"
         },
         "mode": "markers",
         "name": "Hungary",
         "orientation": "v",
         "showlegend": true,
         "type": "scatter",
         "x": [
          2008,
          2009,
          2010,
          2011,
          2012,
          2013,
          2014,
          2015,
          2016,
          2017,
          2018,
          2019,
          2020,
          2021,
          2022
         ],
         "xaxis": "x",
         "y": [
          -0.22743013016641064,
          -0.27337353490782323,
          -0.02557847832646662,
          -0.034116041504653624,
          -0.004959748940109981,
          -0.22581519351704257,
          -0.3700382939042244,
          -0.3831377959613584,
          -0.5695858323081276,
          -0.6979218648293936,
          -0.8071255268549632,
          -0.8894204355381987,
          -0.9120809797328326,
          -0.908182502088817,
          -0.8884741032341105
         ],
         "yaxis": "y"
        },
        {
         "hovertemplate": "country=Ireland<br>year=%{x}<br>amount=%{y}<extra></extra>",
         "legendgroup": "Ireland",
         "marker": {
          "color": "#ab63fa",
          "symbol": "circle"
         },
         "mode": "markers",
         "name": "Ireland",
         "orientation": "v",
         "showlegend": true,
         "type": "scatter",
         "x": [
          2008,
          2009,
          2010,
          2011,
          2012,
          2013,
          2014,
          2015,
          2016,
          2017,
          2018,
          2019,
          2020,
          2021,
          2022
         ],
         "xaxis": "x",
         "y": [
          0.36089540568659867,
          0.34002980700352337,
          0.29124740534984617,
          0.2572308735061537,
          0.20911193308740791,
          0.18099454881322197,
          0.1835146728838917,
          0.057631903998767296,
          -0.104082914683001,
          -0.048665900680009734,
          -0.07103328758479027,
          -0.0325268204070274,
          -0.2899549226707599,
          -0.28286771661079535,
          -0.15897018832011692
         ],
         "yaxis": "y"
        },
        {
         "hovertemplate": "country=Italy<br>year=%{x}<br>amount=%{y}<extra></extra>",
         "legendgroup": "Italy",
         "marker": {
          "color": "#FFA15A",
          "symbol": "circle"
         },
         "mode": "markers",
         "name": "Italy",
         "orientation": "v",
         "showlegend": true,
         "type": "scatter",
         "x": [
          2008,
          2009,
          2010,
          2011,
          2012,
          2013,
          2014,
          2015,
          2016,
          2017,
          2018,
          2019,
          2020,
          2021,
          2022
         ],
         "xaxis": "x",
         "y": [
          0.20362423434576596,
          0.10603371548666998,
          -0.0818646779783213,
          0.04160082904309939,
          0.09571663612796927,
          0.2949761603523676,
          0.19810567694203443,
          0.0913707078836515,
          0.16323024567017497,
          0.09137070788365102,
          0.06226070331224244,
          0.002610909492595544,
          -0.26140037401696803,
          -0.07855765802436097,
          0.058207932357777215
         ],
         "yaxis": "y"
        },
        {
         "hovertemplate": "country=Latvia<br>year=%{x}<br>amount=%{y}<extra></extra>",
         "legendgroup": "Latvia",
         "marker": {
          "color": "#19d3f3",
          "symbol": "circle"
         },
         "mode": "markers",
         "name": "Latvia",
         "orientation": "v",
         "showlegend": true,
         "type": "scatter",
         "x": [
          2008,
          2009,
          2010,
          2011,
          2012,
          2013,
          2014,
          2015,
          2016,
          2017,
          2018,
          2019,
          2020,
          2021,
          2022
         ],
         "xaxis": "x",
         "y": [
          -0.4593124033301104,
          -0.3744716550244636,
          -0.526574000465249,
          -1.2462545746139795,
          -0.6201888950251049,
          -0.6530173683783386,
          -0.6309585680944564,
          -0.6455084272698126,
          -0.5368242193894219,
          -0.5955019653532386,
          -0.6147783429386875,
          -0.6611640551700544,
          -0.683953177123396,
          -0.837598455668673,
          -0.8116566070718203
         ],
         "yaxis": "y"
        },
        {
         "hovertemplate": "country=Lithuania<br>year=%{x}<br>amount=%{y}<extra></extra>",
         "legendgroup": "Lithuania",
         "marker": {
          "color": "#FF6692",
          "symbol": "circle"
         },
         "mode": "markers",
         "name": "Lithuania",
         "orientation": "v",
         "showlegend": true,
         "type": "scatter",
         "x": [
          2008,
          2009,
          2010,
          2011,
          2012,
          2013,
          2014,
          2015,
          2016,
          2017,
          2018,
          2019,
          2020,
          2021,
          2022
         ],
         "xaxis": "x",
         "y": [
          -0.634990766607528,
          -0.6271680957677555,
          -0.6987499055954707,
          -0.6884431124574666,
          -0.7544446475572704,
          -0.6411316403634046,
          -0.6349136199523034,
          -0.7378889753460752,
          -0.7196977940441188,
          -0.7637022461842203,
          -0.8600738478907679,
          -0.9139633581203123,
          -0.9629566272982701,
          -0.9997915836128338,
          -0.953879037533511
         ],
         "yaxis": "y"
        },
        {
         "hovertemplate": "country=Luxembourg<br>year=%{x}<br>amount=%{y}<extra></extra>",
         "legendgroup": "Luxembourg",
         "marker": {
          "color": "#B6E880",
          "symbol": "circle"
         },
         "mode": "markers",
         "name": "Luxembourg",
         "orientation": "v",
         "showlegend": true,
         "type": "scatter",
         "x": [
          2008,
          2009,
          2010,
          2011,
          2012,
          2013,
          2014,
          2015,
          2016,
          2017,
          2018,
          2019,
          2020,
          2021,
          2022
         ],
         "xaxis": "x",
         "y": [
          0.3275937661813206,
          0.5153944405496945,
          0.25609938922952685,
          0.6393433999438559,
          0.5469217069848066,
          0.9122522643559883,
          1.1399994767996502,
          0.5601703592420415,
          0.49738841122027727,
          0.14231321588361687,
          0.30627557378759457,
          0.4631404394109107,
          0.5122365707958351,
          0.6572157084042172,
          1.2865112612918277
         ],
         "yaxis": "y"
        },
        {
         "hovertemplate": "country=Malta<br>year=%{x}<br>amount=%{y}<extra></extra>",
         "legendgroup": "Malta",
         "marker": {
          "color": "#FF97FF",
          "symbol": "circle"
         },
         "mode": "markers",
         "name": "Malta",
         "orientation": "v",
         "showlegend": true,
         "type": "scatter",
         "x": [
          2008,
          2009,
          2010,
          2011,
          2012,
          2013,
          2014,
          2015,
          2016,
          2017,
          2018,
          2019,
          2020,
          2021,
          2022
         ],
         "xaxis": "x",
         "y": [
          -0.12436734189671773,
          -0.2964661003717148,
          -0.18635210781449504,
          -0.09871865058971827,
          -0.07708672846474532,
          -0.12942301936910197,
          -0.1895356931200959,
          -0.17978949901005717,
          -0.10879914687239714,
          -0.12377074109631414,
          -0.313998963549088,
          -0.38589450310804996,
          -0.64078190885972,
          -0.4300326761172071,
          -0.539370059011833
         ],
         "yaxis": "y"
        },
        {
         "hovertemplate": "country=Netherlands<br>year=%{x}<br>amount=%{y}<extra></extra>",
         "legendgroup": "Netherlands",
         "marker": {
          "color": "#FECB52",
          "symbol": "circle"
         },
         "mode": "markers",
         "name": "Netherlands",
         "orientation": "v",
         "showlegend": true,
         "type": "scatter",
         "x": [
          2008,
          2009,
          2010,
          2011,
          2012,
          2013,
          2014,
          2015,
          2016,
          2017,
          2018,
          2019,
          2020,
          2021,
          2022
         ],
         "xaxis": "x",
         "y": [
          2.5000332910848484,
          2.4787613866842557,
          0.7438411160007263,
          0.7854180200564272,
          0.7637140943865783,
          0.7397574863841715,
          0.5299648721664436,
          0.3820490185491788,
          0.41277395976995596,
          0.016132146598290795,
          -0.11953796127965874,
          -0.13094538003220038,
          -0.3008891752712574,
          -0.44818271253637737,
          -0.2929122111210353
         ],
         "yaxis": "y"
        },
        {
         "hovertemplate": "country=Poland<br>year=%{x}<br>amount=%{y}<extra></extra>",
         "legendgroup": "Poland",
         "marker": {
          "color": "#636efa",
          "symbol": "circle"
         },
         "mode": "markers",
         "name": "Poland",
         "orientation": "v",
         "showlegend": true,
         "type": "scatter",
         "x": [
          2008,
          2009,
          2010,
          2011,
          2012,
          2013,
          2014,
          2015,
          2016,
          2017,
          2018,
          2019,
          2020,
          2021,
          2022
         ],
         "xaxis": "x",
         "y": [
          -0.7355334308065512,
          -0.6986676158298979,
          -0.691076384955799,
          -0.6600994313279552,
          -0.6685752771819625,
          -0.7080332197741621,
          -0.8178180532690903,
          -0.8887981191860538,
          -0.7652914672818466,
          -0.7525056949559593,
          -0.7775269268004652,
          -0.7104144798654275,
          -0.7378118286908507,
          -0.6735075200059876,
          -0.6936787987920415
         ],
         "yaxis": "y"
        },
        {
         "hovertemplate": "country=Portugal<br>year=%{x}<br>amount=%{y}<extra></extra>",
         "legendgroup": "Portugal",
         "marker": {
          "color": "#EF553B",
          "symbol": "circle"
         },
         "mode": "markers",
         "name": "Portugal",
         "orientation": "v",
         "showlegend": true,
         "type": "scatter",
         "x": [
          2008,
          2009,
          2010,
          2011,
          2012,
          2013,
          2014,
          2015,
          2016,
          2017,
          2018,
          2019,
          2020,
          2021,
          2022
         ],
         "xaxis": "x",
         "y": [
          -0.05658114750605176,
          -0.13450441239322758,
          -0.2659365973441735,
          -0.2410285139273303,
          -0.3005188713261794,
          -0.38748886731602455,
          -0.4423915702841853,
          -0.4481209952121976,
          -0.42431868052023985,
          -0.4426692982429939,
          -0.45063083306217083,
          -0.4532023882363235,
          -0.5526392837104611,
          -0.5667519785062113,
          -0.470874115393101
         ],
         "yaxis": "y"
        },
        {
         "hovertemplate": "country=Romania<br>year=%{x}<br>amount=%{y}<extra></extra>",
         "legendgroup": "Romania",
         "marker": {
          "color": "#00cc96",
          "symbol": "circle"
         },
         "mode": "markers",
         "name": "Romania",
         "orientation": "v",
         "showlegend": true,
         "type": "scatter",
         "x": [
          2008,
          2009,
          2010,
          2011,
          2012,
          2013,
          2014,
          2015,
          2016,
          2017,
          2018,
          2019,
          2020,
          2021,
          2022
         ],
         "xaxis": "x",
         "y": [
          -1.142528325109355,
          -1.1160361637052338,
          -1.1075654609615746,
          -1.1045515982974676,
          -1.044012046387564,
          -1.0380254659421366,
          -0.6785477681473269,
          -0.9124204250158208,
          -0.9579626671500655,
          -0.8972225339365781,
          -0.8667444620125201,
          -0.9436339617196866,
          -0.9730936977947802,
          -0.9552933928792949,
          -0.9630080584017532
         ],
         "yaxis": "y"
        },
        {
         "hovertemplate": "country=Slovakia<br>year=%{x}<br>amount=%{y}<extra></extra>",
         "legendgroup": "Slovakia",
         "marker": {
          "color": "#ab63fa",
          "symbol": "circle"
         },
         "mode": "markers",
         "name": "Slovakia",
         "orientation": "v",
         "showlegend": true,
         "type": "scatter",
         "x": [
          2008,
          2009,
          2010,
          2011,
          2012,
          2013,
          2014,
          2015,
          2016,
          2017,
          2018,
          2019,
          2020,
          2021,
          2022
         ],
         "xaxis": "x",
         "y": [
          -0.7792755843188892,
          -0.8004240540711212,
          -0.7056313872415034,
          -0.778262391580273,
          -0.8168820071856987,
          -0.8162339752818123,
          -0.8826469592094804,
          -0.9744463358163846,
          -0.9793117182058816,
          -0.9989326841846666,
          -1.0468304708584357,
          -1.0880473571897555,
          -1.1046956053872201,
          -1.1305088762253652,
          -1.1130840183653063
         ],
         "yaxis": "y"
        },
        {
         "hovertemplate": "country=Slovenia<br>year=%{x}<br>amount=%{y}<extra></extra>",
         "legendgroup": "Slovenia",
         "marker": {
          "color": "#FFA15A",
          "symbol": "circle"
         },
         "mode": "markers",
         "name": "Slovenia",
         "orientation": "v",
         "showlegend": true,
         "type": "scatter",
         "x": [
          2008,
          2009,
          2010,
          2011,
          2012,
          2013,
          2014,
          2015,
          2016,
          2017,
          2018,
          2019,
          2020,
          2021,
          2022
         ],
         "xaxis": "x",
         "y": [
          -0.08987764390098116,
          -0.07565694378791676,
          -0.12921215184482127,
          -0.0944858707730631,
          0.00424127547300841,
          0.0864796099424129,
          -0.09077254510158643,
          -0.36929768601406826,
          -0.24234515017649624,
          -0.3398636654907162,
          -0.42873146919908606,
          -0.24299832519073147,
          -0.3009097477126507,
          -0.5881421744448138,
          -0.4665950475833107
         ],
         "yaxis": "y"
        },
        {
         "hovertemplate": "country=Spain<br>year=%{x}<br>amount=%{y}<extra></extra>",
         "legendgroup": "Spain",
         "marker": {
          "color": "#19d3f3",
          "symbol": "circle"
         },
         "mode": "markers",
         "name": "Spain",
         "orientation": "v",
         "showlegend": true,
         "type": "scatter",
         "x": [
          2008,
          2009,
          2010,
          2011,
          2012,
          2013,
          2014,
          2015,
          2016,
          2017,
          2018,
          2019,
          2020,
          2021,
          2022
         ],
         "xaxis": "x",
         "y": [
          -0.5027048253387635,
          -0.529958167074434,
          -0.6304596863906708,
          -0.6463107524841484,
          -0.5786377065211451,
          -0.5977752201271898,
          -0.647786825154112,
          -0.6102781213839202,
          -0.4651035455823022,
          -0.4522817714839767,
          -0.3653734928183114,
          -0.3277516406204567,
          -0.47999799315099495,
          -0.4349392033894907,
          -0.22952337607817105
         ],
         "yaxis": "y"
        },
        {
         "hovertemplate": "country=Sweden<br>year=%{x}<br>amount=%{y}<extra></extra>",
         "legendgroup": "Sweden",
         "marker": {
          "color": "#FF6692",
          "symbol": "circle"
         },
         "mode": "markers",
         "name": "Sweden",
         "orientation": "v",
         "showlegend": true,
         "type": "scatter",
         "x": [
          2008,
          2009,
          2010,
          2011,
          2012,
          2013,
          2014,
          2015,
          2016,
          2017,
          2018,
          2019,
          2020,
          2021,
          2022
         ],
         "xaxis": "x",
         "y": [
          2.7703551709917824,
          2.7016586460694665,
          2.545503529674216,
          2.618653988158164,
          2.4978989002903016,
          2.4517497711349563,
          2.3443101959588546,
          2.3370532672573963,
          3.4823365089490994,
          3.6012863650847082,
          3.594353452335192,
          3.4932399028875065,
          3.429259610154586,
          3.1365549140118274,
          3.0094583710845026
         ],
         "yaxis": "y"
        }
       ],
       "layout": {
        "legend": {
         "title": {
          "text": "country"
         },
         "tracegroupgap": 0
        },
        "margin": {
         "t": 60
        },
        "template": {
         "data": {
          "bar": [
           {
            "error_x": {
             "color": "#2a3f5f"
            },
            "error_y": {
             "color": "#2a3f5f"
            },
            "marker": {
             "line": {
              "color": "#E5ECF6",
              "width": 0.5
             },
             "pattern": {
              "fillmode": "overlay",
              "size": 10,
              "solidity": 0.2
             }
            },
            "type": "bar"
           }
          ],
          "barpolar": [
           {
            "marker": {
             "line": {
              "color": "#E5ECF6",
              "width": 0.5
             },
             "pattern": {
              "fillmode": "overlay",
              "size": 10,
              "solidity": 0.2
             }
            },
            "type": "barpolar"
           }
          ],
          "carpet": [
           {
            "aaxis": {
             "endlinecolor": "#2a3f5f",
             "gridcolor": "white",
             "linecolor": "white",
             "minorgridcolor": "white",
             "startlinecolor": "#2a3f5f"
            },
            "baxis": {
             "endlinecolor": "#2a3f5f",
             "gridcolor": "white",
             "linecolor": "white",
             "minorgridcolor": "white",
             "startlinecolor": "#2a3f5f"
            },
            "type": "carpet"
           }
          ],
          "choropleth": [
           {
            "colorbar": {
             "outlinewidth": 0,
             "ticks": ""
            },
            "type": "choropleth"
           }
          ],
          "contour": [
           {
            "colorbar": {
             "outlinewidth": 0,
             "ticks": ""
            },
            "colorscale": [
             [
              0,
              "#0d0887"
             ],
             [
              0.1111111111111111,
              "#46039f"
             ],
             [
              0.2222222222222222,
              "#7201a8"
             ],
             [
              0.3333333333333333,
              "#9c179e"
             ],
             [
              0.4444444444444444,
              "#bd3786"
             ],
             [
              0.5555555555555556,
              "#d8576b"
             ],
             [
              0.6666666666666666,
              "#ed7953"
             ],
             [
              0.7777777777777778,
              "#fb9f3a"
             ],
             [
              0.8888888888888888,
              "#fdca26"
             ],
             [
              1,
              "#f0f921"
             ]
            ],
            "type": "contour"
           }
          ],
          "contourcarpet": [
           {
            "colorbar": {
             "outlinewidth": 0,
             "ticks": ""
            },
            "type": "contourcarpet"
           }
          ],
          "heatmap": [
           {
            "colorbar": {
             "outlinewidth": 0,
             "ticks": ""
            },
            "colorscale": [
             [
              0,
              "#0d0887"
             ],
             [
              0.1111111111111111,
              "#46039f"
             ],
             [
              0.2222222222222222,
              "#7201a8"
             ],
             [
              0.3333333333333333,
              "#9c179e"
             ],
             [
              0.4444444444444444,
              "#bd3786"
             ],
             [
              0.5555555555555556,
              "#d8576b"
             ],
             [
              0.6666666666666666,
              "#ed7953"
             ],
             [
              0.7777777777777778,
              "#fb9f3a"
             ],
             [
              0.8888888888888888,
              "#fdca26"
             ],
             [
              1,
              "#f0f921"
             ]
            ],
            "type": "heatmap"
           }
          ],
          "heatmapgl": [
           {
            "colorbar": {
             "outlinewidth": 0,
             "ticks": ""
            },
            "colorscale": [
             [
              0,
              "#0d0887"
             ],
             [
              0.1111111111111111,
              "#46039f"
             ],
             [
              0.2222222222222222,
              "#7201a8"
             ],
             [
              0.3333333333333333,
              "#9c179e"
             ],
             [
              0.4444444444444444,
              "#bd3786"
             ],
             [
              0.5555555555555556,
              "#d8576b"
             ],
             [
              0.6666666666666666,
              "#ed7953"
             ],
             [
              0.7777777777777778,
              "#fb9f3a"
             ],
             [
              0.8888888888888888,
              "#fdca26"
             ],
             [
              1,
              "#f0f921"
             ]
            ],
            "type": "heatmapgl"
           }
          ],
          "histogram": [
           {
            "marker": {
             "pattern": {
              "fillmode": "overlay",
              "size": 10,
              "solidity": 0.2
             }
            },
            "type": "histogram"
           }
          ],
          "histogram2d": [
           {
            "colorbar": {
             "outlinewidth": 0,
             "ticks": ""
            },
            "colorscale": [
             [
              0,
              "#0d0887"
             ],
             [
              0.1111111111111111,
              "#46039f"
             ],
             [
              0.2222222222222222,
              "#7201a8"
             ],
             [
              0.3333333333333333,
              "#9c179e"
             ],
             [
              0.4444444444444444,
              "#bd3786"
             ],
             [
              0.5555555555555556,
              "#d8576b"
             ],
             [
              0.6666666666666666,
              "#ed7953"
             ],
             [
              0.7777777777777778,
              "#fb9f3a"
             ],
             [
              0.8888888888888888,
              "#fdca26"
             ],
             [
              1,
              "#f0f921"
             ]
            ],
            "type": "histogram2d"
           }
          ],
          "histogram2dcontour": [
           {
            "colorbar": {
             "outlinewidth": 0,
             "ticks": ""
            },
            "colorscale": [
             [
              0,
              "#0d0887"
             ],
             [
              0.1111111111111111,
              "#46039f"
             ],
             [
              0.2222222222222222,
              "#7201a8"
             ],
             [
              0.3333333333333333,
              "#9c179e"
             ],
             [
              0.4444444444444444,
              "#bd3786"
             ],
             [
              0.5555555555555556,
              "#d8576b"
             ],
             [
              0.6666666666666666,
              "#ed7953"
             ],
             [
              0.7777777777777778,
              "#fb9f3a"
             ],
             [
              0.8888888888888888,
              "#fdca26"
             ],
             [
              1,
              "#f0f921"
             ]
            ],
            "type": "histogram2dcontour"
           }
          ],
          "mesh3d": [
           {
            "colorbar": {
             "outlinewidth": 0,
             "ticks": ""
            },
            "type": "mesh3d"
           }
          ],
          "parcoords": [
           {
            "line": {
             "colorbar": {
              "outlinewidth": 0,
              "ticks": ""
             }
            },
            "type": "parcoords"
           }
          ],
          "pie": [
           {
            "automargin": true,
            "type": "pie"
           }
          ],
          "scatter": [
           {
            "fillpattern": {
             "fillmode": "overlay",
             "size": 10,
             "solidity": 0.2
            },
            "type": "scatter"
           }
          ],
          "scatter3d": [
           {
            "line": {
             "colorbar": {
              "outlinewidth": 0,
              "ticks": ""
             }
            },
            "marker": {
             "colorbar": {
              "outlinewidth": 0,
              "ticks": ""
             }
            },
            "type": "scatter3d"
           }
          ],
          "scattercarpet": [
           {
            "marker": {
             "colorbar": {
              "outlinewidth": 0,
              "ticks": ""
             }
            },
            "type": "scattercarpet"
           }
          ],
          "scattergeo": [
           {
            "marker": {
             "colorbar": {
              "outlinewidth": 0,
              "ticks": ""
             }
            },
            "type": "scattergeo"
           }
          ],
          "scattergl": [
           {
            "marker": {
             "colorbar": {
              "outlinewidth": 0,
              "ticks": ""
             }
            },
            "type": "scattergl"
           }
          ],
          "scattermapbox": [
           {
            "marker": {
             "colorbar": {
              "outlinewidth": 0,
              "ticks": ""
             }
            },
            "type": "scattermapbox"
           }
          ],
          "scatterpolar": [
           {
            "marker": {
             "colorbar": {
              "outlinewidth": 0,
              "ticks": ""
             }
            },
            "type": "scatterpolar"
           }
          ],
          "scatterpolargl": [
           {
            "marker": {
             "colorbar": {
              "outlinewidth": 0,
              "ticks": ""
             }
            },
            "type": "scatterpolargl"
           }
          ],
          "scatterternary": [
           {
            "marker": {
             "colorbar": {
              "outlinewidth": 0,
              "ticks": ""
             }
            },
            "type": "scatterternary"
           }
          ],
          "surface": [
           {
            "colorbar": {
             "outlinewidth": 0,
             "ticks": ""
            },
            "colorscale": [
             [
              0,
              "#0d0887"
             ],
             [
              0.1111111111111111,
              "#46039f"
             ],
             [
              0.2222222222222222,
              "#7201a8"
             ],
             [
              0.3333333333333333,
              "#9c179e"
             ],
             [
              0.4444444444444444,
              "#bd3786"
             ],
             [
              0.5555555555555556,
              "#d8576b"
             ],
             [
              0.6666666666666666,
              "#ed7953"
             ],
             [
              0.7777777777777778,
              "#fb9f3a"
             ],
             [
              0.8888888888888888,
              "#fdca26"
             ],
             [
              1,
              "#f0f921"
             ]
            ],
            "type": "surface"
           }
          ],
          "table": [
           {
            "cells": {
             "fill": {
              "color": "#EBF0F8"
             },
             "line": {
              "color": "white"
             }
            },
            "header": {
             "fill": {
              "color": "#C8D4E3"
             },
             "line": {
              "color": "white"
             }
            },
            "type": "table"
           }
          ]
         },
         "layout": {
          "annotationdefaults": {
           "arrowcolor": "#2a3f5f",
           "arrowhead": 0,
           "arrowwidth": 1
          },
          "autotypenumbers": "strict",
          "coloraxis": {
           "colorbar": {
            "outlinewidth": 0,
            "ticks": ""
           }
          },
          "colorscale": {
           "diverging": [
            [
             0,
             "#8e0152"
            ],
            [
             0.1,
             "#c51b7d"
            ],
            [
             0.2,
             "#de77ae"
            ],
            [
             0.3,
             "#f1b6da"
            ],
            [
             0.4,
             "#fde0ef"
            ],
            [
             0.5,
             "#f7f7f7"
            ],
            [
             0.6,
             "#e6f5d0"
            ],
            [
             0.7,
             "#b8e186"
            ],
            [
             0.8,
             "#7fbc41"
            ],
            [
             0.9,
             "#4d9221"
            ],
            [
             1,
             "#276419"
            ]
           ],
           "sequential": [
            [
             0,
             "#0d0887"
            ],
            [
             0.1111111111111111,
             "#46039f"
            ],
            [
             0.2222222222222222,
             "#7201a8"
            ],
            [
             0.3333333333333333,
             "#9c179e"
            ],
            [
             0.4444444444444444,
             "#bd3786"
            ],
            [
             0.5555555555555556,
             "#d8576b"
            ],
            [
             0.6666666666666666,
             "#ed7953"
            ],
            [
             0.7777777777777778,
             "#fb9f3a"
            ],
            [
             0.8888888888888888,
             "#fdca26"
            ],
            [
             1,
             "#f0f921"
            ]
           ],
           "sequentialminus": [
            [
             0,
             "#0d0887"
            ],
            [
             0.1111111111111111,
             "#46039f"
            ],
            [
             0.2222222222222222,
             "#7201a8"
            ],
            [
             0.3333333333333333,
             "#9c179e"
            ],
            [
             0.4444444444444444,
             "#bd3786"
            ],
            [
             0.5555555555555556,
             "#d8576b"
            ],
            [
             0.6666666666666666,
             "#ed7953"
            ],
            [
             0.7777777777777778,
             "#fb9f3a"
            ],
            [
             0.8888888888888888,
             "#fdca26"
            ],
            [
             1,
             "#f0f921"
            ]
           ]
          },
          "colorway": [
           "#636efa",
           "#EF553B",
           "#00cc96",
           "#ab63fa",
           "#FFA15A",
           "#19d3f3",
           "#FF6692",
           "#B6E880",
           "#FF97FF",
           "#FECB52"
          ],
          "font": {
           "color": "#2a3f5f"
          },
          "geo": {
           "bgcolor": "white",
           "lakecolor": "white",
           "landcolor": "#E5ECF6",
           "showlakes": true,
           "showland": true,
           "subunitcolor": "white"
          },
          "hoverlabel": {
           "align": "left"
          },
          "hovermode": "closest",
          "mapbox": {
           "style": "light"
          },
          "paper_bgcolor": "white",
          "plot_bgcolor": "#E5ECF6",
          "polar": {
           "angularaxis": {
            "gridcolor": "white",
            "linecolor": "white",
            "ticks": ""
           },
           "bgcolor": "#E5ECF6",
           "radialaxis": {
            "gridcolor": "white",
            "linecolor": "white",
            "ticks": ""
           }
          },
          "scene": {
           "xaxis": {
            "backgroundcolor": "#E5ECF6",
            "gridcolor": "white",
            "gridwidth": 2,
            "linecolor": "white",
            "showbackground": true,
            "ticks": "",
            "zerolinecolor": "white"
           },
           "yaxis": {
            "backgroundcolor": "#E5ECF6",
            "gridcolor": "white",
            "gridwidth": 2,
            "linecolor": "white",
            "showbackground": true,
            "ticks": "",
            "zerolinecolor": "white"
           },
           "zaxis": {
            "backgroundcolor": "#E5ECF6",
            "gridcolor": "white",
            "gridwidth": 2,
            "linecolor": "white",
            "showbackground": true,
            "ticks": "",
            "zerolinecolor": "white"
           }
          },
          "shapedefaults": {
           "line": {
            "color": "#2a3f5f"
           }
          },
          "ternary": {
           "aaxis": {
            "gridcolor": "white",
            "linecolor": "white",
            "ticks": ""
           },
           "baxis": {
            "gridcolor": "white",
            "linecolor": "white",
            "ticks": ""
           },
           "bgcolor": "#E5ECF6",
           "caxis": {
            "gridcolor": "white",
            "linecolor": "white",
            "ticks": ""
           }
          },
          "title": {
           "x": 0.05
          },
          "xaxis": {
           "automargin": true,
           "gridcolor": "white",
           "linecolor": "white",
           "ticks": "",
           "title": {
            "standoff": 15
           },
           "zerolinecolor": "white",
           "zerolinewidth": 2
          },
          "yaxis": {
           "automargin": true,
           "gridcolor": "white",
           "linecolor": "white",
           "ticks": "",
           "title": {
            "standoff": 15
           },
           "zerolinecolor": "white",
           "zerolinewidth": 2
          }
         }
        },
        "xaxis": {
         "anchor": "y",
         "domain": [
          0,
          1
         ],
         "title": {
          "text": "year"
         }
        },
        "yaxis": {
         "anchor": "x",
         "domain": [
          0,
          1
         ],
         "title": {
          "text": "amount"
         }
        }
       }
      }
     },
     "metadata": {},
     "output_type": "display_data"
    }
   ],
   "source": [
    "# Manually scaling datapoints\n",
    "mean = df_total_crime.describe()[\"amount\"][\"mean\"]\n",
    "\n",
    "std = df_total_crime.describe()[\"amount\"][\"std\"]\n",
    "\n",
    "\n",
    "\n",
    "\n",
    "df_total_crime_scaled = pd.DataFrame()\n",
    "\n",
    "df_total_crime_scaled[\"country\"] = df_total_crime[\"country\"]\n",
    "df_total_crime_scaled[\"year\"] = df_total_crime[\"year\"]\n",
    "\n",
    "df_total_crime_scaled[\"amount\"] = (df_total_crime[\"amount\"] - mean) / std\n",
    "\n",
    "df_total_crime_scaled.loc[df_total_crime_scaled.country == \"Czechia\", \"country\"] = \"Czech Republic\"\n",
    "\n",
    "\n",
    "\n",
    "px.scatter(df_total_crime_scaled, x=\"year\", y=\"amount\", color=\"country\")"
   ]
  },
  {
   "cell_type": "code",
   "execution_count": 14,
   "metadata": {},
   "outputs": [
    {
     "data": {
      "text/plain": [
       "array([[2.00800000e+03, 6.50709674e-01, 0.00000000e+00, ...,\n",
       "        0.00000000e+00, 0.00000000e+00, 0.00000000e+00],\n",
       "       [2.00900000e+03, 6.55852784e-01, 0.00000000e+00, ...,\n",
       "        0.00000000e+00, 0.00000000e+00, 0.00000000e+00],\n",
       "       [2.01000000e+03, 3.48022200e-01, 0.00000000e+00, ...,\n",
       "        0.00000000e+00, 0.00000000e+00, 0.00000000e+00],\n",
       "       ...,\n",
       "       [2.02000000e+03, 3.42925961e+00, 0.00000000e+00, ...,\n",
       "        0.00000000e+00, 0.00000000e+00, 1.00000000e+00],\n",
       "       [2.02100000e+03, 3.13655491e+00, 0.00000000e+00, ...,\n",
       "        0.00000000e+00, 0.00000000e+00, 1.00000000e+00],\n",
       "       [2.02200000e+03, 3.00945837e+00, 0.00000000e+00, ...,\n",
       "        0.00000000e+00, 0.00000000e+00, 1.00000000e+00]])"
      ]
     },
     "execution_count": 14,
     "metadata": {},
     "output_type": "execute_result"
    }
   ],
   "source": [
    "# one hot encoding\n",
    "df_total_crime_dummies = df_total_crime_scaled.join(pd.get_dummies(df_total_crime_scaled[\"country\"], drop_first=True, dtype='int'))\n",
    "crime_arr = np.array(df_total_crime_dummies.drop(columns=[\"country\"]))\n",
    "crime_arr\n"
   ]
  },
  {
   "cell_type": "code",
   "execution_count": 15,
   "metadata": {},
   "outputs": [],
   "source": [
    "def add_bias_column(X):\n",
    "    \"\"\"\n",
    "    Args:\n",
    "        X (array): can be either 1-d or 2-d\n",
    "    \n",
    "    Returns:\n",
    "        Xnew (array): the same array, but 2-d with a column of 1's in the first spot\n",
    "    \"\"\"\n",
    "    \n",
    "    # If the array is 1-d\n",
    "    if len(X.shape) == 1:\n",
    "        Xnew = np.column_stack([np.ones(X.shape[0]), X])\n",
    "    \n",
    "    # If the array is 2-d\n",
    "    elif len(X.shape) == 2:\n",
    "        bias_col = np.ones((X.shape[0], 1))\n",
    "        Xnew = np.hstack([bias_col, X])\n",
    "        \n",
    "    else:\n",
    "        raise ValueError(\"Input array must be either 1-d or 2-d\")\n",
    "\n",
    "    return Xnew\n",
    "\n",
    "def line_of_best_fit(X, y):\n",
    "    X = add_bias_column(X)\n",
    "    return np.matmul(np.linalg.inv(np.matmul(X.T, X)), np.matmul(X.T, y))\n",
    "\n"
   ]
  },
  {
   "cell_type": "code",
   "execution_count": 16,
   "metadata": {},
   "outputs": [
    {
     "data": {
      "text/plain": [
       "array([[ 5.14926407e+01],\n",
       "       [-2.53432103e-02],\n",
       "       [ 8.42471648e-01],\n",
       "       [-1.26915094e+00],\n",
       "       [-1.20488126e+00],\n",
       "       [-1.37959101e+00],\n",
       "       [-8.56628574e-01],\n",
       "       [ 1.90978637e+00],\n",
       "       [-8.90212055e-01],\n",
       "       [ 2.66772448e-01],\n",
       "       [ 2.22774168e-01],\n",
       "       [-3.16651018e-02],\n",
       "       [-9.88223281e-01],\n",
       "       [-9.07221350e-01],\n",
       "       [-3.66568333e-01],\n",
       "       [-3.60252936e-01],\n",
       "       [-1.08592283e+00],\n",
       "       [-1.19885834e+00],\n",
       "       [ 1.58118413e-01],\n",
       "       [-6.81031129e-01],\n",
       "       [ 1.11259878e-01],\n",
       "       [-1.15802787e+00],\n",
       "       [-8.01915823e-01],\n",
       "       [-1.40611505e+00],\n",
       "       [-1.36041955e+00],\n",
       "       [-6.50616488e-01],\n",
       "       [-9.25997474e-01],\n",
       "       [ 2.50817285e+00]])"
      ]
     },
     "execution_count": 16,
     "metadata": {},
     "output_type": "execute_result"
    }
   ],
   "source": [
    "X_left = crime_arr[:, 0:1]\n",
    "X_right = crime_arr[:, 2:]\n",
    "\n",
    "X = np.hstack((X_left, X_right))\n",
    "\n",
    "y = crime_arr[:, 1:2]\n",
    "\n",
    "#regression line for all crime data\n",
    "regression = line_of_best_fit(X, y)\n",
    "\n",
    "#test add\n",
    "np.dot(add_bias_column(X)[0, :], regression)\n",
    "regression\n"
   ]
  },
  {
   "cell_type": "code",
   "execution_count": 17,
   "metadata": {},
   "outputs": [],
   "source": [
    "#add regression to csv for DB\n",
    "regression_db_dict = {\"intercept\" : regression[0], \"slope\" : regression[1]}\n",
    "country_keys = pd.get_dummies(df_total_crime_scaled[\"country\"], drop_first=True, dtype='int').keys()\n",
    "\n",
    "for index in range(len(country_keys)):\n",
    "    regression_db_dict[country_keys[index]] = regression[index + 2]\n",
    "\n",
    "regression_db_dict[\"mean\"] = [df_total_crime[\"amount\"].mean()]\n",
    "regression_db_dict[\"std\"] = [df_total_crime[\"amount\"].std()]\n",
    "\n",
    "pd.DataFrame(regression_db_dict).to_csv(\"../Phase 3/Data/crime_inference.csv\")"
   ]
  },
  {
   "cell_type": "code",
   "execution_count": 18,
   "metadata": {},
   "outputs": [],
   "source": [
    "y_preds = np.matmul(add_bias_column(X), regression)\n",
    "resids = y - y_preds"
   ]
  },
  {
   "cell_type": "code",
   "execution_count": 19,
   "metadata": {},
   "outputs": [
    {
     "data": {
      "text/plain": [
       "<matplotlib.collections.PathCollection at 0x15fd681d0>"
      ]
     },
     "execution_count": 19,
     "metadata": {},
     "output_type": "execute_result"
    },
    {
     "data": {
      "image/png": "[encoded data removed]",
      "text/plain": [
       "<Figure size 640x480 with 1 Axes>"
      ]
     },
     "metadata": {},
     "output_type": "display_data"
    }
   ],
   "source": [
    "import matplotlib.pyplot as plt\n",
    "plt.scatter(y_preds, y)"
   ]
  },
  {
   "cell_type": "code",
   "execution_count": 20,
   "metadata": {},
   "outputs": [
    {
     "data": {
      "text/plain": [
       "7104.827707671648"
      ]
     },
     "execution_count": 20,
     "metadata": {},
     "output_type": "execute_result"
    }
   ],
   "source": [
    "def lin_reg_crime (country, year):\n",
    "    \"\"\"\n",
    "    following linear regression model, predicts the total amount of crimes per 100k people\n",
    "\n",
    "    Args:\n",
    "       - country (int) - which country wanted for prediction\n",
    "       - year (int) - which year we wanted for prediction\n",
    "\n",
    "    Returns:\n",
    "       - answer (int) - predicted value for crimes per 100k people\n",
    "    \n",
    "    \"\"\"\n",
    "    countries = df_total_crime_dummies.keys().to_list()[3:]\n",
    "\n",
    "    encoding = [0] * len(countries)\n",
    "\n",
    "    encoding[countries.index(country)] = 1\n",
    "\n",
    "    encoding.insert(0, year)\n",
    "    encoding.insert(0, 1)\n",
    "\n",
    "    scaled_answer = np.matmul(encoding, regression)[0]\n",
    "\n",
    "    answer = scaled_answer * std + mean\n",
    "\n",
    "    return answer\n",
    "\n",
    "lin_reg_crime(\"Sweden\", 2040) "
   ]
  },
  {
   "cell_type": "code",
   "execution_count": 21,
   "metadata": {},
   "outputs": [
    {
     "data": {
      "text/html": [
       "<div>\n",
       "<style scoped>\n",
       "    .dataframe tbody tr th:only-of-type {\n",
       "        vertical-align: middle;\n",
       "    }\n",
       "\n",
       "    .dataframe tbody tr th {\n",
       "        vertical-align: top;\n",
       "    }\n",
       "\n",
       "    .dataframe thead th {\n",
       "        text-align: right;\n",
       "    }\n",
       "</style>\n",
       "<table border=\"1\" class=\"dataframe\">\n",
       "  <thead>\n",
       "    <tr style=\"text-align: right;\">\n",
       "      <th></th>\n",
       "      <th>country</th>\n",
       "      <th>year</th>\n",
       "      <th>amount</th>\n",
       "      <th>Belgium</th>\n",
       "      <th>Bulgaria</th>\n",
       "      <th>Croatia</th>\n",
       "      <th>Cyprus</th>\n",
       "      <th>Czech Republic</th>\n",
       "      <th>Denmark</th>\n",
       "      <th>Estonia</th>\n",
       "      <th>...</th>\n",
       "      <th>Luxembourg</th>\n",
       "      <th>Malta</th>\n",
       "      <th>Netherlands</th>\n",
       "      <th>Poland</th>\n",
       "      <th>Portugal</th>\n",
       "      <th>Romania</th>\n",
       "      <th>Slovakia</th>\n",
       "      <th>Slovenia</th>\n",
       "      <th>Spain</th>\n",
       "      <th>Sweden</th>\n",
       "    </tr>\n",
       "  </thead>\n",
       "  <tbody>\n",
       "    <tr>\n",
       "      <th>0</th>\n",
       "      <td>Austria</td>\n",
       "      <td>2008</td>\n",
       "      <td>0.650710</td>\n",
       "      <td>0</td>\n",
       "      <td>0</td>\n",
       "      <td>0</td>\n",
       "      <td>0</td>\n",
       "      <td>0</td>\n",
       "      <td>0</td>\n",
       "      <td>0</td>\n",
       "      <td>...</td>\n",
       "      <td>0</td>\n",
       "      <td>0</td>\n",
       "      <td>0</td>\n",
       "      <td>0</td>\n",
       "      <td>0</td>\n",
       "      <td>0</td>\n",
       "      <td>0</td>\n",
       "      <td>0</td>\n",
       "      <td>0</td>\n",
       "      <td>0</td>\n",
       "    </tr>\n",
       "    <tr>\n",
       "      <th>1</th>\n",
       "      <td>Austria</td>\n",
       "      <td>2009</td>\n",
       "      <td>0.655853</td>\n",
       "      <td>0</td>\n",
       "      <td>0</td>\n",
       "      <td>0</td>\n",
       "      <td>0</td>\n",
       "      <td>0</td>\n",
       "      <td>0</td>\n",
       "      <td>0</td>\n",
       "      <td>...</td>\n",
       "      <td>0</td>\n",
       "      <td>0</td>\n",
       "      <td>0</td>\n",
       "      <td>0</td>\n",
       "      <td>0</td>\n",
       "      <td>0</td>\n",
       "      <td>0</td>\n",
       "      <td>0</td>\n",
       "      <td>0</td>\n",
       "      <td>0</td>\n",
       "    </tr>\n",
       "    <tr>\n",
       "      <th>2</th>\n",
       "      <td>Austria</td>\n",
       "      <td>2010</td>\n",
       "      <td>0.348022</td>\n",
       "      <td>0</td>\n",
       "      <td>0</td>\n",
       "      <td>0</td>\n",
       "      <td>0</td>\n",
       "      <td>0</td>\n",
       "      <td>0</td>\n",
       "      <td>0</td>\n",
       "      <td>...</td>\n",
       "      <td>0</td>\n",
       "      <td>0</td>\n",
       "      <td>0</td>\n",
       "      <td>0</td>\n",
       "      <td>0</td>\n",
       "      <td>0</td>\n",
       "      <td>0</td>\n",
       "      <td>0</td>\n",
       "      <td>0</td>\n",
       "      <td>0</td>\n",
       "    </tr>\n",
       "    <tr>\n",
       "      <th>3</th>\n",
       "      <td>Austria</td>\n",
       "      <td>2011</td>\n",
       "      <td>0.290893</td>\n",
       "      <td>0</td>\n",
       "      <td>0</td>\n",
       "      <td>0</td>\n",
       "      <td>0</td>\n",
       "      <td>0</td>\n",
       "      <td>0</td>\n",
       "      <td>0</td>\n",
       "      <td>...</td>\n",
       "      <td>0</td>\n",
       "      <td>0</td>\n",
       "      <td>0</td>\n",
       "      <td>0</td>\n",
       "      <td>0</td>\n",
       "      <td>0</td>\n",
       "      <td>0</td>\n",
       "      <td>0</td>\n",
       "      <td>0</td>\n",
       "      <td>0</td>\n",
       "    </tr>\n",
       "    <tr>\n",
       "      <th>4</th>\n",
       "      <td>Austria</td>\n",
       "      <td>2012</td>\n",
       "      <td>0.298638</td>\n",
       "      <td>0</td>\n",
       "      <td>0</td>\n",
       "      <td>0</td>\n",
       "      <td>0</td>\n",
       "      <td>0</td>\n",
       "      <td>0</td>\n",
       "      <td>0</td>\n",
       "      <td>...</td>\n",
       "      <td>0</td>\n",
       "      <td>0</td>\n",
       "      <td>0</td>\n",
       "      <td>0</td>\n",
       "      <td>0</td>\n",
       "      <td>0</td>\n",
       "      <td>0</td>\n",
       "      <td>0</td>\n",
       "      <td>0</td>\n",
       "      <td>0</td>\n",
       "    </tr>\n",
       "    <tr>\n",
       "      <th>...</th>\n",
       "      <td>...</td>\n",
       "      <td>...</td>\n",
       "      <td>...</td>\n",
       "      <td>...</td>\n",
       "      <td>...</td>\n",
       "      <td>...</td>\n",
       "      <td>...</td>\n",
       "      <td>...</td>\n",
       "      <td>...</td>\n",
       "      <td>...</td>\n",
       "      <td>...</td>\n",
       "      <td>...</td>\n",
       "      <td>...</td>\n",
       "      <td>...</td>\n",
       "      <td>...</td>\n",
       "      <td>...</td>\n",
       "      <td>...</td>\n",
       "      <td>...</td>\n",
       "      <td>...</td>\n",
       "      <td>...</td>\n",
       "      <td>...</td>\n",
       "    </tr>\n",
       "    <tr>\n",
       "      <th>400</th>\n",
       "      <td>Sweden</td>\n",
       "      <td>2018</td>\n",
       "      <td>3.594353</td>\n",
       "      <td>0</td>\n",
       "      <td>0</td>\n",
       "      <td>0</td>\n",
       "      <td>0</td>\n",
       "      <td>0</td>\n",
       "      <td>0</td>\n",
       "      <td>0</td>\n",
       "      <td>...</td>\n",
       "      <td>0</td>\n",
       "      <td>0</td>\n",
       "      <td>0</td>\n",
       "      <td>0</td>\n",
       "      <td>0</td>\n",
       "      <td>0</td>\n",
       "      <td>0</td>\n",
       "      <td>0</td>\n",
       "      <td>0</td>\n",
       "      <td>1</td>\n",
       "    </tr>\n",
       "    <tr>\n",
       "      <th>401</th>\n",
       "      <td>Sweden</td>\n",
       "      <td>2019</td>\n",
       "      <td>3.493240</td>\n",
       "      <td>0</td>\n",
       "      <td>0</td>\n",
       "      <td>0</td>\n",
       "      <td>0</td>\n",
       "      <td>0</td>\n",
       "      <td>0</td>\n",
       "      <td>0</td>\n",
       "      <td>...</td>\n",
       "      <td>0</td>\n",
       "      <td>0</td>\n",
       "      <td>0</td>\n",
       "      <td>0</td>\n",
       "      <td>0</td>\n",
       "      <td>0</td>\n",
       "      <td>0</td>\n",
       "      <td>0</td>\n",
       "      <td>0</td>\n",
       "      <td>1</td>\n",
       "    </tr>\n",
       "    <tr>\n",
       "      <th>402</th>\n",
       "      <td>Sweden</td>\n",
       "      <td>2020</td>\n",
       "      <td>3.429260</td>\n",
       "      <td>0</td>\n",
       "      <td>0</td>\n",
       "      <td>0</td>\n",
       "      <td>0</td>\n",
       "      <td>0</td>\n",
       "      <td>0</td>\n",
       "      <td>0</td>\n",
       "      <td>...</td>\n",
       "      <td>0</td>\n",
       "      <td>0</td>\n",
       "      <td>0</td>\n",
       "      <td>0</td>\n",
       "      <td>0</td>\n",
       "      <td>0</td>\n",
       "      <td>0</td>\n",
       "      <td>0</td>\n",
       "      <td>0</td>\n",
       "      <td>1</td>\n",
       "    </tr>\n",
       "    <tr>\n",
       "      <th>403</th>\n",
       "      <td>Sweden</td>\n",
       "      <td>2021</td>\n",
       "      <td>3.136555</td>\n",
       "      <td>0</td>\n",
       "      <td>0</td>\n",
       "      <td>0</td>\n",
       "      <td>0</td>\n",
       "      <td>0</td>\n",
       "      <td>0</td>\n",
       "      <td>0</td>\n",
       "      <td>...</td>\n",
       "      <td>0</td>\n",
       "      <td>0</td>\n",
       "      <td>0</td>\n",
       "      <td>0</td>\n",
       "      <td>0</td>\n",
       "      <td>0</td>\n",
       "      <td>0</td>\n",
       "      <td>0</td>\n",
       "      <td>0</td>\n",
       "      <td>1</td>\n",
       "    </tr>\n",
       "    <tr>\n",
       "      <th>404</th>\n",
       "      <td>Sweden</td>\n",
       "      <td>2022</td>\n",
       "      <td>3.009458</td>\n",
       "      <td>0</td>\n",
       "      <td>0</td>\n",
       "      <td>0</td>\n",
       "      <td>0</td>\n",
       "      <td>0</td>\n",
       "      <td>0</td>\n",
       "      <td>0</td>\n",
       "      <td>...</td>\n",
       "      <td>0</td>\n",
       "      <td>0</td>\n",
       "      <td>0</td>\n",
       "      <td>0</td>\n",
       "      <td>0</td>\n",
       "      <td>0</td>\n",
       "      <td>0</td>\n",
       "      <td>0</td>\n",
       "      <td>0</td>\n",
       "      <td>1</td>\n",
       "    </tr>\n",
       "  </tbody>\n",
       "</table>\n",
       "<p>405 rows × 29 columns</p>\n",
       "</div>"
      ],
      "text/plain": [
       "     country  year    amount  Belgium  Bulgaria  Croatia  Cyprus  \\\n",
       "0    Austria  2008  0.650710        0         0        0       0   \n",
       "1    Austria  2009  0.655853        0         0        0       0   \n",
       "2    Austria  2010  0.348022        0         0        0       0   \n",
       "3    Austria  2011  0.290893        0         0        0       0   \n",
       "4    Austria  2012  0.298638        0         0        0       0   \n",
       "..       ...   ...       ...      ...       ...      ...     ...   \n",
       "400   Sweden  2018  3.594353        0         0        0       0   \n",
       "401   Sweden  2019  3.493240        0         0        0       0   \n",
       "402   Sweden  2020  3.429260        0         0        0       0   \n",
       "403   Sweden  2021  3.136555        0         0        0       0   \n",
       "404   Sweden  2022  3.009458        0         0        0       0   \n",
       "\n",
       "     Czech Republic  Denmark  Estonia  ...  Luxembourg  Malta  Netherlands  \\\n",
       "0                 0        0        0  ...           0      0            0   \n",
       "1                 0        0        0  ...           0      0            0   \n",
       "2                 0        0        0  ...           0      0            0   \n",
       "3                 0        0        0  ...           0      0            0   \n",
       "4                 0        0        0  ...           0      0            0   \n",
       "..              ...      ...      ...  ...         ...    ...          ...   \n",
       "400               0        0        0  ...           0      0            0   \n",
       "401               0        0        0  ...           0      0            0   \n",
       "402               0        0        0  ...           0      0            0   \n",
       "403               0        0        0  ...           0      0            0   \n",
       "404               0        0        0  ...           0      0            0   \n",
       "\n",
       "     Poland  Portugal  Romania  Slovakia  Slovenia  Spain  Sweden  \n",
       "0         0         0        0         0         0      0       0  \n",
       "1         0         0        0         0         0      0       0  \n",
       "2         0         0        0         0         0      0       0  \n",
       "3         0         0        0         0         0      0       0  \n",
       "4         0         0        0         0         0      0       0  \n",
       "..      ...       ...      ...       ...       ...    ...     ...  \n",
       "400       0         0        0         0         0      0       1  \n",
       "401       0         0        0         0         0      0       1  \n",
       "402       0         0        0         0         0      0       1  \n",
       "403       0         0        0         0         0      0       1  \n",
       "404       0         0        0         0         0      0       1  \n",
       "\n",
       "[405 rows x 29 columns]"
      ]
     },
     "execution_count": 21,
     "metadata": {},
     "output_type": "execute_result"
    }
   ],
   "source": [
    "df_total_crime_dummies"
   ]
  },
  {
   "cell_type": "code",
   "execution_count": 26,
   "metadata": {},
   "outputs": [
    {
     "name": "stdout",
     "output_type": "stream",
     "text": [
      "R²: 0.9266677630380622\n"
     ]
    },
    {
     "data": {
      "image/png": "[encoded data removed]",
      "text/plain": [
       "<Figure size 1200x500 with 2 Axes>"
      ]
     },
     "metadata": {},
     "output_type": "display_data"
    }
   ],
   "source": [
    "import matplotlib.pyplot as plt\n",
    "def plot_residuals_predictions(ypreds, resids):\n",
    "    '''\n",
    "    func.: plot_residual_predictions()\n",
    "\n",
    "    params:\n",
    "        ypreds: y predicted values\n",
    "        resids: corresponding residuals\n",
    "    does: plots residuals against predictions\n",
    "    '''\n",
    "    plt.figure(figsize=(12, 5))\n",
    "\n",
    "    plt.subplot(1, 2, 1)\n",
    "    plt.scatter(ypreds, resids)\n",
    "    plt.axhline(0, color='red', linestyle='--')\n",
    "    plt.xlabel('Predicted Values')\n",
    "    plt.ylabel('Residuals')\n",
    "    plt.title('Residuals vs. Predicted Values')\n",
    "\n",
    "    plt.subplot(1, 2, 2)\n",
    "    plt.plot(resids, marker='o', linestyle='none')\n",
    "    plt.axhline(0, color='red', linestyle='--')\n",
    "    plt.xlabel('Index')\n",
    "    plt.ylabel('Residuals')\n",
    "    plt.title('Residuals vs Index Order')\n",
    "\n",
    "    plt.tight_layout()\n",
    "    plt.show()\n",
    "\n",
    "\n",
    "# Preparing the dataset for regression\n",
    "X = df_total_crime_dummies.drop(columns=['amount', 'country']).values\n",
    "y = df_total_crime_dummies['amount'].values\n",
    "\n",
    "# Compute the regression coefficients\n",
    "regression = line_of_best_fit(X, y)\n",
    "\n",
    "# Make predictions\n",
    "X_with_bias = add_bias_column(X)\n",
    "ypreds = np.dot(X_with_bias, regression)\n",
    "\n",
    "# Calculate residuals\n",
    "resids = y - ypreds\n",
    "\n",
    "# Make predictions\n",
    "X_with_bias = add_bias_column(X)\n",
    "ypreds = np.dot(X_with_bias, regression)\n",
    "\n",
    "# Calculate residuals\n",
    "resids = y - ypreds\n",
    "\n",
    "# Calculate R²\n",
    "sst = np.sum((y - np.mean(y))**2)\n",
    "ssr = np.sum(resids**2)\n",
    "r2 = 1 - (ssr / sst)\n",
    "\n",
    "print(f\"R²: {r2}\")\n",
    "\n",
    "plot_residuals_predictions(ypreds, resids)"
   ]
  },
  {
   "cell_type": "markdown",
   "metadata": {},
   "source": [
    "The plots above may be used to validate the assumptions of a linear regression on the model made here. In the left plot, which maps Residuals to Predicted Values, the residuals do appear to show some curvature, which suggests that the relationship between the independent and dependent variables may not be linear. This plot may also be used to assess the assumption of homoskedasticity. As the points appear to be relatively randomly placed (lacking a strong trending direction), the model seems to meet this assumption. This means that the variance of error is constant across the model. The right plot, showing Residuals vs Index Order, shows no clear pattern in the residuals, which suggests that the assumption of independence is likely met."
   ]
  },
  {
   "cell_type": "markdown",
   "metadata": {},
   "source": [
    "# Leisure Activities"
   ]
  },
  {
   "cell_type": "code",
   "execution_count": 23,
   "metadata": {},
   "outputs": [
    {
     "data": {
      "text/plain": [
       "array(['From 16 to 24 years', 'From 16 to 29 years',\n",
       "       'From 16 to 44 years', 'From 16 to 64 years', '16 years or over',\n",
       "       'From 20 to 64 years', 'From 25 to 29 years',\n",
       "       'From 25 to 34 years', 'From 25 to 64 years',\n",
       "       'From 30 to 54 years', 'From 35 to 44 years',\n",
       "       'From 35 to 49 years', 'From 45 to 54 years',\n",
       "       'From 45 to 64 years', 'From 50 to 64 years',\n",
       "       'From 55 to 64 years', 'From 65 to 74 years', '65 years or over',\n",
       "       'From 75 to 84 years', '75 years or over'], dtype=object)"
      ]
     },
     "execution_count": 23,
     "metadata": {},
     "output_type": "execute_result"
    }
   ],
   "source": [
    "df_leisure = get_eurostat_data(\"ilc_scp01\")\n",
    "df_leisure[\"Age class\"].unique()"
   ]
  },
  {
   "cell_type": "code",
   "execution_count": 24,
   "metadata": {},
   "outputs": [
    {
     "data": {
      "text/html": [
       "<div>\n",
       "<style scoped>\n",
       "    .dataframe tbody tr th:only-of-type {\n",
       "        vertical-align: middle;\n",
       "    }\n",
       "\n",
       "    .dataframe tbody tr th {\n",
       "        vertical-align: top;\n",
       "    }\n",
       "\n",
       "    .dataframe thead th {\n",
       "        text-align: right;\n",
       "    }\n",
       "</style>\n",
       "<table border=\"1\" class=\"dataframe\">\n",
       "  <thead>\n",
       "    <tr style=\"text-align: right;\">\n",
       "      <th></th>\n",
       "      <th>Time frequency</th>\n",
       "      <th>Frequency</th>\n",
       "      <th>International Standard Classification of Education (ISCED 2011)</th>\n",
       "      <th>Age class</th>\n",
       "      <th>Sex</th>\n",
       "      <th>Unit of measure</th>\n",
       "      <th>Geopolitical entity (reporting)</th>\n",
       "      <th>Time</th>\n",
       "      <th>value</th>\n",
       "    </tr>\n",
       "  </thead>\n",
       "  <tbody>\n",
       "    <tr>\n",
       "      <th>27221</th>\n",
       "      <td>Annual</td>\n",
       "      <td>At least once</td>\n",
       "      <td>All ISCED 2011 levels</td>\n",
       "      <td>16 years or over</td>\n",
       "      <td>Total</td>\n",
       "      <td>Percentage</td>\n",
       "      <td>Belgium</td>\n",
       "      <td>2022</td>\n",
       "      <td>64.3</td>\n",
       "    </tr>\n",
       "    <tr>\n",
       "      <th>27224</th>\n",
       "      <td>Annual</td>\n",
       "      <td>At least once</td>\n",
       "      <td>All ISCED 2011 levels</td>\n",
       "      <td>16 years or over</td>\n",
       "      <td>Total</td>\n",
       "      <td>Percentage</td>\n",
       "      <td>Bulgaria</td>\n",
       "      <td>2022</td>\n",
       "      <td>21.3</td>\n",
       "    </tr>\n",
       "    <tr>\n",
       "      <th>27227</th>\n",
       "      <td>Annual</td>\n",
       "      <td>At least once</td>\n",
       "      <td>All ISCED 2011 levels</td>\n",
       "      <td>16 years or over</td>\n",
       "      <td>Total</td>\n",
       "      <td>Percentage</td>\n",
       "      <td>Czechia</td>\n",
       "      <td>2022</td>\n",
       "      <td>62.6</td>\n",
       "    </tr>\n",
       "    <tr>\n",
       "      <th>27230</th>\n",
       "      <td>Annual</td>\n",
       "      <td>At least once</td>\n",
       "      <td>All ISCED 2011 levels</td>\n",
       "      <td>16 years or over</td>\n",
       "      <td>Total</td>\n",
       "      <td>Percentage</td>\n",
       "      <td>Denmark</td>\n",
       "      <td>2022</td>\n",
       "      <td>80.7</td>\n",
       "    </tr>\n",
       "    <tr>\n",
       "      <th>27233</th>\n",
       "      <td>Annual</td>\n",
       "      <td>At least once</td>\n",
       "      <td>All ISCED 2011 levels</td>\n",
       "      <td>16 years or over</td>\n",
       "      <td>Total</td>\n",
       "      <td>Percentage</td>\n",
       "      <td>Germany</td>\n",
       "      <td>2022</td>\n",
       "      <td>NaN</td>\n",
       "    </tr>\n",
       "    <tr>\n",
       "      <th>27236</th>\n",
       "      <td>Annual</td>\n",
       "      <td>At least once</td>\n",
       "      <td>All ISCED 2011 levels</td>\n",
       "      <td>16 years or over</td>\n",
       "      <td>Total</td>\n",
       "      <td>Percentage</td>\n",
       "      <td>Estonia</td>\n",
       "      <td>2022</td>\n",
       "      <td>63.3</td>\n",
       "    </tr>\n",
       "    <tr>\n",
       "      <th>27239</th>\n",
       "      <td>Annual</td>\n",
       "      <td>At least once</td>\n",
       "      <td>All ISCED 2011 levels</td>\n",
       "      <td>16 years or over</td>\n",
       "      <td>Total</td>\n",
       "      <td>Percentage</td>\n",
       "      <td>Ireland</td>\n",
       "      <td>2022</td>\n",
       "      <td>70.2</td>\n",
       "    </tr>\n",
       "    <tr>\n",
       "      <th>27242</th>\n",
       "      <td>Annual</td>\n",
       "      <td>At least once</td>\n",
       "      <td>All ISCED 2011 levels</td>\n",
       "      <td>16 years or over</td>\n",
       "      <td>Total</td>\n",
       "      <td>Percentage</td>\n",
       "      <td>Greece</td>\n",
       "      <td>2022</td>\n",
       "      <td>40.0</td>\n",
       "    </tr>\n",
       "    <tr>\n",
       "      <th>27245</th>\n",
       "      <td>Annual</td>\n",
       "      <td>At least once</td>\n",
       "      <td>All ISCED 2011 levels</td>\n",
       "      <td>16 years or over</td>\n",
       "      <td>Total</td>\n",
       "      <td>Percentage</td>\n",
       "      <td>Spain</td>\n",
       "      <td>2022</td>\n",
       "      <td>63.3</td>\n",
       "    </tr>\n",
       "    <tr>\n",
       "      <th>27248</th>\n",
       "      <td>Annual</td>\n",
       "      <td>At least once</td>\n",
       "      <td>All ISCED 2011 levels</td>\n",
       "      <td>16 years or over</td>\n",
       "      <td>Total</td>\n",
       "      <td>Percentage</td>\n",
       "      <td>France</td>\n",
       "      <td>2022</td>\n",
       "      <td>59.1</td>\n",
       "    </tr>\n",
       "    <tr>\n",
       "      <th>27251</th>\n",
       "      <td>Annual</td>\n",
       "      <td>At least once</td>\n",
       "      <td>All ISCED 2011 levels</td>\n",
       "      <td>16 years or over</td>\n",
       "      <td>Total</td>\n",
       "      <td>Percentage</td>\n",
       "      <td>Croatia</td>\n",
       "      <td>2022</td>\n",
       "      <td>40.0</td>\n",
       "    </tr>\n",
       "    <tr>\n",
       "      <th>27254</th>\n",
       "      <td>Annual</td>\n",
       "      <td>At least once</td>\n",
       "      <td>All ISCED 2011 levels</td>\n",
       "      <td>16 years or over</td>\n",
       "      <td>Total</td>\n",
       "      <td>Percentage</td>\n",
       "      <td>Italy</td>\n",
       "      <td>2022</td>\n",
       "      <td>39.5</td>\n",
       "    </tr>\n",
       "    <tr>\n",
       "      <th>27257</th>\n",
       "      <td>Annual</td>\n",
       "      <td>At least once</td>\n",
       "      <td>All ISCED 2011 levels</td>\n",
       "      <td>16 years or over</td>\n",
       "      <td>Total</td>\n",
       "      <td>Percentage</td>\n",
       "      <td>Cyprus</td>\n",
       "      <td>2022</td>\n",
       "      <td>43.6</td>\n",
       "    </tr>\n",
       "    <tr>\n",
       "      <th>27260</th>\n",
       "      <td>Annual</td>\n",
       "      <td>At least once</td>\n",
       "      <td>All ISCED 2011 levels</td>\n",
       "      <td>16 years or over</td>\n",
       "      <td>Total</td>\n",
       "      <td>Percentage</td>\n",
       "      <td>Latvia</td>\n",
       "      <td>2022</td>\n",
       "      <td>41.9</td>\n",
       "    </tr>\n",
       "    <tr>\n",
       "      <th>27263</th>\n",
       "      <td>Annual</td>\n",
       "      <td>At least once</td>\n",
       "      <td>All ISCED 2011 levels</td>\n",
       "      <td>16 years or over</td>\n",
       "      <td>Total</td>\n",
       "      <td>Percentage</td>\n",
       "      <td>Lithuania</td>\n",
       "      <td>2022</td>\n",
       "      <td>48.9</td>\n",
       "    </tr>\n",
       "    <tr>\n",
       "      <th>27266</th>\n",
       "      <td>Annual</td>\n",
       "      <td>At least once</td>\n",
       "      <td>All ISCED 2011 levels</td>\n",
       "      <td>16 years or over</td>\n",
       "      <td>Total</td>\n",
       "      <td>Percentage</td>\n",
       "      <td>Luxembourg</td>\n",
       "      <td>2022</td>\n",
       "      <td>81.9</td>\n",
       "    </tr>\n",
       "    <tr>\n",
       "      <th>27269</th>\n",
       "      <td>Annual</td>\n",
       "      <td>At least once</td>\n",
       "      <td>All ISCED 2011 levels</td>\n",
       "      <td>16 years or over</td>\n",
       "      <td>Total</td>\n",
       "      <td>Percentage</td>\n",
       "      <td>Hungary</td>\n",
       "      <td>2022</td>\n",
       "      <td>42.6</td>\n",
       "    </tr>\n",
       "    <tr>\n",
       "      <th>27272</th>\n",
       "      <td>Annual</td>\n",
       "      <td>At least once</td>\n",
       "      <td>All ISCED 2011 levels</td>\n",
       "      <td>16 years or over</td>\n",
       "      <td>Total</td>\n",
       "      <td>Percentage</td>\n",
       "      <td>Malta</td>\n",
       "      <td>2022</td>\n",
       "      <td>41.4</td>\n",
       "    </tr>\n",
       "    <tr>\n",
       "      <th>27275</th>\n",
       "      <td>Annual</td>\n",
       "      <td>At least once</td>\n",
       "      <td>All ISCED 2011 levels</td>\n",
       "      <td>16 years or over</td>\n",
       "      <td>Total</td>\n",
       "      <td>Percentage</td>\n",
       "      <td>Netherlands</td>\n",
       "      <td>2022</td>\n",
       "      <td>76.1</td>\n",
       "    </tr>\n",
       "    <tr>\n",
       "      <th>27278</th>\n",
       "      <td>Annual</td>\n",
       "      <td>At least once</td>\n",
       "      <td>All ISCED 2011 levels</td>\n",
       "      <td>16 years or over</td>\n",
       "      <td>Total</td>\n",
       "      <td>Percentage</td>\n",
       "      <td>Austria</td>\n",
       "      <td>2022</td>\n",
       "      <td>60.7</td>\n",
       "    </tr>\n",
       "    <tr>\n",
       "      <th>27281</th>\n",
       "      <td>Annual</td>\n",
       "      <td>At least once</td>\n",
       "      <td>All ISCED 2011 levels</td>\n",
       "      <td>16 years or over</td>\n",
       "      <td>Total</td>\n",
       "      <td>Percentage</td>\n",
       "      <td>Poland</td>\n",
       "      <td>2022</td>\n",
       "      <td>53.7</td>\n",
       "    </tr>\n",
       "    <tr>\n",
       "      <th>27284</th>\n",
       "      <td>Annual</td>\n",
       "      <td>At least once</td>\n",
       "      <td>All ISCED 2011 levels</td>\n",
       "      <td>16 years or over</td>\n",
       "      <td>Total</td>\n",
       "      <td>Percentage</td>\n",
       "      <td>Portugal</td>\n",
       "      <td>2022</td>\n",
       "      <td>56.2</td>\n",
       "    </tr>\n",
       "    <tr>\n",
       "      <th>27287</th>\n",
       "      <td>Annual</td>\n",
       "      <td>At least once</td>\n",
       "      <td>All ISCED 2011 levels</td>\n",
       "      <td>16 years or over</td>\n",
       "      <td>Total</td>\n",
       "      <td>Percentage</td>\n",
       "      <td>Romania</td>\n",
       "      <td>2022</td>\n",
       "      <td>24.3</td>\n",
       "    </tr>\n",
       "    <tr>\n",
       "      <th>27290</th>\n",
       "      <td>Annual</td>\n",
       "      <td>At least once</td>\n",
       "      <td>All ISCED 2011 levels</td>\n",
       "      <td>16 years or over</td>\n",
       "      <td>Total</td>\n",
       "      <td>Percentage</td>\n",
       "      <td>Slovenia</td>\n",
       "      <td>2022</td>\n",
       "      <td>60.9</td>\n",
       "    </tr>\n",
       "    <tr>\n",
       "      <th>27293</th>\n",
       "      <td>Annual</td>\n",
       "      <td>At least once</td>\n",
       "      <td>All ISCED 2011 levels</td>\n",
       "      <td>16 years or over</td>\n",
       "      <td>Total</td>\n",
       "      <td>Percentage</td>\n",
       "      <td>Slovakia</td>\n",
       "      <td>2022</td>\n",
       "      <td>43.4</td>\n",
       "    </tr>\n",
       "    <tr>\n",
       "      <th>27296</th>\n",
       "      <td>Annual</td>\n",
       "      <td>At least once</td>\n",
       "      <td>All ISCED 2011 levels</td>\n",
       "      <td>16 years or over</td>\n",
       "      <td>Total</td>\n",
       "      <td>Percentage</td>\n",
       "      <td>Finland</td>\n",
       "      <td>2022</td>\n",
       "      <td>71.5</td>\n",
       "    </tr>\n",
       "    <tr>\n",
       "      <th>27299</th>\n",
       "      <td>Annual</td>\n",
       "      <td>At least once</td>\n",
       "      <td>All ISCED 2011 levels</td>\n",
       "      <td>16 years or over</td>\n",
       "      <td>Total</td>\n",
       "      <td>Percentage</td>\n",
       "      <td>Sweden</td>\n",
       "      <td>2022</td>\n",
       "      <td>69.6</td>\n",
       "    </tr>\n",
       "  </tbody>\n",
       "</table>\n",
       "</div>"
      ],
      "text/plain": [
       "      Time frequency      Frequency  \\\n",
       "27221         Annual  At least once   \n",
       "27224         Annual  At least once   \n",
       "27227         Annual  At least once   \n",
       "27230         Annual  At least once   \n",
       "27233         Annual  At least once   \n",
       "27236         Annual  At least once   \n",
       "27239         Annual  At least once   \n",
       "27242         Annual  At least once   \n",
       "27245         Annual  At least once   \n",
       "27248         Annual  At least once   \n",
       "27251         Annual  At least once   \n",
       "27254         Annual  At least once   \n",
       "27257         Annual  At least once   \n",
       "27260         Annual  At least once   \n",
       "27263         Annual  At least once   \n",
       "27266         Annual  At least once   \n",
       "27269         Annual  At least once   \n",
       "27272         Annual  At least once   \n",
       "27275         Annual  At least once   \n",
       "27278         Annual  At least once   \n",
       "27281         Annual  At least once   \n",
       "27284         Annual  At least once   \n",
       "27287         Annual  At least once   \n",
       "27290         Annual  At least once   \n",
       "27293         Annual  At least once   \n",
       "27296         Annual  At least once   \n",
       "27299         Annual  At least once   \n",
       "\n",
       "      International Standard Classification of Education (ISCED 2011)  \\\n",
       "27221                              All ISCED 2011 levels                \n",
       "27224                              All ISCED 2011 levels                \n",
       "27227                              All ISCED 2011 levels                \n",
       "27230                              All ISCED 2011 levels                \n",
       "27233                              All ISCED 2011 levels                \n",
       "27236                              All ISCED 2011 levels                \n",
       "27239                              All ISCED 2011 levels                \n",
       "27242                              All ISCED 2011 levels                \n",
       "27245                              All ISCED 2011 levels                \n",
       "27248                              All ISCED 2011 levels                \n",
       "27251                              All ISCED 2011 levels                \n",
       "27254                              All ISCED 2011 levels                \n",
       "27257                              All ISCED 2011 levels                \n",
       "27260                              All ISCED 2011 levels                \n",
       "27263                              All ISCED 2011 levels                \n",
       "27266                              All ISCED 2011 levels                \n",
       "27269                              All ISCED 2011 levels                \n",
       "27272                              All ISCED 2011 levels                \n",
       "27275                              All ISCED 2011 levels                \n",
       "27278                              All ISCED 2011 levels                \n",
       "27281                              All ISCED 2011 levels                \n",
       "27284                              All ISCED 2011 levels                \n",
       "27287                              All ISCED 2011 levels                \n",
       "27290                              All ISCED 2011 levels                \n",
       "27293                              All ISCED 2011 levels                \n",
       "27296                              All ISCED 2011 levels                \n",
       "27299                              All ISCED 2011 levels                \n",
       "\n",
       "              Age class    Sex Unit of measure  \\\n",
       "27221  16 years or over  Total      Percentage   \n",
       "27224  16 years or over  Total      Percentage   \n",
       "27227  16 years or over  Total      Percentage   \n",
       "27230  16 years or over  Total      Percentage   \n",
       "27233  16 years or over  Total      Percentage   \n",
       "27236  16 years or over  Total      Percentage   \n",
       "27239  16 years or over  Total      Percentage   \n",
       "27242  16 years or over  Total      Percentage   \n",
       "27245  16 years or over  Total      Percentage   \n",
       "27248  16 years or over  Total      Percentage   \n",
       "27251  16 years or over  Total      Percentage   \n",
       "27254  16 years or over  Total      Percentage   \n",
       "27257  16 years or over  Total      Percentage   \n",
       "27260  16 years or over  Total      Percentage   \n",
       "27263  16 years or over  Total      Percentage   \n",
       "27266  16 years or over  Total      Percentage   \n",
       "27269  16 years or over  Total      Percentage   \n",
       "27272  16 years or over  Total      Percentage   \n",
       "27275  16 years or over  Total      Percentage   \n",
       "27278  16 years or over  Total      Percentage   \n",
       "27281  16 years or over  Total      Percentage   \n",
       "27284  16 years or over  Total      Percentage   \n",
       "27287  16 years or over  Total      Percentage   \n",
       "27290  16 years or over  Total      Percentage   \n",
       "27293  16 years or over  Total      Percentage   \n",
       "27296  16 years or over  Total      Percentage   \n",
       "27299  16 years or over  Total      Percentage   \n",
       "\n",
       "      Geopolitical entity (reporting)  Time  value  \n",
       "27221                         Belgium  2022   64.3  \n",
       "27224                        Bulgaria  2022   21.3  \n",
       "27227                         Czechia  2022   62.6  \n",
       "27230                         Denmark  2022   80.7  \n",
       "27233                         Germany  2022    NaN  \n",
       "27236                         Estonia  2022   63.3  \n",
       "27239                         Ireland  2022   70.2  \n",
       "27242                          Greece  2022   40.0  \n",
       "27245                           Spain  2022   63.3  \n",
       "27248                          France  2022   59.1  \n",
       "27251                         Croatia  2022   40.0  \n",
       "27254                           Italy  2022   39.5  \n",
       "27257                          Cyprus  2022   43.6  \n",
       "27260                          Latvia  2022   41.9  \n",
       "27263                       Lithuania  2022   48.9  \n",
       "27266                      Luxembourg  2022   81.9  \n",
       "27269                         Hungary  2022   42.6  \n",
       "27272                           Malta  2022   41.4  \n",
       "27275                     Netherlands  2022   76.1  \n",
       "27278                         Austria  2022   60.7  \n",
       "27281                          Poland  2022   53.7  \n",
       "27284                        Portugal  2022   56.2  \n",
       "27287                         Romania  2022   24.3  \n",
       "27290                        Slovenia  2022   60.9  \n",
       "27293                        Slovakia  2022   43.4  \n",
       "27296                         Finland  2022   71.5  \n",
       "27299                          Sweden  2022   69.6  "
      ]
     },
     "execution_count": 24,
     "metadata": {},
     "output_type": "execute_result"
    }
   ],
   "source": [
    "df_leisure[(df_leisure[\"Age class\"] == \"16 years or over\") & (df_leisure[\"Sex\"] == \"Total\") & (df_leisure[\"Frequency\"] == \"At least once\") \n",
    "           & (df_leisure[\"Time\"] == \"2022\") & (df_leisure[\"Geopolitical entity (reporting)\"].isin(eu_countries)) & (df_leisure[\"International Standard Classification of Education (ISCED 2011)\"] == \"All ISCED 2011 levels\")]\n"
   ]
  },
  {
   "cell_type": "code",
   "execution_count": 25,
   "metadata": {},
   "outputs": [
    {
     "data": {
      "text/html": [
       "<div>\n",
       "<style scoped>\n",
       "    .dataframe tbody tr th:only-of-type {\n",
       "        vertical-align: middle;\n",
       "    }\n",
       "\n",
       "    .dataframe tbody tr th {\n",
       "        vertical-align: top;\n",
       "    }\n",
       "\n",
       "    .dataframe thead th {\n",
       "        text-align: right;\n",
       "    }\n",
       "</style>\n",
       "<table border=\"1\" class=\"dataframe\">\n",
       "  <thead>\n",
       "    <tr style=\"text-align: right;\">\n",
       "      <th></th>\n",
       "      <th>country</th>\n",
       "      <th>leisure_16_24</th>\n",
       "      <th>leisure_25_34</th>\n",
       "      <th>leisure_35_44</th>\n",
       "      <th>leisure_45_54</th>\n",
       "      <th>leisure_55_64</th>\n",
       "      <th>leisure_65_74</th>\n",
       "      <th>leisure_75_older</th>\n",
       "    </tr>\n",
       "  </thead>\n",
       "  <tbody>\n",
       "    <tr>\n",
       "      <th>0</th>\n",
       "      <td>Belgium</td>\n",
       "      <td>82.0</td>\n",
       "      <td>74.5</td>\n",
       "      <td>74.2</td>\n",
       "      <td>63.7</td>\n",
       "      <td>59.6</td>\n",
       "      <td>55.1</td>\n",
       "      <td>36.2</td>\n",
       "    </tr>\n",
       "    <tr>\n",
       "      <th>1</th>\n",
       "      <td>Bulgaria</td>\n",
       "      <td>42.6</td>\n",
       "      <td>31.0</td>\n",
       "      <td>28.4</td>\n",
       "      <td>21.7</td>\n",
       "      <td>15.0</td>\n",
       "      <td>10.0</td>\n",
       "      <td>4.5</td>\n",
       "    </tr>\n",
       "    <tr>\n",
       "      <th>2</th>\n",
       "      <td>Czech Republic</td>\n",
       "      <td>85.9</td>\n",
       "      <td>73.0</td>\n",
       "      <td>71.9</td>\n",
       "      <td>66.9</td>\n",
       "      <td>60.2</td>\n",
       "      <td>48.8</td>\n",
       "      <td>29.4</td>\n",
       "    </tr>\n",
       "    <tr>\n",
       "      <th>3</th>\n",
       "      <td>Denmark</td>\n",
       "      <td>91.5</td>\n",
       "      <td>86.6</td>\n",
       "      <td>82.9</td>\n",
       "      <td>84.1</td>\n",
       "      <td>77.4</td>\n",
       "      <td>74.3</td>\n",
       "      <td>64.8</td>\n",
       "    </tr>\n",
       "    <tr>\n",
       "      <th>4</th>\n",
       "      <td>Germany</td>\n",
       "      <td>NaN</td>\n",
       "      <td>NaN</td>\n",
       "      <td>NaN</td>\n",
       "      <td>NaN</td>\n",
       "      <td>NaN</td>\n",
       "      <td>NaN</td>\n",
       "      <td>NaN</td>\n",
       "    </tr>\n",
       "    <tr>\n",
       "      <th>5</th>\n",
       "      <td>Estonia</td>\n",
       "      <td>86.9</td>\n",
       "      <td>79.5</td>\n",
       "      <td>75.4</td>\n",
       "      <td>70.1</td>\n",
       "      <td>56.8</td>\n",
       "      <td>45.9</td>\n",
       "      <td>26.2</td>\n",
       "    </tr>\n",
       "    <tr>\n",
       "      <th>6</th>\n",
       "      <td>Ireland</td>\n",
       "      <td>85.9</td>\n",
       "      <td>81.4</td>\n",
       "      <td>79.5</td>\n",
       "      <td>71.7</td>\n",
       "      <td>66.9</td>\n",
       "      <td>49.3</td>\n",
       "      <td>33.4</td>\n",
       "    </tr>\n",
       "    <tr>\n",
       "      <th>7</th>\n",
       "      <td>Greece</td>\n",
       "      <td>69.6</td>\n",
       "      <td>61.7</td>\n",
       "      <td>47.7</td>\n",
       "      <td>43.8</td>\n",
       "      <td>36.0</td>\n",
       "      <td>22.3</td>\n",
       "      <td>10.3</td>\n",
       "    </tr>\n",
       "    <tr>\n",
       "      <th>8</th>\n",
       "      <td>Spain</td>\n",
       "      <td>86.3</td>\n",
       "      <td>79.1</td>\n",
       "      <td>69.8</td>\n",
       "      <td>66.5</td>\n",
       "      <td>59.8</td>\n",
       "      <td>50.6</td>\n",
       "      <td>29.0</td>\n",
       "    </tr>\n",
       "    <tr>\n",
       "      <th>9</th>\n",
       "      <td>France</td>\n",
       "      <td>83.0</td>\n",
       "      <td>71.1</td>\n",
       "      <td>69.3</td>\n",
       "      <td>62.8</td>\n",
       "      <td>53.7</td>\n",
       "      <td>47.2</td>\n",
       "      <td>27.7</td>\n",
       "    </tr>\n",
       "    <tr>\n",
       "      <th>10</th>\n",
       "      <td>Croatia</td>\n",
       "      <td>78.5</td>\n",
       "      <td>63.8</td>\n",
       "      <td>50.3</td>\n",
       "      <td>41.1</td>\n",
       "      <td>27.9</td>\n",
       "      <td>20.3</td>\n",
       "      <td>7.8</td>\n",
       "    </tr>\n",
       "    <tr>\n",
       "      <th>11</th>\n",
       "      <td>Italy</td>\n",
       "      <td>70.9</td>\n",
       "      <td>58.8</td>\n",
       "      <td>46.4</td>\n",
       "      <td>45.4</td>\n",
       "      <td>34.1</td>\n",
       "      <td>24.2</td>\n",
       "      <td>9.6</td>\n",
       "    </tr>\n",
       "    <tr>\n",
       "      <th>12</th>\n",
       "      <td>Cyprus</td>\n",
       "      <td>68.4</td>\n",
       "      <td>56.6</td>\n",
       "      <td>50.3</td>\n",
       "      <td>44.0</td>\n",
       "      <td>31.1</td>\n",
       "      <td>22.2</td>\n",
       "      <td>8.8</td>\n",
       "    </tr>\n",
       "    <tr>\n",
       "      <th>13</th>\n",
       "      <td>Latvia</td>\n",
       "      <td>63.6</td>\n",
       "      <td>59.8</td>\n",
       "      <td>52.4</td>\n",
       "      <td>45.6</td>\n",
       "      <td>36.3</td>\n",
       "      <td>26.7</td>\n",
       "      <td>13.7</td>\n",
       "    </tr>\n",
       "    <tr>\n",
       "      <th>14</th>\n",
       "      <td>Lithuania</td>\n",
       "      <td>73.9</td>\n",
       "      <td>68.3</td>\n",
       "      <td>63.2</td>\n",
       "      <td>48.9</td>\n",
       "      <td>41.5</td>\n",
       "      <td>33.3</td>\n",
       "      <td>13.1</td>\n",
       "    </tr>\n",
       "    <tr>\n",
       "      <th>15</th>\n",
       "      <td>Luxembourg</td>\n",
       "      <td>93.8</td>\n",
       "      <td>88.8</td>\n",
       "      <td>82.7</td>\n",
       "      <td>80.4</td>\n",
       "      <td>76.3</td>\n",
       "      <td>79.5</td>\n",
       "      <td>62.8</td>\n",
       "    </tr>\n",
       "    <tr>\n",
       "      <th>16</th>\n",
       "      <td>Hungary</td>\n",
       "      <td>72.6</td>\n",
       "      <td>52.0</td>\n",
       "      <td>47.8</td>\n",
       "      <td>46.2</td>\n",
       "      <td>35.3</td>\n",
       "      <td>26.0</td>\n",
       "      <td>14.9</td>\n",
       "    </tr>\n",
       "    <tr>\n",
       "      <th>17</th>\n",
       "      <td>Malta</td>\n",
       "      <td>67.3</td>\n",
       "      <td>58.0</td>\n",
       "      <td>50.2</td>\n",
       "      <td>43.7</td>\n",
       "      <td>27.7</td>\n",
       "      <td>19.2</td>\n",
       "      <td>8.6</td>\n",
       "    </tr>\n",
       "    <tr>\n",
       "      <th>18</th>\n",
       "      <td>Netherlands</td>\n",
       "      <td>90.9</td>\n",
       "      <td>86.9</td>\n",
       "      <td>82.1</td>\n",
       "      <td>77.0</td>\n",
       "      <td>71.4</td>\n",
       "      <td>65.3</td>\n",
       "      <td>52.7</td>\n",
       "    </tr>\n",
       "    <tr>\n",
       "      <th>19</th>\n",
       "      <td>Austria</td>\n",
       "      <td>82.8</td>\n",
       "      <td>75.6</td>\n",
       "      <td>68.9</td>\n",
       "      <td>58.5</td>\n",
       "      <td>54.4</td>\n",
       "      <td>48.5</td>\n",
       "      <td>30.6</td>\n",
       "    </tr>\n",
       "    <tr>\n",
       "      <th>20</th>\n",
       "      <td>Poland</td>\n",
       "      <td>85.6</td>\n",
       "      <td>73.3</td>\n",
       "      <td>68.5</td>\n",
       "      <td>55.9</td>\n",
       "      <td>43.6</td>\n",
       "      <td>31.7</td>\n",
       "      <td>18.2</td>\n",
       "    </tr>\n",
       "    <tr>\n",
       "      <th>21</th>\n",
       "      <td>Portugal</td>\n",
       "      <td>86.9</td>\n",
       "      <td>76.8</td>\n",
       "      <td>72.0</td>\n",
       "      <td>61.6</td>\n",
       "      <td>48.2</td>\n",
       "      <td>38.7</td>\n",
       "      <td>20.1</td>\n",
       "    </tr>\n",
       "    <tr>\n",
       "      <th>22</th>\n",
       "      <td>Romania</td>\n",
       "      <td>45.1</td>\n",
       "      <td>38.7</td>\n",
       "      <td>33.3</td>\n",
       "      <td>23.0</td>\n",
       "      <td>13.1</td>\n",
       "      <td>8.7</td>\n",
       "      <td>4.2</td>\n",
       "    </tr>\n",
       "    <tr>\n",
       "      <th>23</th>\n",
       "      <td>Slovenia</td>\n",
       "      <td>76.3</td>\n",
       "      <td>73.9</td>\n",
       "      <td>75.7</td>\n",
       "      <td>63.0</td>\n",
       "      <td>52.0</td>\n",
       "      <td>47.6</td>\n",
       "      <td>29.2</td>\n",
       "    </tr>\n",
       "    <tr>\n",
       "      <th>24</th>\n",
       "      <td>Slovakia</td>\n",
       "      <td>73.8</td>\n",
       "      <td>60.1</td>\n",
       "      <td>52.3</td>\n",
       "      <td>41.8</td>\n",
       "      <td>33.6</td>\n",
       "      <td>21.8</td>\n",
       "      <td>6.7</td>\n",
       "    </tr>\n",
       "    <tr>\n",
       "      <th>25</th>\n",
       "      <td>Finland</td>\n",
       "      <td>82.3</td>\n",
       "      <td>82.5</td>\n",
       "      <td>82.8</td>\n",
       "      <td>81.9</td>\n",
       "      <td>69.6</td>\n",
       "      <td>58.7</td>\n",
       "      <td>42.5</td>\n",
       "    </tr>\n",
       "    <tr>\n",
       "      <th>26</th>\n",
       "      <td>Sweden</td>\n",
       "      <td>85.0</td>\n",
       "      <td>75.7</td>\n",
       "      <td>76.4</td>\n",
       "      <td>74.5</td>\n",
       "      <td>63.7</td>\n",
       "      <td>62.0</td>\n",
       "      <td>47.3</td>\n",
       "    </tr>\n",
       "  </tbody>\n",
       "</table>\n",
       "</div>"
      ],
      "text/plain": [
       "           country  leisure_16_24  leisure_25_34  leisure_35_44  \\\n",
       "0          Belgium           82.0           74.5           74.2   \n",
       "1         Bulgaria           42.6           31.0           28.4   \n",
       "2   Czech Republic           85.9           73.0           71.9   \n",
       "3          Denmark           91.5           86.6           82.9   \n",
       "4          Germany            NaN            NaN            NaN   \n",
       "5          Estonia           86.9           79.5           75.4   \n",
       "6          Ireland           85.9           81.4           79.5   \n",
       "7           Greece           69.6           61.7           47.7   \n",
       "8            Spain           86.3           79.1           69.8   \n",
       "9           France           83.0           71.1           69.3   \n",
       "10         Croatia           78.5           63.8           50.3   \n",
       "11           Italy           70.9           58.8           46.4   \n",
       "12          Cyprus           68.4           56.6           50.3   \n",
       "13          Latvia           63.6           59.8           52.4   \n",
       "14       Lithuania           73.9           68.3           63.2   \n",
       "15      Luxembourg           93.8           88.8           82.7   \n",
       "16         Hungary           72.6           52.0           47.8   \n",
       "17           Malta           67.3           58.0           50.2   \n",
       "18     Netherlands           90.9           86.9           82.1   \n",
       "19         Austria           82.8           75.6           68.9   \n",
       "20          Poland           85.6           73.3           68.5   \n",
       "21        Portugal           86.9           76.8           72.0   \n",
       "22         Romania           45.1           38.7           33.3   \n",
       "23        Slovenia           76.3           73.9           75.7   \n",
       "24        Slovakia           73.8           60.1           52.3   \n",
       "25         Finland           82.3           82.5           82.8   \n",
       "26          Sweden           85.0           75.7           76.4   \n",
       "\n",
       "    leisure_45_54  leisure_55_64  leisure_65_74  leisure_75_older  \n",
       "0            63.7           59.6           55.1              36.2  \n",
       "1            21.7           15.0           10.0               4.5  \n",
       "2            66.9           60.2           48.8              29.4  \n",
       "3            84.1           77.4           74.3              64.8  \n",
       "4             NaN            NaN            NaN               NaN  \n",
       "5            70.1           56.8           45.9              26.2  \n",
       "6            71.7           66.9           49.3              33.4  \n",
       "7            43.8           36.0           22.3              10.3  \n",
       "8            66.5           59.8           50.6              29.0  \n",
       "9            62.8           53.7           47.2              27.7  \n",
       "10           41.1           27.9           20.3               7.8  \n",
       "11           45.4           34.1           24.2               9.6  \n",
       "12           44.0           31.1           22.2               8.8  \n",
       "13           45.6           36.3           26.7              13.7  \n",
       "14           48.9           41.5           33.3              13.1  \n",
       "15           80.4           76.3           79.5              62.8  \n",
       "16           46.2           35.3           26.0              14.9  \n",
       "17           43.7           27.7           19.2               8.6  \n",
       "18           77.0           71.4           65.3              52.7  \n",
       "19           58.5           54.4           48.5              30.6  \n",
       "20           55.9           43.6           31.7              18.2  \n",
       "21           61.6           48.2           38.7              20.1  \n",
       "22           23.0           13.1            8.7               4.2  \n",
       "23           63.0           52.0           47.6              29.2  \n",
       "24           41.8           33.6           21.8               6.7  \n",
       "25           81.9           69.6           58.7              42.5  \n",
       "26           74.5           63.7           62.0              47.3  "
      ]
     },
     "execution_count": 25,
     "metadata": {},
     "output_type": "execute_result"
    }
   ],
   "source": [
    "age_classes = [(16, 24), (25, 34), (35, 44), (45, 54), (55, 64), (65, 74), 75]\n",
    "df_leisure_subset = df_leisure[(df_leisure[\"Sex\"] == \"Total\") & (df_leisure[\"Frequency\"] == \"At least once\") \n",
    "           & (df_leisure[\"Time\"] == \"2022\") & (df_leisure[\"Geopolitical entity (reporting)\"].isin(eu_countries)) & (df_leisure[\"International Standard Classification of Education (ISCED 2011)\"] == \"All ISCED 2011 levels\")]\n",
    "\n",
    "leisure_by_age = pd.DataFrame()\n",
    "leisure_dict = {\"country\" : df_leisure_subset[\"Geopolitical entity (reporting)\"].unique().tolist()}\n",
    "\n",
    "for ages in age_classes:\n",
    "    if type(ages) is int:\n",
    "        temp = df_leisure_subset[df_leisure_subset[\"Age class\"] == f'{ages} years or over'][\"value\"].tolist()\n",
    "        leisure_dict[f'leisure_{ages}_older'] = temp\n",
    "    else:\n",
    "        temp = df_leisure_subset[df_leisure_subset[\"Age class\"] == f'From {ages[0]} to {ages[1]} years'][\"value\"].tolist()\n",
    "        leisure_dict[f'leisure_{ages[0]}_{ages[1]}'] = temp\n",
    "    \n",
    "\n",
    "leisure_df = pd.DataFrame(leisure_dict)\n",
    "leisure_df.loc[leisure_df.country == \"Czechia\", \"country\"] = \"Czech Republic\"\n",
    "leisure_df    "
   ]
  },
  {
   "cell_type": "markdown",
   "metadata": {},
   "source": [
    "Ages classes: 16-24, 25-34, 35-44, 45-54, 55-64, 65-74, 75+"
   ]
  },
  {
   "cell_type": "markdown",
   "metadata": {},
   "source": [
    "Units: percentage"
   ]
  }
 ],
 "metadata": {
  "kernelspec": {
   "display_name": "Python 3 (ipykernel)",
   "language": "python",
   "name": "python3"
  },
  "language_info": {
   "codemirror_mode": {
    "name": "ipython",
    "version": 3
   },
   "file_extension": ".py",
   "mimetype": "text/x-python",
   "name": "python",
   "nbconvert_exporter": "python",
   "pygments_lexer": "ipython3",
   "version": "3.12.3"
  }
 },
 "nbformat": 4,
 "nbformat_minor": 4
}
