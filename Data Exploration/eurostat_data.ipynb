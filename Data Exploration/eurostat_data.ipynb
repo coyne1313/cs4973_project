{
 "cells": [
  {
   "cell_type": "code",
   "execution_count": 1,
   "metadata": {},
   "outputs": [],
   "source": [
    "import requests\n",
    "import json\n",
    "import pandas as pd\n",
    "import numpy as np\n",
    "from bs4 import BeautifulSoup\n",
    "from pyjstat import pyjstat\n",
    "import plotly.express as px"
   ]
  },
  {
   "cell_type": "markdown",
   "metadata": {},
   "source": [
    "# Data Cleaning \n",
    "I start off by just testing out the eurostat dataset, then make functions for getting specific data for countries/types of crime and predicting the crime levels"
   ]
  },
  {
   "cell_type": "code",
   "execution_count": 2,
   "metadata": {},
   "outputs": [],
   "source": [
    "def get_eurostat_data(article_title, *args):\n",
    "    '''\n",
    "    To Do:\n",
    "        - Write *args\n",
    "        - Write _url_builder() helper func.\n",
    "    '''\n",
    "    \n",
    "    article_title = article_title.upper()\n",
    "    url = f'https://ec.europa.eu/eurostat/api/dissemination/statistics/1.0/data/{article_title}?format=JSON&lang=EN'\n",
    "\n",
    "    output = pyjstat.Dataset.read(url)\n",
    "    df = output.write('dataframe')\n",
    "\n",
    "    return df"
   ]
  },
  {
   "cell_type": "code",
   "execution_count": 18,
   "metadata": {},
   "outputs": [],
   "source": [
    "df_crime = get_eurostat_data(\"crim_off_cat\")"
   ]
  },
  {
   "cell_type": "code",
   "execution_count": 19,
   "metadata": {},
   "outputs": [
    {
     "data": {
      "text/html": [
       "<div>\n",
       "<style scoped>\n",
       "    .dataframe tbody tr th:only-of-type {\n",
       "        vertical-align: middle;\n",
       "    }\n",
       "\n",
       "    .dataframe tbody tr th {\n",
       "        vertical-align: top;\n",
       "    }\n",
       "\n",
       "    .dataframe thead th {\n",
       "        text-align: right;\n",
       "    }\n",
       "</style>\n",
       "<table border=\"1\" class=\"dataframe\">\n",
       "  <thead>\n",
       "    <tr style=\"text-align: right;\">\n",
       "      <th></th>\n",
       "      <th>Time frequency</th>\n",
       "      <th>International classification of crime for statistical purposes (ICCS)</th>\n",
       "      <th>Unit of measure</th>\n",
       "      <th>Geopolitical entity (reporting)</th>\n",
       "      <th>Time</th>\n",
       "      <th>value</th>\n",
       "    </tr>\n",
       "  </thead>\n",
       "  <tbody>\n",
       "    <tr>\n",
       "      <th>0</th>\n",
       "      <td>Annual</td>\n",
       "      <td>Intentional homicide</td>\n",
       "      <td>Number</td>\n",
       "      <td>Belgium</td>\n",
       "      <td>2008</td>\n",
       "      <td>204.00</td>\n",
       "    </tr>\n",
       "    <tr>\n",
       "      <th>1</th>\n",
       "      <td>Annual</td>\n",
       "      <td>Intentional homicide</td>\n",
       "      <td>Number</td>\n",
       "      <td>Belgium</td>\n",
       "      <td>2009</td>\n",
       "      <td>189.00</td>\n",
       "    </tr>\n",
       "    <tr>\n",
       "      <th>2</th>\n",
       "      <td>Annual</td>\n",
       "      <td>Intentional homicide</td>\n",
       "      <td>Number</td>\n",
       "      <td>Belgium</td>\n",
       "      <td>2010</td>\n",
       "      <td>189.00</td>\n",
       "    </tr>\n",
       "    <tr>\n",
       "      <th>3</th>\n",
       "      <td>Annual</td>\n",
       "      <td>Intentional homicide</td>\n",
       "      <td>Number</td>\n",
       "      <td>Belgium</td>\n",
       "      <td>2011</td>\n",
       "      <td>214.00</td>\n",
       "    </tr>\n",
       "    <tr>\n",
       "      <th>4</th>\n",
       "      <td>Annual</td>\n",
       "      <td>Intentional homicide</td>\n",
       "      <td>Number</td>\n",
       "      <td>Belgium</td>\n",
       "      <td>2012</td>\n",
       "      <td>206.00</td>\n",
       "    </tr>\n",
       "    <tr>\n",
       "      <th>...</th>\n",
       "      <td>...</td>\n",
       "      <td>...</td>\n",
       "      <td>...</td>\n",
       "      <td>...</td>\n",
       "      <td>...</td>\n",
       "      <td>...</td>\n",
       "    </tr>\n",
       "    <tr>\n",
       "      <th>25825</th>\n",
       "      <td>Annual</td>\n",
       "      <td>Participation in an organized criminal group</td>\n",
       "      <td>Per hundred thousand inhabitants</td>\n",
       "      <td>Kosovo*</td>\n",
       "      <td>2018</td>\n",
       "      <td>0.11</td>\n",
       "    </tr>\n",
       "    <tr>\n",
       "      <th>25826</th>\n",
       "      <td>Annual</td>\n",
       "      <td>Participation in an organized criminal group</td>\n",
       "      <td>Per hundred thousand inhabitants</td>\n",
       "      <td>Kosovo*</td>\n",
       "      <td>2019</td>\n",
       "      <td>0.17</td>\n",
       "    </tr>\n",
       "    <tr>\n",
       "      <th>25827</th>\n",
       "      <td>Annual</td>\n",
       "      <td>Participation in an organized criminal group</td>\n",
       "      <td>Per hundred thousand inhabitants</td>\n",
       "      <td>Kosovo*</td>\n",
       "      <td>2020</td>\n",
       "      <td>0.28</td>\n",
       "    </tr>\n",
       "    <tr>\n",
       "      <th>25828</th>\n",
       "      <td>Annual</td>\n",
       "      <td>Participation in an organized criminal group</td>\n",
       "      <td>Per hundred thousand inhabitants</td>\n",
       "      <td>Kosovo*</td>\n",
       "      <td>2021</td>\n",
       "      <td>NaN</td>\n",
       "    </tr>\n",
       "    <tr>\n",
       "      <th>25829</th>\n",
       "      <td>Annual</td>\n",
       "      <td>Participation in an organized criminal group</td>\n",
       "      <td>Per hundred thousand inhabitants</td>\n",
       "      <td>Kosovo*</td>\n",
       "      <td>2022</td>\n",
       "      <td>NaN</td>\n",
       "    </tr>\n",
       "  </tbody>\n",
       "</table>\n",
       "<p>25830 rows × 6 columns</p>\n",
       "</div>"
      ],
      "text/plain": [
       "      Time frequency  \\\n",
       "0             Annual   \n",
       "1             Annual   \n",
       "2             Annual   \n",
       "3             Annual   \n",
       "4             Annual   \n",
       "...              ...   \n",
       "25825         Annual   \n",
       "25826         Annual   \n",
       "25827         Annual   \n",
       "25828         Annual   \n",
       "25829         Annual   \n",
       "\n",
       "      International classification of crime for statistical purposes (ICCS)  \\\n",
       "0                                   Intentional homicide                      \n",
       "1                                   Intentional homicide                      \n",
       "2                                   Intentional homicide                      \n",
       "3                                   Intentional homicide                      \n",
       "4                                   Intentional homicide                      \n",
       "...                                                  ...                      \n",
       "25825       Participation in an organized criminal group                      \n",
       "25826       Participation in an organized criminal group                      \n",
       "25827       Participation in an organized criminal group                      \n",
       "25828       Participation in an organized criminal group                      \n",
       "25829       Participation in an organized criminal group                      \n",
       "\n",
       "                        Unit of measure Geopolitical entity (reporting)  Time  \\\n",
       "0                                Number                         Belgium  2008   \n",
       "1                                Number                         Belgium  2009   \n",
       "2                                Number                         Belgium  2010   \n",
       "3                                Number                         Belgium  2011   \n",
       "4                                Number                         Belgium  2012   \n",
       "...                                 ...                             ...   ...   \n",
       "25825  Per hundred thousand inhabitants                         Kosovo*  2018   \n",
       "25826  Per hundred thousand inhabitants                         Kosovo*  2019   \n",
       "25827  Per hundred thousand inhabitants                         Kosovo*  2020   \n",
       "25828  Per hundred thousand inhabitants                         Kosovo*  2021   \n",
       "25829  Per hundred thousand inhabitants                         Kosovo*  2022   \n",
       "\n",
       "        value  \n",
       "0      204.00  \n",
       "1      189.00  \n",
       "2      189.00  \n",
       "3      214.00  \n",
       "4      206.00  \n",
       "...       ...  \n",
       "25825    0.11  \n",
       "25826    0.17  \n",
       "25827    0.28  \n",
       "25828     NaN  \n",
       "25829     NaN  \n",
       "\n",
       "[25830 rows x 6 columns]"
      ]
     },
     "execution_count": 19,
     "metadata": {},
     "output_type": "execute_result"
    }
   ],
   "source": [
    "df_crime.loc[:, \"Time\"] = df_crime.loc[:, \"Time\"].astype(int)\n",
    "df_crime"
   ]
  },
  {
   "cell_type": "code",
   "execution_count": 20,
   "metadata": {},
   "outputs": [
    {
     "data": {
      "text/plain": [
       "array(['Intentional homicide', 'Attempted intentional homicide',\n",
       "       'Serious assault', 'Kidnapping', 'Sexual violence', 'Rape',\n",
       "       'Sexual assault', 'Sexual exploitation', 'Child pornography',\n",
       "       'Robbery', 'Burglary', 'Burglary of private residential premises',\n",
       "       'Theft', 'Theft of a motorized vehicle or parts thereof',\n",
       "       'Unlawful acts involving controlled drugs or precursors', 'Fraud',\n",
       "       'Corruption', 'Bribery', 'Money laundering',\n",
       "       'Acts against computer systems',\n",
       "       'Participation in an organized criminal group'], dtype=object)"
      ]
     },
     "execution_count": 20,
     "metadata": {},
     "output_type": "execute_result"
    }
   ],
   "source": [
    "\n",
    "df_crime = df_crime.rename(columns={\"Geopolitical entity (reporting)\" : \"country\"})\n",
    "\n",
    "\n",
    "df_crime.loc[df_crime.country == \"Türkiye\", \"country\"] = \"Turkey\"\n",
    "df_crime[\"International classification of crime for statistical purposes (ICCS)\"].unique()\n"
   ]
  },
  {
   "cell_type": "code",
   "execution_count": 13,
   "metadata": {},
   "outputs": [
    {
     "data": {
      "text/plain": [
       "['Austria',\n",
       " 'Belgium',\n",
       " 'Bulgaria',\n",
       " 'Croatia',\n",
       " 'Cyprus',\n",
       " 'Czechia',\n",
       " 'Czech Republic',\n",
       " 'Denmark',\n",
       " 'Estonia',\n",
       " 'Finland',\n",
       " 'France',\n",
       " 'Germany',\n",
       " 'Greece',\n",
       " 'Hungary',\n",
       " 'Ireland',\n",
       " 'Italy',\n",
       " 'Latvia',\n",
       " 'Lithuania',\n",
       " 'Luxembourg',\n",
       " 'Malta',\n",
       " 'Netherlands',\n",
       " 'Poland',\n",
       " 'Portugal',\n",
       " 'Romania',\n",
       " 'Slovakia',\n",
       " 'Slovenia',\n",
       " 'Spain',\n",
       " 'Sweden']"
      ]
     },
     "execution_count": 13,
     "metadata": {},
     "output_type": "execute_result"
    }
   ],
   "source": [
    "countries = \"Austria, Belgium, Bulgaria, Croatia, Cyprus, Czechia, Czech Republic, Denmark, Estonia, Finland, France, Germany, Greece, Hungary, Ireland, Italy, Latvia, Lithuania, Luxembourg, Malta, Netherlands, Poland, Portugal, Romania, Slovakia, Slovenia, Spain, Sweden\"\n",
    "eu_countries = countries.split(\", \")\n",
    "eu_countries\n"
   ]
  },
  {
   "cell_type": "code",
   "execution_count": 22,
   "metadata": {},
   "outputs": [],
   "source": [
    "df_crime = df_crime[df_crime[\"country\"].isin(eu_countries)]\n",
    "df_homicide_be = df_crime[(df_crime.country == \"Belgium\") & (df_crime[\"Unit of measure\"] == \"Per hundred thousand inhabitants\" ) & \n",
    "                                            (df_crime[\"International classification of crime for statistical purposes (ICCS)\"] == \"Intentional homicide\")]\n",
    "\n",
    "\n",
    "\n"
   ]
  },
  {
   "cell_type": "code",
   "execution_count": 64,
   "metadata": {},
   "outputs": [
    {
     "data": {
      "text/html": [
       "<div>\n",
       "<style scoped>\n",
       "    .dataframe tbody tr th:only-of-type {\n",
       "        vertical-align: middle;\n",
       "    }\n",
       "\n",
       "    .dataframe tbody tr th {\n",
       "        vertical-align: top;\n",
       "    }\n",
       "\n",
       "    .dataframe thead th {\n",
       "        text-align: right;\n",
       "    }\n",
       "</style>\n",
       "<table border=\"1\" class=\"dataframe\">\n",
       "  <thead>\n",
       "    <tr style=\"text-align: right;\">\n",
       "      <th></th>\n",
       "      <th>Time frequency</th>\n",
       "      <th>International classification of crime for statistical purposes (ICCS)</th>\n",
       "      <th>Unit of measure</th>\n",
       "      <th>country</th>\n",
       "      <th>Year</th>\n",
       "      <th>Amount (Per 100k)</th>\n",
       "    </tr>\n",
       "  </thead>\n",
       "  <tbody>\n",
       "    <tr>\n",
       "      <th>615</th>\n",
       "      <td>Annual</td>\n",
       "      <td>Intentional homicide</td>\n",
       "      <td>Per hundred thousand inhabitants</td>\n",
       "      <td>Belgium</td>\n",
       "      <td>2008</td>\n",
       "      <td>1.91</td>\n",
       "    </tr>\n",
       "    <tr>\n",
       "      <th>616</th>\n",
       "      <td>Annual</td>\n",
       "      <td>Intentional homicide</td>\n",
       "      <td>Per hundred thousand inhabitants</td>\n",
       "      <td>Belgium</td>\n",
       "      <td>2009</td>\n",
       "      <td>1.76</td>\n",
       "    </tr>\n",
       "    <tr>\n",
       "      <th>617</th>\n",
       "      <td>Annual</td>\n",
       "      <td>Intentional homicide</td>\n",
       "      <td>Per hundred thousand inhabitants</td>\n",
       "      <td>Belgium</td>\n",
       "      <td>2010</td>\n",
       "      <td>1.74</td>\n",
       "    </tr>\n",
       "    <tr>\n",
       "      <th>618</th>\n",
       "      <td>Annual</td>\n",
       "      <td>Intentional homicide</td>\n",
       "      <td>Per hundred thousand inhabitants</td>\n",
       "      <td>Belgium</td>\n",
       "      <td>2011</td>\n",
       "      <td>1.95</td>\n",
       "    </tr>\n",
       "    <tr>\n",
       "      <th>619</th>\n",
       "      <td>Annual</td>\n",
       "      <td>Intentional homicide</td>\n",
       "      <td>Per hundred thousand inhabitants</td>\n",
       "      <td>Belgium</td>\n",
       "      <td>2012</td>\n",
       "      <td>1.86</td>\n",
       "    </tr>\n",
       "    <tr>\n",
       "      <th>620</th>\n",
       "      <td>Annual</td>\n",
       "      <td>Intentional homicide</td>\n",
       "      <td>Per hundred thousand inhabitants</td>\n",
       "      <td>Belgium</td>\n",
       "      <td>2013</td>\n",
       "      <td>1.83</td>\n",
       "    </tr>\n",
       "    <tr>\n",
       "      <th>621</th>\n",
       "      <td>Annual</td>\n",
       "      <td>Intentional homicide</td>\n",
       "      <td>Per hundred thousand inhabitants</td>\n",
       "      <td>Belgium</td>\n",
       "      <td>2014</td>\n",
       "      <td>1.88</td>\n",
       "    </tr>\n",
       "    <tr>\n",
       "      <th>622</th>\n",
       "      <td>Annual</td>\n",
       "      <td>Intentional homicide</td>\n",
       "      <td>Per hundred thousand inhabitants</td>\n",
       "      <td>Belgium</td>\n",
       "      <td>2015</td>\n",
       "      <td>2.06</td>\n",
       "    </tr>\n",
       "    <tr>\n",
       "      <th>623</th>\n",
       "      <td>Annual</td>\n",
       "      <td>Intentional homicide</td>\n",
       "      <td>Per hundred thousand inhabitants</td>\n",
       "      <td>Belgium</td>\n",
       "      <td>2016</td>\n",
       "      <td>1.55</td>\n",
       "    </tr>\n",
       "    <tr>\n",
       "      <th>624</th>\n",
       "      <td>Annual</td>\n",
       "      <td>Intentional homicide</td>\n",
       "      <td>Per hundred thousand inhabitants</td>\n",
       "      <td>Belgium</td>\n",
       "      <td>2017</td>\n",
       "      <td>1.74</td>\n",
       "    </tr>\n",
       "    <tr>\n",
       "      <th>625</th>\n",
       "      <td>Annual</td>\n",
       "      <td>Intentional homicide</td>\n",
       "      <td>Per hundred thousand inhabitants</td>\n",
       "      <td>Belgium</td>\n",
       "      <td>2018</td>\n",
       "      <td>1.68</td>\n",
       "    </tr>\n",
       "    <tr>\n",
       "      <th>626</th>\n",
       "      <td>Annual</td>\n",
       "      <td>Intentional homicide</td>\n",
       "      <td>Per hundred thousand inhabitants</td>\n",
       "      <td>Belgium</td>\n",
       "      <td>2019</td>\n",
       "      <td>1.28</td>\n",
       "    </tr>\n",
       "    <tr>\n",
       "      <th>627</th>\n",
       "      <td>Annual</td>\n",
       "      <td>Intentional homicide</td>\n",
       "      <td>Per hundred thousand inhabitants</td>\n",
       "      <td>Belgium</td>\n",
       "      <td>2020</td>\n",
       "      <td>1.30</td>\n",
       "    </tr>\n",
       "    <tr>\n",
       "      <th>628</th>\n",
       "      <td>Annual</td>\n",
       "      <td>Intentional homicide</td>\n",
       "      <td>Per hundred thousand inhabitants</td>\n",
       "      <td>Belgium</td>\n",
       "      <td>2021</td>\n",
       "      <td>1.33</td>\n",
       "    </tr>\n",
       "    <tr>\n",
       "      <th>629</th>\n",
       "      <td>Annual</td>\n",
       "      <td>Intentional homicide</td>\n",
       "      <td>Per hundred thousand inhabitants</td>\n",
       "      <td>Belgium</td>\n",
       "      <td>2022</td>\n",
       "      <td>1.54</td>\n",
       "    </tr>\n",
       "  </tbody>\n",
       "</table>\n",
       "</div>"
      ],
      "text/plain": [
       "    Time frequency  \\\n",
       "615         Annual   \n",
       "616         Annual   \n",
       "617         Annual   \n",
       "618         Annual   \n",
       "619         Annual   \n",
       "620         Annual   \n",
       "621         Annual   \n",
       "622         Annual   \n",
       "623         Annual   \n",
       "624         Annual   \n",
       "625         Annual   \n",
       "626         Annual   \n",
       "627         Annual   \n",
       "628         Annual   \n",
       "629         Annual   \n",
       "\n",
       "    International classification of crime for statistical purposes (ICCS)  \\\n",
       "615                               Intentional homicide                      \n",
       "616                               Intentional homicide                      \n",
       "617                               Intentional homicide                      \n",
       "618                               Intentional homicide                      \n",
       "619                               Intentional homicide                      \n",
       "620                               Intentional homicide                      \n",
       "621                               Intentional homicide                      \n",
       "622                               Intentional homicide                      \n",
       "623                               Intentional homicide                      \n",
       "624                               Intentional homicide                      \n",
       "625                               Intentional homicide                      \n",
       "626                               Intentional homicide                      \n",
       "627                               Intentional homicide                      \n",
       "628                               Intentional homicide                      \n",
       "629                               Intentional homicide                      \n",
       "\n",
       "                      Unit of measure  country  Year  Amount (Per 100k)  \n",
       "615  Per hundred thousand inhabitants  Belgium  2008               1.91  \n",
       "616  Per hundred thousand inhabitants  Belgium  2009               1.76  \n",
       "617  Per hundred thousand inhabitants  Belgium  2010               1.74  \n",
       "618  Per hundred thousand inhabitants  Belgium  2011               1.95  \n",
       "619  Per hundred thousand inhabitants  Belgium  2012               1.86  \n",
       "620  Per hundred thousand inhabitants  Belgium  2013               1.83  \n",
       "621  Per hundred thousand inhabitants  Belgium  2014               1.88  \n",
       "622  Per hundred thousand inhabitants  Belgium  2015               2.06  \n",
       "623  Per hundred thousand inhabitants  Belgium  2016               1.55  \n",
       "624  Per hundred thousand inhabitants  Belgium  2017               1.74  \n",
       "625  Per hundred thousand inhabitants  Belgium  2018               1.68  \n",
       "626  Per hundred thousand inhabitants  Belgium  2019               1.28  \n",
       "627  Per hundred thousand inhabitants  Belgium  2020               1.30  \n",
       "628  Per hundred thousand inhabitants  Belgium  2021               1.33  \n",
       "629  Per hundred thousand inhabitants  Belgium  2022               1.54  "
      ]
     },
     "execution_count": 64,
     "metadata": {},
     "output_type": "execute_result"
    }
   ],
   "source": [
    "#get large dataset, clean it\n",
    "df = get_eurostat_data(\"crim_off_cat\")\n",
    "df[\"Time\"] = df[\"Time\"].astype(int)\n",
    "\n",
    "df = df.rename(columns={\"Time\" : \"Year\"})\n",
    "\n",
    "\n",
    "#get EU countries\n",
    "countries = \"Austria, Belgium, Bulgaria, Croatia, Cyprus, Czechia, Denmark, Estonia, Finland, France, Germany, Greece, Hungary, Ireland, Italy, Latvia, Lithuania, Luxembourg, Malta, Netherlands, Poland, Portugal, Romania, Slovakia, Slovenia, Spain, Sweden\"\n",
    "eu_countries = countries.split(\", \")\n",
    "\n",
    "#rename to country\n",
    "df = df.rename(columns={\"Geopolitical entity (reporting)\" : \"country\", \n",
    "                        \"value\" : \"Amount (Per 100k)\"})\n",
    "\n",
    "#change turkeys name\n",
    "df.loc[df.country == \"Türkiye\", \"country\"] = \"Turkey\"\n",
    "\n",
    "#include only EU countries\n",
    "df = df[df[\"country\"].isin(eu_countries)]\n",
    "\n",
    "\n",
    "def get_crime_data(country, *args):\n",
    "     if len(args) > 0:\n",
    "          return df[(df.country == country) & (df[\"Unit of measure\"] == \"Per hundred thousand inhabitants\" ) & \n",
    "                                            (df[\"International classification of crime for statistical purposes (ICCS)\"] == args[0])]\n",
    "     return df[(df.country == country) & (df[\"Unit of measure\"] == \"Per hundred thousand inhabitants\" )]\n",
    "\n",
    "    \n",
    "    "
   ]
  },
  {
   "cell_type": "code",
   "execution_count": 80,
   "metadata": {},
   "outputs": [],
   "source": [
    "df[\"International classification of crime for statistical purposes (ICCS)\"].unique()\n",
    "\n",
    "violent = ['Intentional homicide', 'Attempted intentional homicide',\n",
    "       'Serious assault', 'Kidnapping']\n",
    "\n",
    "sexual = ['Sexual violence', 'Rape',\n",
    "       'Sexual assault', 'Sexual exploitation', 'Child pornography']\n",
    "\n",
    "stealing = ['Robbery', 'Burglary', 'Burglary of private residential premises',\n",
    "       'Theft', 'Theft of a motorized vehicle or parts thereof']\n",
    "\n",
    "drugs = ['Unlawful acts involving controlled drugs or precursors']\n",
    "\n",
    "white_collar = ['Fraud',\n",
    "       'Corruption', 'Bribery', 'Money laundering',\n",
    "       'Acts against computer systems',\n",
    "       'Participation in an organized criminal group']\n",
    "\n",
    "crime_categories = [violent, sexual, stealing, drugs, white_collar]\n",
    "\n",
    "df_crime = get_eurostat_data(\"crim_off_cat\")\n",
    "\n",
    "\n",
    "\n"
   ]
  },
  {
   "cell_type": "code",
   "execution_count": 105,
   "metadata": {},
   "outputs": [
    {
     "data": {
      "text/html": [
       "<div>\n",
       "<style scoped>\n",
       "    .dataframe tbody tr th:only-of-type {\n",
       "        vertical-align: middle;\n",
       "    }\n",
       "\n",
       "    .dataframe tbody tr th {\n",
       "        vertical-align: top;\n",
       "    }\n",
       "\n",
       "    .dataframe thead th {\n",
       "        text-align: right;\n",
       "    }\n",
       "</style>\n",
       "<table border=\"1\" class=\"dataframe\">\n",
       "  <thead>\n",
       "    <tr style=\"text-align: right;\">\n",
       "      <th></th>\n",
       "      <th>country</th>\n",
       "      <th>violent</th>\n",
       "      <th>sexual</th>\n",
       "      <th>stealing</th>\n",
       "      <th>drugs</th>\n",
       "      <th>white_collar</th>\n",
       "    </tr>\n",
       "  </thead>\n",
       "  <tbody>\n",
       "    <tr>\n",
       "      <th>0</th>\n",
       "      <td>Austria</td>\n",
       "      <td>50.47</td>\n",
       "      <td>131.76</td>\n",
       "      <td>1764.21</td>\n",
       "      <td>392.39</td>\n",
       "      <td>1074.51</td>\n",
       "    </tr>\n",
       "    <tr>\n",
       "      <th>1</th>\n",
       "      <td>Belgium</td>\n",
       "      <td>572.04</td>\n",
       "      <td>202.26</td>\n",
       "      <td>2664.35</td>\n",
       "      <td>484.04</td>\n",
       "      <td>1141.27</td>\n",
       "    </tr>\n",
       "    <tr>\n",
       "      <th>2</th>\n",
       "      <td>Bulgaria</td>\n",
       "      <td>48.77</td>\n",
       "      <td>17.53</td>\n",
       "      <td>575.33</td>\n",
       "      <td>78.32</td>\n",
       "      <td>45.17</td>\n",
       "    </tr>\n",
       "    <tr>\n",
       "      <th>3</th>\n",
       "      <td>Croatia</td>\n",
       "      <td>23.74</td>\n",
       "      <td>52.32</td>\n",
       "      <td>592.68</td>\n",
       "      <td>237.81</td>\n",
       "      <td>172.74</td>\n",
       "    </tr>\n",
       "    <tr>\n",
       "      <th>4</th>\n",
       "      <td>Cyprus</td>\n",
       "      <td>22.87</td>\n",
       "      <td>31.72</td>\n",
       "      <td>203.05</td>\n",
       "      <td>113.30</td>\n",
       "      <td>70.62</td>\n",
       "    </tr>\n",
       "    <tr>\n",
       "      <th>5</th>\n",
       "      <td>Czechia</td>\n",
       "      <td>41.03</td>\n",
       "      <td>43.48</td>\n",
       "      <td>754.10</td>\n",
       "      <td>39.94</td>\n",
       "      <td>203.97</td>\n",
       "    </tr>\n",
       "    <tr>\n",
       "      <th>6</th>\n",
       "      <td>Denmark</td>\n",
       "      <td>40.12</td>\n",
       "      <td>271.67</td>\n",
       "      <td>3468.77</td>\n",
       "      <td>532.38</td>\n",
       "      <td>1133.53</td>\n",
       "    </tr>\n",
       "    <tr>\n",
       "      <th>7</th>\n",
       "      <td>Estonia</td>\n",
       "      <td>6.39</td>\n",
       "      <td>49.48</td>\n",
       "      <td>656.56</td>\n",
       "      <td>235.02</td>\n",
       "      <td>235.62</td>\n",
       "    </tr>\n",
       "    <tr>\n",
       "      <th>8</th>\n",
       "      <td>Finland</td>\n",
       "      <td>38.94</td>\n",
       "      <td>201.32</td>\n",
       "      <td>2560.43</td>\n",
       "      <td>454.31</td>\n",
       "      <td>1096.18</td>\n",
       "    </tr>\n",
       "    <tr>\n",
       "      <th>9</th>\n",
       "      <td>France</td>\n",
       "      <td>583.80</td>\n",
       "      <td>270.45</td>\n",
       "      <td>2500.81</td>\n",
       "      <td>488.82</td>\n",
       "      <td>417.65</td>\n",
       "    </tr>\n",
       "    <tr>\n",
       "      <th>10</th>\n",
       "      <td>Germany</td>\n",
       "      <td>182.49</td>\n",
       "      <td>176.24</td>\n",
       "      <td>1692.27</td>\n",
       "      <td>409.28</td>\n",
       "      <td>1022.49</td>\n",
       "    </tr>\n",
       "    <tr>\n",
       "      <th>11</th>\n",
       "      <td>Greece</td>\n",
       "      <td>16.04</td>\n",
       "      <td>8.31</td>\n",
       "      <td>1079.88</td>\n",
       "      <td>114.96</td>\n",
       "      <td>117.91</td>\n",
       "    </tr>\n",
       "    <tr>\n",
       "      <th>12</th>\n",
       "      <td>Hungary</td>\n",
       "      <td>1.97</td>\n",
       "      <td>16.89</td>\n",
       "      <td>507.26</td>\n",
       "      <td>76.56</td>\n",
       "      <td>301.35</td>\n",
       "    </tr>\n",
       "    <tr>\n",
       "      <th>13</th>\n",
       "      <td>Ireland</td>\n",
       "      <td>123.31</td>\n",
       "      <td>132.91</td>\n",
       "      <td>1521.37</td>\n",
       "      <td>329.33</td>\n",
       "      <td>215.52</td>\n",
       "    </tr>\n",
       "    <tr>\n",
       "      <th>14</th>\n",
       "      <td>Italy</td>\n",
       "      <td>3.97</td>\n",
       "      <td>15.35</td>\n",
       "      <td>1915.46</td>\n",
       "      <td>49.39</td>\n",
       "      <td>760.54</td>\n",
       "    </tr>\n",
       "    <tr>\n",
       "      <th>15</th>\n",
       "      <td>Latvia</td>\n",
       "      <td>34.60</td>\n",
       "      <td>54.91</td>\n",
       "      <td>727.33</td>\n",
       "      <td>67.49</td>\n",
       "      <td>169.06</td>\n",
       "    </tr>\n",
       "    <tr>\n",
       "      <th>16</th>\n",
       "      <td>Lithuania</td>\n",
       "      <td>7.84</td>\n",
       "      <td>25.34</td>\n",
       "      <td>427.55</td>\n",
       "      <td>109.76</td>\n",
       "      <td>206.37</td>\n",
       "    </tr>\n",
       "    <tr>\n",
       "      <th>17</th>\n",
       "      <td>Luxembourg</td>\n",
       "      <td>131.23</td>\n",
       "      <td>82.12</td>\n",
       "      <td>3626.60</td>\n",
       "      <td>555.63</td>\n",
       "      <td>737.38</td>\n",
       "    </tr>\n",
       "    <tr>\n",
       "      <th>18</th>\n",
       "      <td>Malta</td>\n",
       "      <td>44.73</td>\n",
       "      <td>57.97</td>\n",
       "      <td>1019.64</td>\n",
       "      <td>40.31</td>\n",
       "      <td>420.16</td>\n",
       "    </tr>\n",
       "    <tr>\n",
       "      <th>19</th>\n",
       "      <td>Netherlands</td>\n",
       "      <td>28.69</td>\n",
       "      <td>69.21</td>\n",
       "      <td>1858.06</td>\n",
       "      <td>66.54</td>\n",
       "      <td>39.51</td>\n",
       "    </tr>\n",
       "    <tr>\n",
       "      <th>20</th>\n",
       "      <td>Poland</td>\n",
       "      <td>14.95</td>\n",
       "      <td>25.92</td>\n",
       "      <td>544.72</td>\n",
       "      <td>186.18</td>\n",
       "      <td>511.01</td>\n",
       "    </tr>\n",
       "    <tr>\n",
       "      <th>21</th>\n",
       "      <td>Portugal</td>\n",
       "      <td>10.29</td>\n",
       "      <td>62.37</td>\n",
       "      <td>1125.25</td>\n",
       "      <td>62.39</td>\n",
       "      <td>455.69</td>\n",
       "    </tr>\n",
       "    <tr>\n",
       "      <th>22</th>\n",
       "      <td>Romania</td>\n",
       "      <td>5.80</td>\n",
       "      <td>34.96</td>\n",
       "      <td>566.73</td>\n",
       "      <td>48.54</td>\n",
       "      <td>103.08</td>\n",
       "    </tr>\n",
       "    <tr>\n",
       "      <th>23</th>\n",
       "      <td>Slovakia</td>\n",
       "      <td>25.48</td>\n",
       "      <td>15.11</td>\n",
       "      <td>352.28</td>\n",
       "      <td>28.34</td>\n",
       "      <td>46.10</td>\n",
       "    </tr>\n",
       "    <tr>\n",
       "      <th>24</th>\n",
       "      <td>Slovenia</td>\n",
       "      <td>7.36</td>\n",
       "      <td>36.41</td>\n",
       "      <td>1387.97</td>\n",
       "      <td>65.59</td>\n",
       "      <td>226.98</td>\n",
       "    </tr>\n",
       "    <tr>\n",
       "      <th>25</th>\n",
       "      <td>Spain</td>\n",
       "      <td>59.18</td>\n",
       "      <td>75.03</td>\n",
       "      <td>1063.29</td>\n",
       "      <td>40.18</td>\n",
       "      <td>947.58</td>\n",
       "    </tr>\n",
       "    <tr>\n",
       "      <th>26</th>\n",
       "      <td>Sweden</td>\n",
       "      <td>55.23</td>\n",
       "      <td>443.83</td>\n",
       "      <td>4075.44</td>\n",
       "      <td>1108.60</td>\n",
       "      <td>2799.87</td>\n",
       "    </tr>\n",
       "  </tbody>\n",
       "</table>\n",
       "</div>"
      ],
      "text/plain": [
       "        country  violent  sexual  stealing    drugs  white_collar\n",
       "0       Austria    50.47  131.76   1764.21   392.39       1074.51\n",
       "1       Belgium   572.04  202.26   2664.35   484.04       1141.27\n",
       "2      Bulgaria    48.77   17.53    575.33    78.32         45.17\n",
       "3       Croatia    23.74   52.32    592.68   237.81        172.74\n",
       "4        Cyprus    22.87   31.72    203.05   113.30         70.62\n",
       "5       Czechia    41.03   43.48    754.10    39.94        203.97\n",
       "6       Denmark    40.12  271.67   3468.77   532.38       1133.53\n",
       "7       Estonia     6.39   49.48    656.56   235.02        235.62\n",
       "8       Finland    38.94  201.32   2560.43   454.31       1096.18\n",
       "9        France   583.80  270.45   2500.81   488.82        417.65\n",
       "10      Germany   182.49  176.24   1692.27   409.28       1022.49\n",
       "11       Greece    16.04    8.31   1079.88   114.96        117.91\n",
       "12      Hungary     1.97   16.89    507.26    76.56        301.35\n",
       "13      Ireland   123.31  132.91   1521.37   329.33        215.52\n",
       "14        Italy     3.97   15.35   1915.46    49.39        760.54\n",
       "15       Latvia    34.60   54.91    727.33    67.49        169.06\n",
       "16    Lithuania     7.84   25.34    427.55   109.76        206.37\n",
       "17   Luxembourg   131.23   82.12   3626.60   555.63        737.38\n",
       "18        Malta    44.73   57.97   1019.64    40.31        420.16\n",
       "19  Netherlands    28.69   69.21   1858.06    66.54         39.51\n",
       "20       Poland    14.95   25.92    544.72   186.18        511.01\n",
       "21     Portugal    10.29   62.37   1125.25    62.39        455.69\n",
       "22      Romania     5.80   34.96    566.73    48.54        103.08\n",
       "23     Slovakia    25.48   15.11    352.28    28.34         46.10\n",
       "24     Slovenia     7.36   36.41   1387.97    65.59        226.98\n",
       "25        Spain    59.18   75.03   1063.29    40.18        947.58\n",
       "26       Sweden    55.23  443.83   4075.44  1108.60       2799.87"
      ]
     },
     "execution_count": 105,
     "metadata": {},
     "output_type": "execute_result"
    }
   ],
   "source": [
    "crime_dict = {\"country\" : [], \"violent\" : [], \"sexual\" : [], \"stealing\" : [], \"drugs\" : [], \"white_collar\" : []}\n",
    "#test = []\n",
    "\n",
    "\n",
    "#so inefficient, but works (could optimize but already had get_crime_data method written)\n",
    "for country in eu_countries:\n",
    "\n",
    "    crime_dict[\"country\"].append(country)\n",
    "    i = 0\n",
    "    for category in crime_categories:\n",
    "       \n",
    "       sum = 0;\n",
    "       crime_bool = (df_crime[\"International classification of crime for statistical purposes (ICCS)\"] == category[0])\n",
    "       for crime in category[1:]:\n",
    "            crime_bool = (crime_bool) | (df_crime[\"International classification of crime for statistical purposes (ICCS)\"] == crime)\n",
    "        \n",
    "        \n",
    "       crime_bool = (crime_bool) & (df.country == country) & (df[\"Unit of measure\"] == \"Per hundred thousand inhabitants\" ) & (df_crime[\"Time\"] == \"2022\")\n",
    "       \n",
    "       df_category_crime = df_crime[crime_bool]\n",
    "\n",
    "       #if df_category_crime.shape != df_category_crime.dropna().shape :\n",
    "           #test.append(country)\n",
    "           #print(category[0])\n",
    "           \n",
    "       crime_dict[list(crime_dict.keys())[i + 1]].append(df_category_crime[\"value\"].sum())\n",
    "       i += 1\n",
    "\n",
    "pd.DataFrame(crime_dict)"
   ]
  },
  {
   "cell_type": "markdown",
   "metadata": {},
   "source": [
    "Now, I'm showing an individual data set's graph"
   ]
  },
  {
   "cell_type": "code",
   "execution_count": 24,
   "metadata": {},
   "outputs": [
    {
     "name": "stdout",
     "output_type": "stream",
     "text": [
      "    Time frequency  \\\n",
      "900         Annual   \n",
      "901         Annual   \n",
      "902         Annual   \n",
      "903         Annual   \n",
      "904         Annual   \n",
      "905         Annual   \n",
      "906         Annual   \n",
      "907         Annual   \n",
      "908         Annual   \n",
      "909         Annual   \n",
      "910         Annual   \n",
      "911         Annual   \n",
      "912         Annual   \n",
      "913         Annual   \n",
      "914         Annual   \n",
      "\n",
      "    International classification of crime for statistical purposes (ICCS)  \\\n",
      "900                               Intentional homicide                      \n",
      "901                               Intentional homicide                      \n",
      "902                               Intentional homicide                      \n",
      "903                               Intentional homicide                      \n",
      "904                               Intentional homicide                      \n",
      "905                               Intentional homicide                      \n",
      "906                               Intentional homicide                      \n",
      "907                               Intentional homicide                      \n",
      "908                               Intentional homicide                      \n",
      "909                               Intentional homicide                      \n",
      "910                               Intentional homicide                      \n",
      "911                               Intentional homicide                      \n",
      "912                               Intentional homicide                      \n",
      "913                               Intentional homicide                      \n",
      "914                               Intentional homicide                      \n",
      "\n",
      "                      Unit of measure  country  Year  Amount (Per 100k)  \n",
      "900  Per hundred thousand inhabitants  Austria  2008               0.70  \n",
      "901  Per hundred thousand inhabitants  Austria  2009               0.61  \n",
      "902  Per hundred thousand inhabitants  Austria  2010               0.73  \n",
      "903  Per hundred thousand inhabitants  Austria  2011               0.96  \n",
      "904  Per hundred thousand inhabitants  Austria  2012               1.05  \n",
      "905  Per hundred thousand inhabitants  Austria  2013               0.75  \n",
      "906  Per hundred thousand inhabitants  Austria  2014               0.51  \n",
      "907  Per hundred thousand inhabitants  Austria  2015               0.49  \n",
      "908  Per hundred thousand inhabitants  Austria  2016               0.56  \n",
      "909  Per hundred thousand inhabitants  Austria  2017               0.70  \n",
      "910  Per hundred thousand inhabitants  Austria  2018               0.83  \n",
      "911  Per hundred thousand inhabitants  Austria  2019               0.84  \n",
      "912  Per hundred thousand inhabitants  Austria  2020               0.61  \n",
      "913  Per hundred thousand inhabitants  Austria  2021               0.66  \n",
      "914  Per hundred thousand inhabitants  Austria  2022               0.72  \n"
     ]
    },
    {
     "data": {
      "application/vnd.plotly.v1+json": {
       "config": {
        "plotlyServerURL": "https://plot.ly"
       },
       "data": [
        {
         "hovertemplate": "Year=%{x}<br>Amount (Per 100k)=%{y}<extra></extra>",
         "legendgroup": "",
         "marker": {
          "color": "#636efa",
          "symbol": "circle"
         },
         "mode": "markers",
         "name": "",
         "orientation": "v",
         "showlegend": false,
         "type": "scatter",
         "x": [
          2008,
          2009,
          2010,
          2011,
          2012,
          2013,
          2014,
          2015,
          2016,
          2017,
          2018,
          2019,
          2020,
          2021,
          2022
         ],
         "xaxis": "x",
         "y": [
          0.7,
          0.61,
          0.73,
          0.96,
          1.05,
          0.75,
          0.51,
          0.49,
          0.56,
          0.7,
          0.83,
          0.84,
          0.61,
          0.66,
          0.72
         ],
         "yaxis": "y"
        }
       ],
       "layout": {
        "legend": {
         "tracegroupgap": 0
        },
        "margin": {
         "t": 60
        },
        "template": {
         "data": {
          "bar": [
           {
            "error_x": {
             "color": "#2a3f5f"
            },
            "error_y": {
             "color": "#2a3f5f"
            },
            "marker": {
             "line": {
              "color": "#E5ECF6",
              "width": 0.5
             },
             "pattern": {
              "fillmode": "overlay",
              "size": 10,
              "solidity": 0.2
             }
            },
            "type": "bar"
           }
          ],
          "barpolar": [
           {
            "marker": {
             "line": {
              "color": "#E5ECF6",
              "width": 0.5
             },
             "pattern": {
              "fillmode": "overlay",
              "size": 10,
              "solidity": 0.2
             }
            },
            "type": "barpolar"
           }
          ],
          "carpet": [
           {
            "aaxis": {
             "endlinecolor": "#2a3f5f",
             "gridcolor": "white",
             "linecolor": "white",
             "minorgridcolor": "white",
             "startlinecolor": "#2a3f5f"
            },
            "baxis": {
             "endlinecolor": "#2a3f5f",
             "gridcolor": "white",
             "linecolor": "white",
             "minorgridcolor": "white",
             "startlinecolor": "#2a3f5f"
            },
            "type": "carpet"
           }
          ],
          "choropleth": [
           {
            "colorbar": {
             "outlinewidth": 0,
             "ticks": ""
            },
            "type": "choropleth"
           }
          ],
          "contour": [
           {
            "colorbar": {
             "outlinewidth": 0,
             "ticks": ""
            },
            "colorscale": [
             [
              0,
              "#0d0887"
             ],
             [
              0.1111111111111111,
              "#46039f"
             ],
             [
              0.2222222222222222,
              "#7201a8"
             ],
             [
              0.3333333333333333,
              "#9c179e"
             ],
             [
              0.4444444444444444,
              "#bd3786"
             ],
             [
              0.5555555555555556,
              "#d8576b"
             ],
             [
              0.6666666666666666,
              "#ed7953"
             ],
             [
              0.7777777777777778,
              "#fb9f3a"
             ],
             [
              0.8888888888888888,
              "#fdca26"
             ],
             [
              1,
              "#f0f921"
             ]
            ],
            "type": "contour"
           }
          ],
          "contourcarpet": [
           {
            "colorbar": {
             "outlinewidth": 0,
             "ticks": ""
            },
            "type": "contourcarpet"
           }
          ],
          "heatmap": [
           {
            "colorbar": {
             "outlinewidth": 0,
             "ticks": ""
            },
            "colorscale": [
             [
              0,
              "#0d0887"
             ],
             [
              0.1111111111111111,
              "#46039f"
             ],
             [
              0.2222222222222222,
              "#7201a8"
             ],
             [
              0.3333333333333333,
              "#9c179e"
             ],
             [
              0.4444444444444444,
              "#bd3786"
             ],
             [
              0.5555555555555556,
              "#d8576b"
             ],
             [
              0.6666666666666666,
              "#ed7953"
             ],
             [
              0.7777777777777778,
              "#fb9f3a"
             ],
             [
              0.8888888888888888,
              "#fdca26"
             ],
             [
              1,
              "#f0f921"
             ]
            ],
            "type": "heatmap"
           }
          ],
          "heatmapgl": [
           {
            "colorbar": {
             "outlinewidth": 0,
             "ticks": ""
            },
            "colorscale": [
             [
              0,
              "#0d0887"
             ],
             [
              0.1111111111111111,
              "#46039f"
             ],
             [
              0.2222222222222222,
              "#7201a8"
             ],
             [
              0.3333333333333333,
              "#9c179e"
             ],
             [
              0.4444444444444444,
              "#bd3786"
             ],
             [
              0.5555555555555556,
              "#d8576b"
             ],
             [
              0.6666666666666666,
              "#ed7953"
             ],
             [
              0.7777777777777778,
              "#fb9f3a"
             ],
             [
              0.8888888888888888,
              "#fdca26"
             ],
             [
              1,
              "#f0f921"
             ]
            ],
            "type": "heatmapgl"
           }
          ],
          "histogram": [
           {
            "marker": {
             "pattern": {
              "fillmode": "overlay",
              "size": 10,
              "solidity": 0.2
             }
            },
            "type": "histogram"
           }
          ],
          "histogram2d": [
           {
            "colorbar": {
             "outlinewidth": 0,
             "ticks": ""
            },
            "colorscale": [
             [
              0,
              "#0d0887"
             ],
             [
              0.1111111111111111,
              "#46039f"
             ],
             [
              0.2222222222222222,
              "#7201a8"
             ],
             [
              0.3333333333333333,
              "#9c179e"
             ],
             [
              0.4444444444444444,
              "#bd3786"
             ],
             [
              0.5555555555555556,
              "#d8576b"
             ],
             [
              0.6666666666666666,
              "#ed7953"
             ],
             [
              0.7777777777777778,
              "#fb9f3a"
             ],
             [
              0.8888888888888888,
              "#fdca26"
             ],
             [
              1,
              "#f0f921"
             ]
            ],
            "type": "histogram2d"
           }
          ],
          "histogram2dcontour": [
           {
            "colorbar": {
             "outlinewidth": 0,
             "ticks": ""
            },
            "colorscale": [
             [
              0,
              "#0d0887"
             ],
             [
              0.1111111111111111,
              "#46039f"
             ],
             [
              0.2222222222222222,
              "#7201a8"
             ],
             [
              0.3333333333333333,
              "#9c179e"
             ],
             [
              0.4444444444444444,
              "#bd3786"
             ],
             [
              0.5555555555555556,
              "#d8576b"
             ],
             [
              0.6666666666666666,
              "#ed7953"
             ],
             [
              0.7777777777777778,
              "#fb9f3a"
             ],
             [
              0.8888888888888888,
              "#fdca26"
             ],
             [
              1,
              "#f0f921"
             ]
            ],
            "type": "histogram2dcontour"
           }
          ],
          "mesh3d": [
           {
            "colorbar": {
             "outlinewidth": 0,
             "ticks": ""
            },
            "type": "mesh3d"
           }
          ],
          "parcoords": [
           {
            "line": {
             "colorbar": {
              "outlinewidth": 0,
              "ticks": ""
             }
            },
            "type": "parcoords"
           }
          ],
          "pie": [
           {
            "automargin": true,
            "type": "pie"
           }
          ],
          "scatter": [
           {
            "fillpattern": {
             "fillmode": "overlay",
             "size": 10,
             "solidity": 0.2
            },
            "type": "scatter"
           }
          ],
          "scatter3d": [
           {
            "line": {
             "colorbar": {
              "outlinewidth": 0,
              "ticks": ""
             }
            },
            "marker": {
             "colorbar": {
              "outlinewidth": 0,
              "ticks": ""
             }
            },
            "type": "scatter3d"
           }
          ],
          "scattercarpet": [
           {
            "marker": {
             "colorbar": {
              "outlinewidth": 0,
              "ticks": ""
             }
            },
            "type": "scattercarpet"
           }
          ],
          "scattergeo": [
           {
            "marker": {
             "colorbar": {
              "outlinewidth": 0,
              "ticks": ""
             }
            },
            "type": "scattergeo"
           }
          ],
          "scattergl": [
           {
            "marker": {
             "colorbar": {
              "outlinewidth": 0,
              "ticks": ""
             }
            },
            "type": "scattergl"
           }
          ],
          "scattermapbox": [
           {
            "marker": {
             "colorbar": {
              "outlinewidth": 0,
              "ticks": ""
             }
            },
            "type": "scattermapbox"
           }
          ],
          "scatterpolar": [
           {
            "marker": {
             "colorbar": {
              "outlinewidth": 0,
              "ticks": ""
             }
            },
            "type": "scatterpolar"
           }
          ],
          "scatterpolargl": [
           {
            "marker": {
             "colorbar": {
              "outlinewidth": 0,
              "ticks": ""
             }
            },
            "type": "scatterpolargl"
           }
          ],
          "scatterternary": [
           {
            "marker": {
             "colorbar": {
              "outlinewidth": 0,
              "ticks": ""
             }
            },
            "type": "scatterternary"
           }
          ],
          "surface": [
           {
            "colorbar": {
             "outlinewidth": 0,
             "ticks": ""
            },
            "colorscale": [
             [
              0,
              "#0d0887"
             ],
             [
              0.1111111111111111,
              "#46039f"
             ],
             [
              0.2222222222222222,
              "#7201a8"
             ],
             [
              0.3333333333333333,
              "#9c179e"
             ],
             [
              0.4444444444444444,
              "#bd3786"
             ],
             [
              0.5555555555555556,
              "#d8576b"
             ],
             [
              0.6666666666666666,
              "#ed7953"
             ],
             [
              0.7777777777777778,
              "#fb9f3a"
             ],
             [
              0.8888888888888888,
              "#fdca26"
             ],
             [
              1,
              "#f0f921"
             ]
            ],
            "type": "surface"
           }
          ],
          "table": [
           {
            "cells": {
             "fill": {
              "color": "#EBF0F8"
             },
             "line": {
              "color": "white"
             }
            },
            "header": {
             "fill": {
              "color": "#C8D4E3"
             },
             "line": {
              "color": "white"
             }
            },
            "type": "table"
           }
          ]
         },
         "layout": {
          "annotationdefaults": {
           "arrowcolor": "#2a3f5f",
           "arrowhead": 0,
           "arrowwidth": 1
          },
          "autotypenumbers": "strict",
          "coloraxis": {
           "colorbar": {
            "outlinewidth": 0,
            "ticks": ""
           }
          },
          "colorscale": {
           "diverging": [
            [
             0,
             "#8e0152"
            ],
            [
             0.1,
             "#c51b7d"
            ],
            [
             0.2,
             "#de77ae"
            ],
            [
             0.3,
             "#f1b6da"
            ],
            [
             0.4,
             "#fde0ef"
            ],
            [
             0.5,
             "#f7f7f7"
            ],
            [
             0.6,
             "#e6f5d0"
            ],
            [
             0.7,
             "#b8e186"
            ],
            [
             0.8,
             "#7fbc41"
            ],
            [
             0.9,
             "#4d9221"
            ],
            [
             1,
             "#276419"
            ]
           ],
           "sequential": [
            [
             0,
             "#0d0887"
            ],
            [
             0.1111111111111111,
             "#46039f"
            ],
            [
             0.2222222222222222,
             "#7201a8"
            ],
            [
             0.3333333333333333,
             "#9c179e"
            ],
            [
             0.4444444444444444,
             "#bd3786"
            ],
            [
             0.5555555555555556,
             "#d8576b"
            ],
            [
             0.6666666666666666,
             "#ed7953"
            ],
            [
             0.7777777777777778,
             "#fb9f3a"
            ],
            [
             0.8888888888888888,
             "#fdca26"
            ],
            [
             1,
             "#f0f921"
            ]
           ],
           "sequentialminus": [
            [
             0,
             "#0d0887"
            ],
            [
             0.1111111111111111,
             "#46039f"
            ],
            [
             0.2222222222222222,
             "#7201a8"
            ],
            [
             0.3333333333333333,
             "#9c179e"
            ],
            [
             0.4444444444444444,
             "#bd3786"
            ],
            [
             0.5555555555555556,
             "#d8576b"
            ],
            [
             0.6666666666666666,
             "#ed7953"
            ],
            [
             0.7777777777777778,
             "#fb9f3a"
            ],
            [
             0.8888888888888888,
             "#fdca26"
            ],
            [
             1,
             "#f0f921"
            ]
           ]
          },
          "colorway": [
           "#636efa",
           "#EF553B",
           "#00cc96",
           "#ab63fa",
           "#FFA15A",
           "#19d3f3",
           "#FF6692",
           "#B6E880",
           "#FF97FF",
           "#FECB52"
          ],
          "font": {
           "color": "#2a3f5f"
          },
          "geo": {
           "bgcolor": "white",
           "lakecolor": "white",
           "landcolor": "#E5ECF6",
           "showlakes": true,
           "showland": true,
           "subunitcolor": "white"
          },
          "hoverlabel": {
           "align": "left"
          },
          "hovermode": "closest",
          "mapbox": {
           "style": "light"
          },
          "paper_bgcolor": "white",
          "plot_bgcolor": "#E5ECF6",
          "polar": {
           "angularaxis": {
            "gridcolor": "white",
            "linecolor": "white",
            "ticks": ""
           },
           "bgcolor": "#E5ECF6",
           "radialaxis": {
            "gridcolor": "white",
            "linecolor": "white",
            "ticks": ""
           }
          },
          "scene": {
           "xaxis": {
            "backgroundcolor": "#E5ECF6",
            "gridcolor": "white",
            "gridwidth": 2,
            "linecolor": "white",
            "showbackground": true,
            "ticks": "",
            "zerolinecolor": "white"
           },
           "yaxis": {
            "backgroundcolor": "#E5ECF6",
            "gridcolor": "white",
            "gridwidth": 2,
            "linecolor": "white",
            "showbackground": true,
            "ticks": "",
            "zerolinecolor": "white"
           },
           "zaxis": {
            "backgroundcolor": "#E5ECF6",
            "gridcolor": "white",
            "gridwidth": 2,
            "linecolor": "white",
            "showbackground": true,
            "ticks": "",
            "zerolinecolor": "white"
           }
          },
          "shapedefaults": {
           "line": {
            "color": "#2a3f5f"
           }
          },
          "ternary": {
           "aaxis": {
            "gridcolor": "white",
            "linecolor": "white",
            "ticks": ""
           },
           "baxis": {
            "gridcolor": "white",
            "linecolor": "white",
            "ticks": ""
           },
           "bgcolor": "#E5ECF6",
           "caxis": {
            "gridcolor": "white",
            "linecolor": "white",
            "ticks": ""
           }
          },
          "title": {
           "x": 0.05
          },
          "xaxis": {
           "automargin": true,
           "gridcolor": "white",
           "linecolor": "white",
           "ticks": "",
           "title": {
            "standoff": 15
           },
           "zerolinecolor": "white",
           "zerolinewidth": 2
          },
          "yaxis": {
           "automargin": true,
           "gridcolor": "white",
           "linecolor": "white",
           "ticks": "",
           "title": {
            "standoff": 15
           },
           "zerolinecolor": "white",
           "zerolinewidth": 2
          }
         }
        },
        "xaxis": {
         "anchor": "y",
         "domain": [
          0,
          1
         ],
         "title": {
          "text": "Year"
         }
        },
        "yaxis": {
         "anchor": "x",
         "domain": [
          0,
          1
         ],
         "title": {
          "text": "Amount (Per 100k)"
         }
        }
       }
      }
     },
     "metadata": {},
     "output_type": "display_data"
    }
   ],
   "source": [
    "crime_data = get_crime_data(\"Austria\", 'Intentional homicide')\n",
    "print(crime_data)\n",
    "px.scatter(data_frame=crime_data, x=\"Year\", y=\"Amount (Per 100k)\")\n"
   ]
  },
  {
   "cell_type": "markdown",
   "metadata": {},
   "source": [
    "Now, I'm going to add up all the crime per country, per year. Because each crime is in the per 100k units, i can simply add them up to get the total amount of crimes per 100k for a given country for a given year"
   ]
  },
  {
   "cell_type": "code",
   "execution_count": 25,
   "metadata": {},
   "outputs": [
    {
     "name": "stdout",
     "output_type": "stream",
     "text": [
      "     country  year   amount\n",
      "0    Austria  2008  3896.74\n",
      "1    Austria  2009  3906.74\n",
      "2    Austria  2010  3308.21\n",
      "3    Austria  2011  3197.13\n",
      "4    Austria  2012  3212.19\n",
      "..       ...   ...      ...\n",
      "400   Sweden  2018  9620.21\n",
      "401   Sweden  2019  9423.61\n",
      "402   Sweden  2020  9299.21\n",
      "403   Sweden  2021  8730.09\n",
      "404   Sweden  2022  8482.97\n",
      "\n",
      "[405 rows x 3 columns]\n",
      "            year    amount\n",
      "year    1.000000 -0.109631\n",
      "amount -0.109631  1.000000\n"
     ]
    },
    {
     "data": {
      "application/vnd.plotly.v1+json": {
       "config": {
        "plotlyServerURL": "https://plot.ly"
       },
       "data": [
        {
         "hovertemplate": "country=Austria<br>year=%{x}<br>amount=%{y}<extra></extra>",
         "legendgroup": "Austria",
         "marker": {
          "color": "#636efa",
          "symbol": "circle"
         },
         "mode": "markers",
         "name": "Austria",
         "orientation": "v",
         "showlegend": true,
         "type": "scatter",
         "x": [
          2008,
          2009,
          2010,
          2011,
          2012,
          2013,
          2014,
          2015,
          2016,
          2017,
          2018,
          2019,
          2020,
          2021,
          2022
         ],
         "xaxis": "x",
         "y": [
          3896.74,
          3906.7400000000007,
          3308.21,
          3197.13,
          3212.1899999999996,
          3696.5299999999997,
          3573.58,
          3397.45,
          4011.9799999999996,
          3634.96,
          3338.02,
          3450.7200000000003,
          3051.09,
          2810.8100000000004,
          3413.34
         ],
         "yaxis": "y"
        },
        {
         "hovertemplate": "country=Belgium<br>year=%{x}<br>amount=%{y}<extra></extra>",
         "legendgroup": "Belgium",
         "marker": {
          "color": "#EF553B",
          "symbol": "circle"
         },
         "mode": "markers",
         "name": "Belgium",
         "orientation": "v",
         "showlegend": true,
         "type": "scatter",
         "x": [
          2008,
          2009,
          2010,
          2011,
          2012,
          2013,
          2014,
          2015,
          2016,
          2017,
          2018,
          2019,
          2020,
          2021,
          2022
         ],
         "xaxis": "x",
         "y": [
          5286.5599999999995,
          5371.0199999999995,
          5013.710000000001,
          5220.0599999999995,
          5103.099999999999,
          4838.86,
          4979.9,
          5117.610000000001,
          5383.180000000001,
          5264.43,
          5271.2300000000005,
          5426.3499999999985,
          4507.370000000001,
          4623.029999999999,
          5063.959999999999
         ],
         "yaxis": "y"
        },
        {
         "hovertemplate": "country=Bulgaria<br>year=%{x}<br>amount=%{y}<extra></extra>",
         "legendgroup": "Bulgaria",
         "marker": {
          "color": "#00cc96",
          "symbol": "circle"
         },
         "mode": "markers",
         "name": "Bulgaria",
         "orientation": "v",
         "showlegend": true,
         "type": "scatter",
         "x": [
          2008,
          2009,
          2010,
          2011,
          2012,
          2013,
          2014,
          2015,
          2016,
          2017,
          2018,
          2019,
          2020,
          2021,
          2022
         ],
         "xaxis": "x",
         "y": [
          1125.92,
          1239.25,
          1333.8,
          1185.5099999999998,
          1101.63,
          1131.29,
          1037.75,
          953.96,
          839.5,
          936.95,
          963.1899999999999,
          864.5500000000002,
          737.9600000000002,
          668.03,
          765.1199999999999
         ],
         "yaxis": "y"
        },
        {
         "hovertemplate": "country=Croatia<br>year=%{x}<br>amount=%{y}<extra></extra>",
         "legendgroup": "Croatia",
         "marker": {
          "color": "#ab63fa",
          "symbol": "circle"
         },
         "mode": "markers",
         "name": "Croatia",
         "orientation": "v",
         "showlegend": true,
         "type": "scatter",
         "x": [
          2008,
          2009,
          2010,
          2011,
          2012,
          2013,
          2014,
          2015,
          2016,
          2017,
          2018,
          2019,
          2020,
          2021,
          2022
         ],
         "xaxis": "x",
         "y": [
          1143.28,
          1083.63,
          1127.77,
          1213.3899999999999,
          1260.59,
          1073.41,
          918.8399999999999,
          958.37,
          1258.0600000000002,
          1216.9,
          1170.59,
          1241.69,
          1007.14,
          1005.8999999999999,
          1079.2899999999997
         ],
         "yaxis": "y"
        },
        {
         "hovertemplate": "country=Cyprus<br>year=%{x}<br>amount=%{y}<extra></extra>",
         "legendgroup": "Cyprus",
         "marker": {
          "color": "#FFA15A",
          "symbol": "circle"
         },
         "mode": "markers",
         "name": "Cyprus",
         "orientation": "v",
         "showlegend": true,
         "type": "scatter",
         "x": [
          2008,
          2009,
          2010,
          2011,
          2012,
          2013,
          2014,
          2015,
          2016,
          2017,
          2018,
          2019,
          2020,
          2021,
          2022
         ],
         "xaxis": "x",
         "y": [
          1134.69,
          1045.26,
          975.4,
          1217.85,
          1134.44,
          973.46,
          880.17,
          762.8100000000001,
          732.9800000000001,
          715.62,
          458.82,
          422.06,
          371.4,
          396.88,
          441.56
         ],
         "yaxis": "y"
        },
        {
         "hovertemplate": "country=Czechia<br>year=%{x}<br>amount=%{y}<extra></extra>",
         "legendgroup": "Czechia",
         "marker": {
          "color": "#19d3f3",
          "symbol": "circle"
         },
         "mode": "markers",
         "name": "Czechia",
         "orientation": "v",
         "showlegend": true,
         "type": "scatter",
         "x": [
          2008,
          2009,
          2010,
          2011,
          2012,
          2013,
          2014,
          2015,
          2016,
          2017,
          2018,
          2019,
          2020,
          2021,
          2022
         ],
         "xaxis": "x",
         "y": [
          2458.57,
          2718.35,
          2554.0699999999997,
          2493.08,
          2341.84,
          2609.94,
          2131.42,
          1665.22,
          1389.63,
          1274.8999999999999,
          1157.5700000000002,
          1167.0100000000002,
          965.01,
          906.5899999999999,
          1082.5199999999998
         ],
         "yaxis": "y"
        },
        {
         "hovertemplate": "country=Denmark<br>year=%{x}<br>amount=%{y}<extra></extra>",
         "legendgroup": "Denmark",
         "marker": {
          "color": "#FF6692",
          "symbol": "circle"
         },
         "mode": "markers",
         "name": "Denmark",
         "orientation": "v",
         "showlegend": true,
         "type": "scatter",
         "x": [
          2008,
          2009,
          2010,
          2011,
          2012,
          2013,
          2014,
          2015,
          2016,
          2017,
          2018,
          2019,
          2020,
          2021,
          2022
         ],
         "xaxis": "x",
         "y": [
          8775.35,
          9157.96,
          8706.94,
          8627.710000000001,
          8122.22,
          7853.710000000001,
          7267.4400000000005,
          6528.66,
          7213.38,
          7012.460000000001,
          6492.569999999999,
          6144.449999999999,
          5442.06,
          4807.469999999999,
          5446.470000000001
         ],
         "yaxis": "y"
        },
        {
         "hovertemplate": "country=Estonia<br>year=%{x}<br>amount=%{y}<extra></extra>",
         "legendgroup": "Estonia",
         "marker": {
          "color": "#B6E880",
          "symbol": "circle"
         },
         "mode": "markers",
         "name": "Estonia",
         "orientation": "v",
         "showlegend": true,
         "type": "scatter",
         "x": [
          2008,
          2009,
          2010,
          2011,
          2012,
          2013,
          2014,
          2015,
          2016,
          2017,
          2018,
          2019,
          2020,
          2021,
          2022
         ],
         "xaxis": "x",
         "y": [
          2781.13,
          2580.7400000000002,
          2507.95,
          2153.33,
          2091.26,
          1886.1200000000001,
          1774.4799999999998,
          1488.58,
          1463.9000000000003,
          1355.9299999999998,
          1228.3800000000003,
          1134.34,
          1092.2,
          1214.8399999999997,
          1183.0700000000002
         ],
         "yaxis": "y"
        },
        {
         "hovertemplate": "country=Finland<br>year=%{x}<br>amount=%{y}<extra></extra>",
         "legendgroup": "Finland",
         "marker": {
          "color": "#FF97FF",
          "symbol": "circle"
         },
         "mode": "markers",
         "name": "Finland",
         "orientation": "v",
         "showlegend": true,
         "type": "scatter",
         "x": [
          2008,
          2009,
          2010,
          2011,
          2012,
          2013,
          2014,
          2015,
          2016,
          2017,
          2018,
          2019,
          2020,
          2021,
          2022
         ],
         "xaxis": "x",
         "y": [
          3947.57,
          3991.21,
          3906.51,
          4003.25,
          3631.4700000000003,
          3546.52,
          3548.27,
          3451.95,
          4234.959999999999,
          3956.61,
          3956.4399999999996,
          4188.999999999999,
          4675.9400000000005,
          4289.09,
          4351.179999999999
         ],
         "yaxis": "y"
        },
        {
         "hovertemplate": "country=France<br>year=%{x}<br>amount=%{y}<extra></extra>",
         "legendgroup": "France",
         "marker": {
          "color": "#FECB52",
          "symbol": "circle"
         },
         "mode": "markers",
         "name": "France",
         "orientation": "v",
         "showlegend": true,
         "type": "scatter",
         "x": [
          2008,
          2009,
          2010,
          2011,
          2012,
          2013,
          2014,
          2015,
          2016,
          2017,
          2018,
          2019,
          2020,
          2021,
          2022
         ],
         "xaxis": "x",
         "y": [
          3126.2799999999997,
          3854.63,
          3547.91,
          3580.4700000000003,
          3637.21,
          3999.5299999999997,
          4002.7199999999993,
          3915.92,
          4725.33,
          4059.5299999999997,
          4056.3100000000004,
          4144.200000000001,
          3593.7800000000007,
          3891.4,
          4261.530000000001
         ],
         "yaxis": "y"
        },
        {
         "hovertemplate": "country=Germany<br>year=%{x}<br>amount=%{y}<extra></extra>",
         "legendgroup": "Germany",
         "marker": {
          "color": "#636efa",
          "symbol": "circle"
         },
         "mode": "markers",
         "name": "Germany",
         "orientation": "v",
         "showlegend": true,
         "type": "scatter",
         "x": [
          2008,
          2009,
          2010,
          2011,
          2012,
          2013,
          2014,
          2015,
          2016,
          2017,
          2018,
          2019,
          2020,
          2021,
          2022
         ],
         "xaxis": "x",
         "y": [
          4338.070000000001,
          2971.81,
          2832.69,
          2996.95,
          2997.45,
          3032.73,
          3100.11,
          3161.1400000000003,
          4186.839999999999,
          3917.51,
          3692.05,
          3592.7599999999998,
          3426.7400000000007,
          3246.3500000000004,
          3482.77
         ],
         "yaxis": "y"
        },
        {
         "hovertemplate": "country=Greece<br>year=%{x}<br>amount=%{y}<extra></extra>",
         "legendgroup": "Greece",
         "marker": {
          "color": "#EF553B",
          "symbol": "circle"
         },
         "mode": "markers",
         "name": "Greece",
         "orientation": "v",
         "showlegend": true,
         "type": "scatter",
         "x": [
          2008,
          2009,
          2010,
          2011,
          2012,
          2013,
          2014,
          2015,
          2016,
          2017,
          2018,
          2019,
          2020,
          2021,
          2022
         ],
         "xaxis": "x",
         "y": [
          1354.1100000000001,
          1493.2599999999998,
          1718.92,
          2224,
          1790.08,
          1595.2400000000002,
          1459.23,
          1561.05,
          1623.93,
          1699.1799999999998,
          1461.3600000000001,
          1511.82,
          1120.1299999999999,
          1128.3199999999995,
          1337.1
         ],
         "yaxis": "y"
        },
        {
         "hovertemplate": "country=Hungary<br>year=%{x}<br>amount=%{y}<extra></extra>",
         "legendgroup": "Hungary",
         "marker": {
          "color": "#00cc96",
          "symbol": "circle"
         },
         "mode": "markers",
         "name": "Hungary",
         "orientation": "v",
         "showlegend": true,
         "type": "scatter",
         "x": [
          2008,
          2009,
          2010,
          2011,
          2012,
          2013,
          2014,
          2015,
          2016,
          2017,
          2018,
          2019,
          2020,
          2021,
          2022
         ],
         "xaxis": "x",
         "y": [
          2189.33,
          2100,
          2581.7999999999997,
          2565.2,
          2621.89,
          2192.4700000000003,
          1912.0499999999997,
          1886.5799999999997,
          1524.0599999999997,
          1274.53,
          1062.2,
          902.19,
          858.1299999999999,
          865.71,
          904.0300000000002
         ],
         "yaxis": "y"
        },
        {
         "hovertemplate": "country=Ireland<br>year=%{x}<br>amount=%{y}<extra></extra>",
         "legendgroup": "Ireland",
         "marker": {
          "color": "#ab63fa",
          "symbol": "circle"
         },
         "mode": "markers",
         "name": "Ireland",
         "orientation": "v",
         "showlegend": true,
         "type": "scatter",
         "x": [
          2008,
          2009,
          2010,
          2011,
          2012,
          2013,
          2014,
          2015,
          2016,
          2017,
          2018,
          2019,
          2020,
          2021,
          2022
         ],
         "xaxis": "x",
         "y": [
          3333.2400000000002,
          3292.67,
          3197.82,
          3131.68,
          3038.12,
          2983.45,
          2988.35,
          2743.5899999999997,
          2429.16,
          2536.91,
          2493.4199999999996,
          2568.2899999999995,
          2067.76,
          2081.5399999999995,
          2322.4399999999996
         ],
         "yaxis": "y"
        },
        {
         "hovertemplate": "country=Italy<br>year=%{x}<br>amount=%{y}<extra></extra>",
         "legendgroup": "Italy",
         "marker": {
          "color": "#FFA15A",
          "symbol": "circle"
         },
         "mode": "markers",
         "name": "Italy",
         "orientation": "v",
         "showlegend": true,
         "type": "scatter",
         "x": [
          2008,
          2009,
          2010,
          2011,
          2012,
          2013,
          2014,
          2015,
          2016,
          2017,
          2018,
          2019,
          2020,
          2021,
          2022
         ],
         "xaxis": "x",
         "y": [
          3027.45,
          2837.7,
          2472.36,
          2712.42,
          2817.64,
          3205.07,
          3016.7200000000003,
          2809.1900000000005,
          2948.91,
          2809.1899999999996,
          2752.59,
          2636.6099999999997,
          2123.28,
          2478.79,
          2744.709999999999
         ],
         "yaxis": "y"
        },
        {
         "hovertemplate": "country=Latvia<br>year=%{x}<br>amount=%{y}<extra></extra>",
         "legendgroup": "Latvia",
         "marker": {
          "color": "#19d3f3",
          "symbol": "circle"
         },
         "mode": "markers",
         "name": "Latvia",
         "orientation": "v",
         "showlegend": true,
         "type": "scatter",
         "x": [
          2008,
          2009,
          2010,
          2011,
          2012,
          2013,
          2014,
          2015,
          2016,
          2017,
          2018,
          2019,
          2020,
          2021,
          2022
         ],
         "xaxis": "x",
         "y": [
          1738.4699999999998,
          1903.4299999999998,
          1607.69,
          208.38,
          1425.67,
          1361.8400000000001,
          1404.7300000000002,
          1376.44,
          1587.7599999999998,
          1473.67,
          1436.19,
          1346,
          1301.6899999999998,
          1002.95,
          1053.39
         ],
         "yaxis": "y"
        },
        {
         "hovertemplate": "country=Lithuania<br>year=%{x}<br>amount=%{y}<extra></extra>",
         "legendgroup": "Lithuania",
         "marker": {
          "color": "#FF6692",
          "symbol": "circle"
         },
         "mode": "markers",
         "name": "Lithuania",
         "orientation": "v",
         "showlegend": true,
         "type": "scatter",
         "x": [
          2008,
          2009,
          2010,
          2011,
          2012,
          2013,
          2014,
          2015,
          2016,
          2017,
          2018,
          2019,
          2020,
          2021,
          2022
         ],
         "xaxis": "x",
         "y": [
          1396.89,
          1412.1,
          1272.92,
          1292.96,
          1164.63,
          1384.95,
          1397.04,
          1196.82,
          1232.19,
          1146.6299999999999,
          959.25,
          854.4700000000001,
          759.2100000000002,
          687.5899999999999,
          776.86
         ],
         "yaxis": "y"
        },
        {
         "hovertemplate": "country=Luxembourg<br>year=%{x}<br>amount=%{y}<extra></extra>",
         "legendgroup": "Luxembourg",
         "marker": {
          "color": "#B6E880",
          "symbol": "circle"
         },
         "mode": "markers",
         "name": "Luxembourg",
         "orientation": "v",
         "showlegend": true,
         "type": "scatter",
         "x": [
          2008,
          2009,
          2010,
          2011,
          2012,
          2013,
          2014,
          2015,
          2016,
          2017,
          2018,
          2019,
          2020,
          2021,
          2022
         ],
         "xaxis": "x",
         "y": [
          3268.49,
          3633.6400000000003,
          3129.4800000000005,
          3874.6400000000003,
          3694.9399999999996,
          4405.27,
          4848.09,
          3720.7,
          3598.6300000000006,
          2908.2400000000002,
          3227.04,
          3532.0399999999995,
          3627.5000000000005,
          3909.39,
          5132.96
         ],
         "yaxis": "y"
        },
        {
         "hovertemplate": "country=Malta<br>year=%{x}<br>amount=%{y}<extra></extra>",
         "legendgroup": "Malta",
         "marker": {
          "color": "#FF97FF",
          "symbol": "circle"
         },
         "mode": "markers",
         "name": "Malta",
         "orientation": "v",
         "showlegend": true,
         "type": "scatter",
         "x": [
          2008,
          2009,
          2010,
          2011,
          2012,
          2013,
          2014,
          2015,
          2016,
          2017,
          2018,
          2019,
          2020,
          2021,
          2022
         ],
         "xaxis": "x",
         "y": [
          2389.72,
          2055.1,
          2269.2,
          2439.59,
          2481.6500000000005,
          2379.89,
          2263.01,
          2281.96,
          2419.99,
          2390.88,
          2021.01,
          1881.22,
          1385.6299999999999,
          1795.4000000000005,
          1582.81
         ],
         "yaxis": "y"
        },
        {
         "hovertemplate": "country=Netherlands<br>year=%{x}<br>amount=%{y}<extra></extra>",
         "legendgroup": "Netherlands",
         "marker": {
          "color": "#FECB52",
          "symbol": "circle"
         },
         "mode": "markers",
         "name": "Netherlands",
         "orientation": "v",
         "showlegend": true,
         "type": "scatter",
         "x": [
          2008,
          2009,
          2010,
          2011,
          2012,
          2013,
          2014,
          2015,
          2016,
          2017,
          2018,
          2019,
          2020,
          2021,
          2022
         ],
         "xaxis": "x",
         "y": [
          7492.470000000001,
          7451.109999999999,
          4077.8200000000006,
          4158.66,
          4116.46,
          4069.88,
          3661.97,
          3374.37,
          3434.1100000000006,
          2662.9,
          2399.11,
          2376.93,
          2046.5,
          1760.11,
          2062.0100000000007
         ],
         "yaxis": "y"
        },
        {
         "hovertemplate": "country=Poland<br>year=%{x}<br>amount=%{y}<extra></extra>",
         "legendgroup": "Poland",
         "marker": {
          "color": "#636efa",
          "symbol": "circle"
         },
         "mode": "markers",
         "name": "Poland",
         "orientation": "v",
         "showlegend": true,
         "type": "scatter",
         "x": [
          2008,
          2009,
          2010,
          2011,
          2012,
          2013,
          2014,
          2015,
          2016,
          2017,
          2018,
          2019,
          2020,
          2021,
          2022
         ],
         "xaxis": "x",
         "y": [
          1201.4,
          1273.08,
          1287.84,
          1348.07,
          1331.5900000000001,
          1254.87,
          1041.4099999999999,
          903.4000000000001,
          1143.5400000000002,
          1168.3999999999999,
          1119.7500000000002,
          1250.24,
          1196.9699999999998,
          1322,
          1282.78
         ],
         "yaxis": "y"
        },
        {
         "hovertemplate": "country=Portugal<br>year=%{x}<br>amount=%{y}<extra></extra>",
         "legendgroup": "Portugal",
         "marker": {
          "color": "#EF553B",
          "symbol": "circle"
         },
         "mode": "markers",
         "name": "Portugal",
         "orientation": "v",
         "showlegend": true,
         "type": "scatter",
         "x": [
          2008,
          2009,
          2010,
          2011,
          2012,
          2013,
          2014,
          2015,
          2016,
          2017,
          2018,
          2019,
          2020,
          2021,
          2022
         ],
         "xaxis": "x",
         "y": [
          2521.52,
          2370.01,
          2114.46,
          2162.89,
          2047.22,
          1878.1200000000001,
          1771.3700000000001,
          1760.23,
          1806.5100000000002,
          1770.83,
          1755.3499999999997,
          1750.35,
          1557.01,
          1529.57,
          1715.99
         ],
         "yaxis": "y"
        },
        {
         "hovertemplate": "country=Romania<br>year=%{x}<br>amount=%{y}<extra></extra>",
         "legendgroup": "Romania",
         "marker": {
          "color": "#00cc96",
          "symbol": "circle"
         },
         "mode": "markers",
         "name": "Romania",
         "orientation": "v",
         "showlegend": true,
         "type": "scatter",
         "x": [
          2008,
          2009,
          2010,
          2011,
          2012,
          2013,
          2014,
          2015,
          2016,
          2017,
          2018,
          2019,
          2020,
          2021,
          2022
         ],
         "xaxis": "x",
         "y": [
          410.06,
          461.56999999999994,
          478.03999999999996,
          483.9,
          601.61,
          613.25,
          1312.2,
          857.47,
          768.9200000000002,
          887.02,
          946.28,
          796.78,
          739.4999999999999,
          774.1100000000001,
          759.1100000000001
         ],
         "yaxis": "y"
        },
        {
         "hovertemplate": "country=Slovakia<br>year=%{x}<br>amount=%{y}<extra></extra>",
         "legendgroup": "Slovakia",
         "marker": {
          "color": "#ab63fa",
          "symbol": "circle"
         },
         "mode": "markers",
         "name": "Slovakia",
         "orientation": "v",
         "showlegend": true,
         "type": "scatter",
         "x": [
          2008,
          2009,
          2010,
          2011,
          2012,
          2013,
          2014,
          2015,
          2016,
          2017,
          2018,
          2019,
          2020,
          2021,
          2022
         ],
         "xaxis": "x",
         "y": [
          1116.35,
          1075.23,
          1259.54,
          1118.32,
          1043.23,
          1044.4899999999998,
          915.3600000000001,
          736.8699999999999,
          727.41,
          689.2600000000001,
          596.1299999999998,
          515.9899999999999,
          483.61999999999995,
          433.43,
          467.30999999999995
         ],
         "yaxis": "y"
        },
        {
         "hovertemplate": "country=Slovenia<br>year=%{x}<br>amount=%{y}<extra></extra>",
         "legendgroup": "Slovenia",
         "marker": {
          "color": "#FFA15A",
          "symbol": "circle"
         },
         "mode": "markers",
         "name": "Slovenia",
         "orientation": "v",
         "showlegend": true,
         "type": "scatter",
         "x": [
          2008,
          2009,
          2010,
          2011,
          2012,
          2013,
          2014,
          2015,
          2016,
          2017,
          2018,
          2019,
          2020,
          2021,
          2022
         ],
         "xaxis": "x",
         "y": [
          2456.78,
          2484.43,
          2380.3,
          2447.8199999999997,
          2639.7799999999997,
          2799.6800000000003,
          2455.04,
          1913.49,
          2160.3300000000004,
          1970.7199999999998,
          1797.93,
          2159.0599999999995,
          2046.4599999999998,
          1487.9799999999998,
          1724.3100000000002
         ],
         "yaxis": "y"
        },
        {
         "hovertemplate": "country=Spain<br>year=%{x}<br>amount=%{y}<extra></extra>",
         "legendgroup": "Spain",
         "marker": {
          "color": "#19d3f3",
          "symbol": "circle"
         },
         "mode": "markers",
         "name": "Spain",
         "orientation": "v",
         "showlegend": true,
         "type": "scatter",
         "x": [
          2008,
          2009,
          2010,
          2011,
          2012,
          2013,
          2014,
          2015,
          2016,
          2017,
          2018,
          2019,
          2020,
          2021,
          2022
         ],
         "xaxis": "x",
         "y": [
          1654.1,
          1601.1100000000001,
          1405.7,
          1374.8799999999999,
          1506.46,
          1469.25,
          1372.01,
          1444.94,
          1727.21,
          1752.14,
          1921.1199999999997,
          1994.2700000000002,
          1698.2499999999998,
          1785.8600000000001,
          2185.2599999999998
         ],
         "yaxis": "y"
        },
        {
         "hovertemplate": "country=Sweden<br>year=%{x}<br>amount=%{y}<extra></extra>",
         "legendgroup": "Sweden",
         "marker": {
          "color": "#FF6692",
          "symbol": "circle"
         },
         "mode": "markers",
         "name": "Sweden",
         "orientation": "v",
         "showlegend": true,
         "type": "scatter",
         "x": [
          2008,
          2009,
          2010,
          2011,
          2012,
          2013,
          2014,
          2015,
          2016,
          2017,
          2018,
          2019,
          2020,
          2021,
          2022
         ],
         "xaxis": "x",
         "y": [
          8018.07,
          7884.5,
          7580.88,
          7723.109999999999,
          7488.3200000000015,
          7398.59,
          7189.689999999999,
          7175.58,
          9402.41,
          9633.69,
          9620.21,
          9423.609999999999,
          9299.209999999997,
          8730.09,
          8482.97
         ],
         "yaxis": "y"
        }
       ],
       "layout": {
        "legend": {
         "title": {
          "text": "country"
         },
         "tracegroupgap": 0
        },
        "margin": {
         "t": 60
        },
        "template": {
         "data": {
          "bar": [
           {
            "error_x": {
             "color": "#2a3f5f"
            },
            "error_y": {
             "color": "#2a3f5f"
            },
            "marker": {
             "line": {
              "color": "#E5ECF6",
              "width": 0.5
             },
             "pattern": {
              "fillmode": "overlay",
              "size": 10,
              "solidity": 0.2
             }
            },
            "type": "bar"
           }
          ],
          "barpolar": [
           {
            "marker": {
             "line": {
              "color": "#E5ECF6",
              "width": 0.5
             },
             "pattern": {
              "fillmode": "overlay",
              "size": 10,
              "solidity": 0.2
             }
            },
            "type": "barpolar"
           }
          ],
          "carpet": [
           {
            "aaxis": {
             "endlinecolor": "#2a3f5f",
             "gridcolor": "white",
             "linecolor": "white",
             "minorgridcolor": "white",
             "startlinecolor": "#2a3f5f"
            },
            "baxis": {
             "endlinecolor": "#2a3f5f",
             "gridcolor": "white",
             "linecolor": "white",
             "minorgridcolor": "white",
             "startlinecolor": "#2a3f5f"
            },
            "type": "carpet"
           }
          ],
          "choropleth": [
           {
            "colorbar": {
             "outlinewidth": 0,
             "ticks": ""
            },
            "type": "choropleth"
           }
          ],
          "contour": [
           {
            "colorbar": {
             "outlinewidth": 0,
             "ticks": ""
            },
            "colorscale": [
             [
              0,
              "#0d0887"
             ],
             [
              0.1111111111111111,
              "#46039f"
             ],
             [
              0.2222222222222222,
              "#7201a8"
             ],
             [
              0.3333333333333333,
              "#9c179e"
             ],
             [
              0.4444444444444444,
              "#bd3786"
             ],
             [
              0.5555555555555556,
              "#d8576b"
             ],
             [
              0.6666666666666666,
              "#ed7953"
             ],
             [
              0.7777777777777778,
              "#fb9f3a"
             ],
             [
              0.8888888888888888,
              "#fdca26"
             ],
             [
              1,
              "#f0f921"
             ]
            ],
            "type": "contour"
           }
          ],
          "contourcarpet": [
           {
            "colorbar": {
             "outlinewidth": 0,
             "ticks": ""
            },
            "type": "contourcarpet"
           }
          ],
          "heatmap": [
           {
            "colorbar": {
             "outlinewidth": 0,
             "ticks": ""
            },
            "colorscale": [
             [
              0,
              "#0d0887"
             ],
             [
              0.1111111111111111,
              "#46039f"
             ],
             [
              0.2222222222222222,
              "#7201a8"
             ],
             [
              0.3333333333333333,
              "#9c179e"
             ],
             [
              0.4444444444444444,
              "#bd3786"
             ],
             [
              0.5555555555555556,
              "#d8576b"
             ],
             [
              0.6666666666666666,
              "#ed7953"
             ],
             [
              0.7777777777777778,
              "#fb9f3a"
             ],
             [
              0.8888888888888888,
              "#fdca26"
             ],
             [
              1,
              "#f0f921"
             ]
            ],
            "type": "heatmap"
           }
          ],
          "heatmapgl": [
           {
            "colorbar": {
             "outlinewidth": 0,
             "ticks": ""
            },
            "colorscale": [
             [
              0,
              "#0d0887"
             ],
             [
              0.1111111111111111,
              "#46039f"
             ],
             [
              0.2222222222222222,
              "#7201a8"
             ],
             [
              0.3333333333333333,
              "#9c179e"
             ],
             [
              0.4444444444444444,
              "#bd3786"
             ],
             [
              0.5555555555555556,
              "#d8576b"
             ],
             [
              0.6666666666666666,
              "#ed7953"
             ],
             [
              0.7777777777777778,
              "#fb9f3a"
             ],
             [
              0.8888888888888888,
              "#fdca26"
             ],
             [
              1,
              "#f0f921"
             ]
            ],
            "type": "heatmapgl"
           }
          ],
          "histogram": [
           {
            "marker": {
             "pattern": {
              "fillmode": "overlay",
              "size": 10,
              "solidity": 0.2
             }
            },
            "type": "histogram"
           }
          ],
          "histogram2d": [
           {
            "colorbar": {
             "outlinewidth": 0,
             "ticks": ""
            },
            "colorscale": [
             [
              0,
              "#0d0887"
             ],
             [
              0.1111111111111111,
              "#46039f"
             ],
             [
              0.2222222222222222,
              "#7201a8"
             ],
             [
              0.3333333333333333,
              "#9c179e"
             ],
             [
              0.4444444444444444,
              "#bd3786"
             ],
             [
              0.5555555555555556,
              "#d8576b"
             ],
             [
              0.6666666666666666,
              "#ed7953"
             ],
             [
              0.7777777777777778,
              "#fb9f3a"
             ],
             [
              0.8888888888888888,
              "#fdca26"
             ],
             [
              1,
              "#f0f921"
             ]
            ],
            "type": "histogram2d"
           }
          ],
          "histogram2dcontour": [
           {
            "colorbar": {
             "outlinewidth": 0,
             "ticks": ""
            },
            "colorscale": [
             [
              0,
              "#0d0887"
             ],
             [
              0.1111111111111111,
              "#46039f"
             ],
             [
              0.2222222222222222,
              "#7201a8"
             ],
             [
              0.3333333333333333,
              "#9c179e"
             ],
             [
              0.4444444444444444,
              "#bd3786"
             ],
             [
              0.5555555555555556,
              "#d8576b"
             ],
             [
              0.6666666666666666,
              "#ed7953"
             ],
             [
              0.7777777777777778,
              "#fb9f3a"
             ],
             [
              0.8888888888888888,
              "#fdca26"
             ],
             [
              1,
              "#f0f921"
             ]
            ],
            "type": "histogram2dcontour"
           }
          ],
          "mesh3d": [
           {
            "colorbar": {
             "outlinewidth": 0,
             "ticks": ""
            },
            "type": "mesh3d"
           }
          ],
          "parcoords": [
           {
            "line": {
             "colorbar": {
              "outlinewidth": 0,
              "ticks": ""
             }
            },
            "type": "parcoords"
           }
          ],
          "pie": [
           {
            "automargin": true,
            "type": "pie"
           }
          ],
          "scatter": [
           {
            "fillpattern": {
             "fillmode": "overlay",
             "size": 10,
             "solidity": 0.2
            },
            "type": "scatter"
           }
          ],
          "scatter3d": [
           {
            "line": {
             "colorbar": {
              "outlinewidth": 0,
              "ticks": ""
             }
            },
            "marker": {
             "colorbar": {
              "outlinewidth": 0,
              "ticks": ""
             }
            },
            "type": "scatter3d"
           }
          ],
          "scattercarpet": [
           {
            "marker": {
             "colorbar": {
              "outlinewidth": 0,
              "ticks": ""
             }
            },
            "type": "scattercarpet"
           }
          ],
          "scattergeo": [
           {
            "marker": {
             "colorbar": {
              "outlinewidth": 0,
              "ticks": ""
             }
            },
            "type": "scattergeo"
           }
          ],
          "scattergl": [
           {
            "marker": {
             "colorbar": {
              "outlinewidth": 0,
              "ticks": ""
             }
            },
            "type": "scattergl"
           }
          ],
          "scattermapbox": [
           {
            "marker": {
             "colorbar": {
              "outlinewidth": 0,
              "ticks": ""
             }
            },
            "type": "scattermapbox"
           }
          ],
          "scatterpolar": [
           {
            "marker": {
             "colorbar": {
              "outlinewidth": 0,
              "ticks": ""
             }
            },
            "type": "scatterpolar"
           }
          ],
          "scatterpolargl": [
           {
            "marker": {
             "colorbar": {
              "outlinewidth": 0,
              "ticks": ""
             }
            },
            "type": "scatterpolargl"
           }
          ],
          "scatterternary": [
           {
            "marker": {
             "colorbar": {
              "outlinewidth": 0,
              "ticks": ""
             }
            },
            "type": "scatterternary"
           }
          ],
          "surface": [
           {
            "colorbar": {
             "outlinewidth": 0,
             "ticks": ""
            },
            "colorscale": [
             [
              0,
              "#0d0887"
             ],
             [
              0.1111111111111111,
              "#46039f"
             ],
             [
              0.2222222222222222,
              "#7201a8"
             ],
             [
              0.3333333333333333,
              "#9c179e"
             ],
             [
              0.4444444444444444,
              "#bd3786"
             ],
             [
              0.5555555555555556,
              "#d8576b"
             ],
             [
              0.6666666666666666,
              "#ed7953"
             ],
             [
              0.7777777777777778,
              "#fb9f3a"
             ],
             [
              0.8888888888888888,
              "#fdca26"
             ],
             [
              1,
              "#f0f921"
             ]
            ],
            "type": "surface"
           }
          ],
          "table": [
           {
            "cells": {
             "fill": {
              "color": "#EBF0F8"
             },
             "line": {
              "color": "white"
             }
            },
            "header": {
             "fill": {
              "color": "#C8D4E3"
             },
             "line": {
              "color": "white"
             }
            },
            "type": "table"
           }
          ]
         },
         "layout": {
          "annotationdefaults": {
           "arrowcolor": "#2a3f5f",
           "arrowhead": 0,
           "arrowwidth": 1
          },
          "autotypenumbers": "strict",
          "coloraxis": {
           "colorbar": {
            "outlinewidth": 0,
            "ticks": ""
           }
          },
          "colorscale": {
           "diverging": [
            [
             0,
             "#8e0152"
            ],
            [
             0.1,
             "#c51b7d"
            ],
            [
             0.2,
             "#de77ae"
            ],
            [
             0.3,
             "#f1b6da"
            ],
            [
             0.4,
             "#fde0ef"
            ],
            [
             0.5,
             "#f7f7f7"
            ],
            [
             0.6,
             "#e6f5d0"
            ],
            [
             0.7,
             "#b8e186"
            ],
            [
             0.8,
             "#7fbc41"
            ],
            [
             0.9,
             "#4d9221"
            ],
            [
             1,
             "#276419"
            ]
           ],
           "sequential": [
            [
             0,
             "#0d0887"
            ],
            [
             0.1111111111111111,
             "#46039f"
            ],
            [
             0.2222222222222222,
             "#7201a8"
            ],
            [
             0.3333333333333333,
             "#9c179e"
            ],
            [
             0.4444444444444444,
             "#bd3786"
            ],
            [
             0.5555555555555556,
             "#d8576b"
            ],
            [
             0.6666666666666666,
             "#ed7953"
            ],
            [
             0.7777777777777778,
             "#fb9f3a"
            ],
            [
             0.8888888888888888,
             "#fdca26"
            ],
            [
             1,
             "#f0f921"
            ]
           ],
           "sequentialminus": [
            [
             0,
             "#0d0887"
            ],
            [
             0.1111111111111111,
             "#46039f"
            ],
            [
             0.2222222222222222,
             "#7201a8"
            ],
            [
             0.3333333333333333,
             "#9c179e"
            ],
            [
             0.4444444444444444,
             "#bd3786"
            ],
            [
             0.5555555555555556,
             "#d8576b"
            ],
            [
             0.6666666666666666,
             "#ed7953"
            ],
            [
             0.7777777777777778,
             "#fb9f3a"
            ],
            [
             0.8888888888888888,
             "#fdca26"
            ],
            [
             1,
             "#f0f921"
            ]
           ]
          },
          "colorway": [
           "#636efa",
           "#EF553B",
           "#00cc96",
           "#ab63fa",
           "#FFA15A",
           "#19d3f3",
           "#FF6692",
           "#B6E880",
           "#FF97FF",
           "#FECB52"
          ],
          "font": {
           "color": "#2a3f5f"
          },
          "geo": {
           "bgcolor": "white",
           "lakecolor": "white",
           "landcolor": "#E5ECF6",
           "showlakes": true,
           "showland": true,
           "subunitcolor": "white"
          },
          "hoverlabel": {
           "align": "left"
          },
          "hovermode": "closest",
          "mapbox": {
           "style": "light"
          },
          "paper_bgcolor": "white",
          "plot_bgcolor": "#E5ECF6",
          "polar": {
           "angularaxis": {
            "gridcolor": "white",
            "linecolor": "white",
            "ticks": ""
           },
           "bgcolor": "#E5ECF6",
           "radialaxis": {
            "gridcolor": "white",
            "linecolor": "white",
            "ticks": ""
           }
          },
          "scene": {
           "xaxis": {
            "backgroundcolor": "#E5ECF6",
            "gridcolor": "white",
            "gridwidth": 2,
            "linecolor": "white",
            "showbackground": true,
            "ticks": "",
            "zerolinecolor": "white"
           },
           "yaxis": {
            "backgroundcolor": "#E5ECF6",
            "gridcolor": "white",
            "gridwidth": 2,
            "linecolor": "white",
            "showbackground": true,
            "ticks": "",
            "zerolinecolor": "white"
           },
           "zaxis": {
            "backgroundcolor": "#E5ECF6",
            "gridcolor": "white",
            "gridwidth": 2,
            "linecolor": "white",
            "showbackground": true,
            "ticks": "",
            "zerolinecolor": "white"
           }
          },
          "shapedefaults": {
           "line": {
            "color": "#2a3f5f"
           }
          },
          "ternary": {
           "aaxis": {
            "gridcolor": "white",
            "linecolor": "white",
            "ticks": ""
           },
           "baxis": {
            "gridcolor": "white",
            "linecolor": "white",
            "ticks": ""
           },
           "bgcolor": "#E5ECF6",
           "caxis": {
            "gridcolor": "white",
            "linecolor": "white",
            "ticks": ""
           }
          },
          "title": {
           "x": 0.05
          },
          "xaxis": {
           "automargin": true,
           "gridcolor": "white",
           "linecolor": "white",
           "ticks": "",
           "title": {
            "standoff": 15
           },
           "zerolinecolor": "white",
           "zerolinewidth": 2
          },
          "yaxis": {
           "automargin": true,
           "gridcolor": "white",
           "linecolor": "white",
           "ticks": "",
           "title": {
            "standoff": 15
           },
           "zerolinecolor": "white",
           "zerolinewidth": 2
          }
         }
        },
        "xaxis": {
         "anchor": "y",
         "domain": [
          0,
          1
         ],
         "title": {
          "text": "year"
         }
        },
        "yaxis": {
         "anchor": "x",
         "domain": [
          0,
          1
         ],
         "title": {
          "text": "amount"
         }
        }
       }
      }
     },
     "metadata": {},
     "output_type": "display_data"
    }
   ],
   "source": [
    "\n",
    "df_crime_100k = df_crime[ df_crime[\"Unit of measure\"] == \"Per hundred thousand inhabitants\" ]\n",
    "df_crime_100k_nona = df_crime_100k.dropna()\n",
    "\n",
    "\n",
    "country_lst = []\n",
    "year_lst = []\n",
    "amount = []\n",
    "for country in eu_countries:\n",
    "    df_country = get_crime_data(country)\n",
    "    min = df_country[\"Year\"].min()\n",
    "    max = df_country[\"Year\"].max()\n",
    "\n",
    "    df_crime_country = pd.DataFrame()\n",
    "    \n",
    "    for year in range(min, max + 1):\n",
    "        df_country_year = df_country[df_country[\"Year\"] == year]\n",
    "        sum = df_country_year[\"Amount (Per 100k)\"].sum()\n",
    "        country_lst.append(country)\n",
    "        year_lst.append(year)\n",
    "        amount.append(sum)\n",
    "    \n",
    "\n",
    "df_total_crime = pd.DataFrame({\"country\" : country_lst, \"year\" : year_lst, \"amount\" : amount})\n",
    "\n",
    "print(df_total_crime)\n",
    "\n",
    "\n",
    "print(df_total_crime.corr())\n",
    "px.scatter(df_total_crime, x=\"year\", y=\"amount\", color=\"country\")"
   ]
  },
  {
   "cell_type": "markdown",
   "metadata": {},
   "source": [
    "# Time to Scale it!!"
   ]
  },
  {
   "cell_type": "code",
   "execution_count": 26,
   "metadata": {},
   "outputs": [
    {
     "data": {
      "application/vnd.plotly.v1+json": {
       "config": {
        "plotlyServerURL": "https://plot.ly"
       },
       "data": [
        {
         "hovertemplate": "country=Austria<br>year=%{x}<br>amount=%{y}<extra></extra>",
         "legendgroup": "Austria",
         "marker": {
          "color": "#636efa",
          "symbol": "circle"
         },
         "mode": "markers",
         "name": "Austria",
         "orientation": "v",
         "showlegend": true,
         "type": "scatter",
         "x": [
          2008,
          2009,
          2010,
          2011,
          2012,
          2013,
          2014,
          2015,
          2016,
          2017,
          2018,
          2019,
          2020,
          2021,
          2022
         ],
         "xaxis": "x",
         "y": [
          0.6507096738136117,
          0.6558527841619176,
          0.34802220048479116,
          0.2908925307358143,
          0.298638054920362,
          0.5477394615301883,
          0.4845049197977728,
          0.3939193172330689,
          0.7099788774674836,
          0.5160733311156718,
          0.3633538124330897,
          0.4213166660584922,
          0.21578254720916148,
          0.09220389176007826,
          0.4020917195765264
         ],
         "yaxis": "y"
        },
        {
         "hovertemplate": "country=Belgium<br>year=%{x}<br>amount=%{y}<extra></extra>",
         "legendgroup": "Belgium",
         "marker": {
          "color": "#EF553B",
          "symbol": "circle"
         },
         "mode": "markers",
         "name": "Belgium",
         "orientation": "v",
         "showlegend": true,
         "type": "scatter",
         "x": [
          2008,
          2009,
          2010,
          2011,
          2012,
          2013,
          2014,
          2015,
          2016,
          2017,
          2018,
          2019,
          2020,
          2021,
          2022
         ],
         "xaxis": "x",
         "y": [
          1.3655094362417997,
          1.4089481462435873,
          1.225179670388286,
          1.3313077524255683,
          1.2711539337917879,
          1.1352523859481647,
          1.2077908143006648,
          1.2786165869071795,
          1.4152021684271276,
          1.354127733041,
          1.3576250480778478,
          1.437404975800761,
          0.9647634210121879,
          1.0242486353006877,
          1.25102379988852
         ],
         "yaxis": "y"
        },
        {
         "hovertemplate": "country=Bulgaria<br>year=%{x}<br>amount=%{y}<extra></extra>",
         "legendgroup": "Bulgaria",
         "marker": {
          "color": "#00cc96",
          "symbol": "circle"
         },
         "mode": "markers",
         "name": "Bulgaria",
         "orientation": "v",
         "showlegend": true,
         "type": "scatter",
         "x": [
          2008,
          2009,
          2010,
          2011,
          2012,
          2013,
          2014,
          2015,
          2016,
          2017,
          2018,
          2019,
          2020,
          2021,
          2022
         ],
         "xaxis": "x",
         "y": [
          -0.7743536277155588,
          -0.7160667581382133,
          -0.6674386497949852,
          -0.7437058331500068,
          -0.7868462427515928,
          -0.7715917774585189,
          -0.819700431656568,
          -0.8627945532650194,
          -0.9216625943117236,
          -0.871542983967487,
          -0.8580474624135335,
          -0.9087791028892184,
          -0.9738857367884172,
          -1.0098515074541172,
          -0.9599170490824196
         ],
         "yaxis": "y"
        },
        {
         "hovertemplate": "country=Croatia<br>year=%{x}<br>amount=%{y}<extra></extra>",
         "legendgroup": "Croatia",
         "marker": {
          "color": "#ab63fa",
          "symbol": "circle"
         },
         "mode": "markers",
         "name": "Croatia",
         "orientation": "v",
         "showlegend": true,
         "type": "scatter",
         "x": [
          2008,
          2009,
          2010,
          2011,
          2012,
          2013,
          2014,
          2015,
          2016,
          2017,
          2018,
          2019,
          2020,
          2021,
          2022
         ],
         "xaxis": "x",
         "y": [
          -0.7654251881509007,
          -0.7961038413785426,
          -0.7734021523011224,
          -0.7293668414989312,
          -0.7050913606549295,
          -0.8013601001545108,
          -0.8808571568082683,
          -0.8605264416014168,
          -0.7063925675730506,
          -0.7275616097666758,
          -0.7513793537896785,
          -0.7148118392132267,
          -0.8354434924327311,
          -0.8360812381159209,
          -0.7983359512697074
         ],
         "yaxis": "y"
        },
        {
         "hovertemplate": "country=Cyprus<br>year=%{x}<br>amount=%{y}<extra></extra>",
         "legendgroup": "Cyprus",
         "marker": {
          "color": "#FFA15A",
          "symbol": "circle"
         },
         "mode": "markers",
         "name": "Cyprus",
         "orientation": "v",
         "showlegend": true,
         "type": "scatter",
         "x": [
          2008,
          2009,
          2010,
          2011,
          2012,
          2013,
          2014,
          2015,
          2016,
          2017,
          2018,
          2019,
          2020,
          2021,
          2022
         ],
         "xaxis": "x",
         "y": [
          -0.769843119940095,
          -0.8158379557849906,
          -0.8517677246782525,
          -0.727073014283587,
          -0.7699716976988027,
          -0.8527654880858238,
          -0.9007455645251653,
          -0.9611051075728781,
          -0.9764470057418733,
          -0.9853754453065315,
          -1.1174505190510153,
          -1.1363565926913863,
          -1.1624115897159017,
          -1.1493069445484194,
          -1.1263275275121907
         ],
         "yaxis": "y"
        },
        {
         "hovertemplate": "country=Czechia<br>year=%{x}<br>amount=%{y}<extra></extra>",
         "legendgroup": "Czechia",
         "marker": {
          "color": "#19d3f3",
          "symbol": "circle"
         },
         "mode": "markers",
         "name": "Czechia",
         "orientation": "v",
         "showlegend": true,
         "type": "scatter",
         "x": [
          2008,
          2009,
          2010,
          2011,
          2012,
          2013,
          2014,
          2015,
          2016,
          2017,
          2018,
          2019,
          2020,
          2021,
          2022
         ],
         "xaxis": "x",
         "y": [
          -0.08895702714863303,
          0.044650693479645814,
          -0.03984032332231622,
          -0.07120815333663105,
          -0.14899255424440255,
          -0.011105765806333493,
          -0.2572138821934459,
          -0.496985686631446,
          -0.6387246647203958,
          -0.6977315697465044,
          -0.7580756834631721,
          -0.7532205872943717,
          -0.8571114163301419,
          -0.8871574669849424,
          -0.7966747266272047
         ],
         "yaxis": "y"
        },
        {
         "hovertemplate": "country=Denmark<br>year=%{x}<br>amount=%{y}<extra></extra>",
         "legendgroup": "Denmark",
         "marker": {
          "color": "#FF6692",
          "symbol": "circle"
         },
         "mode": "markers",
         "name": "Denmark",
         "orientation": "v",
         "showlegend": true,
         "type": "scatter",
         "x": [
          2008,
          2009,
          2010,
          2011,
          2012,
          2013,
          2014,
          2015,
          2016,
          2017,
          2018,
          2019,
          2020,
          2021,
          2022
         ],
         "xaxis": "x",
         "y": [
          3.159832631448257,
          3.356613176484771,
          3.1246486135555,
          3.083899750265876,
          2.8239206652693833,
          2.685823009307034,
          2.38429787891693,
          2.0043351726048195,
          2.3564942243739906,
          2.253158851255838,
          1.9857736873577847,
          1.8067317299125756,
          1.4454848021579498,
          1.1191081625648338,
          1.4477529138215528
         ],
         "yaxis": "y"
        },
        {
         "hovertemplate": "country=Estonia<br>year=%{x}<br>amount=%{y}<extra></extra>",
         "legendgroup": "Estonia",
         "marker": {
          "color": "#B6E880",
          "symbol": "circle"
         },
         "mode": "markers",
         "name": "Estonia",
         "orientation": "v",
         "showlegend": true,
         "type": "scatter",
         "x": [
          2008,
          2009,
          2010,
          2011,
          2012,
          2013,
          2014,
          2015,
          2016,
          2017,
          2018,
          2019,
          2020,
          2021,
          2022
         ],
         "xaxis": "x",
         "y": [
          0.07693914024630753,
          -0.026123648023385314,
          -0.0635603482487009,
          -0.24594532742030872,
          -0.2778686133522405,
          -0.38337437903737853,
          -0.44079206296586076,
          -0.5878335878239135,
          -0.6005267841635311,
          -0.6560569465941853,
          -0.7216573190868211,
          -0.7700231288022857,
          -0.7916961958100449,
          -0.728621090498427,
          -0.7449607520749932
         ],
         "yaxis": "y"
        },
        {
         "hovertemplate": "country=Finland<br>year=%{x}<br>amount=%{y}<extra></extra>",
         "legendgroup": "Finland",
         "marker": {
          "color": "#FF97FF",
          "symbol": "circle"
         },
         "mode": "markers",
         "name": "Finland",
         "orientation": "v",
         "showlegend": true,
         "type": "scatter",
         "x": [
          2008,
          2009,
          2010,
          2011,
          2012,
          2013,
          2014,
          2015,
          2016,
          2017,
          2018,
          2019,
          2020,
          2021,
          2022
         ],
         "xaxis": "x",
         "y": [
          0.6768521037140485,
          0.6992966372740534,
          0.6557344926239064,
          0.7054889421334132,
          0.5142783856041132,
          0.4705876631952583,
          0.4714877075062118,
          0.4219492686313336,
          0.8246599520139982,
          0.6815014754689166,
          0.6814140425929951,
          0.8010222168531864,
          1.0514608321535728,
          0.8524996083293762,
          0.8844331804820044
         ],
         "yaxis": "y"
        },
        {
         "hovertemplate": "country=France<br>year=%{x}<br>amount=%{y}<extra></extra>",
         "legendgroup": "France",
         "marker": {
          "color": "#FECB52",
          "symbol": "circle"
         },
         "mode": "markers",
         "name": "France",
         "orientation": "v",
         "showlegend": true,
         "type": "scatter",
         "x": [
          2008,
          2009,
          2010,
          2011,
          2012,
          2013,
          2014,
          2015,
          2016,
          2017,
          2018,
          2019,
          2020,
          2021,
          2022
         ],
         "xaxis": "x",
         "y": [
          0.25445359391806993,
          0.6290520361368976,
          0.4713025555336727,
          0.48804852282775546,
          0.5172305309440405,
          0.7035757050838434,
          0.7052163572849526,
          0.6605741594616616,
          1.076862654163853,
          0.734434367173676,
          0.732778285641522,
          0.7779810824927789,
          0.4948940027013502,
          0.6479632528876167,
          0.8383251962094467
         ],
         "yaxis": "y"
        },
        {
         "hovertemplate": "country=Germany<br>year=%{x}<br>amount=%{y}<extra></extra>",
         "legendgroup": "Germany",
         "marker": {
          "color": "#636efa",
          "symbol": "circle"
         },
         "mode": "markers",
         "name": "Germany",
         "orientation": "v",
         "showlegend": true,
         "type": "scatter",
         "x": [
          2008,
          2009,
          2010,
          2011,
          2012,
          2013,
          2014,
          2015,
          2016,
          2017,
          2018,
          2019,
          2020,
          2021,
          2022
         ],
         "xaxis": "x",
         "y": [
          0.8776905628153765,
          0.17500796836779578,
          0.1034570172021704,
          0.1879377477834356,
          0.18819490330085087,
          0.2063397966096726,
          0.2409940741365548,
          0.27238247659226306,
          0.7999113050179525,
          0.6613919140070423,
          0.5454353480941476,
          0.4943694054458226,
          0.40898348744325597,
          0.3162069198701738,
          0.43780033472481106
         ],
         "yaxis": "y"
        },
        {
         "hovertemplate": "country=Greece<br>year=%{x}<br>amount=%{y}<extra></extra>",
         "legendgroup": "Greece",
         "marker": {
          "color": "#EF553B",
          "symbol": "circle"
         },
         "mode": "markers",
         "name": "Greece",
         "orientation": "v",
         "showlegend": true,
         "type": "scatter",
         "x": [
          2008,
          2009,
          2010,
          2011,
          2012,
          2013,
          2014,
          2015,
          2016,
          2017,
          2018,
          2019,
          2020,
          2021,
          2022
         ],
         "xaxis": "x",
         "y": [
          -0.6569929926775768,
          -0.5854266121809066,
          -0.4693671840610457,
          -0.20959896658883406,
          -0.4327688108225042,
          -0.5329771728488875,
          -0.6029286166961899,
          -0.5505614671297439,
          -0.5182215892595992,
          -0.4795196838886008,
          -0.6018331341920008,
          -0.5758809993744516,
          -0.7773314886072278,
          -0.7731192812319658,
          -0.6657414233800445
         ],
         "yaxis": "y"
        },
        {
         "hovertemplate": "country=Hungary<br>year=%{x}<br>amount=%{y}<extra></extra>",
         "legendgroup": "Hungary",
         "marker": {
          "color": "#00cc96",
          "symbol": "circle"
         },
         "mode": "markers",
         "name": "Hungary",
         "orientation": "v",
         "showlegend": true,
         "type": "scatter",
         "x": [
          2008,
          2009,
          2010,
          2011,
          2012,
          2013,
          2014,
          2015,
          2016,
          2017,
          2018,
          2019,
          2020,
          2021,
          2022
         ],
         "xaxis": "x",
         "y": [
          -0.2274301301664091,
          -0.2733735349078216,
          -0.025578478326465197,
          -0.0341160415046522,
          -0.004959748940108574,
          -0.22581519351704102,
          -0.3700382939042227,
          -0.3831377959613567,
          -0.5695858323081259,
          -0.6979218648293917,
          -0.8071255268549612,
          -0.8894204355381967,
          -0.9120809797328306,
          -0.908182502088815,
          -0.8884741032341085
         ],
         "yaxis": "y"
        },
        {
         "hovertemplate": "country=Ireland<br>year=%{x}<br>amount=%{y}<extra></extra>",
         "legendgroup": "Ireland",
         "marker": {
          "color": "#ab63fa",
          "symbol": "circle"
         },
         "mode": "markers",
         "name": "Ireland",
         "orientation": "v",
         "showlegend": true,
         "type": "scatter",
         "x": [
          2008,
          2009,
          2010,
          2011,
          2012,
          2013,
          2014,
          2015,
          2016,
          2017,
          2018,
          2019,
          2020,
          2021,
          2022
         ],
         "xaxis": "x",
         "y": [
          0.3608954056865998,
          0.34002980700352453,
          0.29124740534984733,
          0.2572308735061549,
          0.2091119330874092,
          0.18099454881322324,
          0.18351467288389298,
          0.057631903998768656,
          -0.10408291468299952,
          -0.0486659006800083,
          -0.07103328758478882,
          -0.03252682040702597,
          -0.2899549226707583,
          -0.28286771661079374,
          -0.15897018832011542
         ],
         "yaxis": "y"
        },
        {
         "hovertemplate": "country=Italy<br>year=%{x}<br>amount=%{y}<extra></extra>",
         "legendgroup": "Italy",
         "marker": {
          "color": "#FFA15A",
          "symbol": "circle"
         },
         "mode": "markers",
         "name": "Italy",
         "orientation": "v",
         "showlegend": true,
         "type": "scatter",
         "x": [
          2008,
          2009,
          2010,
          2011,
          2012,
          2013,
          2014,
          2015,
          2016,
          2017,
          2018,
          2019,
          2020,
          2021,
          2022
         ],
         "xaxis": "x",
         "y": [
          0.20362423434576724,
          0.10603371548667131,
          -0.08186467797831984,
          0.041600829043100765,
          0.09571663612797061,
          0.2949761603523688,
          0.1981056769420357,
          0.09137070788365283,
          0.16323024567017624,
          0.09137070788365237,
          0.0622607033122438,
          0.0026109094925969452,
          -0.2614003740169665,
          -0.07855765802435952,
          0.05820793235777858
         ],
         "yaxis": "y"
        },
        {
         "hovertemplate": "country=Latvia<br>year=%{x}<br>amount=%{y}<extra></extra>",
         "legendgroup": "Latvia",
         "marker": {
          "color": "#19d3f3",
          "symbol": "circle"
         },
         "mode": "markers",
         "name": "Latvia",
         "orientation": "v",
         "showlegend": true,
         "type": "scatter",
         "x": [
          2008,
          2009,
          2010,
          2011,
          2012,
          2013,
          2014,
          2015,
          2016,
          2017,
          2018,
          2019,
          2020,
          2021,
          2022
         ],
         "xaxis": "x",
         "y": [
          -0.4593124033301087,
          -0.37447165502446195,
          -0.5265740004652473,
          -1.246254574613977,
          -0.620188895025103,
          -0.6530173683783367,
          -0.6309585680944545,
          -0.6455084272698107,
          -0.5368242193894202,
          -0.5955019653532369,
          -0.6147783429386857,
          -0.6611640551700526,
          -0.6839531771233941,
          -0.837598455668671,
          -0.8116566070718183
         ],
         "yaxis": "y"
        },
        {
         "hovertemplate": "country=Lithuania<br>year=%{x}<br>amount=%{y}<extra></extra>",
         "legendgroup": "Lithuania",
         "marker": {
          "color": "#FF6692",
          "symbol": "circle"
         },
         "mode": "markers",
         "name": "Lithuania",
         "orientation": "v",
         "showlegend": true,
         "type": "scatter",
         "x": [
          2008,
          2009,
          2010,
          2011,
          2012,
          2013,
          2014,
          2015,
          2016,
          2017,
          2018,
          2019,
          2020,
          2021,
          2022
         ],
         "xaxis": "x",
         "y": [
          -0.6349907666075261,
          -0.6271680957677536,
          -0.6987499055954688,
          -0.6884431124574647,
          -0.7544446475572685,
          -0.6411316403634029,
          -0.6349136199523016,
          -0.7378889753460733,
          -0.7196977940441168,
          -0.7637022461842183,
          -0.8600738478907658,
          -0.9139633581203103,
          -0.962956627298268,
          -0.9997915836128317,
          -0.9538790375335089
         ],
         "yaxis": "y"
        },
        {
         "hovertemplate": "country=Luxembourg<br>year=%{x}<br>amount=%{y}<extra></extra>",
         "legendgroup": "Luxembourg",
         "marker": {
          "color": "#B6E880",
          "symbol": "circle"
         },
         "mode": "markers",
         "name": "Luxembourg",
         "orientation": "v",
         "showlegend": true,
         "type": "scatter",
         "x": [
          2008,
          2009,
          2010,
          2011,
          2012,
          2013,
          2014,
          2015,
          2016,
          2017,
          2018,
          2019,
          2020,
          2021,
          2022
         ],
         "xaxis": "x",
         "y": [
          0.3275937661813218,
          0.5153944405496955,
          0.2560993892295281,
          0.6393433999438569,
          0.5469217069848076,
          0.912252264355989,
          1.1399994767996509,
          0.5601703592420425,
          0.4973884112202783,
          0.14231321588361817,
          0.3062755737875958,
          0.46314043941091176,
          0.5122365707958361,
          0.6572157084042182,
          1.2865112612918281
         ],
         "yaxis": "y"
        },
        {
         "hovertemplate": "country=Malta<br>year=%{x}<br>amount=%{y}<extra></extra>",
         "legendgroup": "Malta",
         "marker": {
          "color": "#FF97FF",
          "symbol": "circle"
         },
         "mode": "markers",
         "name": "Malta",
         "orientation": "v",
         "showlegend": true,
         "type": "scatter",
         "x": [
          2008,
          2009,
          2010,
          2011,
          2012,
          2013,
          2014,
          2015,
          2016,
          2017,
          2018,
          2019,
          2020,
          2021,
          2022
         ],
         "xaxis": "x",
         "y": [
          -0.12436734189671625,
          -0.29646610037171317,
          -0.18635210781449352,
          -0.0987186505897168,
          -0.07708672846474386,
          -0.12942301936910047,
          -0.18953569312009438,
          -0.17978949901005564,
          -0.10879914687239566,
          -0.12377074109631266,
          -0.3139989635490864,
          -0.38589450310804824,
          -0.6407819088597181,
          -0.43003267611720536,
          -0.5393700590118312
         ],
         "yaxis": "y"
        },
        {
         "hovertemplate": "country=Netherlands<br>year=%{x}<br>amount=%{y}<extra></extra>",
         "legendgroup": "Netherlands",
         "marker": {
          "color": "#FECB52",
          "symbol": "circle"
         },
         "mode": "markers",
         "name": "Netherlands",
         "orientation": "v",
         "showlegend": true,
         "type": "scatter",
         "x": [
          2008,
          2009,
          2010,
          2011,
          2012,
          2013,
          2014,
          2015,
          2016,
          2017,
          2018,
          2019,
          2020,
          2021,
          2022
         ],
         "xaxis": "x",
         "y": [
          2.500033291084848,
          2.4787613866842553,
          0.7438411160007272,
          0.785418020056428,
          0.7637140943865791,
          0.7397574863841724,
          0.5299648721664446,
          0.38204901854917994,
          0.41277395976995707,
          0.01613214659829219,
          -0.11953796127965725,
          -0.13094538003219888,
          -0.3008891752712558,
          -0.44818271253637565,
          -0.2929122111210337
         ],
         "yaxis": "y"
        },
        {
         "hovertemplate": "country=Poland<br>year=%{x}<br>amount=%{y}<extra></extra>",
         "legendgroup": "Poland",
         "marker": {
          "color": "#636efa",
          "symbol": "circle"
         },
         "mode": "markers",
         "name": "Poland",
         "orientation": "v",
         "showlegend": true,
         "type": "scatter",
         "x": [
          2008,
          2009,
          2010,
          2011,
          2012,
          2013,
          2014,
          2015,
          2016,
          2017,
          2018,
          2019,
          2020,
          2021,
          2022
         ],
         "xaxis": "x",
         "y": [
          -0.7355334308065493,
          -0.6986676158298959,
          -0.6910763849557972,
          -0.6600994313279533,
          -0.6685752771819606,
          -0.7080332197741602,
          -0.8178180532690883,
          -0.8887981191860518,
          -0.7652914672818446,
          -0.7525056949559574,
          -0.7775269268004633,
          -0.7104144798654256,
          -0.7378118286908488,
          -0.6735075200059857,
          -0.6936787987920396
         ],
         "yaxis": "y"
        },
        {
         "hovertemplate": "country=Portugal<br>year=%{x}<br>amount=%{y}<extra></extra>",
         "legendgroup": "Portugal",
         "marker": {
          "color": "#EF553B",
          "symbol": "circle"
         },
         "mode": "markers",
         "name": "Portugal",
         "orientation": "v",
         "showlegend": true,
         "type": "scatter",
         "x": [
          2008,
          2009,
          2010,
          2011,
          2012,
          2013,
          2014,
          2015,
          2016,
          2017,
          2018,
          2019,
          2020,
          2021,
          2022
         ],
         "xaxis": "x",
         "y": [
          -0.05658114750605032,
          -0.13450441239322608,
          -0.26593659734417197,
          -0.24102851392732874,
          -0.30051887132617777,
          -0.3874888673160229,
          -0.4423915702841836,
          -0.4481209952121959,
          -0.4243186805202382,
          -0.44266929824299217,
          -0.4506308330621691,
          -0.45320238823632175,
          -0.5526392837104592,
          -0.5667519785062095,
          -0.4708741153930992
         ],
         "yaxis": "y"
        },
        {
         "hovertemplate": "country=Romania<br>year=%{x}<br>amount=%{y}<extra></extra>",
         "legendgroup": "Romania",
         "marker": {
          "color": "#00cc96",
          "symbol": "circle"
         },
         "mode": "markers",
         "name": "Romania",
         "orientation": "v",
         "showlegend": true,
         "type": "scatter",
         "x": [
          2008,
          2009,
          2010,
          2011,
          2012,
          2013,
          2014,
          2015,
          2016,
          2017,
          2018,
          2019,
          2020,
          2021,
          2022
         ],
         "xaxis": "x",
         "y": [
          -1.142528325109353,
          -1.1160361637052316,
          -1.1075654609615724,
          -1.1045515982974654,
          -1.044012046387562,
          -1.0380254659421344,
          -0.678547768147325,
          -0.9124204250158187,
          -0.9579626671500634,
          -0.8972225339365761,
          -0.866744462012518,
          -0.9436339617196845,
          -0.9730936977947782,
          -0.9552933928792929,
          -0.9630080584017511
         ],
         "yaxis": "y"
        },
        {
         "hovertemplate": "country=Slovakia<br>year=%{x}<br>amount=%{y}<extra></extra>",
         "legendgroup": "Slovakia",
         "marker": {
          "color": "#ab63fa",
          "symbol": "circle"
         },
         "mode": "markers",
         "name": "Slovakia",
         "orientation": "v",
         "showlegend": true,
         "type": "scatter",
         "x": [
          2008,
          2009,
          2010,
          2011,
          2012,
          2013,
          2014,
          2015,
          2016,
          2017,
          2018,
          2019,
          2020,
          2021,
          2022
         ],
         "xaxis": "x",
         "y": [
          -0.7792755843188873,
          -0.8004240540711193,
          -0.7056313872415015,
          -0.7782623915802711,
          -0.8168820071856967,
          -0.8162339752818103,
          -0.8826469592094784,
          -0.9744463358163825,
          -0.9793117182058795,
          -0.9989326841846646,
          -1.0468304708584335,
          -1.0880473571897533,
          -1.1046956053872181,
          -1.130508876225363,
          -1.1130840183653041
         ],
         "yaxis": "y"
        },
        {
         "hovertemplate": "country=Slovenia<br>year=%{x}<br>amount=%{y}<extra></extra>",
         "legendgroup": "Slovenia",
         "marker": {
          "color": "#FFA15A",
          "symbol": "circle"
         },
         "mode": "markers",
         "name": "Slovenia",
         "orientation": "v",
         "showlegend": true,
         "type": "scatter",
         "x": [
          2008,
          2009,
          2010,
          2011,
          2012,
          2013,
          2014,
          2015,
          2016,
          2017,
          2018,
          2019,
          2020,
          2021,
          2022
         ],
         "xaxis": "x",
         "y": [
          -0.08987764390097969,
          -0.0756569437879153,
          -0.1292121518448198,
          -0.09448587077306163,
          0.00424127547300981,
          0.08647960994241424,
          -0.09077254510158496,
          -0.3692976860140666,
          -0.24234515017649466,
          -0.3398636654907146,
          -0.42873146919908434,
          -0.24299832519072992,
          -0.3009097477126491,
          -0.5881421744448119,
          -0.466595047583309
         ],
         "yaxis": "y"
        },
        {
         "hovertemplate": "country=Spain<br>year=%{x}<br>amount=%{y}<extra></extra>",
         "legendgroup": "Spain",
         "marker": {
          "color": "#19d3f3",
          "symbol": "circle"
         },
         "mode": "markers",
         "name": "Spain",
         "orientation": "v",
         "showlegend": true,
         "type": "scatter",
         "x": [
          2008,
          2009,
          2010,
          2011,
          2012,
          2013,
          2014,
          2015,
          2016,
          2017,
          2018,
          2019,
          2020,
          2021,
          2022
         ],
         "xaxis": "x",
         "y": [
          -0.5027048253387617,
          -0.5299581670744322,
          -0.630459686390669,
          -0.6463107524841465,
          -0.5786377065211433,
          -0.5977752201271879,
          -0.6477868251541101,
          -0.6102781213839185,
          -0.4651035455823005,
          -0.45228177148397497,
          -0.3653734928183097,
          -0.32775164062045503,
          -0.47999799315099323,
          -0.434939203389489,
          -0.2295233760781695
         ],
         "yaxis": "y"
        },
        {
         "hovertemplate": "country=Sweden<br>year=%{x}<br>amount=%{y}<extra></extra>",
         "legendgroup": "Sweden",
         "marker": {
          "color": "#FF6692",
          "symbol": "circle"
         },
         "mode": "markers",
         "name": "Sweden",
         "orientation": "v",
         "showlegend": true,
         "type": "scatter",
         "x": [
          2008,
          2009,
          2010,
          2011,
          2012,
          2013,
          2014,
          2015,
          2016,
          2017,
          2018,
          2019,
          2020,
          2021,
          2022
         ],
         "xaxis": "x",
         "y": [
          2.7703551709917815,
          2.701658646069466,
          2.545503529674216,
          2.6186539881581634,
          2.4978989002903016,
          2.451749771134956,
          2.344310195958854,
          2.337053267257396,
          3.4823365089490985,
          3.6012863650847073,
          3.5943534523351905,
          3.493239902887505,
          3.4292596101545847,
          3.1365549140118265,
          3.0094583710845018
         ],
         "yaxis": "y"
        }
       ],
       "layout": {
        "legend": {
         "title": {
          "text": "country"
         },
         "tracegroupgap": 0
        },
        "margin": {
         "t": 60
        },
        "template": {
         "data": {
          "bar": [
           {
            "error_x": {
             "color": "#2a3f5f"
            },
            "error_y": {
             "color": "#2a3f5f"
            },
            "marker": {
             "line": {
              "color": "#E5ECF6",
              "width": 0.5
             },
             "pattern": {
              "fillmode": "overlay",
              "size": 10,
              "solidity": 0.2
             }
            },
            "type": "bar"
           }
          ],
          "barpolar": [
           {
            "marker": {
             "line": {
              "color": "#E5ECF6",
              "width": 0.5
             },
             "pattern": {
              "fillmode": "overlay",
              "size": 10,
              "solidity": 0.2
             }
            },
            "type": "barpolar"
           }
          ],
          "carpet": [
           {
            "aaxis": {
             "endlinecolor": "#2a3f5f",
             "gridcolor": "white",
             "linecolor": "white",
             "minorgridcolor": "white",
             "startlinecolor": "#2a3f5f"
            },
            "baxis": {
             "endlinecolor": "#2a3f5f",
             "gridcolor": "white",
             "linecolor": "white",
             "minorgridcolor": "white",
             "startlinecolor": "#2a3f5f"
            },
            "type": "carpet"
           }
          ],
          "choropleth": [
           {
            "colorbar": {
             "outlinewidth": 0,
             "ticks": ""
            },
            "type": "choropleth"
           }
          ],
          "contour": [
           {
            "colorbar": {
             "outlinewidth": 0,
             "ticks": ""
            },
            "colorscale": [
             [
              0,
              "#0d0887"
             ],
             [
              0.1111111111111111,
              "#46039f"
             ],
             [
              0.2222222222222222,
              "#7201a8"
             ],
             [
              0.3333333333333333,
              "#9c179e"
             ],
             [
              0.4444444444444444,
              "#bd3786"
             ],
             [
              0.5555555555555556,
              "#d8576b"
             ],
             [
              0.6666666666666666,
              "#ed7953"
             ],
             [
              0.7777777777777778,
              "#fb9f3a"
             ],
             [
              0.8888888888888888,
              "#fdca26"
             ],
             [
              1,
              "#f0f921"
             ]
            ],
            "type": "contour"
           }
          ],
          "contourcarpet": [
           {
            "colorbar": {
             "outlinewidth": 0,
             "ticks": ""
            },
            "type": "contourcarpet"
           }
          ],
          "heatmap": [
           {
            "colorbar": {
             "outlinewidth": 0,
             "ticks": ""
            },
            "colorscale": [
             [
              0,
              "#0d0887"
             ],
             [
              0.1111111111111111,
              "#46039f"
             ],
             [
              0.2222222222222222,
              "#7201a8"
             ],
             [
              0.3333333333333333,
              "#9c179e"
             ],
             [
              0.4444444444444444,
              "#bd3786"
             ],
             [
              0.5555555555555556,
              "#d8576b"
             ],
             [
              0.6666666666666666,
              "#ed7953"
             ],
             [
              0.7777777777777778,
              "#fb9f3a"
             ],
             [
              0.8888888888888888,
              "#fdca26"
             ],
             [
              1,
              "#f0f921"
             ]
            ],
            "type": "heatmap"
           }
          ],
          "heatmapgl": [
           {
            "colorbar": {
             "outlinewidth": 0,
             "ticks": ""
            },
            "colorscale": [
             [
              0,
              "#0d0887"
             ],
             [
              0.1111111111111111,
              "#46039f"
             ],
             [
              0.2222222222222222,
              "#7201a8"
             ],
             [
              0.3333333333333333,
              "#9c179e"
             ],
             [
              0.4444444444444444,
              "#bd3786"
             ],
             [
              0.5555555555555556,
              "#d8576b"
             ],
             [
              0.6666666666666666,
              "#ed7953"
             ],
             [
              0.7777777777777778,
              "#fb9f3a"
             ],
             [
              0.8888888888888888,
              "#fdca26"
             ],
             [
              1,
              "#f0f921"
             ]
            ],
            "type": "heatmapgl"
           }
          ],
          "histogram": [
           {
            "marker": {
             "pattern": {
              "fillmode": "overlay",
              "size": 10,
              "solidity": 0.2
             }
            },
            "type": "histogram"
           }
          ],
          "histogram2d": [
           {
            "colorbar": {
             "outlinewidth": 0,
             "ticks": ""
            },
            "colorscale": [
             [
              0,
              "#0d0887"
             ],
             [
              0.1111111111111111,
              "#46039f"
             ],
             [
              0.2222222222222222,
              "#7201a8"
             ],
             [
              0.3333333333333333,
              "#9c179e"
             ],
             [
              0.4444444444444444,
              "#bd3786"
             ],
             [
              0.5555555555555556,
              "#d8576b"
             ],
             [
              0.6666666666666666,
              "#ed7953"
             ],
             [
              0.7777777777777778,
              "#fb9f3a"
             ],
             [
              0.8888888888888888,
              "#fdca26"
             ],
             [
              1,
              "#f0f921"
             ]
            ],
            "type": "histogram2d"
           }
          ],
          "histogram2dcontour": [
           {
            "colorbar": {
             "outlinewidth": 0,
             "ticks": ""
            },
            "colorscale": [
             [
              0,
              "#0d0887"
             ],
             [
              0.1111111111111111,
              "#46039f"
             ],
             [
              0.2222222222222222,
              "#7201a8"
             ],
             [
              0.3333333333333333,
              "#9c179e"
             ],
             [
              0.4444444444444444,
              "#bd3786"
             ],
             [
              0.5555555555555556,
              "#d8576b"
             ],
             [
              0.6666666666666666,
              "#ed7953"
             ],
             [
              0.7777777777777778,
              "#fb9f3a"
             ],
             [
              0.8888888888888888,
              "#fdca26"
             ],
             [
              1,
              "#f0f921"
             ]
            ],
            "type": "histogram2dcontour"
           }
          ],
          "mesh3d": [
           {
            "colorbar": {
             "outlinewidth": 0,
             "ticks": ""
            },
            "type": "mesh3d"
           }
          ],
          "parcoords": [
           {
            "line": {
             "colorbar": {
              "outlinewidth": 0,
              "ticks": ""
             }
            },
            "type": "parcoords"
           }
          ],
          "pie": [
           {
            "automargin": true,
            "type": "pie"
           }
          ],
          "scatter": [
           {
            "fillpattern": {
             "fillmode": "overlay",
             "size": 10,
             "solidity": 0.2
            },
            "type": "scatter"
           }
          ],
          "scatter3d": [
           {
            "line": {
             "colorbar": {
              "outlinewidth": 0,
              "ticks": ""
             }
            },
            "marker": {
             "colorbar": {
              "outlinewidth": 0,
              "ticks": ""
             }
            },
            "type": "scatter3d"
           }
          ],
          "scattercarpet": [
           {
            "marker": {
             "colorbar": {
              "outlinewidth": 0,
              "ticks": ""
             }
            },
            "type": "scattercarpet"
           }
          ],
          "scattergeo": [
           {
            "marker": {
             "colorbar": {
              "outlinewidth": 0,
              "ticks": ""
             }
            },
            "type": "scattergeo"
           }
          ],
          "scattergl": [
           {
            "marker": {
             "colorbar": {
              "outlinewidth": 0,
              "ticks": ""
             }
            },
            "type": "scattergl"
           }
          ],
          "scattermapbox": [
           {
            "marker": {
             "colorbar": {
              "outlinewidth": 0,
              "ticks": ""
             }
            },
            "type": "scattermapbox"
           }
          ],
          "scatterpolar": [
           {
            "marker": {
             "colorbar": {
              "outlinewidth": 0,
              "ticks": ""
             }
            },
            "type": "scatterpolar"
           }
          ],
          "scatterpolargl": [
           {
            "marker": {
             "colorbar": {
              "outlinewidth": 0,
              "ticks": ""
             }
            },
            "type": "scatterpolargl"
           }
          ],
          "scatterternary": [
           {
            "marker": {
             "colorbar": {
              "outlinewidth": 0,
              "ticks": ""
             }
            },
            "type": "scatterternary"
           }
          ],
          "surface": [
           {
            "colorbar": {
             "outlinewidth": 0,
             "ticks": ""
            },
            "colorscale": [
             [
              0,
              "#0d0887"
             ],
             [
              0.1111111111111111,
              "#46039f"
             ],
             [
              0.2222222222222222,
              "#7201a8"
             ],
             [
              0.3333333333333333,
              "#9c179e"
             ],
             [
              0.4444444444444444,
              "#bd3786"
             ],
             [
              0.5555555555555556,
              "#d8576b"
             ],
             [
              0.6666666666666666,
              "#ed7953"
             ],
             [
              0.7777777777777778,
              "#fb9f3a"
             ],
             [
              0.8888888888888888,
              "#fdca26"
             ],
             [
              1,
              "#f0f921"
             ]
            ],
            "type": "surface"
           }
          ],
          "table": [
           {
            "cells": {
             "fill": {
              "color": "#EBF0F8"
             },
             "line": {
              "color": "white"
             }
            },
            "header": {
             "fill": {
              "color": "#C8D4E3"
             },
             "line": {
              "color": "white"
             }
            },
            "type": "table"
           }
          ]
         },
         "layout": {
          "annotationdefaults": {
           "arrowcolor": "#2a3f5f",
           "arrowhead": 0,
           "arrowwidth": 1
          },
          "autotypenumbers": "strict",
          "coloraxis": {
           "colorbar": {
            "outlinewidth": 0,
            "ticks": ""
           }
          },
          "colorscale": {
           "diverging": [
            [
             0,
             "#8e0152"
            ],
            [
             0.1,
             "#c51b7d"
            ],
            [
             0.2,
             "#de77ae"
            ],
            [
             0.3,
             "#f1b6da"
            ],
            [
             0.4,
             "#fde0ef"
            ],
            [
             0.5,
             "#f7f7f7"
            ],
            [
             0.6,
             "#e6f5d0"
            ],
            [
             0.7,
             "#b8e186"
            ],
            [
             0.8,
             "#7fbc41"
            ],
            [
             0.9,
             "#4d9221"
            ],
            [
             1,
             "#276419"
            ]
           ],
           "sequential": [
            [
             0,
             "#0d0887"
            ],
            [
             0.1111111111111111,
             "#46039f"
            ],
            [
             0.2222222222222222,
             "#7201a8"
            ],
            [
             0.3333333333333333,
             "#9c179e"
            ],
            [
             0.4444444444444444,
             "#bd3786"
            ],
            [
             0.5555555555555556,
             "#d8576b"
            ],
            [
             0.6666666666666666,
             "#ed7953"
            ],
            [
             0.7777777777777778,
             "#fb9f3a"
            ],
            [
             0.8888888888888888,
             "#fdca26"
            ],
            [
             1,
             "#f0f921"
            ]
           ],
           "sequentialminus": [
            [
             0,
             "#0d0887"
            ],
            [
             0.1111111111111111,
             "#46039f"
            ],
            [
             0.2222222222222222,
             "#7201a8"
            ],
            [
             0.3333333333333333,
             "#9c179e"
            ],
            [
             0.4444444444444444,
             "#bd3786"
            ],
            [
             0.5555555555555556,
             "#d8576b"
            ],
            [
             0.6666666666666666,
             "#ed7953"
            ],
            [
             0.7777777777777778,
             "#fb9f3a"
            ],
            [
             0.8888888888888888,
             "#fdca26"
            ],
            [
             1,
             "#f0f921"
            ]
           ]
          },
          "colorway": [
           "#636efa",
           "#EF553B",
           "#00cc96",
           "#ab63fa",
           "#FFA15A",
           "#19d3f3",
           "#FF6692",
           "#B6E880",
           "#FF97FF",
           "#FECB52"
          ],
          "font": {
           "color": "#2a3f5f"
          },
          "geo": {
           "bgcolor": "white",
           "lakecolor": "white",
           "landcolor": "#E5ECF6",
           "showlakes": true,
           "showland": true,
           "subunitcolor": "white"
          },
          "hoverlabel": {
           "align": "left"
          },
          "hovermode": "closest",
          "mapbox": {
           "style": "light"
          },
          "paper_bgcolor": "white",
          "plot_bgcolor": "#E5ECF6",
          "polar": {
           "angularaxis": {
            "gridcolor": "white",
            "linecolor": "white",
            "ticks": ""
           },
           "bgcolor": "#E5ECF6",
           "radialaxis": {
            "gridcolor": "white",
            "linecolor": "white",
            "ticks": ""
           }
          },
          "scene": {
           "xaxis": {
            "backgroundcolor": "#E5ECF6",
            "gridcolor": "white",
            "gridwidth": 2,
            "linecolor": "white",
            "showbackground": true,
            "ticks": "",
            "zerolinecolor": "white"
           },
           "yaxis": {
            "backgroundcolor": "#E5ECF6",
            "gridcolor": "white",
            "gridwidth": 2,
            "linecolor": "white",
            "showbackground": true,
            "ticks": "",
            "zerolinecolor": "white"
           },
           "zaxis": {
            "backgroundcolor": "#E5ECF6",
            "gridcolor": "white",
            "gridwidth": 2,
            "linecolor": "white",
            "showbackground": true,
            "ticks": "",
            "zerolinecolor": "white"
           }
          },
          "shapedefaults": {
           "line": {
            "color": "#2a3f5f"
           }
          },
          "ternary": {
           "aaxis": {
            "gridcolor": "white",
            "linecolor": "white",
            "ticks": ""
           },
           "baxis": {
            "gridcolor": "white",
            "linecolor": "white",
            "ticks": ""
           },
           "bgcolor": "#E5ECF6",
           "caxis": {
            "gridcolor": "white",
            "linecolor": "white",
            "ticks": ""
           }
          },
          "title": {
           "x": 0.05
          },
          "xaxis": {
           "automargin": true,
           "gridcolor": "white",
           "linecolor": "white",
           "ticks": "",
           "title": {
            "standoff": 15
           },
           "zerolinecolor": "white",
           "zerolinewidth": 2
          },
          "yaxis": {
           "automargin": true,
           "gridcolor": "white",
           "linecolor": "white",
           "ticks": "",
           "title": {
            "standoff": 15
           },
           "zerolinecolor": "white",
           "zerolinewidth": 2
          }
         }
        },
        "xaxis": {
         "anchor": "y",
         "domain": [
          0,
          1
         ],
         "title": {
          "text": "year"
         }
        },
        "yaxis": {
         "anchor": "x",
         "domain": [
          0,
          1
         ],
         "title": {
          "text": "amount"
         }
        }
       }
      }
     },
     "metadata": {},
     "output_type": "display_data"
    }
   ],
   "source": [
    "\n",
    "mean = df_total_crime.describe()[\"amount\"][\"mean\"]\n",
    "\n",
    "std = df_total_crime.describe()[\"amount\"][\"std\"]\n",
    "\n",
    "\n",
    "\n",
    "\n",
    "df_total_crime_scaled = df_total_crime\n",
    "\n",
    "\n",
    "\n",
    "df_total_crime_scaled[\"amount\"] = (df_total_crime_scaled[\"amount\"] - mean) / std\n",
    "\n",
    "\n",
    "\n",
    "px.scatter(df_total_crime_scaled, x=\"year\", y=\"amount\", color=\"country\")"
   ]
  },
  {
   "cell_type": "code",
   "execution_count": 27,
   "metadata": {},
   "outputs": [
    {
     "data": {
      "text/plain": [
       "array([[2.00800000e+03, 6.50709674e-01, 1.00000000e+00, ...,\n",
       "        0.00000000e+00, 0.00000000e+00, 0.00000000e+00],\n",
       "       [2.00900000e+03, 6.55852784e-01, 1.00000000e+00, ...,\n",
       "        0.00000000e+00, 0.00000000e+00, 0.00000000e+00],\n",
       "       [2.01000000e+03, 3.48022200e-01, 1.00000000e+00, ...,\n",
       "        0.00000000e+00, 0.00000000e+00, 0.00000000e+00],\n",
       "       ...,\n",
       "       [2.02000000e+03, 3.42925961e+00, 0.00000000e+00, ...,\n",
       "        0.00000000e+00, 0.00000000e+00, 1.00000000e+00],\n",
       "       [2.02100000e+03, 3.13655491e+00, 0.00000000e+00, ...,\n",
       "        0.00000000e+00, 0.00000000e+00, 1.00000000e+00],\n",
       "       [2.02200000e+03, 3.00945837e+00, 0.00000000e+00, ...,\n",
       "        0.00000000e+00, 0.00000000e+00, 1.00000000e+00]])"
      ]
     },
     "execution_count": 27,
     "metadata": {},
     "output_type": "execute_result"
    }
   ],
   "source": [
    "\n",
    "\n",
    "df_total_crime_dummies = df_total_crime_scaled.join(pd.get_dummies(df_total_crime_scaled[\"country\"]))\n",
    "crime_arr = np.array(df_total_crime_dummies.drop(columns=[\"country\"]))\n",
    "crime_arr\n"
   ]
  },
  {
   "cell_type": "code",
   "execution_count": 28,
   "metadata": {},
   "outputs": [],
   "source": [
    "def add_bias_column(X):\n",
    "    \"\"\"\n",
    "    Args:\n",
    "        X (array): can be either 1-d or 2-d\n",
    "    \n",
    "    Returns:\n",
    "        Xnew (array): the same array, but 2-d with a column of 1's in the first spot\n",
    "    \"\"\"\n",
    "    \n",
    "    # If the array is 1-d\n",
    "    if len(X.shape) == 1:\n",
    "        Xnew = np.column_stack([np.ones(X.shape[0]), X])\n",
    "    \n",
    "    # If the array is 2-d\n",
    "    elif len(X.shape) == 2:\n",
    "        bias_col = np.ones((X.shape[0], 1))\n",
    "        Xnew = np.hstack([bias_col, X])\n",
    "        \n",
    "    else:\n",
    "        raise ValueError(\"Input array must be either 1-d or 2-d\")\n",
    "\n",
    "    return Xnew\n",
    "\n",
    "def line_of_best_fit(X, y):\n",
    "    X = add_bias_column(X)\n",
    "    return np.matmul(np.linalg.inv(np.matmul(X.T, X)), np.matmul(X.T, y))\n",
    "\n"
   ]
  },
  {
   "cell_type": "code",
   "execution_count": 29,
   "metadata": {},
   "outputs": [
    {
     "data": {
      "text/plain": [
       "array([0.86083376])"
      ]
     },
     "execution_count": 29,
     "metadata": {},
     "output_type": "execute_result"
    }
   ],
   "source": [
    "X_left = crime_arr[:, 0:1]\n",
    "X_right = crime_arr[:, 2:]\n",
    "\n",
    "X = np.hstack((X_left, X_right))\n",
    "\n",
    "y = crime_arr[:, 1:2]\n",
    "\n",
    "\n",
    "\n",
    "\n",
    "#regression line for all crime data\n",
    "regression = line_of_best_fit(X, y)\n",
    "\n",
    "#test add\n",
    "np.dot(add_bias_column(X)[0, :], regression)\n"
   ]
  },
  {
   "cell_type": "code",
   "execution_count": 30,
   "metadata": {},
   "outputs": [
    {
     "data": {
      "text/plain": [
       "6870.2120895153685"
      ]
     },
     "execution_count": 30,
     "metadata": {},
     "output_type": "execute_result"
    }
   ],
   "source": [
    "def lin_reg_crime (country, year):\n",
    "    \"\"\"\n",
    "    following linear regression model, predicts the total amount of crimes per 100k people\n",
    "\n",
    "    Args:\n",
    "       - country (int) - which country wanted for prediction\n",
    "       - year (int) - which year we wanted for prediction\n",
    "\n",
    "    Returns:\n",
    "       - answer (int) - predicted value for crimes per 100k people\n",
    "    \n",
    "    \"\"\"\n",
    "    countries = df_total_crime_dummies.keys().to_list()[3:]\n",
    "\n",
    "    encoding = [0] * len(countries)\n",
    "\n",
    "    encoding[countries.index(country)] = 1\n",
    "\n",
    "    encoding.insert(0, year)\n",
    "    encoding.insert(0, 1)\n",
    "\n",
    "    scaled_answer = np.matmul(encoding, regression)[0]\n",
    "\n",
    "\n",
    "\n",
    "\n",
    "    answer = scaled_answer * std + mean\n",
    "\n",
    "    return answer\n",
    "\n",
    "lin_reg_crime(\"Denmark\", 2025)"
   ]
  },
  {
   "cell_type": "markdown",
   "metadata": {},
   "source": [
    "# Leisure Activities"
   ]
  },
  {
   "cell_type": "code",
   "execution_count": 3,
   "metadata": {},
   "outputs": [],
   "source": [
    "df_leisure = get_eurostat_data(\"ilc_scp01\")"
   ]
  },
  {
   "cell_type": "code",
   "execution_count": 51,
   "metadata": {},
   "outputs": [
    {
     "data": {
      "text/html": [
       "<div>\n",
       "<style scoped>\n",
       "    .dataframe tbody tr th:only-of-type {\n",
       "        vertical-align: middle;\n",
       "    }\n",
       "\n",
       "    .dataframe tbody tr th {\n",
       "        vertical-align: top;\n",
       "    }\n",
       "\n",
       "    .dataframe thead th {\n",
       "        text-align: right;\n",
       "    }\n",
       "</style>\n",
       "<table border=\"1\" class=\"dataframe\">\n",
       "  <thead>\n",
       "    <tr style=\"text-align: right;\">\n",
       "      <th></th>\n",
       "      <th>Time frequency</th>\n",
       "      <th>Frequency</th>\n",
       "      <th>International Standard Classification of Education (ISCED 2011)</th>\n",
       "      <th>Age class</th>\n",
       "      <th>Sex</th>\n",
       "      <th>Unit of measure</th>\n",
       "      <th>Geopolitical entity (reporting)</th>\n",
       "      <th>Time</th>\n",
       "      <th>value</th>\n",
       "    </tr>\n",
       "  </thead>\n",
       "  <tbody>\n",
       "    <tr>\n",
       "      <th>27221</th>\n",
       "      <td>Annual</td>\n",
       "      <td>At least once</td>\n",
       "      <td>All ISCED 2011 levels</td>\n",
       "      <td>16 years or over</td>\n",
       "      <td>Total</td>\n",
       "      <td>Percentage</td>\n",
       "      <td>Belgium</td>\n",
       "      <td>2022</td>\n",
       "      <td>64.3</td>\n",
       "    </tr>\n",
       "    <tr>\n",
       "      <th>27224</th>\n",
       "      <td>Annual</td>\n",
       "      <td>At least once</td>\n",
       "      <td>All ISCED 2011 levels</td>\n",
       "      <td>16 years or over</td>\n",
       "      <td>Total</td>\n",
       "      <td>Percentage</td>\n",
       "      <td>Bulgaria</td>\n",
       "      <td>2022</td>\n",
       "      <td>21.3</td>\n",
       "    </tr>\n",
       "    <tr>\n",
       "      <th>27227</th>\n",
       "      <td>Annual</td>\n",
       "      <td>At least once</td>\n",
       "      <td>All ISCED 2011 levels</td>\n",
       "      <td>16 years or over</td>\n",
       "      <td>Total</td>\n",
       "      <td>Percentage</td>\n",
       "      <td>Czechia</td>\n",
       "      <td>2022</td>\n",
       "      <td>62.6</td>\n",
       "    </tr>\n",
       "    <tr>\n",
       "      <th>27230</th>\n",
       "      <td>Annual</td>\n",
       "      <td>At least once</td>\n",
       "      <td>All ISCED 2011 levels</td>\n",
       "      <td>16 years or over</td>\n",
       "      <td>Total</td>\n",
       "      <td>Percentage</td>\n",
       "      <td>Denmark</td>\n",
       "      <td>2022</td>\n",
       "      <td>80.7</td>\n",
       "    </tr>\n",
       "    <tr>\n",
       "      <th>27233</th>\n",
       "      <td>Annual</td>\n",
       "      <td>At least once</td>\n",
       "      <td>All ISCED 2011 levels</td>\n",
       "      <td>16 years or over</td>\n",
       "      <td>Total</td>\n",
       "      <td>Percentage</td>\n",
       "      <td>Germany</td>\n",
       "      <td>2022</td>\n",
       "      <td>NaN</td>\n",
       "    </tr>\n",
       "    <tr>\n",
       "      <th>27236</th>\n",
       "      <td>Annual</td>\n",
       "      <td>At least once</td>\n",
       "      <td>All ISCED 2011 levels</td>\n",
       "      <td>16 years or over</td>\n",
       "      <td>Total</td>\n",
       "      <td>Percentage</td>\n",
       "      <td>Estonia</td>\n",
       "      <td>2022</td>\n",
       "      <td>63.3</td>\n",
       "    </tr>\n",
       "    <tr>\n",
       "      <th>27239</th>\n",
       "      <td>Annual</td>\n",
       "      <td>At least once</td>\n",
       "      <td>All ISCED 2011 levels</td>\n",
       "      <td>16 years or over</td>\n",
       "      <td>Total</td>\n",
       "      <td>Percentage</td>\n",
       "      <td>Ireland</td>\n",
       "      <td>2022</td>\n",
       "      <td>70.2</td>\n",
       "    </tr>\n",
       "    <tr>\n",
       "      <th>27242</th>\n",
       "      <td>Annual</td>\n",
       "      <td>At least once</td>\n",
       "      <td>All ISCED 2011 levels</td>\n",
       "      <td>16 years or over</td>\n",
       "      <td>Total</td>\n",
       "      <td>Percentage</td>\n",
       "      <td>Greece</td>\n",
       "      <td>2022</td>\n",
       "      <td>40.0</td>\n",
       "    </tr>\n",
       "    <tr>\n",
       "      <th>27245</th>\n",
       "      <td>Annual</td>\n",
       "      <td>At least once</td>\n",
       "      <td>All ISCED 2011 levels</td>\n",
       "      <td>16 years or over</td>\n",
       "      <td>Total</td>\n",
       "      <td>Percentage</td>\n",
       "      <td>Spain</td>\n",
       "      <td>2022</td>\n",
       "      <td>63.3</td>\n",
       "    </tr>\n",
       "    <tr>\n",
       "      <th>27248</th>\n",
       "      <td>Annual</td>\n",
       "      <td>At least once</td>\n",
       "      <td>All ISCED 2011 levels</td>\n",
       "      <td>16 years or over</td>\n",
       "      <td>Total</td>\n",
       "      <td>Percentage</td>\n",
       "      <td>France</td>\n",
       "      <td>2022</td>\n",
       "      <td>59.1</td>\n",
       "    </tr>\n",
       "    <tr>\n",
       "      <th>27251</th>\n",
       "      <td>Annual</td>\n",
       "      <td>At least once</td>\n",
       "      <td>All ISCED 2011 levels</td>\n",
       "      <td>16 years or over</td>\n",
       "      <td>Total</td>\n",
       "      <td>Percentage</td>\n",
       "      <td>Croatia</td>\n",
       "      <td>2022</td>\n",
       "      <td>40.0</td>\n",
       "    </tr>\n",
       "    <tr>\n",
       "      <th>27254</th>\n",
       "      <td>Annual</td>\n",
       "      <td>At least once</td>\n",
       "      <td>All ISCED 2011 levels</td>\n",
       "      <td>16 years or over</td>\n",
       "      <td>Total</td>\n",
       "      <td>Percentage</td>\n",
       "      <td>Italy</td>\n",
       "      <td>2022</td>\n",
       "      <td>39.5</td>\n",
       "    </tr>\n",
       "    <tr>\n",
       "      <th>27257</th>\n",
       "      <td>Annual</td>\n",
       "      <td>At least once</td>\n",
       "      <td>All ISCED 2011 levels</td>\n",
       "      <td>16 years or over</td>\n",
       "      <td>Total</td>\n",
       "      <td>Percentage</td>\n",
       "      <td>Cyprus</td>\n",
       "      <td>2022</td>\n",
       "      <td>43.6</td>\n",
       "    </tr>\n",
       "    <tr>\n",
       "      <th>27260</th>\n",
       "      <td>Annual</td>\n",
       "      <td>At least once</td>\n",
       "      <td>All ISCED 2011 levels</td>\n",
       "      <td>16 years or over</td>\n",
       "      <td>Total</td>\n",
       "      <td>Percentage</td>\n",
       "      <td>Latvia</td>\n",
       "      <td>2022</td>\n",
       "      <td>41.9</td>\n",
       "    </tr>\n",
       "    <tr>\n",
       "      <th>27263</th>\n",
       "      <td>Annual</td>\n",
       "      <td>At least once</td>\n",
       "      <td>All ISCED 2011 levels</td>\n",
       "      <td>16 years or over</td>\n",
       "      <td>Total</td>\n",
       "      <td>Percentage</td>\n",
       "      <td>Lithuania</td>\n",
       "      <td>2022</td>\n",
       "      <td>48.9</td>\n",
       "    </tr>\n",
       "    <tr>\n",
       "      <th>27266</th>\n",
       "      <td>Annual</td>\n",
       "      <td>At least once</td>\n",
       "      <td>All ISCED 2011 levels</td>\n",
       "      <td>16 years or over</td>\n",
       "      <td>Total</td>\n",
       "      <td>Percentage</td>\n",
       "      <td>Luxembourg</td>\n",
       "      <td>2022</td>\n",
       "      <td>81.9</td>\n",
       "    </tr>\n",
       "    <tr>\n",
       "      <th>27269</th>\n",
       "      <td>Annual</td>\n",
       "      <td>At least once</td>\n",
       "      <td>All ISCED 2011 levels</td>\n",
       "      <td>16 years or over</td>\n",
       "      <td>Total</td>\n",
       "      <td>Percentage</td>\n",
       "      <td>Hungary</td>\n",
       "      <td>2022</td>\n",
       "      <td>42.6</td>\n",
       "    </tr>\n",
       "    <tr>\n",
       "      <th>27272</th>\n",
       "      <td>Annual</td>\n",
       "      <td>At least once</td>\n",
       "      <td>All ISCED 2011 levels</td>\n",
       "      <td>16 years or over</td>\n",
       "      <td>Total</td>\n",
       "      <td>Percentage</td>\n",
       "      <td>Malta</td>\n",
       "      <td>2022</td>\n",
       "      <td>41.4</td>\n",
       "    </tr>\n",
       "    <tr>\n",
       "      <th>27275</th>\n",
       "      <td>Annual</td>\n",
       "      <td>At least once</td>\n",
       "      <td>All ISCED 2011 levels</td>\n",
       "      <td>16 years or over</td>\n",
       "      <td>Total</td>\n",
       "      <td>Percentage</td>\n",
       "      <td>Netherlands</td>\n",
       "      <td>2022</td>\n",
       "      <td>76.1</td>\n",
       "    </tr>\n",
       "    <tr>\n",
       "      <th>27278</th>\n",
       "      <td>Annual</td>\n",
       "      <td>At least once</td>\n",
       "      <td>All ISCED 2011 levels</td>\n",
       "      <td>16 years or over</td>\n",
       "      <td>Total</td>\n",
       "      <td>Percentage</td>\n",
       "      <td>Austria</td>\n",
       "      <td>2022</td>\n",
       "      <td>60.7</td>\n",
       "    </tr>\n",
       "    <tr>\n",
       "      <th>27281</th>\n",
       "      <td>Annual</td>\n",
       "      <td>At least once</td>\n",
       "      <td>All ISCED 2011 levels</td>\n",
       "      <td>16 years or over</td>\n",
       "      <td>Total</td>\n",
       "      <td>Percentage</td>\n",
       "      <td>Poland</td>\n",
       "      <td>2022</td>\n",
       "      <td>53.7</td>\n",
       "    </tr>\n",
       "    <tr>\n",
       "      <th>27284</th>\n",
       "      <td>Annual</td>\n",
       "      <td>At least once</td>\n",
       "      <td>All ISCED 2011 levels</td>\n",
       "      <td>16 years or over</td>\n",
       "      <td>Total</td>\n",
       "      <td>Percentage</td>\n",
       "      <td>Portugal</td>\n",
       "      <td>2022</td>\n",
       "      <td>56.2</td>\n",
       "    </tr>\n",
       "    <tr>\n",
       "      <th>27287</th>\n",
       "      <td>Annual</td>\n",
       "      <td>At least once</td>\n",
       "      <td>All ISCED 2011 levels</td>\n",
       "      <td>16 years or over</td>\n",
       "      <td>Total</td>\n",
       "      <td>Percentage</td>\n",
       "      <td>Romania</td>\n",
       "      <td>2022</td>\n",
       "      <td>24.3</td>\n",
       "    </tr>\n",
       "    <tr>\n",
       "      <th>27290</th>\n",
       "      <td>Annual</td>\n",
       "      <td>At least once</td>\n",
       "      <td>All ISCED 2011 levels</td>\n",
       "      <td>16 years or over</td>\n",
       "      <td>Total</td>\n",
       "      <td>Percentage</td>\n",
       "      <td>Slovenia</td>\n",
       "      <td>2022</td>\n",
       "      <td>60.9</td>\n",
       "    </tr>\n",
       "    <tr>\n",
       "      <th>27293</th>\n",
       "      <td>Annual</td>\n",
       "      <td>At least once</td>\n",
       "      <td>All ISCED 2011 levels</td>\n",
       "      <td>16 years or over</td>\n",
       "      <td>Total</td>\n",
       "      <td>Percentage</td>\n",
       "      <td>Slovakia</td>\n",
       "      <td>2022</td>\n",
       "      <td>43.4</td>\n",
       "    </tr>\n",
       "    <tr>\n",
       "      <th>27296</th>\n",
       "      <td>Annual</td>\n",
       "      <td>At least once</td>\n",
       "      <td>All ISCED 2011 levels</td>\n",
       "      <td>16 years or over</td>\n",
       "      <td>Total</td>\n",
       "      <td>Percentage</td>\n",
       "      <td>Finland</td>\n",
       "      <td>2022</td>\n",
       "      <td>71.5</td>\n",
       "    </tr>\n",
       "    <tr>\n",
       "      <th>27299</th>\n",
       "      <td>Annual</td>\n",
       "      <td>At least once</td>\n",
       "      <td>All ISCED 2011 levels</td>\n",
       "      <td>16 years or over</td>\n",
       "      <td>Total</td>\n",
       "      <td>Percentage</td>\n",
       "      <td>Sweden</td>\n",
       "      <td>2022</td>\n",
       "      <td>69.6</td>\n",
       "    </tr>\n",
       "  </tbody>\n",
       "</table>\n",
       "</div>"
      ],
      "text/plain": [
       "      Time frequency      Frequency  \\\n",
       "27221         Annual  At least once   \n",
       "27224         Annual  At least once   \n",
       "27227         Annual  At least once   \n",
       "27230         Annual  At least once   \n",
       "27233         Annual  At least once   \n",
       "27236         Annual  At least once   \n",
       "27239         Annual  At least once   \n",
       "27242         Annual  At least once   \n",
       "27245         Annual  At least once   \n",
       "27248         Annual  At least once   \n",
       "27251         Annual  At least once   \n",
       "27254         Annual  At least once   \n",
       "27257         Annual  At least once   \n",
       "27260         Annual  At least once   \n",
       "27263         Annual  At least once   \n",
       "27266         Annual  At least once   \n",
       "27269         Annual  At least once   \n",
       "27272         Annual  At least once   \n",
       "27275         Annual  At least once   \n",
       "27278         Annual  At least once   \n",
       "27281         Annual  At least once   \n",
       "27284         Annual  At least once   \n",
       "27287         Annual  At least once   \n",
       "27290         Annual  At least once   \n",
       "27293         Annual  At least once   \n",
       "27296         Annual  At least once   \n",
       "27299         Annual  At least once   \n",
       "\n",
       "      International Standard Classification of Education (ISCED 2011)  \\\n",
       "27221                              All ISCED 2011 levels                \n",
       "27224                              All ISCED 2011 levels                \n",
       "27227                              All ISCED 2011 levels                \n",
       "27230                              All ISCED 2011 levels                \n",
       "27233                              All ISCED 2011 levels                \n",
       "27236                              All ISCED 2011 levels                \n",
       "27239                              All ISCED 2011 levels                \n",
       "27242                              All ISCED 2011 levels                \n",
       "27245                              All ISCED 2011 levels                \n",
       "27248                              All ISCED 2011 levels                \n",
       "27251                              All ISCED 2011 levels                \n",
       "27254                              All ISCED 2011 levels                \n",
       "27257                              All ISCED 2011 levels                \n",
       "27260                              All ISCED 2011 levels                \n",
       "27263                              All ISCED 2011 levels                \n",
       "27266                              All ISCED 2011 levels                \n",
       "27269                              All ISCED 2011 levels                \n",
       "27272                              All ISCED 2011 levels                \n",
       "27275                              All ISCED 2011 levels                \n",
       "27278                              All ISCED 2011 levels                \n",
       "27281                              All ISCED 2011 levels                \n",
       "27284                              All ISCED 2011 levels                \n",
       "27287                              All ISCED 2011 levels                \n",
       "27290                              All ISCED 2011 levels                \n",
       "27293                              All ISCED 2011 levels                \n",
       "27296                              All ISCED 2011 levels                \n",
       "27299                              All ISCED 2011 levels                \n",
       "\n",
       "              Age class    Sex Unit of measure  \\\n",
       "27221  16 years or over  Total      Percentage   \n",
       "27224  16 years or over  Total      Percentage   \n",
       "27227  16 years or over  Total      Percentage   \n",
       "27230  16 years or over  Total      Percentage   \n",
       "27233  16 years or over  Total      Percentage   \n",
       "27236  16 years or over  Total      Percentage   \n",
       "27239  16 years or over  Total      Percentage   \n",
       "27242  16 years or over  Total      Percentage   \n",
       "27245  16 years or over  Total      Percentage   \n",
       "27248  16 years or over  Total      Percentage   \n",
       "27251  16 years or over  Total      Percentage   \n",
       "27254  16 years or over  Total      Percentage   \n",
       "27257  16 years or over  Total      Percentage   \n",
       "27260  16 years or over  Total      Percentage   \n",
       "27263  16 years or over  Total      Percentage   \n",
       "27266  16 years or over  Total      Percentage   \n",
       "27269  16 years or over  Total      Percentage   \n",
       "27272  16 years or over  Total      Percentage   \n",
       "27275  16 years or over  Total      Percentage   \n",
       "27278  16 years or over  Total      Percentage   \n",
       "27281  16 years or over  Total      Percentage   \n",
       "27284  16 years or over  Total      Percentage   \n",
       "27287  16 years or over  Total      Percentage   \n",
       "27290  16 years or over  Total      Percentage   \n",
       "27293  16 years or over  Total      Percentage   \n",
       "27296  16 years or over  Total      Percentage   \n",
       "27299  16 years or over  Total      Percentage   \n",
       "\n",
       "      Geopolitical entity (reporting)  Time  value  \n",
       "27221                         Belgium  2022   64.3  \n",
       "27224                        Bulgaria  2022   21.3  \n",
       "27227                         Czechia  2022   62.6  \n",
       "27230                         Denmark  2022   80.7  \n",
       "27233                         Germany  2022    NaN  \n",
       "27236                         Estonia  2022   63.3  \n",
       "27239                         Ireland  2022   70.2  \n",
       "27242                          Greece  2022   40.0  \n",
       "27245                           Spain  2022   63.3  \n",
       "27248                          France  2022   59.1  \n",
       "27251                         Croatia  2022   40.0  \n",
       "27254                           Italy  2022   39.5  \n",
       "27257                          Cyprus  2022   43.6  \n",
       "27260                          Latvia  2022   41.9  \n",
       "27263                       Lithuania  2022   48.9  \n",
       "27266                      Luxembourg  2022   81.9  \n",
       "27269                         Hungary  2022   42.6  \n",
       "27272                           Malta  2022   41.4  \n",
       "27275                     Netherlands  2022   76.1  \n",
       "27278                         Austria  2022   60.7  \n",
       "27281                          Poland  2022   53.7  \n",
       "27284                        Portugal  2022   56.2  \n",
       "27287                         Romania  2022   24.3  \n",
       "27290                        Slovenia  2022   60.9  \n",
       "27293                        Slovakia  2022   43.4  \n",
       "27296                         Finland  2022   71.5  \n",
       "27299                          Sweden  2022   69.6  "
      ]
     },
     "execution_count": 51,
     "metadata": {},
     "output_type": "execute_result"
    }
   ],
   "source": [
    "df_leisure[(df_leisure[\"Age class\"] == \"16 years or over\") & (df_leisure[\"Sex\"] == \"Total\") & (df_leisure[\"Frequency\"] == \"At least once\") \n",
    "           & (df_leisure[\"Time\"] == \"2022\") & (df_leisure[\"Geopolitical entity (reporting)\"].isin(eu_countries)) & (df_leisure[\"International Standard Classification of Education (ISCED 2011)\"] == \"All ISCED 2011 levels\")]\n"
   ]
  },
  {
   "cell_type": "code",
   "execution_count": 54,
   "metadata": {},
   "outputs": [
    {
     "data": {
      "text/html": [
       "<div>\n",
       "<style scoped>\n",
       "    .dataframe tbody tr th:only-of-type {\n",
       "        vertical-align: middle;\n",
       "    }\n",
       "\n",
       "    .dataframe tbody tr th {\n",
       "        vertical-align: top;\n",
       "    }\n",
       "\n",
       "    .dataframe thead th {\n",
       "        text-align: right;\n",
       "    }\n",
       "</style>\n",
       "<table border=\"1\" class=\"dataframe\">\n",
       "  <thead>\n",
       "    <tr style=\"text-align: right;\">\n",
       "      <th></th>\n",
       "      <th>country</th>\n",
       "      <th>leisure_16_24</th>\n",
       "      <th>leisure_25_34</th>\n",
       "      <th>leisure_35_44</th>\n",
       "      <th>leisure_45_54</th>\n",
       "      <th>leisure_55_64</th>\n",
       "      <th>leisure_75_older</th>\n",
       "    </tr>\n",
       "  </thead>\n",
       "  <tbody>\n",
       "    <tr>\n",
       "      <th>0</th>\n",
       "      <td>Belgium</td>\n",
       "      <td>82.0</td>\n",
       "      <td>74.5</td>\n",
       "      <td>74.2</td>\n",
       "      <td>63.7</td>\n",
       "      <td>59.6</td>\n",
       "      <td>36.2</td>\n",
       "    </tr>\n",
       "    <tr>\n",
       "      <th>1</th>\n",
       "      <td>Bulgaria</td>\n",
       "      <td>42.6</td>\n",
       "      <td>31.0</td>\n",
       "      <td>28.4</td>\n",
       "      <td>21.7</td>\n",
       "      <td>15.0</td>\n",
       "      <td>4.5</td>\n",
       "    </tr>\n",
       "    <tr>\n",
       "      <th>2</th>\n",
       "      <td>Czechia</td>\n",
       "      <td>85.9</td>\n",
       "      <td>73.0</td>\n",
       "      <td>71.9</td>\n",
       "      <td>66.9</td>\n",
       "      <td>60.2</td>\n",
       "      <td>29.4</td>\n",
       "    </tr>\n",
       "    <tr>\n",
       "      <th>3</th>\n",
       "      <td>Denmark</td>\n",
       "      <td>91.5</td>\n",
       "      <td>86.6</td>\n",
       "      <td>82.9</td>\n",
       "      <td>84.1</td>\n",
       "      <td>77.4</td>\n",
       "      <td>64.8</td>\n",
       "    </tr>\n",
       "    <tr>\n",
       "      <th>4</th>\n",
       "      <td>Germany</td>\n",
       "      <td>NaN</td>\n",
       "      <td>NaN</td>\n",
       "      <td>NaN</td>\n",
       "      <td>NaN</td>\n",
       "      <td>NaN</td>\n",
       "      <td>NaN</td>\n",
       "    </tr>\n",
       "    <tr>\n",
       "      <th>5</th>\n",
       "      <td>Estonia</td>\n",
       "      <td>86.9</td>\n",
       "      <td>79.5</td>\n",
       "      <td>75.4</td>\n",
       "      <td>70.1</td>\n",
       "      <td>56.8</td>\n",
       "      <td>26.2</td>\n",
       "    </tr>\n",
       "    <tr>\n",
       "      <th>6</th>\n",
       "      <td>Ireland</td>\n",
       "      <td>85.9</td>\n",
       "      <td>81.4</td>\n",
       "      <td>79.5</td>\n",
       "      <td>71.7</td>\n",
       "      <td>66.9</td>\n",
       "      <td>33.4</td>\n",
       "    </tr>\n",
       "    <tr>\n",
       "      <th>7</th>\n",
       "      <td>Greece</td>\n",
       "      <td>69.6</td>\n",
       "      <td>61.7</td>\n",
       "      <td>47.7</td>\n",
       "      <td>43.8</td>\n",
       "      <td>36.0</td>\n",
       "      <td>10.3</td>\n",
       "    </tr>\n",
       "    <tr>\n",
       "      <th>8</th>\n",
       "      <td>Spain</td>\n",
       "      <td>86.3</td>\n",
       "      <td>79.1</td>\n",
       "      <td>69.8</td>\n",
       "      <td>66.5</td>\n",
       "      <td>59.8</td>\n",
       "      <td>29.0</td>\n",
       "    </tr>\n",
       "    <tr>\n",
       "      <th>9</th>\n",
       "      <td>France</td>\n",
       "      <td>83.0</td>\n",
       "      <td>71.1</td>\n",
       "      <td>69.3</td>\n",
       "      <td>62.8</td>\n",
       "      <td>53.7</td>\n",
       "      <td>27.7</td>\n",
       "    </tr>\n",
       "    <tr>\n",
       "      <th>10</th>\n",
       "      <td>Croatia</td>\n",
       "      <td>78.5</td>\n",
       "      <td>63.8</td>\n",
       "      <td>50.3</td>\n",
       "      <td>41.1</td>\n",
       "      <td>27.9</td>\n",
       "      <td>7.8</td>\n",
       "    </tr>\n",
       "    <tr>\n",
       "      <th>11</th>\n",
       "      <td>Italy</td>\n",
       "      <td>70.9</td>\n",
       "      <td>58.8</td>\n",
       "      <td>46.4</td>\n",
       "      <td>45.4</td>\n",
       "      <td>34.1</td>\n",
       "      <td>9.6</td>\n",
       "    </tr>\n",
       "    <tr>\n",
       "      <th>12</th>\n",
       "      <td>Cyprus</td>\n",
       "      <td>68.4</td>\n",
       "      <td>56.6</td>\n",
       "      <td>50.3</td>\n",
       "      <td>44.0</td>\n",
       "      <td>31.1</td>\n",
       "      <td>8.8</td>\n",
       "    </tr>\n",
       "    <tr>\n",
       "      <th>13</th>\n",
       "      <td>Latvia</td>\n",
       "      <td>63.6</td>\n",
       "      <td>59.8</td>\n",
       "      <td>52.4</td>\n",
       "      <td>45.6</td>\n",
       "      <td>36.3</td>\n",
       "      <td>13.7</td>\n",
       "    </tr>\n",
       "    <tr>\n",
       "      <th>14</th>\n",
       "      <td>Lithuania</td>\n",
       "      <td>73.9</td>\n",
       "      <td>68.3</td>\n",
       "      <td>63.2</td>\n",
       "      <td>48.9</td>\n",
       "      <td>41.5</td>\n",
       "      <td>13.1</td>\n",
       "    </tr>\n",
       "    <tr>\n",
       "      <th>15</th>\n",
       "      <td>Luxembourg</td>\n",
       "      <td>93.8</td>\n",
       "      <td>88.8</td>\n",
       "      <td>82.7</td>\n",
       "      <td>80.4</td>\n",
       "      <td>76.3</td>\n",
       "      <td>62.8</td>\n",
       "    </tr>\n",
       "    <tr>\n",
       "      <th>16</th>\n",
       "      <td>Hungary</td>\n",
       "      <td>72.6</td>\n",
       "      <td>52.0</td>\n",
       "      <td>47.8</td>\n",
       "      <td>46.2</td>\n",
       "      <td>35.3</td>\n",
       "      <td>14.9</td>\n",
       "    </tr>\n",
       "    <tr>\n",
       "      <th>17</th>\n",
       "      <td>Malta</td>\n",
       "      <td>67.3</td>\n",
       "      <td>58.0</td>\n",
       "      <td>50.2</td>\n",
       "      <td>43.7</td>\n",
       "      <td>27.7</td>\n",
       "      <td>8.6</td>\n",
       "    </tr>\n",
       "    <tr>\n",
       "      <th>18</th>\n",
       "      <td>Netherlands</td>\n",
       "      <td>90.9</td>\n",
       "      <td>86.9</td>\n",
       "      <td>82.1</td>\n",
       "      <td>77.0</td>\n",
       "      <td>71.4</td>\n",
       "      <td>52.7</td>\n",
       "    </tr>\n",
       "    <tr>\n",
       "      <th>19</th>\n",
       "      <td>Austria</td>\n",
       "      <td>82.8</td>\n",
       "      <td>75.6</td>\n",
       "      <td>68.9</td>\n",
       "      <td>58.5</td>\n",
       "      <td>54.4</td>\n",
       "      <td>30.6</td>\n",
       "    </tr>\n",
       "    <tr>\n",
       "      <th>20</th>\n",
       "      <td>Poland</td>\n",
       "      <td>85.6</td>\n",
       "      <td>73.3</td>\n",
       "      <td>68.5</td>\n",
       "      <td>55.9</td>\n",
       "      <td>43.6</td>\n",
       "      <td>18.2</td>\n",
       "    </tr>\n",
       "    <tr>\n",
       "      <th>21</th>\n",
       "      <td>Portugal</td>\n",
       "      <td>86.9</td>\n",
       "      <td>76.8</td>\n",
       "      <td>72.0</td>\n",
       "      <td>61.6</td>\n",
       "      <td>48.2</td>\n",
       "      <td>20.1</td>\n",
       "    </tr>\n",
       "    <tr>\n",
       "      <th>22</th>\n",
       "      <td>Romania</td>\n",
       "      <td>45.1</td>\n",
       "      <td>38.7</td>\n",
       "      <td>33.3</td>\n",
       "      <td>23.0</td>\n",
       "      <td>13.1</td>\n",
       "      <td>4.2</td>\n",
       "    </tr>\n",
       "    <tr>\n",
       "      <th>23</th>\n",
       "      <td>Slovenia</td>\n",
       "      <td>76.3</td>\n",
       "      <td>73.9</td>\n",
       "      <td>75.7</td>\n",
       "      <td>63.0</td>\n",
       "      <td>52.0</td>\n",
       "      <td>29.2</td>\n",
       "    </tr>\n",
       "    <tr>\n",
       "      <th>24</th>\n",
       "      <td>Slovakia</td>\n",
       "      <td>73.8</td>\n",
       "      <td>60.1</td>\n",
       "      <td>52.3</td>\n",
       "      <td>41.8</td>\n",
       "      <td>33.6</td>\n",
       "      <td>6.7</td>\n",
       "    </tr>\n",
       "    <tr>\n",
       "      <th>25</th>\n",
       "      <td>Finland</td>\n",
       "      <td>82.3</td>\n",
       "      <td>82.5</td>\n",
       "      <td>82.8</td>\n",
       "      <td>81.9</td>\n",
       "      <td>69.6</td>\n",
       "      <td>42.5</td>\n",
       "    </tr>\n",
       "    <tr>\n",
       "      <th>26</th>\n",
       "      <td>Sweden</td>\n",
       "      <td>85.0</td>\n",
       "      <td>75.7</td>\n",
       "      <td>76.4</td>\n",
       "      <td>74.5</td>\n",
       "      <td>63.7</td>\n",
       "      <td>47.3</td>\n",
       "    </tr>\n",
       "  </tbody>\n",
       "</table>\n",
       "</div>"
      ],
      "text/plain": [
       "        country  leisure_16_24  leisure_25_34  leisure_35_44  leisure_45_54  \\\n",
       "0       Belgium           82.0           74.5           74.2           63.7   \n",
       "1      Bulgaria           42.6           31.0           28.4           21.7   \n",
       "2       Czechia           85.9           73.0           71.9           66.9   \n",
       "3       Denmark           91.5           86.6           82.9           84.1   \n",
       "4       Germany            NaN            NaN            NaN            NaN   \n",
       "5       Estonia           86.9           79.5           75.4           70.1   \n",
       "6       Ireland           85.9           81.4           79.5           71.7   \n",
       "7        Greece           69.6           61.7           47.7           43.8   \n",
       "8         Spain           86.3           79.1           69.8           66.5   \n",
       "9        France           83.0           71.1           69.3           62.8   \n",
       "10      Croatia           78.5           63.8           50.3           41.1   \n",
       "11        Italy           70.9           58.8           46.4           45.4   \n",
       "12       Cyprus           68.4           56.6           50.3           44.0   \n",
       "13       Latvia           63.6           59.8           52.4           45.6   \n",
       "14    Lithuania           73.9           68.3           63.2           48.9   \n",
       "15   Luxembourg           93.8           88.8           82.7           80.4   \n",
       "16      Hungary           72.6           52.0           47.8           46.2   \n",
       "17        Malta           67.3           58.0           50.2           43.7   \n",
       "18  Netherlands           90.9           86.9           82.1           77.0   \n",
       "19      Austria           82.8           75.6           68.9           58.5   \n",
       "20       Poland           85.6           73.3           68.5           55.9   \n",
       "21     Portugal           86.9           76.8           72.0           61.6   \n",
       "22      Romania           45.1           38.7           33.3           23.0   \n",
       "23     Slovenia           76.3           73.9           75.7           63.0   \n",
       "24     Slovakia           73.8           60.1           52.3           41.8   \n",
       "25      Finland           82.3           82.5           82.8           81.9   \n",
       "26       Sweden           85.0           75.7           76.4           74.5   \n",
       "\n",
       "    leisure_55_64  leisure_75_older  \n",
       "0            59.6              36.2  \n",
       "1            15.0               4.5  \n",
       "2            60.2              29.4  \n",
       "3            77.4              64.8  \n",
       "4             NaN               NaN  \n",
       "5            56.8              26.2  \n",
       "6            66.9              33.4  \n",
       "7            36.0              10.3  \n",
       "8            59.8              29.0  \n",
       "9            53.7              27.7  \n",
       "10           27.9               7.8  \n",
       "11           34.1               9.6  \n",
       "12           31.1               8.8  \n",
       "13           36.3              13.7  \n",
       "14           41.5              13.1  \n",
       "15           76.3              62.8  \n",
       "16           35.3              14.9  \n",
       "17           27.7               8.6  \n",
       "18           71.4              52.7  \n",
       "19           54.4              30.6  \n",
       "20           43.6              18.2  \n",
       "21           48.2              20.1  \n",
       "22           13.1               4.2  \n",
       "23           52.0              29.2  \n",
       "24           33.6               6.7  \n",
       "25           69.6              42.5  \n",
       "26           63.7              47.3  "
      ]
     },
     "execution_count": 54,
     "metadata": {},
     "output_type": "execute_result"
    }
   ],
   "source": [
    "age_classes = [(16, 24), (25, 34), (35, 44), (45, 54), (55, 64), 75]\n",
    "df_leisure_subset = df_leisure[(df_leisure[\"Sex\"] == \"Total\") & (df_leisure[\"Frequency\"] == \"At least once\") \n",
    "           & (df_leisure[\"Time\"] == \"2022\") & (df_leisure[\"Geopolitical entity (reporting)\"].isin(eu_countries)) & (df_leisure[\"International Standard Classification of Education (ISCED 2011)\"] == \"All ISCED 2011 levels\")]\n",
    "\n",
    "leisure_by_age = pd.DataFrame()\n",
    "leisure_dict = {\"country\" : df_leisure_subset[\"Geopolitical entity (reporting)\"].unique().tolist()}\n",
    "\n",
    "for ages in age_classes:\n",
    "    if type(ages) is int:\n",
    "        temp = df_leisure_subset[df_leisure_subset[\"Age class\"] == f'{ages} years or over'][\"value\"].tolist()\n",
    "        leisure_dict[f'leisure_{ages}_older'] = temp\n",
    "    else:\n",
    "        temp = df_leisure_subset[df_leisure_subset[\"Age class\"] == f'From {ages[0]} to {ages[1]} years'][\"value\"].tolist()\n",
    "        leisure_dict[f'leisure_{ages[0]}_{ages[1]}'] = temp\n",
    "    \n",
    "\n",
    "    \n",
    "    \n",
    "    \n",
    "\n",
    "pd.DataFrame(leisure_dict)\n",
    "\n",
    "\n",
    "    \n",
    "\n",
    "    \n",
    "    "
   ]
  },
  {
   "cell_type": "markdown",
   "metadata": {},
   "source": [
    "Ages classes: 16-24, 25-34, 35-44, 45-54, 55-64, 65-74, 75+"
   ]
  },
  {
   "cell_type": "markdown",
   "metadata": {},
   "source": [
    "Units: percentage"
   ]
  }
 ],
 "metadata": {
  "kernelspec": {
   "display_name": "base",
   "language": "python",
   "name": "python3"
  },
  "language_info": {
   "codemirror_mode": {
    "name": "ipython",
    "version": 3
   },
   "file_extension": ".py",
   "mimetype": "text/x-python",
   "name": "python",
   "nbconvert_exporter": "python",
   "pygments_lexer": "ipython3",
   "version": "3.8.5"
  }
 },
 "nbformat": 4,
 "nbformat_minor": 2
}
